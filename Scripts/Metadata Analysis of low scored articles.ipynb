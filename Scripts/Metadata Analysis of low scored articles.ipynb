{
 "cells": [
  {
   "cell_type": "markdown",
   "metadata": {},
   "source": [
    "# Metadata analysis of articles with low scores marked by Tagger\n",
    "This script takes the text file consisting PMIDs of the artices with low scores given by Tagger as an input and returns the text file with the metadata of the article. This metadata consists of Article PMID, Article title and Article Publication Type from the PubMed database. Analysis of these articles shows that the tool does not work as expected when the abstract of the article is absent."
   ]
  },
  {
   "cell_type": "code",
   "execution_count": null,
   "metadata": {},
   "outputs": [],
   "source": [
    "from xlrd import open_workbook\n",
    "import urllib\n",
    "from Bio import Entrez\n",
    "from xml.dom import minidom\n",
    "import xml.etree.ElementTree as ET\n",
    "\n",
    "Entrez.email = \"kansara3@illinois.edu\"\n",
    "\n",
    "# Read list of PMIDs from txt file\n",
    "PMID_list_file = open(\"D:/GRA/rct_lessthan.txt\",\"r\")\n",
    "\n",
    "Result_file = open(\"D:/GRA/rct_lessthan_Results.txt\",\"w\")\n",
    "\n",
    "for PMID in PMID_list_file.readlines():\n",
    "    PMID = PMID.replace(\"\\n\",\"\")\n",
    "    print(PMID)\n",
    "\n",
    "    # Pass PMIDs to PubMed API to get articles' metadata in XML format\n",
    "    link = \"https://eutils.ncbi.nlm.nih.gov/entrez/eutils/efetch.fcgi?db=pubmed&id=\" + PMID + \"&retmode=xml&WebEnv=%3Cwebenv%20string%3E&usehistory=y\"\n",
    "    print(link)\n",
    "        \n",
    "    f = urllib.request.urlopen(link)\n",
    "    \n",
    "    \n",
    "    tree = ET.parse(f)\n",
    "    doc = tree.getroot()    \n",
    "    \n",
    "    # Get the metadata from the PubMed API\n",
    "    for child in doc:\n",
    "        for step_child in child:\n",
    "            if step_child.tag == \"MedlineCitation\":\n",
    "                for step_child_level_2 in step_child:\n",
    "                    if step_child_level_2.tag == \"PMID\":\n",
    "                        article_PMID =  step_child_level_2.text\n",
    "                    if step_child_level_2.tag == \"Article\":\n",
    "                        for step_child_level_3 in step_child_level_2:\n",
    "                            if step_child_level_3.tag == \"ArticleTitle\":\n",
    "                                article_title = step_child_level_3.text\n",
    "                            \n",
    "                            # Check whether Abstract is present in the metadata    \n",
    "                            if step_child_level_3.tag == \"Abstract\":\n",
    "                                article_abstract_list = []\n",
    "                                for step_child_level_4 in step_child_level_3:\n",
    "                                    if step_child_level_4.tag == \"AbstractText\":\n",
    "                                        article_abstract_list.append(step_child_level_4.text)\n",
    "                            else:\n",
    "                                article_abstract_list = []\n",
    "                            \n",
    "                            # Check for the Publication type of the article in PubMed database\n",
    "                            if step_child_level_3.tag == \"PublicationTypeList\":\n",
    "                                article_publication_type_list = []\n",
    "                                for step_child_level_4 in step_child_level_3:\n",
    "                                    article_publication_type_list.append(step_child_level_4.text)\n",
    "                           \n",
    "                                print(article_title)\n",
    "                                article_title = article_title.replace(\",\",\"\")\n",
    "                                article_abstract = \" \".join(str(x) for x in article_abstract_list)   \n",
    "                                article_publication_type = \" \".join(str(x) for x in article_publication_type_list)   \n",
    "                                article_abstract = article_abstract.replace(\",\",\"\")\n",
    "                                print(article_publication_type)\n",
    "                                \n",
    "                                article_string = article_PMID + \",\" + article_title + \",\" + article_publication_type + \"\\n\"\n",
    "                                # Write the result into output file\n",
    "                                Result_file.write(article_string)\n",
    "                                \n",
    "Result_file.close()"
   ]
  },
  {
   "cell_type": "code",
   "execution_count": null,
   "metadata": {},
   "outputs": [],
   "source": []
  }
 ],
 "metadata": {
  "kernelspec": {
   "display_name": "Python 3",
   "language": "python",
   "name": "python3"
  },
  "language_info": {
   "codemirror_mode": {
    "name": "ipython",
    "version": 3
   },
   "file_extension": ".py",
   "mimetype": "text/x-python",
   "name": "python",
   "nbconvert_exporter": "python",
   "pygments_lexer": "ipython3",
   "version": "3.6.3"
  }
 },
 "nbformat": 4,
 "nbformat_minor": 2
}
