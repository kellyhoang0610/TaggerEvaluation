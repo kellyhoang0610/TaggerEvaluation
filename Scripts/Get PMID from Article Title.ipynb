{
 "cells": [
  {
   "cell_type": "markdown",
   "metadata": {},
   "source": [
    "# Mapping Article Titles with PMIDs from PubMed database\n",
    "This script takes a text file consisting list of article titles as an input and returns a text file with article title and PMID from PubMed database."
   ]
  },
  {
   "cell_type": "code",
   "execution_count": null,
   "metadata": {},
   "outputs": [],
   "source": [
    "from xlrd import open_workbook\n",
    "import urllib\n",
    "from Bio import Entrez\n",
    "import xml.dom.minidom\n",
    "import xml.etree.ElementTree as ET\n",
    "\n",
    "Entrez.email = \"kansara3@illinois.edu\"\n",
    "\n",
    "# Read list of PMIDs from txt file\n",
    "title_list_file = open(\"D:/GRA/Not Found article titles.txt\",\"r\")\n",
    "\n",
    "Result_file = open(\"D:/GRA/Not_Found_Article_Title_PMIDs.txt\",\"w\")\n",
    "\n",
    "for title in title_list_file.readlines():\n",
    "    # Remove articles with title None\n",
    "    if title == \"None\" + \"\\n\":\n",
    "        continue\n",
    "    else:\n",
    "        # Encode the article title to pass it as the url compatible text to the PubMed API\n",
    "        title1 = urllib.parse.quote_plus(title)\n",
    "        print(title)\n",
    "        \n",
    "        # Pass article title to PubMed API to get articles' metadata in XML format\n",
    "        link = \"http://eutils.ncbi.nlm.nih.gov/entrez/eutils/esearch.fcgi?db=pubmed&retmode=xml&term=\" + title1\n",
    "        print(link)\n",
    "\n",
    "        f = urllib.request.urlopen(link)\n",
    "        tree = ET.parse(f)\n",
    "        doc = tree.getroot()    \n",
    "        \n",
    "        # Find tag with PMID or list of PMIDs\n",
    "        for child in doc:\n",
    "            if child.tag == \"IdList\":\n",
    "                Id_List = []\n",
    "                for step_child in child:\n",
    "                    if step_child.tag == \"Id\":\n",
    "                        Id_List.append(step_child.text)\n",
    "                        print(step_child.text)\n",
    "                    else:\n",
    "                        Id_List = []\n",
    "                pmid_list = \" \".join(str(x) for x in Id_List)\n",
    "                article_string = title + \",\" + pmid_list + \"\\n\"\n",
    "                # Write the result into output file\n",
    "                Result_file.write(article_string)\n",
    "\n",
    "Result_file.close()"
   ]
  }
 ],
 "metadata": {
  "kernelspec": {
   "display_name": "Python 3",
   "language": "python",
   "name": "python3"
  },
  "language_info": {
   "codemirror_mode": {
    "name": "ipython",
    "version": 3
   },
   "file_extension": ".py",
   "mimetype": "text/x-python",
   "name": "python",
   "nbconvert_exporter": "python",
   "pygments_lexer": "ipython3",
   "version": "3.6.3"
  }
 },
 "nbformat": 4,
 "nbformat_minor": 2
}
