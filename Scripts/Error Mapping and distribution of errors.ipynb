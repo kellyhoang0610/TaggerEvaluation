{
 "cells": [
  {
   "cell_type": "markdown",
   "metadata": {},
   "source": [
    "# Error mapping and distribution analysis\n",
    "This script takes the excel file as an input consisting metadata(Study ID, Article title, Authors, Journal Name, Review Name, etc.) of Cochrane reviews and provides an output as distribution of errors saved into an excel file named \"Error Mapping.csv\""
   ]
  },
  {
   "cell_type": "code",
   "execution_count": null,
   "metadata": {},
   "outputs": [],
   "source": [
    "import pandas as pd\n",
    "import numpy as np"
   ]
  },
  {
   "cell_type": "code",
   "execution_count": null,
   "metadata": {},
   "outputs": [],
   "source": [
    "df = pd.read_excel(\"100_Stable_Reviews_Yogeshwar.xlsx\", encoding = \"latin1\")"
   ]
  },
  {
   "cell_type": "code",
   "execution_count": null,
   "metadata": {},
   "outputs": [],
   "source": [
    "# Select required columns for further processing\n",
    "df1 = df[['Cochrane Review', 'Study ID', 'ID Matched ']]"
   ]
  },
  {
   "cell_type": "code",
   "execution_count": null,
   "metadata": {},
   "outputs": [],
   "source": [
    "# Assign common values to similar result types\n",
    "for i in range(df1.shape[0]):\n",
    "    if type(df1.loc[i, \"ID Matched \"]) == int:\n",
    "        df1.loc[i, \"ID Matched \"] = 'MATCHED'\n",
    "    if \"AMBIGUOUS\" in df1.loc[i, \"ID Matched \"]:\n",
    "        df1.loc[i, \"ID Matched \"] = 'AMBIGUOUS'"
   ]
  },
  {
   "cell_type": "code",
   "execution_count": null,
   "metadata": {},
   "outputs": [],
   "source": [
    "df1['ID Matched '].value_counts()"
   ]
  },
  {
   "cell_type": "code",
   "execution_count": null,
   "metadata": {},
   "outputs": [],
   "source": [
    "# Create the dataframe grouping by Cochrane review\n",
    "df2 = df1.groupby(['Cochrane Review', 'Study ID', 'ID Matched ']).size().reset_index()\n",
    "df2.columns = ['Cochrane Review', 'Study ID', 'ID Matched','Count']"
   ]
  },
  {
   "cell_type": "code",
   "execution_count": null,
   "metadata": {},
   "outputs": [],
   "source": [
    "# Count for each error corresponding to respective Study of every cochrane review\n",
    "df3 = df2.pivot_table(index = ['Cochrane Review', 'Study ID'], columns = 'ID Matched', values = 'Count')\n",
    "df3 = df3.fillna(0)"
   ]
  },
  {
   "cell_type": "code",
   "execution_count": null,
   "metadata": {},
   "outputs": [],
   "source": [
    "print(\"Total number of Ambiguous errros are:\" ,df3['AMBIGUOUS'].sum())\n",
    "print(\"Total number of Not_Found errros are:\" ,df3['NOT_FOUND'].sum())\n",
    "print(\"Total number of Invalid Journal errros are:\" ,df3['NOT_FOUND;INVALID_JOURNAL'].sum())\n",
    "print(\"Total number of Matched articles are:\" ,df3['MATCHED'].sum())"
   ]
  },
  {
   "cell_type": "code",
   "execution_count": null,
   "metadata": {},
   "outputs": [],
   "source": [
    "cols = ['AMBIGUOUS','NOT_FOUND','NOT_FOUND;INVALID_JOURNAL','MATCHED']\n",
    "df3[cols] = df3[cols].applymap(np.int64)"
   ]
  },
  {
   "cell_type": "code",
   "execution_count": null,
   "metadata": {},
   "outputs": [],
   "source": [
    "# Write the dataframe into csv file\n",
    "df3.to_csv(\"Error Mapping.csv\")"
   ]
  }
 ],
 "metadata": {
  "kernelspec": {
   "display_name": "Python 3",
   "language": "python",
   "name": "python3"
  },
  "language_info": {
   "codemirror_mode": {
    "name": "ipython",
    "version": 3
   },
   "file_extension": ".py",
   "mimetype": "text/x-python",
   "name": "python",
   "nbconvert_exporter": "python",
   "pygments_lexer": "ipython3",
   "version": "3.6.3"
  }
 },
 "nbformat": 4,
 "nbformat_minor": 2
}
