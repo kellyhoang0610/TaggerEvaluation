{
 "metadata": {
  "name": "",
  "signature": "sha256:3c6eba53cb1d81b756352afe8efff34799bb2e42bb5138971f8e21a7b41edcd1"
 },
 "nbformat": 3,
 "nbformat_minor": 0,
 "worksheets": [
  {
   "cells": [
    {
     "cell_type": "code",
     "collapsed": false,
     "input": [
      "import os\n",
      "import pandas\n",
      "from xml.dom import minidom\n",
      "import openpyxl\n",
      "\n",
      "Path = \"/Users/phuong/Cochrane_Data/New_Reviews_200/\"\n",
      "\n",
      "#Save results to Excel file\n",
      "from pandas import DataFrame\n",
      "StudyID_list = []\n",
      "StudyName_list = []\n",
      "Title_list = []\n",
      "Al_Title_list = []\n",
      "Authors_list = []\n",
      "Type_list = []\n",
      "Reference_ID_list = []\n",
      "Reference_ID_type_list = []\n",
      "Reference_ID_othertype_list = []\n",
      "Journal_list = []\n",
      "Year_list = []\n",
      "Volume_list = []\n",
      "Page_list = []\n",
      "Review_list = []\n",
      "\n",
      "#Read list of file name\n",
      "Path_Review_Name = \"/Users/phuong/Cochrane_Data/New_Reviews_200/New_Reviews_RCT_Only.txt\"\n",
      "\n",
      "with open(Path_Review_Name, \"r\") as ins:\n",
      "    Review_name = []\n",
      "    for line in ins:\n",
      "        line = line.replace(\"\\n\",\"\")     \n",
      "        Review_name.append(line)\n",
      "\n",
      "Review_name = set(Review_name)        \n",
      "        \n",
      "filelist = os.listdir(Path)\n",
      "review_dictionary = {}\n",
      "count = 0\n",
      "\n",
      "count_studies = 0\n",
      "    \n",
      "for i in filelist:\n",
      "    if i.endswith(\".rm5\"):\n",
      "        if i in Review_name:\n",
      "            with open(Path + i, 'r') as f:\n",
      "                file_name = Path + i\n",
      "                doc = minidom.parse(file_name)\n",
      "    #             print (file_name)\n",
      "\n",
      "                # doc.getElementsByTagName returns NodeList\n",
      "                included_studies = doc.getElementsByTagName(\"INCLUDED_STUDIES\")\n",
      "                if (included_studies.length >0):\n",
      "                    studies = included_studies[0].getElementsByTagName(\"STUDY\")\n",
      "                    reference_count = 0\n",
      "                    for study in studies:\n",
      "                        count_studies += 1\n",
      "                #     DATA_SOURCE=\"PUB\" ID=\"STD-Brazil-1983_x002d_84\" NAME=\"Brazil 1983-84\" YEAR=\"1983\"\n",
      "                        study_id = study.getAttribute(\"ID\")\n",
      "                        study_name = study.getAttribute(\"NAME\")\n",
      "                        study_year = study.getAttribute(\"YEAR\")\n",
      "\n",
      "                        #getting reference information\n",
      "                        references = study.getElementsByTagName(\"REFERENCE\")\n",
      "                        if (references.length >0):             \n",
      "                            for reference in references:\n",
      "                                reference_type = reference.getAttribute(\"TYPE\")\n",
      "\n",
      "                                #getting authors information\n",
      "                                authors = reference.getElementsByTagName(\"AU\")\n",
      "                                if (authors.length >0):\n",
      "                                    authors = authors[0].firstChild.data\n",
      "                                else:\n",
      "                                    authors = \"None\"\n",
      "                                #getting title information    \n",
      "                                title = reference.getElementsByTagName(\"TI\")\n",
      "                                if (title.length > 0):\n",
      "                                    title = title[0].firstChild.data\n",
      "                                else:\n",
      "                                    title = \"None\"\n",
      "\n",
      "                                #getting alternative title information    \n",
      "                                title_al = reference.getElementsByTagName(\"TO\")\n",
      "                                if (title_al.length > 0):\n",
      "                                    title_al = title_al[0].firstChild.data\n",
      "                                else:\n",
      "                                    title_al = \"None\"\n",
      "\n",
      "                                #getting journal information \n",
      "                                journal = reference.getElementsByTagName(\"SO\")\n",
      "                                if (journal.length > 0):\n",
      "                                    journal = journal[0].firstChild.data\n",
      "                                else:\n",
      "                                    journal = \"None\"\n",
      "\n",
      "                                #getting year information\n",
      "                                year = reference.getElementsByTagName(\"YR\")\n",
      "                                if (year.length > 0):\n",
      "                                    year = year[0].firstChild.data\n",
      "                                else:\n",
      "                                    year = \"None\"\n",
      "\n",
      "                                #getting volume information\n",
      "                                volume = reference.getElementsByTagName(\"VL\")\n",
      "                                if (volume.length > 0):\n",
      "                                    volume = volume[0].firstChild.data\n",
      "                                else:\n",
      "                                    volume = \"None\"\n",
      "\n",
      "\n",
      "                                #getting volume information\n",
      "                                page = reference.getElementsByTagName(\"PG\")\n",
      "                                if (page.length > 0):\n",
      "                                    page = page[0].firstChild.data\n",
      "                                else:\n",
      "                                    page = \"None\"\n",
      "\n",
      "                                identifiers = reference.getElementsByTagName(\"IDENTIFIER\")\n",
      "                                if (identifiers.length > 0):\n",
      "                                    identifier = identifiers[0]\n",
      "                                    reference_id = identifier.getAttribute(\"VALUE\")\n",
      "                                    reference_id_type = identifier.getAttribute(\"TYPE\")\n",
      "                                    reference_id_othertype = identifier.getAttribute(\"OTHERTYPE\")\n",
      "\n",
      "                                else:\n",
      "                                    reference_id = \"None\"\n",
      "                                    reference_id_type = \"None\"\n",
      "                                    reference_id_othertype = \"None\"\n",
      "\n",
      "                                StudyID_list.append(study_id)\n",
      "                                StudyName_list.append(study_name)\n",
      "                                Title_list.append(title)\n",
      "                                Al_Title_list.append(title_al)\n",
      "                                Authors_list.append(authors)\n",
      "                                Type_list.append(reference_type)\n",
      "                                Reference_ID_list.append(reference_id)\n",
      "                                Reference_ID_type_list.append(reference_id_type)\n",
      "                                Reference_ID_othertype_list.append(reference_id_othertype)\n",
      "                                Journal_list.append(journal)\n",
      "                                Year_list.append(year)\n",
      "                                Volume_list.append(volume)\n",
      "                                Page_list.append(page)\n",
      "                                Review_list.append(i)\n",
      "\n",
      "    #                             reference_count += 1\n",
      "    #                             print (reference_count)\n",
      "    #                             print(\"Study ID: %s, Study Name: %s,Title: %s, Alternative Title: %s, Authors: %s, Type: %s, Reference ID: %s, Reference ID Type: %s, Published Journal: %s, Publishing Year: %s %s %s\" %\n",
      "    #                             (study_id,study_name,title, title_al, authors, reference_type, reference_id, reference_id_type, journal, year, volume, page))\n",
      "\n",
      "                        else:\n",
      "                            study_id = \"None\"\n",
      "                            study_name = \"None\"\n",
      "                            title = \"None\"\n",
      "                            title_al = \"None\"\n",
      "                            authors = \"None\"\n",
      "                            reference_type = \"None\"\n",
      "                            reference_id = \"None\"\n",
      "                            reference_id_type = \"None\"\n",
      "                            reference_id_othertype = \"None\"\n",
      "                            journal = \"None\"\n",
      "                            year = \"None\"\n",
      "                            volume = \"None\"\n",
      "                            page = \"None\"\n",
      "\n",
      "                            StudyID_list.append(study_id)\n",
      "                            StudyName_list.append(study_name)\n",
      "                            Title_list.append(title)\n",
      "                            Al_Title_list.append(title_al)\n",
      "                            Authors_list.append(authors)\n",
      "                            Type_list.append(reference_type)\n",
      "                            Reference_ID_list.append(reference_id)\n",
      "                            Reference_ID_type_list.append(reference_id_type)\n",
      "                            Reference_ID_othertype_list.append(reference_id_othertype)\n",
      "                            Journal_list.append(journal)\n",
      "                            Year_list.append(year)\n",
      "                            Volume_list.append(volume)\n",
      "                            Page_list.append(page)\n",
      "                            Review_list.append(i)\n",
      "\n",
      "                else:\n",
      "                    continue\n",
      "                count +=1\n",
      "                print file_name\n",
      "            \n",
      "                    \n",
      "df = DataFrame({'Study ID': StudyID_list , 'Study Name': StudyName_list, 'Title': Title_list, 'Alternative Title': Al_Title_list, 'Authors': Authors_list\n",
      "                , 'Type': Type_list, 'Reference ID': Reference_ID_list, 'Reference ID Type': Reference_ID_type_list , 'Reference ID Other Type': Reference_ID_othertype_list,\n",
      "                'Published Journal': Journal_list, 'Year': Year_list, 'Volume': Volume_list, 'Page':Page_list, 'Cochrane Review': Review_list })\n",
      "df = df[['Study ID','Study Name', 'Title', 'Alternative Title', 'Authors', 'Type', 'Reference ID', 'Reference ID Type', 'Reference ID Other Type','Published Journal', 'Year', 'Volume', 'Page', 'Cochrane Review']]\n",
      "df.to_excel('/Users/phuong/Cochrane_Data/New_Reviews_200/New_Reviews_RCT_only.xlsx', sheet_name='sheet1', index=False)\n",
      "\n",
      "print (\"Total file processed: \")\n",
      "print count\n",
      "print count_studies\n",
      "                    "
     ],
     "language": "python",
     "metadata": {},
     "outputs": [
      {
       "output_type": "stream",
       "stream": "stdout",
       "text": [
        "/Users/phuong/Cochrane_Data/New_Reviews_200/CD000467 v. 5.0 Calcium channel blockers for primary and secondary Raynaud's phenomenon.rm5\n",
        "/Users/phuong/Cochrane_Data/New_Reviews_200/CD001272 v. 7.0 Antiplatelet agents for intermittent claudication.rm5"
       ]
      },
      {
       "output_type": "stream",
       "stream": "stdout",
       "text": [
        "\n",
        "/Users/phuong/Cochrane_Data/New_Reviews_200/CD001511 v. 6.0 Glucocorticosteroids for people with alcoholic hepatitis.rm5"
       ]
      },
      {
       "output_type": "stream",
       "stream": "stdout",
       "text": [
        "\n",
        "/Users/phuong/Cochrane_Data/New_Reviews_200/CD001841 v. 7.0 First-line drugs for hypertension.rm5"
       ]
      },
      {
       "output_type": "stream",
       "stream": "stdout",
       "text": [
        "\n",
        "/Users/phuong/Cochrane_Data/New_Reviews_200/CD001977 v. 8.0 Acupuncture for peripheral joint osteoarthritis.rm5"
       ]
      },
      {
       "output_type": "stream",
       "stream": "stdout",
       "text": [
        "\n",
        "/Users/phuong/Cochrane_Data/New_Reviews_200/CD002955 v. 7.0 Naftidrofuryl for dementia.rm5"
       ]
      },
      {
       "output_type": "stream",
       "stream": "stdout",
       "text": [
        "\n",
        "/Users/phuong/Cochrane_Data/New_Reviews_200/CD003040 v. 5.0 Angiotensin receptor blockers for heart failure.rm5"
       ]
      },
      {
       "output_type": "stream",
       "stream": "stdout",
       "text": [
        "\n",
        "/Users/phuong/Cochrane_Data/New_Reviews_200/CD003363 v. 5.2 Structural and community-level interventions for increasing condom use to prevent the transmission o.rm5"
       ]
      },
      {
       "output_type": "stream",
       "stream": "stdout",
       "text": [
        "\n",
        "/Users/phuong/Cochrane_Data/New_Reviews_200/CD003451 v. 5.0 Orthodontic treatment for prominent lower front teeth (Class III malocclusion) in children.rm5"
       ]
      },
      {
       "output_type": "stream",
       "stream": "stdout",
       "text": [
        "\n",
        "/Users/phuong/Cochrane_Data/New_Reviews_200/CD003499 v. 5.2 Antiepileptics for aggression and associated impulsivity.rm5"
       ]
      },
      {
       "output_type": "stream",
       "stream": "stdout",
       "text": [
        "\n",
        "/Users/phuong/Cochrane_Data/New_Reviews_200/CD003564 v. 5.3 Beta2-agonists for exercise-induced asthma.rm5"
       ]
      },
      {
       "output_type": "stream",
       "stream": "stdout",
       "text": [
        "\n",
        "/Users/phuong/Cochrane_Data/New_Reviews_200/CD003583 v. 6.0 Interventions for melasma.rm5"
       ]
      },
      {
       "output_type": "stream",
       "stream": "stdout",
       "text": [
        "\n",
        "/Users/phuong/Cochrane_Data/New_Reviews_200/CD003619 v. 6.0 Weight reduction for non-alcoholic fatty liver disease.rm5"
       ]
      },
      {
       "output_type": "stream",
       "stream": "stdout",
       "text": [
        "\n",
        "/Users/phuong/Cochrane_Data/New_Reviews_200/CD003654 v. 7.0 Calcium channel blockers versus other classes of drugs for hypertension.rm5"
       ]
      },
      {
       "output_type": "stream",
       "stream": "stdout",
       "text": [
        "\n",
        "/Users/phuong/Cochrane_Data/New_Reviews_200/CD003797 v. 7.2 Anticholinergic therapy for acute asthma in children.rm5"
       ]
      },
      {
       "output_type": "stream",
       "stream": "stdout",
       "text": [
        "\n",
        "/Users/phuong/Cochrane_Data/New_Reviews_200/CD003814 v. 5.2 Interventions for replacing missing teeth partially absent dentition.rm5"
       ]
      },
      {
       "output_type": "stream",
       "stream": "stdout",
       "text": [
        "\n",
        "/Users/phuong/Cochrane_Data/New_Reviews_200/CD003824 v. 8.0 Blood pressure-lowering efficacy of monotherapy with thiazide diuretics for primary hypertension.rm5"
       ]
      },
      {
       "output_type": "stream",
       "stream": "stdout",
       "text": [
        "\n",
        "/Users/phuong/Cochrane_Data/New_Reviews_200/CD003871 v. 9.0 Interventions to reduce Staphylococcus aureus in the management of atopic eczema.rm5"
       ]
      },
      {
       "output_type": "stream",
       "stream": "stdout",
       "text": [
        "\n",
        "/Users/phuong/Cochrane_Data/New_Reviews_200/CD003893 v. 8.0 Methyldopa for primary hypertension.rm5"
       ]
      },
      {
       "output_type": "stream",
       "stream": "stdout",
       "text": [
        "\n",
        "/Users/phuong/Cochrane_Data/New_Reviews_200/CD003942 v. 6.0 Professional structural and organisational interventions in primary care for reducing medication er.rm5"
       ]
      },
      {
       "output_type": "stream",
       "stream": "stdout",
       "text": [
        "\n",
        "/Users/phuong/Cochrane_Data/New_Reviews_200/CD004078 v. 4.0 Postoperative adjuvant chemotherapy in rectal cancer operated for cure..rm5"
       ]
      },
      {
       "output_type": "stream",
       "stream": "stdout",
       "text": [
        "\n",
        "/Users/phuong/Cochrane_Data/New_Reviews_200/CD004087 v. 4.8 Pharmacological agents for preventing morbidity associated with the haemodynamic response to trachea.rm5"
       ]
      },
      {
       "output_type": "stream",
       "stream": "stdout",
       "text": [
        "\n",
        "/Users/phuong/Cochrane_Data/New_Reviews_200/CD004115 v. 4.2 Rectal 5-aminosalicylic acid for induction of remission in ulcerative colitis.rm5"
       ]
      },
      {
       "output_type": "stream",
       "stream": "stdout",
       "text": [
        "\n",
        "/Users/phuong/Cochrane_Data/New_Reviews_200/CD004118 v. 4.0 Rectal 5-aminosalicylic acid for maintenance of remission in ulcerative colitis.rm5"
       ]
      },
      {
       "output_type": "stream",
       "stream": "stdout",
       "text": [
        "\n",
        "/Users/phuong/Cochrane_Data/New_Reviews_200/CD004178 v. 4.0 Endovascular repair of abdominal aortic aneurysm.rm5"
       ]
      },
      {
       "output_type": "stream",
       "stream": "stdout",
       "text": [
        "\n",
        "/Users/phuong/Cochrane_Data/New_Reviews_200/CD004179 v. 6.0 Anticoagulants (extended duration) for prevention of venous thromboembolism following total hip or k.rm5"
       ]
      },
      {
       "output_type": "stream",
       "stream": "stdout",
       "text": [
        "\n",
        "/Users/phuong/Cochrane_Data/New_Reviews_200/CD004228 v. 4.0 Psychological andor educational interventions for reducing alcohol consumption in pregnant women an.rm5"
       ]
      },
      {
       "output_type": "stream",
       "stream": "stdout",
       "text": [
        "\n",
        "/Users/phuong/Cochrane_Data/New_Reviews_200/CD004267 v. 10.0 Antibiotics for ventilator-associated pneumonia.rm5"
       ]
      },
      {
       "output_type": "stream",
       "stream": "stdout",
       "text": [
        "\n",
        "/Users/phuong/Cochrane_Data/New_Reviews_200/CD004299 v. 3.0 Interventions for cellulitis and erysipelas.rm5"
       ]
      },
      {
       "output_type": "stream",
       "stream": "stdout",
       "text": [
        "\n",
        "/Users/phuong/Cochrane_Data/New_Reviews_200/CD004322 v. 6.0 Phlebotonics for haemorrhoids.rm5"
       ]
      },
      {
       "output_type": "stream",
       "stream": "stdout",
       "text": [
        "\n",
        "/Users/phuong/Cochrane_Data/New_Reviews_200/CD004345 v. 5.0 Surgical techniques for the removal of mandibular wisdom teeth.rm5"
       ]
      },
      {
       "output_type": "stream",
       "stream": "stdout",
       "text": [
        "\n",
        "/Users/phuong/Cochrane_Data/New_Reviews_200/CD004349 v. 6.0 Treatment blood pressure targets for hypertension.rm5"
       ]
      },
      {
       "output_type": "stream",
       "stream": "stdout",
       "text": [
        "\n",
        "/Users/phuong/Cochrane_Data/New_Reviews_200/CD004414 v. 4.0 Interventions for preventing occupational irritant hand dermatitis.rm5"
       ]
      },
      {
       "output_type": "stream",
       "stream": "stdout",
       "text": [
        "\n",
        "/Users/phuong/Cochrane_Data/New_Reviews_200/CD004476 v. 4.3 Perioperative beta-blockers for preventing surgery-related mortality and morbidity.rm5"
       ]
      },
      {
       "output_type": "stream",
       "stream": "stdout",
       "text": [
        "\n",
        "/Users/phuong/Cochrane_Data/New_Reviews_200/CD004538 v. 5.28 Public release of performance data in changing the behaviour of healthcare consumers professionals .rm5"
       ]
      },
      {
       "output_type": "stream",
       "stream": "stdout",
       "text": [
        "\n",
        "/Users/phuong/Cochrane_Data/New_Reviews_200/CD004544 v. 6.2 Banding ligation versus beta-blockers for primary prevention in oesophageal varices in adults.rm5"
       ]
      },
      {
       "output_type": "stream",
       "stream": "stdout",
       "text": [
        "\n",
        "/Users/phuong/Cochrane_Data/New_Reviews_200/CD004547 v. 4.0 Chinese medicinal herbs for cholelithiasis.rm5"
       ]
      },
      {
       "output_type": "stream",
       "stream": "stdout",
       "text": [
        "\n",
        "/Users/phuong/Cochrane_Data/New_Reviews_200/CD004561 v. 8.0 Axillary treatment for operable primary breast cancer.rm5"
       ]
      },
      {
       "output_type": "stream",
       "stream": "stdout",
       "text": [
        "\n",
        "/Users/phuong/Cochrane_Data/New_Reviews_200/CD004567 v. 5.0 Antioxidant vitamin supplementation for preventing and slowing the progression of age-related catara.rm5"
       ]
      },
      {
       "output_type": "stream",
       "stream": "stdout",
       "text": [
        "\n",
        "/Users/phuong/Cochrane_Data/New_Reviews_200/CD004584 v. 5.0 Tongxinluo capsule for acute stroke.rm5\n",
        "/Users/phuong/Cochrane_Data/New_Reviews_200/CD004624 v. 5.0 Ibuprofen andor paracetamol (acetaminophen) for pain relief after surgical removal of lower wisdom .rm5"
       ]
      },
      {
       "output_type": "stream",
       "stream": "stdout",
       "text": [
        "\n",
        "/Users/phuong/Cochrane_Data/New_Reviews_200/CD004629 v. 9.0 Interferon-alpha for maintenance of follicular lymphoma.rm5"
       ]
      },
      {
       "output_type": "stream",
       "stream": "stdout",
       "text": [
        "\n",
        "/Users/phuong/Cochrane_Data/New_Reviews_200/CD004634 v. 4.0 Follicular flushing during oocyte retrieval in assisted reproductive techniques.rm5"
       ]
      },
      {
       "output_type": "stream",
       "stream": "stdout",
       "text": [
        "\n",
        "/Users/phuong/Cochrane_Data/New_Reviews_200/CD004637 v. 4.0 Antibiotic prophylaxis for elective hysterectomy.rm5"
       ]
      },
      {
       "output_type": "stream",
       "stream": "stdout",
       "text": [
        "\n",
        "/Users/phuong/Cochrane_Data/New_Reviews_200/CD004638 v. 5.0 Minimally invasive surgical techniques versus open myomectomy for uterine fibroids.rm5"
       ]
      },
      {
       "output_type": "stream",
       "stream": "stdout",
       "text": [
        "\n",
        "/Users/phuong/Cochrane_Data/New_Reviews_200/CD004715 v. 6.0 Pharmacological interventions for pain in patients with temporomandibular disorders.rm5"
       ]
      },
      {
       "output_type": "stream",
       "stream": "stdout",
       "text": [
        "\n",
        "/Users/phuong/Cochrane_Data/New_Reviews_200/CD004737 v. 3.1 Methods of delivering the placenta at caesarean section.rm5"
       ]
      },
      {
       "output_type": "stream",
       "stream": "stdout",
       "text": [
        "\n",
        "/Users/phuong/Cochrane_Data/New_Reviews_200/CD004740 v. 3.0 Interventions for acute otitis externa.rm5"
       ]
      },
      {
       "output_type": "stream",
       "stream": "stdout",
       "text": [
        "\n",
        "/Users/phuong/Cochrane_Data/New_Reviews_200/CD004791 v. 5.5 Antibiotic prophylaxis for spontaneous bacterial peritonitis in cirrhotic patients with ascites wit.rm5"
       ]
      },
      {
       "output_type": "stream",
       "stream": "stdout",
       "text": [
        "\n",
        "/Users/phuong/Cochrane_Data/New_Reviews_200/CD004796 v. 6.0 Manipulative therapies for infantile colic.rm5"
       ]
      },
      {
       "output_type": "stream",
       "stream": "stdout",
       "text": [
        "\n",
        "/Users/phuong/Cochrane_Data/New_Reviews_200/CD004857 v. 12.2 Oxcarbazepine for acute affective episodes in bipolar disorder.rm5"
       ]
      },
      {
       "output_type": "stream",
       "stream": "stdout",
       "text": [
        "\n",
        "/Users/phuong/Cochrane_Data/New_Reviews_200/CD004901 v. 5.0 Misoprostol for induction of labour to terminate pregnancy in the second or third trimester for wome.rm5"
       ]
      },
      {
       "output_type": "stream",
       "stream": "stdout",
       "text": [
        "\n",
        "/Users/phuong/Cochrane_Data/New_Reviews_200/CD004908 v. 6.0 Analgesia for relief of pain due to uterine crampinginvolution after birth.rm5"
       ]
      },
      {
       "output_type": "stream",
       "stream": "stdout",
       "text": [
        "\n",
        "/Users/phuong/Cochrane_Data/New_Reviews_200/CD004916 v. 5.4 Interventions to slow progression of myopia in children.rm5"
       ]
      },
      {
       "output_type": "stream",
       "stream": "stdout",
       "text": [
        "\n",
        "/Users/phuong/Cochrane_Data/New_Reviews_200/CD004923 v. 7.0 Non-hormonal interventions for hot flushes in women with a history of breast cancer.rm5"
       ]
      },
      {
       "output_type": "stream",
       "stream": "stdout",
       "text": [
        "\n",
        "/Users/phuong/Cochrane_Data/New_Reviews_200/CD004976 v. 8.5 Oral antihistamine-decongestant-analgesic combinations for the common cold.rm5"
       ]
      },
      {
       "output_type": "stream",
       "stream": "stdout",
       "text": [
        "\n",
        "/Users/phuong/Cochrane_Data/New_Reviews_200/CD005000 v. 9.0 Aripiprazole alone or in combination for acute mania.rm5"
       ]
      },
      {
       "output_type": "stream",
       "stream": "stdout",
       "text": [
        "\n",
        "/Users/phuong/Cochrane_Data/New_Reviews_200/CD005066 v. 6.0 Stroke liaison workers for stroke patients and carers an individual patient data meta-analysis.rm5"
       ]
      },
      {
       "output_type": "stream",
       "stream": "stdout",
       "text": [
        "\n",
        "/Users/phuong/Cochrane_Data/New_Reviews_200/CD005121 v. 3.0 Anakinra for rheumatoid arthritis.rm5"
       ]
      },
      {
       "output_type": "stream",
       "stream": "stdout",
       "text": [
        "\n",
        "/Users/phuong/Cochrane_Data/New_Reviews_200/CD005134 v. 7.0 Pentasaccharides for the prevention of venous thromboembolism.rm5"
       ]
      },
      {
       "output_type": "stream",
       "stream": "stdout",
       "text": [
        "\n",
        "/Users/phuong/Cochrane_Data/New_Reviews_200/CD005147 v. 6.0 Training to recognise the early signs of recurrence in schizophrenia.rm5"
       ]
      },
      {
       "output_type": "stream",
       "stream": "stdout",
       "text": [
        "\n",
        "/Users/phuong/Cochrane_Data/New_Reviews_200/CD005175 v. 4.0 The medical use of cannabis for reducing morbidity and mortality in patients with HIVAIDS.rm5"
       ]
      },
      {
       "output_type": "stream",
       "stream": "stdout",
       "text": [
        "\n",
        "/Users/phuong/Cochrane_Data/New_Reviews_200/CD005181 v. 8.2 Interferon beta for secondary progressive multiple sclerosis.rm5"
       ]
      },
      {
       "output_type": "stream",
       "stream": "stdout",
       "text": [
        "\n",
        "/Users/phuong/Cochrane_Data/New_Reviews_200/CD005184 v. 10.5 Creatine and creatine analogues in hypertension and cardiovascular disease.rm5"
       ]
      },
      {
       "output_type": "stream",
       "stream": "stdout",
       "text": [
        "\n",
        "/Users/phuong/Cochrane_Data/New_Reviews_200/CD005185 v. 6.2 Thiazide diuretics and the risk of hip fracture.rm5"
       ]
      },
      {
       "output_type": "stream",
       "stream": "stdout",
       "text": [
        "\n",
        "/Users/phuong/Cochrane_Data/New_Reviews_200/CD005211 v. 6.0 Exercise interventions for upper-limb dysfunction due to breast cancer treatment.rm5"
       ]
      },
      {
       "output_type": "stream",
       "stream": "stdout",
       "text": [
        "\n",
        "/Users/phuong/Cochrane_Data/New_Reviews_200/CD005217 v. 5.0 Perioperative antibiotics to prevent infection after first-trimester abortion.rm5"
       ]
      },
      {
       "output_type": "stream",
       "stream": "stdout",
       "text": [
        "\n",
        "/Users/phuong/Cochrane_Data/New_Reviews_200/CD005235 v. 3.2 Inferior turbinate surgery for nasal obstruction in allergic rhinitis after failed medical treatment.rm5\n",
        "/Users/phuong/Cochrane_Data/New_Reviews_200/CD005242 v. 4.4 Increased police patrols for preventing alcohol-impaired driving.rm5"
       ]
      },
      {
       "output_type": "stream",
       "stream": "stdout",
       "text": [
        "\n",
        "/Users/phuong/Cochrane_Data/New_Reviews_200/CD005265 v. 3.3 Antibiotic prophylaxis for patients undergoing elective laparoscopic cholecystectomy.rm5"
       ]
      },
      {
       "output_type": "stream",
       "stream": "stdout",
       "text": [
        "\n",
        "/Users/phuong/Cochrane_Data/New_Reviews_200/CD005274 v. 5.2 Interventions to reduce risky sexual behaviour for preventing HIV infection in workers in occupation.rm5"
       ]
      },
      {
       "output_type": "stream",
       "stream": "stdout",
       "text": [
        "\n",
        "/Users/phuong/Cochrane_Data/New_Reviews_200/CD005293 v. 3.0 Interventions for iatrogenic inferior alveolar and lingual nerve injury.rm5"
       ]
      },
      {
       "output_type": "stream",
       "stream": "stdout",
       "text": [
        "\n",
        "/Users/phuong/Cochrane_Data/New_Reviews_200/CD005297 v. 4.2 Treating periodontal disease for preventing adverse birth outcomes in pregnant women.rm5"
       ]
      },
      {
       "output_type": "stream",
       "stream": "stdout",
       "text": [
        "\n",
        "/Users/phuong/Cochrane_Data/New_Reviews_200/CD005318 v. 6.0 Cognitive reframing for carers of people with dementia.rm5"
       ]
      },
      {
       "output_type": "stream",
       "stream": "stdout",
       "text": [
        "\n",
        "/Users/phuong/Cochrane_Data/New_Reviews_200/CD005330 v. 6.0 Media-delivered cognitive behavioural therapy and behavioural therapy (self-help) for anxiety disord.rm5"
       ]
      },
      {
       "output_type": "stream",
       "stream": "stdout",
       "text": [
        "\n",
        "/Users/phuong/Cochrane_Data/New_Reviews_200/CD005332 v. 6.0 Pharmacotherapy and psychotherapy for body dysmorphic disorder.rm5"
       ]
      },
      {
       "output_type": "stream",
       "stream": "stdout",
       "text": [
        "\n",
        "/Users/phuong/Cochrane_Data/New_Reviews_200/CD005335 v. 5.10 Combined psychotherapy plus benzodiazepines for panic disorder.rm5"
       ]
      },
      {
       "output_type": "stream",
       "stream": "stdout",
       "text": [
        "\n",
        "/Users/phuong/Cochrane_Data/New_Reviews_200/CD005411 v. 3.2 Systemic interventions for recurrent aphthous stomatitis (mouth ulcers).rm5"
       ]
      },
      {
       "output_type": "stream",
       "stream": "stdout",
       "text": [
        "\n",
        "/Users/phuong/Cochrane_Data/New_Reviews_200/CD005417 v. 3.0 Home-based care for reducing morbidity and mortality in people infected with HIVAIDS.rm5"
       ]
      },
      {
       "output_type": "stream",
       "stream": "stdout",
       "text": [
        "\n",
        "/Users/phuong/Cochrane_Data/New_Reviews_200/CD005419 v. 4.0 Interventions for previously untreated patients with AIDS-associated Non-Hodgkins Lymphoma.rm5"
       ]
      },
      {
       "output_type": "stream",
       "stream": "stdout",
       "text": [
        "\n",
        "/Users/phuong/Cochrane_Data/New_Reviews_200/CD005449 v. 3.0 Adenosine-diphosphate (ADP) receptor antagonists for the prevention of cardiovascular disease in typ.rm5"
       ]
      },
      {
       "output_type": "stream",
       "stream": "stdout",
       "text": [
        "\n",
        "/Users/phuong/Cochrane_Data/New_Reviews_200/CD005455 v. 4.0 Choice of instruments for assisted vaginal delivery.rm5"
       ]
      },
      {
       "output_type": "stream",
       "stream": "stdout",
       "text": [
        "\n",
        "/Users/phuong/Cochrane_Data/New_Reviews_200/CD005467 v. 3.0 Chinese herbal medicines for treating osteoporosis.rm5"
       ]
      },
      {
       "output_type": "stream",
       "stream": "stdout",
       "text": [
        "\n",
        "/Users/phuong/Cochrane_Data/New_Reviews_200/CD005477 v. 5.0 Single layer versus double layer suture anastomosis of the gastrointestinal tract.rm5"
       ]
      },
      {
       "output_type": "stream",
       "stream": "stdout",
       "text": [
        "\n",
        "/Users/phuong/Cochrane_Data/New_Reviews_200/CD005516 v. 4.0 Enamel etching for bonding fixed orthodontic braces.rm5"
       ]
      },
      {
       "output_type": "stream",
       "stream": "stdout",
       "text": [
        "\n",
        "/Users/phuong/Cochrane_Data/New_Reviews_200/CD005517 v. 3.2 Materials for retrograde filling in root canal therapy.rm5"
       ]
      },
      {
       "output_type": "stream",
       "stream": "stdout",
       "text": [
        "\n",
        "/Users/phuong/Cochrane_Data/New_Reviews_200/CD005562 v. 5.0 Cognitive stimulation to improve cognitive functioning in people with dementia.rm5"
       ]
      },
      {
       "output_type": "stream",
       "stream": "stdout",
       "text": [
        "\n",
        "/Users/phuong/Cochrane_Data/New_Reviews_200/CD005566 v. 4.0 Prophylactic corticosteroids for cardiopulmonary bypass in adults.rm5"
       ]
      },
      {
       "output_type": "stream",
       "stream": "stdout",
       "text": [
        "\n",
        "/Users/phuong/Cochrane_Data/New_Reviews_200/CD005569 v. 3.0 Chuanxiong-type preparations for acute ischemic stroke.rm5"
       ]
      },
      {
       "output_type": "stream",
       "stream": "stdout",
       "text": [
        "\n",
        "/Users/phuong/Cochrane_Data/New_Reviews_200/CD005583 v. 4.22 Helicobacter pylori eradication for the prevention of gastric neoplasia.rm5"
       ]
      },
      {
       "output_type": "stream",
       "stream": "stdout",
       "text": [
        "\n",
        "/Users/phuong/Cochrane_Data/New_Reviews_200/CD005606 v. 3.0 Topical anaesthetic or vasoconstrictor preparations for flexible fibre-optic nasal pharyngoscopy and.rm5\n",
        "/Users/phuong/Cochrane_Data/New_Reviews_200/CD005644 v. 2.1 Antimotility agents for chronic diarrhoea in people with HIVAIDS.rm5"
       ]
      },
      {
       "output_type": "stream",
       "stream": "stdout",
       "text": [
        "\n",
        "/Users/phuong/Cochrane_Data/New_Reviews_200/CD005655 v. 4.0 Peripheral iridotomy for pigmentary glaucoma.rm5"
       ]
      },
      {
       "output_type": "stream",
       "stream": "stdout",
       "text": [
        "\n",
        "/Users/phuong/Cochrane_Data/New_Reviews_200/CD005661 v. 3.0 Closure methods for laparotomy incisions for preventing incisional hernias and other wound complicat.rm5"
       ]
      },
      {
       "output_type": "stream",
       "stream": "stdout",
       "text": [
        "\n",
        "/Users/phuong/Cochrane_Data/New_Reviews_200/CD005982 v. 4.0 Low molecular weight heparin for prevention of central venous catheterization-related thrombosis in .rm5"
       ]
      },
      {
       "output_type": "stream",
       "stream": "stdout",
       "text": [
        "\n",
        "/Users/phuong/Cochrane_Data/New_Reviews_200/CD005998 v. 6.79 Preoperative ripening of the cervix before operative hysteroscopy.rm5"
       ]
      },
      {
       "output_type": "stream",
       "stream": "stdout",
       "text": [
        "\n",
        "/Users/phuong/Cochrane_Data/New_Reviews_200/CD006002 v. 3.0 Interferon alpha for chronic hepatitis D.rm5"
       ]
      },
      {
       "output_type": "stream",
       "stream": "stdout",
       "text": [
        "\n",
        "/Users/phuong/Cochrane_Data/New_Reviews_200/CD006005 v. 3.0 Lamivudine or adefovir dipivoxil alone or combined with immunoglobulin for preventing hepatitis B re.rm5"
       ]
      },
      {
       "output_type": "stream",
       "stream": "stdout",
       "text": [
        "\n",
        "/Users/phuong/Cochrane_Data/New_Reviews_200/CD006006 v. 4.0 Prostaglandins for adult liver transplanted patients.rm5"
       ]
      },
      {
       "output_type": "stream",
       "stream": "stdout",
       "text": [
        "\n",
        "/Users/phuong/Cochrane_Data/New_Reviews_200/CD006055 v. 4.0 The effects of antimicrobial therapy on bacterial vaginosis in non-pregnant women.rm5"
       ]
      },
      {
       "output_type": "stream",
       "stream": "stdout",
       "text": [
        "\n",
        "/Users/phuong/Cochrane_Data/New_Reviews_200/CD006056 v. 3.0 Pressure support versus T-tube for weaning from mechanical ventilation in adults.rm5"
       ]
      },
      {
       "output_type": "stream",
       "stream": "stdout",
       "text": [
        "\n",
        "/Users/phuong/Cochrane_Data/New_Reviews_200/CD006064 v. 2.12 Antenatal breast examination for promoting breastfeeding.rm5\n",
        "/Users/phuong/Cochrane_Data/New_Reviews_200/CD006074 v. 3.0 Carotid endarterectomy for carotid stenosis in patients selected for coronary artery bypass graft su.rm5\n",
        "/Users/phuong/Cochrane_Data/New_Reviews_200/CD006075 v. 3.0 Overground physical therapy gait training for chronic stroke patients with mobility deficits.rm5"
       ]
      },
      {
       "output_type": "stream",
       "stream": "stdout",
       "text": [
        "\n",
        "/Users/phuong/Cochrane_Data/New_Reviews_200/CD006076 v. 3.3 Acupuncture for dysphagia in acute stroke.rm5"
       ]
      },
      {
       "output_type": "stream",
       "stream": "stdout",
       "text": [
        "\n",
        "/Users/phuong/Cochrane_Data/New_Reviews_200/CD006081 v. 3.0 Transcranial magnetic stimulation (TMS) for schizophrenia.rm5"
       ]
      },
      {
       "output_type": "stream",
       "stream": "stdout",
       "text": [
        "\n",
        "/Users/phuong/Cochrane_Data/New_Reviews_200/CD006085 v. 4.0 Antiamoebic drugs for treating amoebic colitis.rm5"
       ]
      },
      {
       "output_type": "stream",
       "stream": "stdout",
       "text": [
        "\n",
        "/Users/phuong/Cochrane_Data/New_Reviews_200/CD006089 v. 8.1 Antibiotics for clinically diagnosed acute rhinosinusitis in adults.rm5"
       ]
      },
      {
       "output_type": "stream",
       "stream": "stdout",
       "text": [
        "\n",
        "/Users/phuong/Cochrane_Data/New_Reviews_200/CD006100 v. 3.5 Leukotriene receptor antagonists in addition to usual care for acute asthma in adults and children.rm5"
       ]
      },
      {
       "output_type": "stream",
       "stream": "stdout",
       "text": [
        "\n",
        "/Users/phuong/Cochrane_Data/New_Reviews_200/CD006102 v. 3.0 Smoking cessation interventions for smokers with current or past depression.rm5"
       ]
      },
      {
       "output_type": "stream",
       "stream": "stdout",
       "text": [
        "\n",
        "/Users/phuong/Cochrane_Data/New_Reviews_200/CD006127 v. 4.0 Blood pressure control for diabetic retinopathy.rm5"
       ]
      },
      {
       "output_type": "stream",
       "stream": "stdout",
       "text": [
        "\n",
        "/Users/phuong/Cochrane_Data/New_Reviews_200/CD006135 v. 3.0 Probiotics for treating eczema.rm5"
       ]
      },
      {
       "output_type": "stream",
       "stream": "stdout",
       "text": [
        "\n",
        "/Users/phuong/Cochrane_Data/New_Reviews_200/CD006136 v. 4.2 Oral potassium iodide for the treatment of sporotrichosis.rm5\n",
        "/Users/phuong/Cochrane_Data/New_Reviews_200/CD006158 v. 3.0 Erythropoietin as an adjuvant treatment with (chemo) radiation therapy for head and neck cancer.rm5"
       ]
      },
      {
       "output_type": "stream",
       "stream": "stdout",
       "text": [
        "\n",
        "/Users/phuong/Cochrane_Data/New_Reviews_200/CD006168 v. 3.0 Biofeedback for pain management during labour.rm5"
       ]
      },
      {
       "output_type": "stream",
       "stream": "stdout",
       "text": [
        "\n",
        "/Users/phuong/Cochrane_Data/New_Reviews_200/CD006169 v. 3.0 Combination of tocolytic agents for inhibiting preterm labour.rm5"
       ]
      },
      {
       "output_type": "stream",
       "stream": "stdout",
       "text": [
        "\n",
        "/Users/phuong/Cochrane_Data/New_Reviews_200/CD006173 v. 4.0 Timing of prophylactic uterotonics for the third stage of labour after vaginal birth.rm5\n",
        "/Users/phuong/Cochrane_Data/New_Reviews_200/CD006176 v. 3.0 Umbilical vein injection for the routine management of third stage of labour.rm5"
       ]
      },
      {
       "output_type": "stream",
       "stream": "stdout",
       "text": [
        "\n",
        "/Users/phuong/Cochrane_Data/New_Reviews_200/CD006187 v. 3.2 Very early versus delayed mobilisation after stroke.rm5"
       ]
      },
      {
       "output_type": "stream",
       "stream": "stdout",
       "text": [
        "\n",
        "/Users/phuong/Cochrane_Data/New_Reviews_200/CD006188 v. 3.0 Surgical interventions for the rheumatoid shoulder.rm5"
       ]
      },
      {
       "output_type": "stream",
       "stream": "stdout",
       "text": [
        "\n",
        "/Users/phuong/Cochrane_Data/New_Reviews_200/CD006193 v. 4.0 Cemented cementless or hybrid fixation options in total knee arthroplasty for osteoarthritis and ot.rm5"
       ]
      },
      {
       "output_type": "stream",
       "stream": "stdout",
       "text": [
        "\n",
        "/Users/phuong/Cochrane_Data/New_Reviews_200/CD006196 v. 3.6 Intermittent drug techniques for schizophrenia.rm5"
       ]
      },
      {
       "output_type": "stream",
       "stream": "stdout",
       "text": [
        "\n",
        "Total file processed: "
       ]
      },
      {
       "output_type": "stream",
       "stream": "stdout",
       "text": [
        "\n",
        "122\n",
        "2219\n"
       ]
      }
     ],
     "prompt_number": 5
    },
    {
     "cell_type": "code",
     "collapsed": false,
     "input": [
      "import os\n",
      "import pandas\n",
      "from xml.dom import minidom\n",
      "import openpyxl\n",
      "from datetime import datetime\n",
      "\n",
      "Path = \"/Users/phuong/Cochrane_Data/All_Updated_Reviews/\"\n",
      "\n",
      "#Save results to Excel file\n",
      "from pandas import DataFrame\n",
      "Review_list = []\n",
      "Review_title_list = []\n",
      "Review_group_list = []\n",
      "Review_year_list = []\n",
      "\n",
      "#Read list of file name\n",
      "# Path_Review_Name = \"/Users/phuong/Cochrane_Data/All_Amended_Reviews/Conclusion_Change_Reviews_RCT_only.txt\"\n",
      "\n",
      "# with open(Path_Review_Name, \"r\") as ins:\n",
      "#     Review_name = []\n",
      "#     for line in ins:\n",
      "#         line = line.replace(\"\\n\",\"\")     \n",
      "#         Review_name.append(line)\n",
      "\n",
      "# Review_name = set(Review_name)        \n",
      "        \n",
      "filelist = os.listdir(Path)\n",
      "review_dictionary = {}\n",
      "count = 0\n",
      "\n",
      "    \n",
      "for i in filelist:\n",
      "    if i.endswith(\".rm5\"):\n",
      "        if (count==0):\n",
      "            with open(Path + i, 'r') as f:\n",
      "                file_name = Path + i\n",
      "                print i\n",
      "                doc = minidom.parse(file_name)\n",
      "                reviews = doc.getElementsByTagName(\"COCHRANE_REVIEW\")\n",
      "                for review in reviews:\n",
      "                    review_group = review.getAttribute(\"GROUP_ID\")\n",
      "#                     print review_group\n",
      "                    review_modified_datetime = review.getAttribute(\"MODIFIED\")\n",
      "                    review_modified_datetime = review_modified_datetime.encode('utf8')\n",
      "                    review_year = review_modified_datetime[:4]\n",
      "#                     print review_year\n",
      "                review_titles = doc.getElementsByTagName(\"TITLE\")\n",
      "                if (review_titles.length >0):\n",
      "                    review_title = review_titles[0].firstChild.data\n",
      "#                     print review_title\n",
      "                    \n",
      "                    Review_list.append(i)\n",
      "                    Review_title_list.append(review_title)\n",
      "                    Review_group_list.append(review_group)\n",
      "                    Review_year_list.append(review_year)\n",
      "                    \n",
      "                    \n",
      "df = DataFrame({'Review Name': Review_list , 'Review Title': Review_title_list, 'Review Group ID' : Review_group_list,\n",
      "                'Review Year' : Review_year_list})\n",
      "df = df[['Review Name','Review Title', 'Review Group ID', 'Review Year']]\n",
      "df.to_excel('/Users/phuong/Cochrane_Data/All_Updated_Reviews/All_Updated_Reviews_Distribution_Analysis.xlsx', sheet_name='sheet1', index=False)\n",
      "              "
     ],
     "language": "python",
     "metadata": {},
     "outputs": [
      {
       "output_type": "stream",
       "stream": "stdout",
       "text": [
        "CD000004 v. 8.0 Abdominal decompression for suspected fetal compromisepre-eclampsia.rm5\n",
        "CD000006 v. 8.0 Absorbable suture materials for primary repair of episiotomy and second degree tears.rm5\n",
        "CD000009 v. 12.2 Acupuncture and related interventions for smoking cessation.rm5"
       ]
      },
      {
       "output_type": "stream",
       "stream": "stdout",
       "text": [
        "\n",
        "CD000011 v. 10.0 Interventions for enhancing medication adherence.rm5"
       ]
      },
      {
       "output_type": "stream",
       "stream": "stdout",
       "text": [
        "\n",
        "CD000012 v. 10.0 Alternative versus conventional institutional settings for birth.rm5"
       ]
      },
      {
       "output_type": "stream",
       "stream": "stdout",
       "text": [
        "\n",
        "CD000013 v. 8.0 Amnioinfusion for potential or suspected umbilical cord compression in labour.rm5"
       ]
      },
      {
       "output_type": "stream",
       "stream": "stdout",
       "text": [
        "\n",
        "CD000014 v. 11.0 Amnioinfusion for meconium-stained liquor in labour.rm5"
       ]
      },
      {
       "output_type": "stream",
       "stream": "stdout",
       "text": [
        "\n",
        "CD000019 v. 11.0 Thyrotropin-releasing hormone added to corticosteroids for women at risk of preterm birth for preven.rm5"
       ]
      },
      {
       "output_type": "stream",
       "stream": "stdout",
       "text": [
        "\n",
        "CD000020 v. 9.0 Anti-D administration in pregnancy for preventing Rhesus alloimmunisation.rm5"
       ]
      },
      {
       "output_type": "stream",
       "stream": "stdout",
       "text": [
        "\n",
        "CD000021 v. 6.0 Anti-D administration after childbirth for preventing Rhesus alloimmunisation.rm5"
       ]
      },
      {
       "output_type": "stream",
       "stream": "stdout",
       "text": [
        "\n",
        "CD000024 v. 8.0 Anticoagulants for acute ischaemic stroke.rm5\n",
        "CD000025 v. 10.0 Magnesium sulphate and other anticonvulsants for women with pre-eclampsia.rm5"
       ]
      },
      {
       "output_type": "stream",
       "stream": "stdout",
       "text": [
        "\n",
        "CD000032 v. 9.0 Antenatal dietary education and supplementation to increase energy and protein intake.rm5"
       ]
      },
      {
       "output_type": "stream",
       "stream": "stdout",
       "text": [
        "\n",
        "CD000033 v. 9.12 Barbiturates for acute traumatic brain injury.rm5"
       ]
      },
      {
       "output_type": "stream",
       "stream": "stdout",
       "text": [
        "\n",
        "CD000034 v. 10.0 Bed rest in hospital for suspected impaired fetal growth.rm5"
       ]
      },
      {
       "output_type": "stream",
       "stream": "stdout",
       "text": [
        "\n",
        "CD000036 v. 11.0 Betamimetics for suspected impaired fetal growth.rm5\n",
        "CD000037 v. 8.0 Tocolysis for preventing fetal distress in second stage of labour.rm5\n",
        "CD000039 v. 8.0 Interventions for deliberately altering blood pressure in acute stroke.rm5"
       ]
      },
      {
       "output_type": "stream",
       "stream": "stdout",
       "text": [
        "\n",
        "CD000049 v. 8.0 Calcium channel blockers for potential impaired fetal growth.rm5"
       ]
      },
      {
       "output_type": "stream",
       "stream": "stdout",
       "text": [
        "\n",
        "CD000051 v. 10.0 Cephalic version by postural management for breech presentation.rm5\n",
        "CD000053 v. 7.0 Drugs for treating urinary schistosomiasis.rm5"
       ]
      },
      {
       "output_type": "stream",
       "stream": "stdout",
       "text": [
        "\n",
        "CD000057 v. 7.0 Clomiphene citrate for unexplained subfertility in women.rm5"
       ]
      },
      {
       "output_type": "stream",
       "stream": "stdout",
       "text": [
        "\n",
        "CD000058 v. 10.0 Clonidine for smoking cessation.rm5\n",
        "CD000059 v. 12.0 Clozapine versus typical neuroleptic medication for schizophrenia.rm5"
       ]
      },
      {
       "output_type": "stream",
       "stream": "stdout",
       "text": [
        "\n",
        "CD000064 v. 8.0 Corticosteroids for acute ischaemic stroke.rm5"
       ]
      },
      {
       "output_type": "stream",
       "stream": "stdout",
       "text": [
        "\n",
        "CD000066 v. 10.2 Topical preparations for preventing stretch marks in pregnancy.rm5"
       ]
      },
      {
       "output_type": "stream",
       "stream": "stdout",
       "text": [
        "\n",
        "CD000071 v. 5.0 Patches of different types for carotid patch angioplasty.rm5"
       ]
      },
      {
       "output_type": "stream",
       "stream": "stdout",
       "text": [
        "\n",
        "CD000072 v. 6.0 Interprofessional collaboration to improve professional practice and healthcare outcomes.rm5"
       ]
      },
      {
       "output_type": "stream",
       "stream": "stdout",
       "text": [
        "\n",
        "CD000078 v. 12.0 Caesarean section versus vaginal delivery for preterm birth in singletons.rm5"
       ]
      },
      {
       "output_type": "stream",
       "stream": "stdout",
       "text": [
        "\n",
        "CD000079 v. 8.0 Transcutaneous electrostimulation for suspected placental insufficiency (diagnosed by Doppler studie.rm5"
       ]
      },
      {
       "output_type": "stream",
       "stream": "stdout",
       "text": [
        "\n",
        "CD000081 v. 9.0 Selective versus routine use of episiotomy for vaginal birth.rm5\n",
        "CD000084 v. 8.0 External cephalic version for breech presentation before term.rm5"
       ]
      },
      {
       "output_type": "stream",
       "stream": "stdout",
       "text": [
        "\n",
        "CD000093 v. 9.0 Gamma and other cephalocondylic intramedullary nails versus extramedullary implants for extracapsula.rm5"
       ]
      },
      {
       "output_type": "stream",
       "stream": "stdout",
       "text": [
        "\n",
        "CD000103 v. 5.0 Haemodilution for acute ischaemic stroke.rm5"
       ]
      },
      {
       "output_type": "stream",
       "stream": "stdout",
       "text": [
        "\n",
        "CD000104 v. 14.0 Elective high frequency oscillatory ventilation versus conventional ventilation for acute pulmonary .rm5"
       ]
      },
      {
       "output_type": "stream",
       "stream": "stdout",
       "text": [
        "\n",
        "CD000108 v. 7.0 Biochemical tests of placental function for assessment in pregnancy.rm5"
       ]
      },
      {
       "output_type": "stream",
       "stream": "stdout",
       "text": [
        "\n",
        "CD000109 v. 8.0 Hormones for suspected impaired fetal growth.rm5\n",
        "CD000110 v. 7.0 Hospitalisation and bed rest for multiple pregnancy.rm5\n",
        "CD000112 v. 7.0 Immunotherapy for recurrent miscarriage.rm5"
       ]
      },
      {
       "output_type": "stream",
       "stream": "stdout",
       "text": [
        "\n",
        "CD000114 v. 7.0 Instruments for chorionic villus sampling for prenatal diagnosis.rm5"
       ]
      },
      {
       "output_type": "stream",
       "stream": "stdout",
       "text": [
        "\n",
        "CD000116 v. 11.0 Fetal electrocardiogram (ECG) for fetal monitoring during labour.rm5"
       ]
      },
      {
       "output_type": "stream",
       "stream": "stdout",
       "text": [
        "\n",
        "CD000119 v. 12.0 Low-molecular-weight heparins or heparinoids versus standard unfractionated heparin for acute ischae.rm5"
       ]
      },
      {
       "output_type": "stream",
       "stream": "stdout",
       "text": [
        "\n",
        "CD000122 v. 9.0 Early light reduction for preventing retinopathy of prematurity in very low birth weight infants.rm5"
       ]
      },
      {
       "output_type": "stream",
       "stream": "stdout",
       "text": [
        "\n",
        "CD000124 v. 9.0 Lobeline for smoking cessation.rm5\n",
        "CD000125 v. 12.8 Local opinion leaders effects on professional practice and health care outcomes.rm5"
       ]
      },
      {
       "output_type": "stream",
       "stream": "stdout",
       "text": [
        "\n",
        "CD000126 v. 6.0 Local versus general anaesthesia for carotid endarterectomy.rm5"
       ]
      },
      {
       "output_type": "stream",
       "stream": "stdout",
       "text": [
        "\n",
        "CD000127 v. 8.0 Magnesium sulphate versus diazepam for eclampsia.rm5"
       ]
      },
      {
       "output_type": "stream",
       "stream": "stdout",
       "text": [
        "\n",
        "CD000128 v. 9.0 Magnesium sulphate versus phenytoin for eclampsia.rm5"
       ]
      },
      {
       "output_type": "stream",
       "stream": "stdout",
       "text": [
        "\n",
        "CD000133 v. 7.0 Maternal dietary antigen avoidance during pregnancy or lactation or both for preventing or treatin.rm5"
       ]
      },
      {
       "output_type": "stream",
       "stream": "stdout",
       "text": [
        "\n",
        "CD000136 v. 8.7 Maternal oxygen administration for fetal distress.rm5"
       ]
      },
      {
       "output_type": "stream",
       "stream": "stdout",
       "text": [
        "\n",
        "CD000137 v. 10.0 Maternal oxygen administration for suspected impaired fetal growth.rm5\n",
        "CD000141 v. 5.0 Multiple versus single doses of exogenous surfactant for the prevention or treatment of neonatal res.rm5\n",
        "CD000146 v. 19.3 Nicotine replacement therapy for smoking cessation.rm5"
       ]
      },
      {
       "output_type": "stream",
       "stream": "stdout",
       "text": [
        "\n",
        "CD000147 v. 10.0 Nimodipine for primary degenerative mixed and vascular dementia.rm5"
       ]
      },
      {
       "output_type": "stream",
       "stream": "stdout",
       "text": [
        "\n",
        "CD000148 v. 8.0 Maternal nutrient supplementation for suspected impaired fetal growth.rm5"
       ]
      },
      {
       "output_type": "stream",
       "stream": "stdout",
       "text": [
        "\n",
        "CD000154 v. 6.0 Oral contraceptive pill for heavy menstrual bleeding.rm5\n",
        "CD000160 v. 5.0 Patch angioplasty versus primary closure for carotid endarterectomy.rm5\n",
        "CD000161 v. 8.0 Pelvimetry for fetal cephalic presentations at or near term for deciding on mode of delivery.rm5"
       ]
      },
      {
       "output_type": "stream",
       "stream": "stdout",
       "text": [
        "\n",
        "CD000163 v. 10.0 Closure versus non-closure of the peritoneum at caesarean section short- and long-term outcomes.rm5"
       ]
      },
      {
       "output_type": "stream",
       "stream": "stdout",
       "text": [
        "\n",
        "CD000164 v. 11.0 Phenobarbital prior to preterm birth for preventing neonatal periventricular haemorrhage.rm5"
       ]
      },
      {
       "output_type": "stream",
       "stream": "stdout",
       "text": [
        "\n",
        "CD000165 v. 14.0 Physician advice for smoking cessation.rm5"
       ]
      },
      {
       "output_type": "stream",
       "stream": "stdout",
       "text": [
        "\n",
        "CD000167 v. 9.0 Plasma volume expansion for suspected impaired fetal growth.rm5"
       ]
      },
      {
       "output_type": "stream",
       "stream": "stdout",
       "text": [
        "\n",
        "CD000168 v. 10.0 Pre-operative traction for hip fractures in adults.rm5\n",
        "CD000169 v. 19.2 Drugs for preventing malaria in pregnant women in endemic areas any drug regimen versus placebo or .rm5"
       ]
      },
      {
       "output_type": "stream",
       "stream": "stdout",
       "text": [
        "\n",
        "CD000171 v. 12.0 Treatment of latent tuberculosis infection in HIV infected persons.rm5"
       ]
      },
      {
       "output_type": "stream",
       "stream": "stdout",
       "text": [
        "\n",
        "CD000174 v. 7.0 Prophylactic intravenous indomethacin for preventing mortality and morbidity in preterm infants.rm5"
       ]
      },
      {
       "output_type": "stream",
       "stream": "stdout",
       "text": [
        "\n",
        "CD000176 v. 9.0 Prophylactic versus therapeutic amnioinfusion for oligohydramnios in labour.rm5"
       ]
      },
      {
       "output_type": "stream",
       "stream": "stdout",
       "text": [
        "\n",
        "CD000180 v. 7.1 Aerobic exercise for women during pregnancy.rm5\n",
        "CD000190 v. 7.0 Routine or selective carotid artery shunting for carotid endarterectomy (and different methods of mo.rm5"
       ]
      },
      {
       "output_type": "stream",
       "stream": "stdout",
       "text": [
        "\n",
        "CD000191 v. 8.2 Silver acetate for smoking cessation.rm5"
       ]
      },
      {
       "output_type": "stream",
       "stream": "stdout",
       "text": [
        "\n",
        "CD000196 v. 10.0 Corticosteroids for acute traumatic brain injury.rm5\n",
        "CD000198 v. 12.0 Support during pregnancy for women at increased risk of low birthweight babies.rm5"
       ]
      },
      {
       "output_type": "stream",
       "stream": "stdout",
       "text": [
        "\n",
        "CD000216 v. 8.0 Repeated lumbar or ventricular punctures in newborns with intraventricular haemorrhage.rm5"
       ]
      },
      {
       "output_type": "stream",
       "stream": "stdout",
       "text": [
        "\n",
        "CD000219 v. 17.0 Antibiotics for acute otitis media in children.rm5\n",
        "CD000220 v. 10.7 Interventions for trichomoniasis in pregnancy.rm5"
       ]
      },
      {
       "output_type": "stream",
       "stream": "stdout",
       "text": [
        "\n",
        "CD000222 v. 19.0 Ursodeoxycholic acid for cystic fibrosis-related liver disease.rm5\n",
        "CD000229 v. 8.0 Vitamin K prior to preterm birth for preventing neonatal periventricular haemorrhage.rm5"
       ]
      },
      {
       "output_type": "stream",
       "stream": "stdout",
       "text": [
        "\n",
        "CD000234 v. 11.0 Beta-blocker supplementation of standard drug treatment for schizophrenia.rm5"
       ]
      },
      {
       "output_type": "stream",
       "stream": "stdout",
       "text": [
        "\n",
        "CD000244 v. 7.0 Antibiotic prophylaxis for surgery for proximal femoral and other closed long bone fractures.rm5"
       ]
      },
      {
       "output_type": "stream",
       "stream": "stdout",
       "text": [
        "\n",
        "CD000245 v. 20.0 Antibiotics for acute bronchitis.rm5"
       ]
      },
      {
       "output_type": "stream",
       "stream": "stdout",
       "text": [
        "\n",
        "CD000246 v. 9.0 Prophylactic antibiotics for inhibiting preterm labour with intact membranes.rm5"
       ]
      },
      {
       "output_type": "stream",
       "stream": "stdout",
       "text": [
        "\n",
        "CD000247 v. 11.0 Antibiotics for the common cold and acute purulent rhinitis.rm5"
       ]
      },
      {
       "output_type": "stream",
       "stream": "stdout",
       "text": [
        "\n",
        "CD000248 v. 6.0 Anticoagulants for preventing recurrence following presumed non-cardioembolic ischaemic stroke or tr.rm5"
       ]
      },
      {
       "output_type": "stream",
       "stream": "stdout",
       "text": [
        "\n",
        "CD000262 v. 11.0 Antibiotics for treating bacterial vaginosis in pregnancy.rm5"
       ]
      },
      {
       "output_type": "stream",
       "stream": "stdout",
       "text": [
        "\n",
        "CD000296 v. 7.0 Budesonide for induction of remission in Crohn's disease.rm5"
       ]
      },
      {
       "output_type": "stream",
       "stream": "stdout",
       "text": [
        "\n",
        "CD000297 v. 5.0 Cyclosporine for induction of remission in Crohn's disease.rm5"
       ]
      },
      {
       "output_type": "stream",
       "stream": "stdout",
       "text": [
        "\n",
        "CD000299 v. 6.0 Anti-tuberculous therapy for maintenance of remission in Crohn's disease.rm5"
       ]
      },
      {
       "output_type": "stream",
       "stream": "stdout",
       "text": [
        "\n",
        "CD000301 v. 7.0 Corticosteroids for maintenance of remission in Crohn's disease.rm5\n",
        "CD000313 v. 8.2 Discharge planning from hospital.rm5\n",
        "CD000320 v. 14.0 Interventions for treating scabies.rm5"
       ]
      },
      {
       "output_type": "stream",
       "stream": "stdout",
       "text": [
        "\n",
        "CD000323 v. 8.1 Interventions for dysphagia and nutritional support in acute and subacute stroke.rm5"
       ]
      },
      {
       "output_type": "stream",
       "stream": "stdout",
       "text": [
        "\n",
        "CD000329 v. 8.0 Endometrial resection and ablation versus hysterectomy for heavy menstrual bleeding.rm5"
       ]
      },
      {
       "output_type": "stream",
       "stream": "stdout",
       "text": [
        "\n",
        "CD000330 v. 13.2 Enemas during labour.rm5"
       ]
      },
      {
       "output_type": "stream",
       "stream": "stdout",
       "text": [
        "\n",
        "CD000331 v. 10.2 Epidural versus non-epidural or no analgesia in labour.rm5"
       ]
      },
      {
       "output_type": "stream",
       "stream": "stdout",
       "text": [
        "\n",
        "CD000333 v. 9.0 Exercise for preventing and treating osteoporosis in postmenopausal women.rm5"
       ]
      },
      {
       "output_type": "stream",
       "stream": "stdout",
       "text": [
        "\n",
        "CD000339 v. 11.0 Extramedullary fixation implants and external fixators for extracapsular hip fractures in adults.rm5"
       ]
      },
      {
       "output_type": "stream",
       "stream": "stdout",
       "text": [
        "\n",
        "CD000356 v. 9.0 Early discharge hospital at home.rm5"
       ]
      },
      {
       "output_type": "stream",
       "stream": "stdout",
       "text": [
        "\n",
        "CD000359 v. 8.0 Hydergine for dementia.rm5"
       ]
      },
      {
       "output_type": "stream",
       "stream": "stdout",
       "text": [
        "\n",
        "CD000360 v. 10.0 Assisted reproductive technologies for male subfertility.rm5"
       ]
      },
      {
       "output_type": "stream",
       "stream": "stdout",
       "text": [
        "\n",
        "CD000361 v. 10.0 Intravenous immunoglobulin for preventing infection in preterm andor low birth weight infants.rm5"
       ]
      },
      {
       "output_type": "stream",
       "stream": "stdout",
       "text": [
        "\n",
        "CD000364 v. 9.0 Vaccines for preventing influenza in people with asthma.rm5"
       ]
      },
      {
       "output_type": "stream",
       "stream": "stdout",
       "text": [
        "\n",
        "CD000366 v. 9.0 Inositol in preterm infants at risk for or having respiratory distress syndrome.rm5"
       ]
      },
      {
       "output_type": "stream",
       "stream": "stdout",
       "text": [
        "\n",
        "CD000373 v. 7.2 Kinesthetic stimulation for preventing apnea in preterm infants.rm5"
       ]
      },
      {
       "output_type": "stream",
       "stream": "stdout",
       "text": [
        "\n",
        "CD000376 v. 9.0 Long chain polyunsaturated fatty acid supplementation in infants born at term.rm5"
       ]
      },
      {
       "output_type": "stream",
       "stream": "stdout",
       "text": [
        "\n",
        "CD000384 v. 8.2 Length of hospitalisation for people with severe mental illness.rm5"
       ]
      },
      {
       "output_type": "stream",
       "stream": "stdout",
       "text": [
        "\n",
        "CD000398 v. 8.0 Nitric oxide donors (nitrates) L-arginine or nitric oxide synthase inhibitors for acute stroke.rm5"
       ]
      },
      {
       "output_type": "stream",
       "stream": "stdout",
       "text": [
        "\n",
        "CD000399 v. 13.0 Nitric oxide for respiratory failure in infants born at or near term.rm5"
       ]
      },
      {
       "output_type": "stream",
       "stream": "stdout",
       "text": [
        "\n",
        "CD000400 v. 8.0 Non-steroidal anti-inflammatory drugs for heavy menstrual bleeding.rm5"
       ]
      },
      {
       "output_type": "stream",
       "stream": "stdout",
       "text": [
        "\n",
        "CD000402 v. 9.0 Hormone therapy in postmenopausal women and risk of endometrial hyperplasia.rm5"
       ]
      },
      {
       "output_type": "stream",
       "stream": "stdout",
       "text": [
        "\n",
        "CD000406 v. 18.0 Oral calorie supplements for cystic fibrosis.rm5"
       ]
      },
      {
       "output_type": "stream",
       "stream": "stdout",
       "text": [
        "\n",
        "CD000407 v. 21.0 Oral steroids for long-term use in cystic fibrosis.rm5"
       ]
      },
      {
       "output_type": "stream",
       "stream": "stdout",
       "text": [
        "\n",
        "CD000419 v. 9.0 Piracetam for acute ischaemic stroke.rm5"
       ]
      },
      {
       "output_type": "stream",
       "stream": "stdout",
       "text": [
        "\n",
        "CD000422 v. 8.0 Vaccines for preventing pneumococcal infection in adults.rm5\n",
        "CD000425 v. 9.0 Speech and language therapy for aphasia following stroke.rm5"
       ]
      },
      {
       "output_type": "stream",
       "stream": "stdout",
       "text": [
        "\n",
        "CD000427 v. 9.0 Preoxygenation for tracheal suctioning in intubated ventilated newborn infants.rm5"
       ]
      },
      {
       "output_type": "stream",
       "stream": "stdout",
       "text": [
        "\n",
        "CD000434 v. 12.0 Interventions for treating proximal humeral fractures in adults.rm5\n",
        "CD000437 v. 3.4 Rescue high-frequency jet ventilation versus conventional ventilation for severe pulmonary dysfuncti.rm5"
       ]
      },
      {
       "output_type": "stream",
       "stream": "stdout",
       "text": [
        "\n",
        "CD000443 v. 8.0 Early supported discharge services for people with acute stroke.rm5"
       ]
      },
      {
       "output_type": "stream",
       "stream": "stdout",
       "text": [
        "\n",
        "CD000452 v. 11.0 Support for mothers fathers and families after perinatal death.rm5"
       ]
      },
      {
       "output_type": "stream",
       "stream": "stdout",
       "text": [
        "\n",
        "CD000456 v. 9.0 Synchronized mechanical ventilation for respiratory support in newborn infants.rm5"
       ]
      },
      {
       "output_type": "stream",
       "stream": "stdout",
       "text": [
        "\n",
        "CD000475 v. 10.0 Barrier agents for adhesion prevention after gynaecological surgery.rm5"
       ]
      },
      {
       "output_type": "stream",
       "stream": "stdout",
       "text": [
        "\n",
        "CD000478 v. 7.0 Azathioprine and 6-mercaptopurine for maintenance of remission in ulcerative colitis.rm5"
       ]
      },
      {
       "output_type": "stream",
       "stream": "stdout",
       "text": [
        "\n",
        "CD000479 v. 7.2 Surgery or embolization for varicoceles in subfertile men.rm5"
       ]
      },
      {
       "output_type": "stream",
       "stream": "stdout",
       "text": [
        "\n",
        "CD000490 v. 7.0 Antibiotics for asymptomatic bacteriuria in pregnancy.rm5"
       ]
      },
      {
       "output_type": "stream",
       "stream": "stdout",
       "text": [
        "\n",
        "CD000491 v. 8.0 Duration of treatment for asymptomatic bacteriuria during pregnancy.rm5"
       ]
      },
      {
       "output_type": "stream",
       "stream": "stdout",
       "text": [
        "\n",
        "CD000494 v. 11.0 Prostaglandins for preventing postpartum haemorrhage.rm5"
       ]
      },
      {
       "output_type": "stream",
       "stream": "stdout",
       "text": [
        "\n",
        "CD000499 v. 6.0 Kinesthetic stimulation for treating apnea in preterm infants.rm5"
       ]
      },
      {
       "output_type": "stream",
       "stream": "stdout",
       "text": [
        "\n",
        "CD000501 v. 11.0 Vitamin A supplementation to prevent mortality and short- and long-term morbidity in very low birth .rm5\n",
        "CD000502 v. 6.0 Kinesthetic stimulation versus methylxanthine for apnea in preterm infants.rm5"
       ]
      },
      {
       "output_type": "stream",
       "stream": "stdout",
       "text": [
        "\n",
        "CD000503 v. 8.0 Restricted versus liberal water intake for preventing morbidity and mortality in preterm infants.rm5\n",
        "CD000504 v. 6.0 Early trophic feeding versus enteral fasting for very preterm or very low birth weight infants.rm5"
       ]
      },
      {
       "output_type": "stream",
       "stream": "stdout",
       "text": [
        "\n",
        "CD000505 v. 5.0 Umbilical artery catheters in the newborn effects of position of the catheter tip.rm5\n",
        "CD000506 v. 8.0 Nebulized racemic epinephrine for extubation of newborn infants.rm5"
       ]
      },
      {
       "output_type": "stream",
       "stream": "stdout",
       "text": [
        "\n",
        "CD000507 v. 5.0 Umbilical artery catheters in the newborn effects of heparin.rm5\n",
        "CD000508 v. 5.0 Umbilical artery catheters in the newborn effects of catheter design (end vs. side hole).rm5\n",
        "CD000509 v. 12.0 Inhaled nitric oxide for respiratory failure in preterm infants.rm5"
       ]
      },
      {
       "output_type": "stream",
       "stream": "stdout",
       "text": [
        "\n",
        "CD000511 v. 5.4 Prophylactic animal derived surfactant extract for preventing morbidity and mortality in preterm inf.rm5"
       ]
      },
      {
       "output_type": "stream",
       "stream": "stdout",
       "text": [
        "\n",
        "CD000514 v. 6.0 Thrombolysis (different doses routes of administration and agents) for acute ischaemic stroke.rm5"
       ]
      },
      {
       "output_type": "stream",
       "stream": "stdout",
       "text": [
        "\n",
        "CD000515 v. 6.2 Percutaneous transluminal balloon angioplasty and stenting for carotid artery stenosis.rm5"
       ]
      },
      {
       "output_type": "stream",
       "stream": "stdout",
       "text": [
        "\n",
        "CD000522 v. 7.8 Osteotomy compression and other modifications of surgical techniques for internal fixation of extra.rm5"
       ]
      },
      {
       "output_type": "stream",
       "stream": "stdout",
       "text": [
        "\n",
        "CD000523 v. 13.0 Interventions for treating isolated diaphyseal fractures of the ulna in adults.rm5"
       ]
      },
      {
       "output_type": "stream",
       "stream": "stdout",
       "text": [
        "\n",
        "CD000526 v. 8.2 Interventions for treating tuberculous pericarditis.rm5\n",
        "CD000528 v. 8.4 Drugs for treating Schistosoma mansoni infection.rm5"
       ]
      },
      {
       "output_type": "stream",
       "stream": "stdout",
       "text": [
        "\n",
        "CD000535 v. 8.0 Antiplatelet agents for preventing thrombosis after peripheral arterial bypass surgery.rm5"
       ]
      },
      {
       "output_type": "stream",
       "stream": "stdout",
       "text": [
        "\n",
        "CD000544 v. 13.0 Oral 5-aminosalicylic acid for maintenance of remission in ulcerative colitis.rm5"
       ]
      },
      {
       "output_type": "stream",
       "stream": "stdout",
       "text": [
        "\n",
        "CD000545 v. 11.0 Azathioprine or 6-mercaptopurine for induction of remission in Crohn's disease.rm5"
       ]
      },
      {
       "output_type": "stream",
       "stream": "stdout",
       "text": [
        "\n",
        "CD000547 v. 7.0 Preoperative medical therapy before surgery for uterine fibroids.rm5"
       ]
      },
      {
       "output_type": "stream",
       "stream": "stdout",
       "text": [
        "\n",
        "CD000551 v. 9.2 Ursodeoxycholic acid for primary biliary cirrhosis.rm5"
       ]
      },
      {
       "output_type": "stream",
       "stream": "stdout",
       "text": [
        "\n",
        "CD000566 v. 9.0 Hyperventilation therapy for acute traumatic brain injury.rm5"
       ]
      },
      {
       "output_type": "stream",
       "stream": "stdout",
       "text": [
        "\n",
        "CD000934 v. 9.0 Alternative versus standard packages of antenatal care for low-risk pregnancy.rm5\n",
        "CD000937 v. 11.0 Magnesium supplementation in pregnancy.rm5"
       ]
      },
      {
       "output_type": "stream",
       "stream": "stdout",
       "text": [
        "\n",
        "CD000940 v. 7.2 Magnesium maintenance therapy for preventing preterm birth after threatened preterm labour.rm5"
       ]
      },
      {
       "output_type": "stream",
       "stream": "stdout",
       "text": [
        "\n",
        "CD000942 v. 8.0 Amnioinfusion for third trimester preterm premature rupture of membranes.rm5\n",
        "CD000947 v. 8.0 Continuous and interrupted suturing techniques for repair of episiotomy or second-degree tears.rm5"
       ]
      },
      {
       "output_type": "stream",
       "stream": "stdout",
       "text": [
        "\n",
        "CD000949 v. 5.0 Umbilical artery catheters in the newborn effects of catheter materials.rm5"
       ]
      },
      {
       "output_type": "stream",
       "stream": "stdout",
       "text": [
        "\n",
        "CD000957 v. 8.0 Methotrexate for treating rheumatoid arthritis.rm5\n",
        "CD000963 v. 9.3 Multidisciplinary biopsychosocial rehabilitation for chronic low back pain.rm5"
       ]
      },
      {
       "output_type": "stream",
       "stream": "stdout",
       "text": [
        "\n",
        "CD000972 v. 7.2 Steroids for treating cerebral malaria.rm5"
       ]
      },
      {
       "output_type": "stream",
       "stream": "stdout",
       "text": [
        "\n",
        "CD000976 v. 7.2 Vaccines for preventing plague.rm5\n",
        "CD000977 v. 4.0 Vaccines for preventing tick-borne encephalitis.rm5"
       ]
      },
      {
       "output_type": "stream",
       "stream": "stdout",
       "text": [
        "\n",
        "CD000979 v. 6.2 Orthodontic treatment for posterior crossbites.rm5"
       ]
      },
      {
       "output_type": "stream",
       "stream": "stdout",
       "text": [
        "\n",
        "CD000984 v. 11.0 Interventions to change the behaviour of health professionals and the organisation of care to promot.rm5"
       ]
      },
      {
       "output_type": "stream",
       "stream": "stdout",
       "text": [
        "\n",
        "CD000986 v. 6.0 Prostanoids for intermittent claudication.rm5"
       ]
      },
      {
       "output_type": "stream",
       "stream": "stdout",
       "text": [
        "\n",
        "CD000988 v. 12.0 Buflomedil for intermittent claudication.rm5"
       ]
      },
      {
       "output_type": "stream",
       "stream": "stdout",
       "text": [
        "\n",
        "CD000990 v. 10.0 Exercise for intermittent claudication.rm5\n",
        "CD000991 v. 5.0 Intravenous fluids for abdominal aortic surgery.rm5"
       ]
      },
      {
       "output_type": "stream",
       "stream": "stdout",
       "text": [
        "\n",
        "CD000994 v. 9.4 Home care by outreach nursing for chronic obstructive pulmonary disease.rm5"
       ]
      },
      {
       "output_type": "stream",
       "stream": "stdout",
       "text": [
        "\n",
        "CD000996 v. 6.0 Inhaled steroids for bronchiectasis.rm5"
       ]
      },
      {
       "output_type": "stream",
       "stream": "stdout",
       "text": [
        "\n",
        "CD000998 v. 11.0 Nutritional supplementation for stable chronic obstructive pulmonary disease.rm5"
       ]
      },
      {
       "output_type": "stream",
       "stream": "stdout",
       "text": [
        "\n",
        "CD001001 v. 9.0 Lung volume reduction surgery for diffuse emphysema.rm5"
       ]
      },
      {
       "output_type": "stream",
       "stream": "stdout",
       "text": [
        "\n",
        "CD001007 v. 9.68 Group behaviour therapy programmes for smoking cessation.rm5"
       ]
      },
      {
       "output_type": "stream",
       "stream": "stdout",
       "text": [
        "\n",
        "CD001008 v. 10.0 Hypnotherapy for smoking cessation.rm5"
       ]
      },
      {
       "output_type": "stream",
       "stream": "stdout",
       "text": [
        "\n",
        "CD001011 v. 12.0 Piracetam for dementia or cognitive impairment.rm5"
       ]
      },
      {
       "output_type": "stream",
       "stream": "stdout",
       "text": [
        "\n",
        "CD001021 v. 12.0 Inhaled antibiotics for long-term therapy in cystic fibrosis.rm5"
       ]
      },
      {
       "output_type": "stream",
       "stream": "stdout",
       "text": [
        "\n",
        "CD001025 v. 14.0 Counselling for mental health and psychosocial problems in primary care.rm5"
       ]
      },
      {
       "output_type": "stream",
       "stream": "stdout",
       "text": [
        "\n",
        "CD001048 v. 13.0 Hypothermia for traumatic brain injury.rm5"
       ]
      },
      {
       "output_type": "stream",
       "stream": "stdout",
       "text": [
        "\n",
        "CD001054 v. 10.4 Community screening for visual impairment in the elderly.rm5"
       ]
      },
      {
       "output_type": "stream",
       "stream": "stdout",
       "text": [
        "\n",
        "CD001055 v. 9.0 Psychosocial interventions for supporting women to stop smoking in pregnancy.rm5\n",
        "CD001059 v. 13.0 Calcium supplementation during pregnancy for preventing hypertensive disorders and related problems.rm5"
       ]
      },
      {
       "output_type": "stream",
       "stream": "stdout",
       "text": [
        "\n",
        "CD001060 v. 7.0 Magnesium sulphate for preventing preterm birth in threatened preterm labour.rm5"
       ]
      },
      {
       "output_type": "stream",
       "stream": "stdout",
       "text": [
        "\n",
        "CD001062 v. 10.0 Abdominal decompression in normal pregnancy.rm5"
       ]
      },
      {
       "output_type": "stream",
       "stream": "stdout",
       "text": [
        "\n",
        "CD001064 v. 9.0 Piracetam for fetal distress in labour.rm5\n",
        "CD001065 v. 10.0 Operative versus conservative management for 'fetal distress' in labour.rm5\n",
        "CD001066 v. 9.0 Interventions for varicose veins and leg oedema in pregnancy.rm5\n",
        "CD001073 v. 6.0 D-Penicillamine for preventing retinopathy of prematurity in preterm infants.rm5"
       ]
      },
      {
       "output_type": "stream",
       "stream": "stdout",
       "text": [
        "\n",
        "CD001074 v. 5.0 Servo-control for maintaining abdominal skin temperature at 36C in low birth weight infants.rm5\n",
        "CD001075 v. 6.0 Gradual versus abrupt discontinuation of oxygen in preterm or low birth weight infants.rm5\n",
        "CD001080 v. 6.2 Digoxin for preventing or treating neonatal respiratory distress syndrome.rm5"
       ]
      },
      {
       "output_type": "stream",
       "stream": "stdout",
       "text": [
        "\n",
        "CD001081 v. 7.0 Carotid endarterectomy for symptomatic carotid stenosis.rm5\n",
        "CD001087 v. 14.0 Crisis intervention for people with severe mental illnesses.rm5"
       ]
      },
      {
       "output_type": "stream",
       "stream": "stdout",
       "text": [
        "\n",
        "CD001090 v. 11.0 Intravenous immunoglobulin for treating sepsis severe sepsis and septic shock.rm5"
       ]
      },
      {
       "output_type": "stream",
       "stream": "stdout",
       "text": [
        "\n",
        "CD001097 v. 6.0 Surgery for deep venous incompetence.rm5"
       ]
      },
      {
       "output_type": "stream",
       "stream": "stdout",
       "text": [
        "\n",
        "CD001099 v. 5.0 Fibrinolytic agents for peripheral arterial occlusion.rm5\n",
        "CD001100 v. 9.0 Fixed dose subcutaneous low molecular weight heparins versus adjusted dose unfractionated heparin fo.rm5"
       ]
      },
      {
       "output_type": "stream",
       "stream": "stdout",
       "text": [
        "\n",
        "CD001115 v. 9.0 Continuous versus intermittent beta-agonists for acute asthma.rm5"
       ]
      },
      {
       "output_type": "stream",
       "stream": "stdout",
       "text": [
        "\n",
        "CD001116 v. 10.0 Physical training for asthma.rm5"
       ]
      },
      {
       "output_type": "stream",
       "stream": "stdout",
       "text": [
        "\n",
        "CD001118 v. 11.0 Print-based self-help interventions for smoking cessation.rm5"
       ]
      },
      {
       "output_type": "stream",
       "stream": "stdout",
       "text": [
        "\n",
        "CD001127 v. 15.0 Dornase alfa for cystic fibrosis.rm5"
       ]
      },
      {
       "output_type": "stream",
       "stream": "stdout",
       "text": [
        "\n",
        "CD001131 v. 8.6 Pharmacological interventions for spasticity following spinal cord injury.rm5"
       ]
      },
      {
       "output_type": "stream",
       "stream": "stdout",
       "text": [
        "\n",
        "CD001132 v. 10.14 5-Fluorouracil for glaucoma surgery.rm5"
       ]
      },
      {
       "output_type": "stream",
       "stream": "stdout",
       "text": [
        "\n",
        "CD001134 v. 9.0 Psychosocial and psychological interventions for preventing postpartum depression.rm5"
       ]
      },
      {
       "output_type": "stream",
       "stream": "stdout",
       "text": [
        "\n",
        "CD001139 v. 7.0 Interventions for preventing and treating low-back and pelvic pain during pregnancy.rm5"
       ]
      },
      {
       "output_type": "stream",
       "stream": "stdout",
       "text": [
        "\n",
        "CD001141 v. 10.3 Support for healthy breastfeeding mothers with healthy term babies.rm5"
       ]
      },
      {
       "output_type": "stream",
       "stream": "stdout",
       "text": [
        "\n",
        "CD001143 v. 9.0 Antibiotics for syphilis diagnosed during pregnancy.rm5"
       ]
      },
      {
       "output_type": "stream",
       "stream": "stdout",
       "text": [
        "\n",
        "CD001145 v. 9.0 Late ( 7 days) systemic postnatal corticosteroids for prevention of bronchopulmonary dysplasia in p.rm5"
       ]
      },
      {
       "output_type": "stream",
       "stream": "stdout",
       "text": [
        "\n",
        "CD001146 v. 10.7 Early ( 8 days) systemic postnatal corticosteroids for prevention of bronchopulmonary dysplasia in .rm5"
       ]
      },
      {
       "output_type": "stream",
       "stream": "stdout",
       "text": [
        "\n",
        "CD001159 v. 12.0 Peripheral nerve blocks for hip fractures.rm5"
       ]
      },
      {
       "output_type": "stream",
       "stream": "stdout",
       "text": [
        "\n",
        "CD001167 v. 5.2 Antimicrobials for treating symptomatic non-typhoidal Salmonella infection.rm5"
       ]
      },
      {
       "output_type": "stream",
       "stream": "stdout",
       "text": [
        "\n",
        "CD001168 v. 6.0 Interventions for treating oral lichen planus.rm5"
       ]
      },
      {
       "output_type": "stream",
       "stream": "stdout",
       "text": [
        "\n",
        "CD001175 v. 7.0 Computer-generated reminders delivered on paper to healthcare professionals effects on professional.rm5"
       ]
      },
      {
       "output_type": "stream",
       "stream": "stdout",
       "text": [
        "\n",
        "CD001176 v. 6.0 Treatment and prevention of pouchitis after ileal pouch-anal anastomosis for chronic ulcerative coli.rm5"
       ]
      },
      {
       "output_type": "stream",
       "stream": "stdout",
       "text": [
        "\n",
        "CD001177 v. 10.0 Topical agents or dressings for pain in venous leg ulcers.rm5"
       ]
      },
      {
       "output_type": "stream",
       "stream": "stdout",
       "text": [
        "\n",
        "CD001180 v. 10.0 Therapeutic ultrasound for venous leg ulcers.rm5"
       ]
      },
      {
       "output_type": "stream",
       "stream": "stdout",
       "text": [
        "\n",
        "CD001186 v. 6.0 Injection allergen immunotherapy for asthma.rm5"
       ]
      },
      {
       "output_type": "stream",
       "stream": "stdout",
       "text": [
        "\n",
        "CD001187 v. 9.0 House dust mite control measures for asthma.rm5"
       ]
      },
      {
       "output_type": "stream",
       "stream": "stdout",
       "text": [
        "\n",
        "CD001188 v. 11.0 Nursing interventions for smoking cessation.rm5"
       ]
      },
      {
       "output_type": "stream",
       "stream": "stdout",
       "text": [
        "\n",
        "CD001199 v. 7.26 Neoadjuvant and adjuvant therapy for surgical resection of hepatocellular carcinoma.rm5"
       ]
      },
      {
       "output_type": "stream",
       "stream": "stdout",
       "text": [
        "\n",
        "CD001208 v. 12.2 Human albumin solution for resuscitation and volume expansion in critically ill patients.rm5"
       ]
      },
      {
       "output_type": "stream",
       "stream": "stdout",
       "text": [
        "\n",
        "CD001211 v. 13.2 Antibiotics versus placebo for acute bacterial conjunctivitis.rm5"
       ]
      },
      {
       "output_type": "stream",
       "stream": "stdout",
       "text": [
        "\n",
        "CD001216 v. 8.0 Screening for colorectal cancer using the faecal occult blood test Hemoccult.rm5"
       ]
      },
      {
       "output_type": "stream",
       "stream": "stdout",
       "text": [
        "\n",
        "CD001220 v. 8.2 Population-based biomedical sexually transmitted infection control interventions for reducing HIV in.rm5"
       ]
      },
      {
       "output_type": "stream",
       "stream": "stdout",
       "text": [
        "\n",
        "CD001233 v. 8.0 Mechanical methods for induction of labour.rm5"
       ]
      },
      {
       "output_type": "stream",
       "stream": "stdout",
       "text": [
        "\n",
        "CD001236 v. 9.0 Routine perineal shaving on admission in labour.rm5"
       ]
      },
      {
       "output_type": "stream",
       "stream": "stdout",
       "text": [
        "\n",
        "CD001239 v. 9.0 Intravenous immunoglobulin for suspected or proven infection in neonates.rm5\n",
        "CD001240 v. 7.0 Prophylactic barbiturate use for the prevention of morbidity and mortality following perinatal asphy.rm5"
       ]
      },
      {
       "output_type": "stream",
       "stream": "stdout",
       "text": [
        "\n",
        "CD001241 v. 9.0 Slow advancement of enteral feed volumes to prevent necrotising enterocolitis in very low birth weig.rm5"
       ]
      },
      {
       "output_type": "stream",
       "stream": "stdout",
       "text": [
        "\n",
        "CD001243 v. 8.2 Prophylactic nasal continuous positive airway pressure for preventing morbidity and mortality in ver.rm5"
       ]
      },
      {
       "output_type": "stream",
       "stream": "stdout",
       "text": [
        "\n",
        "CD001246 v. 7.0 Thienopyridine derivatives versus aspirin for preventing stroke and other serious vascular events in.rm5"
       ]
      },
      {
       "output_type": "stream",
       "stream": "stdout",
       "text": [
        "\n",
        "CD001247 v. 7.3 Cooling therapy for acute stroke.rm5"
       ]
      },
      {
       "output_type": "stream",
       "stream": "stdout",
       "text": [
        "\n",
        "CD001250 v. 8.0 Therapeutic ultrasound for acute ankle sprains.rm5"
       ]
      },
      {
       "output_type": "stream",
       "stream": "stdout",
       "text": [
        "\n",
        "CD001255 v. 15.2 Hip protectors for preventing hip fractures in older people.rm5\n",
        "CD001258 v. 10.0 Carbamazepine for schizophrenia.rm5"
       ]
      },
      {
       "output_type": "stream",
       "stream": "stdout",
       "text": [
        "\n",
        "CD001261 v. 6.3 Vaccines for preventing typhoid fever.rm5"
       ]
      },
      {
       "output_type": "stream",
       "stream": "stdout",
       "text": [
        "\n",
        "CD001270 v. 6.0 Teaching critical appraisal skills in healthcare settings.rm5"
       ]
      },
      {
       "output_type": "stream",
       "stream": "stdout",
       "text": [
        "\n",
        "CD001277 v. 11.0 Breathing exercises for adults with asthma.rm5"
       ]
      },
      {
       "output_type": "stream",
       "stream": "stdout",
       "text": [
        "\n",
        "CD001279 v. 9.0 Anticholinergic drugs for wheeze in children under the age of two years.rm5"
       ]
      },
      {
       "output_type": "stream",
       "stream": "stdout",
       "text": [
        "\n",
        "CD001283 v. 11.1 Dietary marine fatty acids (fish oil) for asthma in adults and children.rm5\n",
        "CD001287 v. 11.2 Mucolytic agents versus placebo for chronic bronchitis or chronic obstructive pulmonary disease.rm5"
       ]
      },
      {
       "output_type": "stream",
       "stream": "stdout",
       "text": [
        "\n",
        "CD001288 v. 7.0 Systemic corticosteroids for acute exacerbations of chronic obstructive pulmonary disease.rm5"
       ]
      },
      {
       "output_type": "stream",
       "stream": "stdout",
       "text": [
        "\n",
        "CD001292 v. 8.0 Individual behavioural counselling for smoking cessation.rm5"
       ]
      },
      {
       "output_type": "stream",
       "stream": "stdout",
       "text": [
        "\n",
        "CD001296 v. 14.0 Aspirin for vascular dementia.rm5"
       ]
      },
      {
       "output_type": "stream",
       "stream": "stdout",
       "text": [
        "\n",
        "CD001298 v. 10.4 Fluid and pharmacological agents for adhesion prevention after gynaecological surgery.rm5\n",
        "CD001304 v. 9.0 Dietary interventions for phenylketonuria.rm5"
       ]
      },
      {
       "output_type": "stream",
       "stream": "stdout",
       "text": [
        "\n",
        "CD001324 v. 12.0 Interventions for emergency contraception.rm5\n",
        "CD001327 v. 13.0 Antibiotic prophylaxis for intrauterine contraceptive device insertion.rm5"
       ]
      },
      {
       "output_type": "stream",
       "stream": "stdout",
       "text": [
        "\n",
        "CD001328 v. 9.0 Minilaparotomy and endoscopic techniques for tubal sterilisation.rm5\n",
        "CD001329 v. 8.0 Lactational amenorrhoea method for family planning.rm5"
       ]
      },
      {
       "output_type": "stream",
       "stream": "stdout",
       "text": [
        "\n",
        "CD001333 v. 16.0 Oral naltrexone maintenance treatment for opioid dependence.rm5\n",
        "CD001340 v. 5.0 Extracorporeal membrane oxygenation for severe respiratory failure in newborn infants.rm5"
       ]
      },
      {
       "output_type": "stream",
       "stream": "stdout",
       "text": [
        "\n",
        "CD001367 v. 10.0  Duration of treatment with vitamin K antagonists in symptomatic venous thromboembolism.rm5"
       ]
      },
      {
       "output_type": "stream",
       "stream": "stdout",
       "text": [
        "\n",
        "CD001368 v. 10.0 Naftidrofuryl for intermittent claudication.rm5"
       ]
      },
      {
       "output_type": "stream",
       "stream": "stdout",
       "text": [
        "\n",
        "CD001384 v. 10.2 Ketotifen alone or as additional medication for long-term control of asthma and wheeze in children.rm5"
       ]
      },
      {
       "output_type": "stream",
       "stream": "stdout",
       "text": [
        "\n",
        "CD001390 v. 9.0 Pneumococcal vaccines for preventing pneumonia in chronic obstructive pulmonary disease.rm5"
       ]
      },
      {
       "output_type": "stream",
       "stream": "stdout",
       "text": [
        "\n",
        "CD001395 v. 7.0 Phytoestrogens for menopausal vasomotor symptoms.rm5"
       ]
      },
      {
       "output_type": "stream",
       "stream": "stdout",
       "text": [
        "\n",
        "CD001396 v. 7.3 Selective serotonin reuptake inhibitors for premenstrual syndrome.rm5"
       ]
      },
      {
       "output_type": "stream",
       "stream": "stdout",
       "text": [
        "\n",
        "CD001399 v. 16.0 Vaccines for preventing infection with Pseudomonas aeruginosa in cystic fibrosis.rm5"
       ]
      },
      {
       "output_type": "stream",
       "stream": "stdout",
       "text": [
        "\n",
        "CD001401 v. 12.0 Chest physiotherapy compared to no chest physiotherapy for cystic fibrosis.rm5\n",
        "CD001405 v. 7.0 Oestrogen therapy for urinary incontinence in post-menopausal women.rm5"
       ]
      },
      {
       "output_type": "stream",
       "stream": "stdout",
       "text": [
        "\n",
        "CD001406 v. 11.0 Absorbent products for light urinary incontinence in women.rm5"
       ]
      },
      {
       "output_type": "stream",
       "stream": "stdout",
       "text": [
        "\n",
        "CD001415 v. 11.0 Gabapentin add-on for drug-resistant partial epilepsy.rm5"
       ]
      },
      {
       "output_type": "stream",
       "stream": "stdout",
       "text": [
        "\n",
        "CD001416 v. 8.2 Zonisamide add-on for drug-resistant partial epilepsy.rm5"
       ]
      },
      {
       "output_type": "stream",
       "stream": "stdout",
       "text": [
        "\n",
        "CD001417 v. 15.0 Topiramate add-on for drug-resistant partial epilepsy.rm5"
       ]
      },
      {
       "output_type": "stream",
       "stream": "stdout",
       "text": [
        "\n",
        "CD001423 v. 12.0 Serenoa repens for benign prostatic hyperplasia.rm5"
       ]
      },
      {
       "output_type": "stream",
       "stream": "stdout",
       "text": [
        "\n",
        "CD001430 v. 11.0 Corticosteroids for treating optic neuritis.rm5"
       ]
      },
      {
       "output_type": "stream",
       "stream": "stdout",
       "text": [
        "\n",
        "CD001431 v. 12.0 Decision aids for people facing health treatment or screening decisions.rm5"
       ]
      },
      {
       "output_type": "stream",
       "stream": "stdout",
       "text": [
        "\n",
        "CD001444 v. 6.4 Iron therapy for improving psychomotor development and cognitive function in children under the age .rm5"
       ]
      },
      {
       "output_type": "stream",
       "stream": "stdout",
       "text": [
        "\n",
        "CD001446 v. 15.0 Corticosteroids for Guillain-Barr syndrome.rm5"
       ]
      },
      {
       "output_type": "stream",
       "stream": "stdout",
       "text": [
        "\n",
        "CD001447 v. 11.4 Riluzole for amyotrophic lateral sclerosis (ALS)motor neuron disease (MND).rm5"
       ]
      },
      {
       "output_type": "stream",
       "stream": "stdout",
       "text": [
        "\n",
        "CD001449 v. 10.0 Drugs for treatment of very high blood pressure during pregnancy.rm5"
       ]
      },
      {
       "output_type": "stream",
       "stream": "stdout",
       "text": [
        "\n",
        "CD001451 v. 9.0 Routine ultrasound in late pregnancy (after 24 weeks' gestation).rm5"
       ]
      },
      {
       "output_type": "stream",
       "stream": "stdout",
       "text": [
        "\n",
        "CD001453 v. 11.0 Intravenous or enteral loop diuretics for preterm infants with (or developing) chronic lung disease.rm5"
       ]
      },
      {
       "output_type": "stream",
       "stream": "stdout",
       "text": [
        "\n",
        "CD001454 v. 10.0 Diuretics for respiratory distress syndrome in preterm infants.rm5"
       ]
      },
      {
       "output_type": "stream",
       "stream": "stdout",
       "text": [
        "\n",
        "CD001456 v. 6.0 Early versus delayed selective surfactant treatment for neonatal respiratory distress syndrome.rm5"
       ]
      },
      {
       "output_type": "stream",
       "stream": "stdout",
       "text": [
        "\n",
        "CD001457 v. 9.0 Glutamine supplementation to prevent morbidity and mortality in preterm infants.rm5"
       ]
      },
      {
       "output_type": "stream",
       "stream": "stdout",
       "text": [
        "\n",
        "CD001466 v. 8.4 Surgery for cervical radiculopathy or myelopathy.rm5"
       ]
      },
      {
       "output_type": "stream",
       "stream": "stdout",
       "text": [
        "\n",
        "CD001467 v. 6.0 Internal fixation implants for intracapsular hip fractures in adults.rm5"
       ]
      },
      {
       "output_type": "stream",
       "stream": "stdout",
       "text": [
        "\n",
        "CD001470 v. 4.0 Flupenthixol decanoate (depot) for schizophrenia or other similar psychotic disorders.rm5"
       ]
      },
      {
       "output_type": "stream",
       "stream": "stdout",
       "text": [
        "\n",
        "CD001475 v. 10.2 Blood transfusion for treating malarial anaemia.rm5"
       ]
      },
      {
       "output_type": "stream",
       "stream": "stdout",
       "text": [
        "\n",
        "CD001477 v. 12.0 Antibiotics for preventing complications in children with measles.rm5\n",
        "CD001479 v. 12.0 Vitamin A for treating measles in children.rm5"
       ]
      },
      {
       "output_type": "stream",
       "stream": "stdout",
       "text": [
        "\n",
        "CD001480 v. 12.0 Pneumococcal conjugate vaccines for preventing otitis media.rm5"
       ]
      },
      {
       "output_type": "stream",
       "stream": "stdout",
       "text": [
        "\n",
        "CD001488 v. 9.0 Patient education for preventing diabetic foot ulceration.rm5"
       ]
      },
      {
       "output_type": "stream",
       "stream": "stdout",
       "text": [
        "\n",
        "CD001493 v. 10.0 Inhaled beta2-agonists for asthma in mechanically ventilated patients.rm5"
       ]
      },
      {
       "output_type": "stream",
       "stream": "stdout",
       "text": [
        "\n",
        "CD001497 v. 6.0 Interventions for preventing tobacco sales to minors.rm5"
       ]
      },
      {
       "output_type": "stream",
       "stream": "stdout",
       "text": [
        "\n",
        "CD001499 v. 9.0 Physostigmine for dementia due to Alzheimer's disease.rm5"
       ]
      },
      {
       "output_type": "stream",
       "stream": "stdout",
       "text": [
        "\n",
        "CD001501 v. 8.0 Endometrial resection and ablation techniques for heavy menstrual bleeding.rm5"
       ]
      },
      {
       "output_type": "stream",
       "stream": "stdout",
       "text": [
        "\n",
        "CD001502 v. 7.0 Intrauterine insemination versus fallopian tube sperm perfusion for non-tubal infertility.rm5"
       ]
      },
      {
       "output_type": "stream",
       "stream": "stdout",
       "text": [
        "\n",
        "CD001505 v. 12.0 Oral non-steroidal anti-inflammatory drug therapy for lung disease in cystic fibrosis.rm5"
       ]
      },
      {
       "output_type": "stream",
       "stream": "stdout",
       "text": [
        "\n",
        "CD001507 v. 12.0 Tyrosine supplementation for phenylketonuria.rm5"
       ]
      },
      {
       "output_type": "stream",
       "stream": "stdout",
       "text": [
        "\n",
        "CD001524 v. 15.0 Yoga for epilepsy.rm5"
       ]
      },
      {
       "output_type": "stream",
       "stream": "stdout",
       "text": [
        "\n",
        "CD001538 v. 11.0 Surgery for nonarteritic anterior ischemic optic neuropathy.rm5"
       ]
      },
      {
       "output_type": "stream",
       "stream": "stdout",
       "text": [
        "\n",
        "CD001539 v. 6.0 Recordings or summaries of consultations for people with cancer.rm5"
       ]
      },
      {
       "output_type": "stream",
       "stream": "stdout",
       "text": [
        "\n",
        "CD001541 v. 9.0 Interventions for ingrowing toenails.rm5"
       ]
      },
      {
       "output_type": "stream",
       "stream": "stdout",
       "text": [
        "\n",
        "CD001544 v. 8.0 Mechanical bowel preparation for elective colorectal surgery.rm5"
       ]
      },
      {
       "output_type": "stream",
       "stream": "stdout",
       "text": [
        "\n",
        "CD001546 v. 7.0 Laparoscopic versus open surgery for suspected appendicitis.rm5"
       ]
      },
      {
       "output_type": "stream",
       "stream": "stdout",
       "text": [
        "\n",
        "CD001556 v. 10.0 Preoperative chemotherapy for resectable thoracic esophageal cancer.rm5"
       ]
      },
      {
       "output_type": "stream",
       "stream": "stdout",
       "text": [
        "\n",
        "CD001563 v. 6.2 House dust mite avoidance measures for perennial allergic rhinitis.rm5"
       ]
      },
      {
       "output_type": "stream",
       "stream": "stdout",
       "text": [
        "\n",
        "CD001689 v. 10.0 Prophylaxis for venous thromboembolic disease in pregnancy and the early postnatal period.rm5\n",
        "CD001690 v. 10.0 Oestrogens and progestins for preventing and treating postpartum depression.rm5"
       ]
      },
      {
       "output_type": "stream",
       "stream": "stdout",
       "text": [
        "\n",
        "CD001691 v. 6.0 Postnatal phenobarbital for the prevention of intraventricular haemorrhage in preterm infants.rm5"
       ]
      },
      {
       "output_type": "stream",
       "stream": "stdout",
       "text": [
        "\n",
        "CD001694 v. 8.0 Aerosolized diuretics for preterm infants with (or developing) chronic lung disease.rm5"
       ]
      },
      {
       "output_type": "stream",
       "stream": "stdout",
       "text": [
        "\n",
        "CD001695 v. 10.2 Late versus early surgical correction for congenital diaphragmatic hernia in newborn infants.rm5"
       ]
      },
      {
       "output_type": "stream",
       "stream": "stdout",
       "text": [
        "\n",
        "CD001704 v. 9.0 Interventions for improving mobility after hip fracture surgery in adults.rm5\n",
        "CD001708 v. 10.0 Internal fixation versus arthroplasty for intracapsular proximal femoral fractures in adults.rm5"
       ]
      },
      {
       "output_type": "stream",
       "stream": "stdout",
       "text": [
        "\n",
        "CD001711 v. 7.3 User-held personalised information for routine care of people with severe mental illness.rm5"
       ]
      },
      {
       "output_type": "stream",
       "stream": "stdout",
       "text": [
        "\n",
        "CD001719 v. 9.0 Bromperidol decanoate (depot) for schizophrenia.rm5"
       ]
      },
      {
       "output_type": "stream",
       "stream": "stdout",
       "text": [
        "\n",
        "CD001726 v. 11.0 Beta2-agonists for acute cough or a clinical diagnosis of acute bronchitis.rm5"
       ]
      },
      {
       "output_type": "stream",
       "stream": "stdout",
       "text": [
        "\n",
        "CD001728 v. 14.0 Heated humidified air for the common cold.rm5"
       ]
      },
      {
       "output_type": "stream",
       "stream": "stdout",
       "text": [
        "\n",
        "CD001730 v. 6.0 Medical day hospital care for older people versus alternative forms of care.rm5"
       ]
      },
      {
       "output_type": "stream",
       "stream": "stdout",
       "text": [
        "\n",
        "CD001733 v. 13.0 Pentoxifylline for treating venous leg ulcers.rm5"
       ]
      },
      {
       "output_type": "stream",
       "stream": "stdout",
       "text": [
        "\n",
        "CD001735 v. 18.0 Support surfaces for pressure ulcer prevention.rm5"
       ]
      },
      {
       "output_type": "stream",
       "stream": "stdout",
       "text": [
        "\n",
        "CD001737 v. 9.2 Skin grafting for venous leg ulcers.rm5"
       ]
      },
      {
       "output_type": "stream",
       "stream": "stdout",
       "text": [
        "\n",
        "CD001749 v. 6.0 Nicotine for Alzheimer's disease.rm5"
       ]
      },
      {
       "output_type": "stream",
       "stream": "stdout",
       "text": [
        "\n",
        "CD001751 v. 7.0 Nonsteroidal anti-inflammatory drugs for dysmenorrhoea.rm5"
       ]
      },
      {
       "output_type": "stream",
       "stream": "stdout",
       "text": [
        "\n",
        "CD001753 v. 12.0 Vaccines for preventing influenza in people with cystic fibrosis.rm5"
       ]
      },
      {
       "output_type": "stream",
       "stream": "stdout",
       "text": [
        "\n",
        "CD001756 v. 11.0 Mechanical devices for urinary incontinence in women.rm5"
       ]
      },
      {
       "output_type": "stream",
       "stream": "stdout",
       "text": [
        "\n",
        "CD001757 v. 7.0 Surgery for faecal incontinence in adults.rm5"
       ]
      },
      {
       "output_type": "stream",
       "stream": "stdout",
       "text": [
        "\n",
        "CD001758 v. 6.0 Surgery for complete (full-thickness) rectal prolapse in adults.rm5"
       ]
      },
      {
       "output_type": "stream",
       "stream": "stdout",
       "text": [
        "\n",
        "CD001760 v. 10.0 Interventions for vaginismus.rm5"
       ]
      },
      {
       "output_type": "stream",
       "stream": "stdout",
       "text": [
        "\n",
        "CD001775 v. 11.2 Ginkgo biloba extract for age-related macular degeneration.rm5"
       ]
      },
      {
       "output_type": "stream",
       "stream": "stdout",
       "text": [
        "\n",
        "CD001776 v. 7.0 Progestogen-releasing intrauterine systems versus other forms of reversible contraceptives for contr.rm5"
       ]
      },
      {
       "output_type": "stream",
       "stream": "stdout",
       "text": [
        "\n",
        "CD001777 v. 13.0 Immediate postabortal insertion of intrauterine devices.rm5"
       ]
      },
      {
       "output_type": "stream",
       "stream": "stdout",
       "text": [
        "\n",
        "CD001796 v. 8.0 Aerobic exercise interventions for adults living with HIVAIDS.rm5"
       ]
      },
      {
       "output_type": "stream",
       "stream": "stdout",
       "text": [
        "\n",
        "CD001797 v. 8.0 Intravenous immunoglobulin for chronic inflammatory demyelinating polyradiculoneuropathy.rm5"
       ]
      },
      {
       "output_type": "stream",
       "stream": "stdout",
       "text": [
        "\n",
        "CD001800 v. 14.0 Exercise-based cardiac rehabilitation for coronary heart disease.rm5"
       ]
      },
      {
       "output_type": "stream",
       "stream": "stdout",
       "text": [
        "\n",
        "CD001802 v. 7.0 Tonsillectomy or adenotonsillectomy versus non-surgical treatment for chronicrecurrent acute tonsil.rm5"
       ]
      },
      {
       "output_type": "stream",
       "stream": "stdout",
       "text": [
        "\n",
        "CD001803 v. 5.0 Antenatal day care units versus hospital admission for women with complicated pregnancy.rm5"
       ]
      },
      {
       "output_type": "stream",
       "stream": "stdout",
       "text": [
        "\n",
        "CD001806 v. 5.0 Preconception and antenatal screening for the fragile site on the X-chromosome.rm5"
       ]
      },
      {
       "output_type": "stream",
       "stream": "stdout",
       "text": [
        "\n",
        "CD001807 v. 10.0 Antibiotics for prelabour rupture of membranes at or near term.rm5"
       ]
      },
      {
       "output_type": "stream",
       "stream": "stdout",
       "text": [
        "\n",
        "CD001808 v. 10.0 Prophylactic oxytocin for the third stage of labour to prevent postpartum haemorrhage.rm5"
       ]
      },
      {
       "output_type": "stream",
       "stream": "stdout",
       "text": [
        "\n",
        "CD001815 v. 6.6 Erythromycin for the prevention and treatment of feeding intolerance in preterm infants.rm5"
       ]
      },
      {
       "output_type": "stream",
       "stream": "stdout",
       "text": [
        "\n",
        "CD001817 v. 11.0 Diuretics acting on the distal renal tubule for preterm infants with (or developing) chronic lung di.rm5"
       ]
      },
      {
       "output_type": "stream",
       "stream": "stdout",
       "text": [
        "\n",
        "CD001819 v. 6.0 Continuous nasogastric milk feeding versus intermittent bolus milk feeding for premature infants les.rm5"
       ]
      },
      {
       "output_type": "stream",
       "stream": "stdout",
       "text": [
        "\n",
        "CD001822 v. 12.1 Physical conditioning as part of a return to work strategy to reduce sickness absence for workers wi.rm5"
       ]
      },
      {
       "output_type": "stream",
       "stream": "stdout",
       "text": [
        "\n",
        "CD001829 v. 8.2 Interventions for treating oral leukoplakia to prevent oral cancer.rm5"
       ]
      },
      {
       "output_type": "stream",
       "stream": "stdout",
       "text": [
        "\n",
        "CD001830 v. 7.2 Pit and fissure sealants for preventing dental decay in permanent teeth.rm5"
       ]
      },
      {
       "output_type": "stream",
       "stream": "stdout",
       "text": [
        "\n",
        "CD001831 v. 17.0 Over-the-counter (OTC) medications for acute cough in children and adults in community settings.rm5"
       ]
      },
      {
       "output_type": "stream",
       "stream": "stdout",
       "text": [
        "\n",
        "CD001835 v. 8.0 Surgery for small asymptomatic abdominal aortic aneurysms.rm5"
       ]
      },
      {
       "output_type": "stream",
       "stream": "stdout",
       "text": [
        "\n",
        "CD001836 v. 9.0 Dressings and topical agents for arterial leg ulcers.rm5"
       ]
      },
      {
       "output_type": "stream",
       "stream": "stdout",
       "text": [
        "\n",
        "CD001837 v. 12.4 Interventions for smoking cessation in hospitalised patients.rm5"
       ]
      },
      {
       "output_type": "stream",
       "stream": "stdout",
       "text": [
        "\n",
        "CD001838 v. 10.0 Intra-uterine insemination for unexplained subfertility.rm5"
       ]
      },
      {
       "output_type": "stream",
       "stream": "stdout",
       "text": [
        "\n",
        "CD001860 v. 9.6 Antibiotics for trachoma.rm5"
       ]
      },
      {
       "output_type": "stream",
       "stream": "stdout",
       "text": [
        "\n",
        "CD001863 v. 9.0 Education for contraceptive use by women after childbirth.rm5"
       ]
      },
      {
       "output_type": "stream",
       "stream": "stdout",
       "text": [
        "\n",
        "CD001865 v. 8.4 Personalised risk communication for informed decision making about taking screening tests.rm5"
       ]
      },
      {
       "output_type": "stream",
       "stream": "stdout",
       "text": [
        "\n",
        "CD001867 v. 11.0 Opioid antagonists for alcohol dependence.rm5"
       ]
      },
      {
       "output_type": "stream",
       "stream": "stdout",
       "text": [
        "\n",
        "CD001873 v. 8.2 Betahistine for Mnire's disease or syndrome.rm5"
       ]
      },
      {
       "output_type": "stream",
       "stream": "stdout",
       "text": [
        "\n",
        "CD001876 v. 9.0 Corticosteroids for tuberculous pleurisy.rm5"
       ]
      },
      {
       "output_type": "stream",
       "stream": "stdout",
       "text": [
        "\n",
        "CD001880 v. 11.0 Nutritional supplementation for hip fracture aftercare in older people.rm5"
       ]
      },
      {
       "output_type": "stream",
       "stream": "stdout",
       "text": [
        "\n",
        "CD001884 v. 6.0 Desmopressin use for minimising perioperative blood transfusion.rm5"
       ]
      },
      {
       "output_type": "stream",
       "stream": "stdout",
       "text": [
        "\n",
        "CD001903 v. 14.0 Ketogenic diet and other dietary treatments for epilepsy.rm5"
       ]
      },
      {
       "output_type": "stream",
       "stream": "stdout",
       "text": [
        "\n",
        "CD001908 v. 10.0 Tiagabine add-on for drug-resistant partial epilepsy.rm5"
       ]
      },
      {
       "output_type": "stream",
       "stream": "stdout",
       "text": [
        "\n",
        "CD001911 v. 12.0 Carbamazepine versus phenytoin monotherapy for epilepsy an individual participant data review.rm5"
       ]
      },
      {
       "output_type": "stream",
       "stream": "stdout",
       "text": [
        "\n",
        "CD001912 v. 14.0 Prophylactic anti-staphylococcal antibiotics for cystic fibrosis.rm5"
       ]
      },
      {
       "output_type": "stream",
       "stream": "stdout",
       "text": [
        "\n",
        "CD001915 v. 13.0 Inhaled corticosteroids for cystic fibrosis.rm5"
       ]
      },
      {
       "output_type": "stream",
       "stream": "stdout",
       "text": [
        "\n",
        "CD001916 v. 14.0 Psychological therapies for sickle cell disease and pain.rm5"
       ]
      },
      {
       "output_type": "stream",
       "stream": "stdout",
       "text": [
        "\n",
        "CD001918 v. 11.0 Dietary interventions (plant sterols stanols omega-3 fatty acids soy protein and dietary fibers) .rm5"
       ]
      },
      {
       "output_type": "stream",
       "stream": "stdout",
       "text": [
        "\n",
        "CD001919 v. 7.0 Information provision for stroke patients and their caregivers.rm5"
       ]
      },
      {
       "output_type": "stream",
       "stream": "stdout",
       "text": [
        "\n",
        "CD001920 v. 6.0 Physical rehabilitation approaches for the recovery of function and mobility following stroke.rm5"
       ]
      },
      {
       "output_type": "stream",
       "stream": "stdout",
       "text": [
        "\n",
        "CD001922 v. 6.0 Physical methods for preventing deep vein thrombosis in stroke.rm5"
       ]
      },
      {
       "output_type": "stream",
       "stream": "stdout",
       "text": [
        "\n",
        "CD001928 v. 6.0 Calcium antagonists for acute ischemic stroke.rm5\n",
        "CD001929 v. 12.12 Massage for low-back pain.rm5"
       ]
      },
      {
       "output_type": "stream",
       "stream": "stdout",
       "text": [
        "\n",
        "CD001930 v. 8.4 Cognitive-behavioural interventions for children who have been sexually abused.rm5"
       ]
      },
      {
       "output_type": "stream",
       "stream": "stdout",
       "text": [
        "\n",
        "CD001932 v. 12.2 Subjective barriers to prevent wandering of cognitively impaired people.rm5"
       ]
      },
      {
       "output_type": "stream",
       "stream": "stdout",
       "text": [
        "\n",
        "CD001934 v. 8.0 Surgical versus non-surgical interventions for vocal cord nodules.rm5\n",
        "CD001935 v. 9.2 Oral or topical nasal steroids for hearing loss associated with otitis media with effusion in childr.rm5\n",
        "CD001939 v. 11.2 Branched-chain amino acids for people with hepatic encephalopathy.rm5"
       ]
      },
      {
       "output_type": "stream",
       "stream": "stdout",
       "text": [
        "\n",
        "CD001941 v. 6.0 Nocturnal mechanical ventilation for chronic hypoventilation in patients with neuromuscular and ches.rm5"
       ]
      },
      {
       "output_type": "stream",
       "stream": "stdout",
       "text": [
        "\n",
        "CD001942 v. 11.0 Corticosteroids for Bell's palsy (idiopathic facial paralysis).rm5"
       ]
      },
      {
       "output_type": "stream",
       "stream": "stdout",
       "text": [
        "\n",
        "CD001949 v. 10.0 Pimozide for schizophrenia or related psychoses.rm5"
       ]
      },
      {
       "output_type": "stream",
       "stream": "stdout",
       "text": [
        "\n",
        "CD001951 v. 7.0 Haloperidol dose for the acute phase of schizophrenia.rm5"
       ]
      },
      {
       "output_type": "stream",
       "stream": "stdout",
       "text": [
        "\n",
        "CD001954 v. 13.0 Azithromycin for acute lower respiratory tract infections.rm5"
       ]
      },
      {
       "output_type": "stream",
       "stream": "stdout",
       "text": [
        "\n",
        "CD001957 v. 17.2 Homeopathic Oscillococcinum for preventing and treating influenza and influenza-like illness.rm5"
       ]
      },
      {
       "output_type": "stream",
       "stream": "stdout",
       "text": [
        "\n",
        "CD001964 v. 8.0 Extent of lymph node dissection for adenocarcinoma of the stomach.rm5"
       ]
      },
      {
       "output_type": "stream",
       "stream": "stdout",
       "text": [
        "\n",
        "CD001969 v. 7.0 Early administration of inhaled corticosteroids for preventing chronic lung disease in very low birt.rm5"
       ]
      },
      {
       "output_type": "stream",
       "stream": "stdout",
       "text": [
        "\n",
        "CD001970 v. 8.0 Delayed introduction of progressive enteral feeds to prevent necrotising enterocolitis in very low b.rm5"
       ]
      },
      {
       "output_type": "stream",
       "stream": "stdout",
       "text": [
        "\n",
        "CD001972 v. 6.0 Interventions for treating oral candidiasis for patients with cancer receiving treatment.rm5"
       ]
      },
      {
       "output_type": "stream",
       "stream": "stdout",
       "text": [
        "\n",
        "CD001989 v. 8.4 Interventions for acute non-arteritic central retinal artery occlusion.rm5"
       ]
      },
      {
       "output_type": "stream",
       "stream": "stdout",
       "text": [
        "\n",
        "CD001990 v. 13.0 Chemotherapy versus best supportive care for extensive small cell lung cancer.rm5\n",
        "CD001991 v. 10.0 Screening for lung cancer.rm5"
       ]
      },
      {
       "output_type": "stream",
       "stream": "stdout",
       "text": [
        "\n",
        "CD001992 v. 7.0 Cyclo-oxygenase (COX) inhibitors for treating preterm labour.rm5"
       ]
      },
      {
       "output_type": "stream",
       "stream": "stdout",
       "text": [
        "\n",
        "CD001993 v. 7.0 Surgical procedures for evacuating incomplete miscarriage.rm5"
       ]
      },
      {
       "output_type": "stream",
       "stream": "stdout",
       "text": [
        "\n",
        "CD001999 v. 8.0 Anticoagulants (heparin low molecular weight heparin and oral anticoagulants) for intermittent clau.rm5"
       ]
      },
      {
       "output_type": "stream",
       "stream": "stdout",
       "text": [
        "\n",
        "CD002000 v. 8.0 Bypass surgery for chronic lower limb ischaemia.rm5"
       ]
      },
      {
       "output_type": "stream",
       "stream": "stdout",
       "text": [
        "\n",
        "CD002001 v. 9.0 Vitamin K antagonists versus low-molecular-weight heparin for the long term treatment of symptomatic.rm5"
       ]
      },
      {
       "output_type": "stream",
       "stream": "stdout",
       "text": [
        "\n",
        "CD002003 v. 13.3 Beta-blockers for hypertension.rm5"
       ]
      },
      {
       "output_type": "stream",
       "stream": "stdout",
       "text": [
        "\n",
        "CD002005 v. 7.0 Anticoagulation for cerebral venous sinus thrombosis.rm5"
       ]
      },
      {
       "output_type": "stream",
       "stream": "stdout",
       "text": [
        "\n",
        "CD002006 v. 11.0 Position in the second stage of labour for women without epidural anaesthesia.rm5\n",
        "CD002007 v. 15.0 Single versus combination intravenous anti-pseudomonal antibiotic therapy for people with cystic fib.rm5"
       ]
      },
      {
       "output_type": "stream",
       "stream": "stdout",
       "text": [
        "\n",
        "CD002009 v. 15.0 Once-daily versus multiple-daily dosing with intravenous aminoglycosides for cystic fibrosis.rm5"
       ]
      },
      {
       "output_type": "stream",
       "stream": "stdout",
       "text": [
        "\n",
        "CD002013 v. 14.0 Pulse oximetry for perioperative monitoring.rm5"
       ]
      },
      {
       "output_type": "stream",
       "stream": "stdout",
       "text": [
        "\n",
        "CD002018 v. 7.3 Antidepressant treatment for postnatal depression.rm5\n",
        "CD002020 v. 12.0 Group-based parent training programmes for improving parental psychosocial health.rm5"
       ]
      },
      {
       "output_type": "stream",
       "stream": "stdout",
       "text": [
        "\n",
        "CD002021 v. 12.0 Opioid antagonists with minimal sedation for opioid withdrawal.rm5"
       ]
      },
      {
       "output_type": "stream",
       "stream": "stdout",
       "text": [
        "\n",
        "CD002022 v. 11.0 Opioid antagonists under heavy sedation or anaesthesia for opioid withdrawal.rm5"
       ]
      },
      {
       "output_type": "stream",
       "stream": "stdout",
       "text": [
        "\n",
        "CD002024 v. 17.0 Alpha2-adrenergic agonists for the management of opioid withdrawal.rm5"
       ]
      },
      {
       "output_type": "stream",
       "stream": "stdout",
       "text": [
        "\n",
        "CD002025 v. 14.0 Buprenorphine for managing opioid withdrawal.rm5"
       ]
      },
      {
       "output_type": "stream",
       "stream": "stdout",
       "text": [
        "\n",
        "CD002027 v. 10.2 Radiotherapy versus open surgery versus endolaryngeal surgery (with or without laser) for early lary.rm5"
       ]
      },
      {
       "output_type": "stream",
       "stream": "stdout",
       "text": [
        "\n",
        "CD002030 v. 10.4 Photodynamic therapy for neovascular age-related macular degeneration.rm5\n",
        "CD002031 v. 12.0 Diaphragm versus diaphragm with spermicides for contraception.rm5"
       ]
      },
      {
       "output_type": "stream",
       "stream": "stdout",
       "text": [
        "\n",
        "CD002032 v. 11.0 Biphasic versus monophasic oral contraceptives for contraception.rm5\n",
        "CD002042 v. 9.0 Transfusion thresholds and other strategies for guiding allogeneic red blood cell transfusion.rm5\n",
        "CD002052 v. 10.0 Intravenous midazolam infusion for sedation of infants in the neonatal intensive care unit.rm5"
       ]
      },
      {
       "output_type": "stream",
       "stream": "stdout",
       "text": [
        "\n",
        "CD002053 v. 5.0 Sedatives for opiate withdrawal in newborn infants.rm5"
       ]
      },
      {
       "output_type": "stream",
       "stream": "stdout",
       "text": [
        "\n",
        "CD002054 v. 5.0 Surfactant for meconium aspiration syndrome in term and late preterm infants.rm5"
       ]
      },
      {
       "output_type": "stream",
       "stream": "stdout",
       "text": [
        "\n",
        "CD002056 v. 5.0 Early volume expansion versus inotrope for prevention of morbidity and mortality in very preterm inf.rm5"
       ]
      },
      {
       "output_type": "stream",
       "stream": "stdout",
       "text": [
        "\n",
        "CD002058 v. 7.0 Inhaled versus systemic corticosteroids for preventing bronchopulmonary dysplasia in ventilated very.rm5\n",
        "CD002059 v. 6.0 Opiate treatment for opiate withdrawal in newborn infants.rm5"
       ]
      },
      {
       "output_type": "stream",
       "stream": "stdout",
       "text": [
        "\n",
        "CD002062 v. 11.0 Corticosteroids for chronic inflammatory demyelinating polyradiculoneuropathy.rm5"
       ]
      },
      {
       "output_type": "stream",
       "stream": "stdout",
       "text": [
        "\n",
        "CD002064 v. 8.2 Recombinant human insulin-like growth factor I (rhIGF-I) for the treatment of amyotrophic lateral sc.rm5"
       ]
      },
      {
       "output_type": "stream",
       "stream": "stdout",
       "text": [
        "\n",
        "CD002071 v. 9.0 Antiplatelet and anticoagulant drugs for prevention of restenosisreocclusion following peripheral e.rm5"
       ]
      },
      {
       "output_type": "stream",
       "stream": "stdout",
       "text": [
        "\n",
        "CD002073 v. 9.0 Interventions for the treatment of twin-twin transfusion syndrome.rm5"
       ]
      },
      {
       "output_type": "stream",
       "stream": "stdout",
       "text": [
        "\n",
        "CD002088 v. 6.0 Interventions for dysarthria due to stroke and other adult-acquired non-progressive brain injury.rm5\n",
        "CD002091 v. 4.0 Interventions in the management of serum lipids for preventing stroke recurrence.rm5"
       ]
      },
      {
       "output_type": "stream",
       "stream": "stdout",
       "text": [
        "\n",
        "CD002095 v. 12.0 Short-term treatment with proton pump inhibitors H2-receptor antagonists and prokinetics for gastro.rm5\n",
        "CD002099 v. 4.0 Nursing record systems effects on nursing practice and healthcare outcomes.rm5"
       ]
      },
      {
       "output_type": "stream",
       "stream": "stdout",
       "text": [
        "\n",
        "CD002106 v. 8.0 Dressings for superficial and partial thickness burns.rm5"
       ]
      },
      {
       "output_type": "stream",
       "stream": "stdout",
       "text": [
        "\n",
        "CD002109 v. 8.0 Antibiotics for community-acquired pneumonia in adult outpatients.rm5"
       ]
      },
      {
       "output_type": "stream",
       "stream": "stdout",
       "text": [
        "\n",
        "CD002111 v. 8.0 Biofeedback andor sphincter exercises for the treatment of faecal incontinence in adults.rm5"
       ]
      },
      {
       "output_type": "stream",
       "stream": "stdout",
       "text": [
        "\n",
        "CD002114 v. 11.0 Weighted vaginal cones for urinary incontinence.rm5"
       ]
      },
      {
       "output_type": "stream",
       "stream": "stdout",
       "text": [
        "\n",
        "CD002115 v. 10.4 Management of faecal incontinence and constipation in adults with central neurological diseases.rm5"
       ]
      },
      {
       "output_type": "stream",
       "stream": "stdout",
       "text": [
        "\n",
        "CD002116 v. 6.0 Drug treatment for faecal incontinence in adults.rm5"
       ]
      },
      {
       "output_type": "stream",
       "stream": "stdout",
       "text": [
        "\n",
        "CD002117 v. 8.0 Tricyclic and related drugs for nocturnal enuresis in children.rm5"
       ]
      },
      {
       "output_type": "stream",
       "stream": "stdout",
       "text": [
        "\n",
        "CD002118 v. 12.0 Cleavage stage versus blastocyst stage embryo transfer in assisted reproductive technology.rm5"
       ]
      },
      {
       "output_type": "stream",
       "stream": "stdout",
       "text": [
        "\n",
        "CD002122 v. 5.0 Progestagens and anti-progestagens for pain associated with endometriosis.rm5"
       ]
      },
      {
       "output_type": "stream",
       "stream": "stdout",
       "text": [
        "\n",
        "CD002124 v. 6.0 Dietary supplements for dysmenorrhoea.rm5"
       ]
      },
      {
       "output_type": "stream",
       "stream": "stdout",
       "text": [
        "\n",
        "CD002126 v. 6.0 Progesterone or progestogen-releasing intrauterine systems for heavy menstrual bleeding.rm5"
       ]
      },
      {
       "output_type": "stream",
       "stream": "stdout",
       "text": [
        "\n",
        "CD002141 v. 10.0 Drugs for preventing lung cancer in healthy people.rm5"
       ]
      },
      {
       "output_type": "stream",
       "stream": "stdout",
       "text": [
        "\n",
        "CD002142 v. 15.0 Postoperative radiotherapy for non-small cell lung cancer.rm5"
       ]
      },
      {
       "output_type": "stream",
       "stream": "stdout",
       "text": [
        "\n",
        "CD002150 v. 6.0 Antibiotics for treating scrub typhus.rm5"
       ]
      },
      {
       "output_type": "stream",
       "stream": "stdout",
       "text": [
        "\n",
        "CD002151 v. 7.0 Antipyretic measures for treating fever in malaria.rm5\n",
        "CD002154 v. 10.0 Feather versus non-feather bedding for asthma.rm5"
       ]
      },
      {
       "output_type": "stream",
       "stream": "stdout",
       "text": [
        "\n",
        "CD002155 v. 9.0 Long-acting beta2-agonists for bronchiectasis.rm5\n",
        "CD002160 v. 11.0 Inhaled versus oral steroids for adults with chronic asthma.rm5\n",
        "CD002162 v. 11.0 Oral corticosteroids for bronchiectasis (stable and acute exacerbations).rm5"
       ]
      },
      {
       "output_type": "stream",
       "stream": "stdout",
       "text": [
        "\n",
        "CD002163 v. 11.0 Anticholinergic therapy for bronchiectasis.rm5\n",
        "CD002174 v. 11.0 Leukotriene receptor antagonists for non-cystic fibrosis bronchiectasis.rm5\n",
        "CD002180 v. 10.0 Surgery versus non-surgical treatment for bronchiectasis.rm5\n",
        "CD002190 v. 10.0 Vaccines for the common cold.rm5\n",
        "CD002193 v. 8.150 Multidisciplinary biopsychosocial rehabilitation for subacute low back pain.rm5"
       ]
      },
      {
       "output_type": "stream",
       "stream": "stdout",
       "text": [
        "\n",
        "CD002195 v. 10.0 Systemic therapy for treating locoregional recurrence in women with breast cancer.rm5"
       ]
      },
      {
       "output_type": "stream",
       "stream": "stdout",
       "text": [
        "\n",
        "CD002199 v. 13.0 Operative procedures for fissure in ano.rm5\n",
        "CD002201 v. 13.0 Omega-3 fatty acids for cystic fibrosis.rm5"
       ]
      },
      {
       "output_type": "stream",
       "stream": "stdout",
       "text": [
        "\n",
        "CD002202 v. 13.0 Hydroxyurea (hydroxycarbamide) for sickle cell disease.rm5\n",
        "CD002203 v. 10.0 Macrolide antibiotics for cystic fibrosis.rm5"
       ]
      },
      {
       "output_type": "stream",
       "stream": "stdout",
       "text": [
        "\n",
        "CD002204 v. 15.0 Antifungal therapies for allergic bronchopulmonary aspergillosis in people with cystic fibrosis.rm5"
       ]
      },
      {
       "output_type": "stream",
       "stream": "stdout",
       "text": [
        "\n",
        "CD002207 v. 13.4 Buprenorphine maintenance versus placebo or methadone maintenance for opioid dependence.rm5\n",
        "CD002209 v. 11.0 Methadone maintenance therapy versus no opioid replacement therapy for opioid dependence.rm5"
       ]
      },
      {
       "output_type": "stream",
       "stream": "stdout",
       "text": [
        "\n",
        "CD002211 v. 5.0 Dissection versus diathermy for tonsillectomy.rm5\n",
        "CD002212 v. 5.2 Effectiveness of organisational infrastructures to promote evidence-based nursing practice.rm5"
       ]
      },
      {
       "output_type": "stream",
       "stream": "stdout",
       "text": [
        "\n",
        "CD002213 v. 7.5 Interprofessional education effects on professional practice and healthcare outcomes (update).rm5"
       ]
      },
      {
       "output_type": "stream",
       "stream": "stdout",
       "text": [
        "\n",
        "CD002216 v. 6.2 Therapeutic monitoring of antiepileptic drugs for epilepsy.rm5"
       ]
      },
      {
       "output_type": "stream",
       "stream": "stdout",
       "text": [
        "\n",
        "CD002217 v. 10.0 Phenobarbitone versus phenytoin monotherapy for partial onset seizures and generalised onset tonic-c.rm5\n",
        "CD002218 v. 9.0 Antibiotics versus no treatment for toxoplasma retinochoroiditis.rm5"
       ]
      },
      {
       "output_type": "stream",
       "stream": "stdout",
       "text": [
        "\n",
        "CD002221 v. 9.2 Interventions for involutional lower lid entropion.rm5\n",
        "CD002232 v. 8.9 Antibiotics for spontaneous bacterial peritonitis in cirrhotic patients.rm5"
       ]
      },
      {
       "output_type": "stream",
       "stream": "stdout",
       "text": [
        "\n",
        "CD002233 v. 5.2 Emergency sclerotherapy versus vasoactive drugs for bleeding oesophageal varices in cirrhotic patien.rm5"
       ]
      },
      {
       "output_type": "stream",
       "stream": "stdout",
       "text": [
        "\n",
        "CD002238 v. 8.0 Drugs for nocturnal enuresis in children (other than desmopressin and tricyclics).rm5"
       ]
      },
      {
       "output_type": "stream",
       "stream": "stdout",
       "text": [
        "\n",
        "CD002240 v. 6.0 Behavioural and cognitive interventions with or without other treatments for the management of faeca.rm5"
       ]
      },
      {
       "output_type": "stream",
       "stream": "stdout",
       "text": [
        "\n",
        "CD002244 v. 8.1 Corticosteroids for managing tuberculous meningitis.rm5"
       ]
      },
      {
       "output_type": "stream",
       "stream": "stdout",
       "text": [
        "\n",
        "CD002245 v. 6.0 Timing and volume of fluid administration for patients with bleeding.rm5"
       ]
      },
      {
       "output_type": "stream",
       "stream": "stdout",
       "text": [
        "\n",
        "CD002250 v. 8.0 Antibiotic prophylaxis during the second and third trimester to reduce adverse pregnancy outcomes an.rm5"
       ]
      },
      {
       "output_type": "stream",
       "stream": "stdout",
       "text": [
        "\n",
        "CD002251 v. 10.0 Techniques for preventing hypotension during spinal anaesthesia for caesarean section.rm5"
       ]
      },
      {
       "output_type": "stream",
       "stream": "stdout",
       "text": [
        "\n",
        "CD002252 v. 9.4 Antihypertensive drug therapy for mild to moderate hypertension during pregnancy.rm5"
       ]
      },
      {
       "output_type": "stream",
       "stream": "stdout",
       "text": [
        "\n",
        "CD002256 v. 9.0 Treatments for symptomatic urinary tract infections during pregnancy.rm5"
       ]
      },
      {
       "output_type": "stream",
       "stream": "stdout",
       "text": [
        "\n",
        "CD002265 v. 9.0 Cyclophosphamide versus methylprednisolone for treating neuropsychiatric involvement in systemic lup.rm5"
       ]
      },
      {
       "output_type": "stream",
       "stream": "stdout",
       "text": [
        "\n",
        "CD002271 v. 6.0 Continuous distending pressure for respiratory distress in preterm infants.rm5"
       ]
      },
      {
       "output_type": "stream",
       "stream": "stdout",
       "text": [
        "\n",
        "CD002275 v. 7.0 Plasma exchange for generalised myasthenia gravis.rm5"
       ]
      },
      {
       "output_type": "stream",
       "stream": "stdout",
       "text": [
        "\n",
        "CD002277 v. 10.0 Intravenous immunoglobulin for myasthenia gravis.rm5\n",
        "CD002280 v. 6.0 Fluoride gels for preventing dental caries in children and adolescents.rm5"
       ]
      },
      {
       "output_type": "stream",
       "stream": "stdout",
       "text": [
        "\n",
        "CD002281 v. 6.4 Powered versus manual toothbrushing for oral health.rm5"
       ]
      },
      {
       "output_type": "stream",
       "stream": "stdout",
       "text": [
        "\n",
        "CD002283 v. 6.2 Retention procedures for stabilising tooth position after treatment with orthodontic braces.rm5"
       ]
      },
      {
       "output_type": "stream",
       "stream": "stdout",
       "text": [
        "\n",
        "CD002290 v. 12.0 Non-corticosteroid immunosuppressive medications for steroid-sensitive nephrotic syndrome in childre.rm5"
       ]
      },
      {
       "output_type": "stream",
       "stream": "stdout",
       "text": [
        "\n",
        "CD002293 v. 6.0 Cognitive rehabilitation for memory deficits after stroke.rm5"
       ]
      },
      {
       "output_type": "stream",
       "stream": "stdout",
       "text": [
        "\n",
        "CD002294 v. 10.0 Interventions for preoperative smoking cessation.rm5"
       ]
      },
      {
       "output_type": "stream",
       "stream": "stdout",
       "text": [
        "\n",
        "CD002295 v. 10.0 Exercise interventions for smoking cessation.rm5"
       ]
      },
      {
       "output_type": "stream",
       "stream": "stdout",
       "text": [
        "\n",
        "CD002302 v. 5.0 Pressure-relieving interventions for treating diabetic foot ulcers.rm5"
       ]
      },
      {
       "output_type": "stream",
       "stream": "stdout",
       "text": [
        "\n",
        "CD002303 v. 8.0 Compression for preventing recurrence of venous ulcers.rm5"
       ]
      },
      {
       "output_type": "stream",
       "stream": "stdout",
       "text": [
        "\n",
        "CD002308 v. 8.18 Early use of inhaled corticosteroids in the emergency department treatment of acute asthma.rm5\n",
        "CD002309 v. 9.0 Phosphodiesterase 4 inhibitors for chronic obstructive pulmonary disease.rm5"
       ]
      },
      {
       "output_type": "stream",
       "stream": "stdout",
       "text": [
        "\n",
        "CD002311 v. 7.0 Late ( 7 days) inhalation corticosteroids to reduce bronchopulmonary dysplasia in preterm infants.rm5"
       ]
      },
      {
       "output_type": "stream",
       "stream": "stdout",
       "text": [
        "\n",
        "CD002316 v. 9.14 Inhaled steroids for acute asthma following emergency department discharge.rm5"
       ]
      },
      {
       "output_type": "stream",
       "stream": "stdout",
       "text": [
        "\n",
        "CD002317 v. 10.0 Tricyclic drugs for depression in children and adolescents.rm5"
       ]
      },
      {
       "output_type": "stream",
       "stream": "stdout",
       "text": [
        "\n",
        "CD002733 v. 10.0 Influenza vaccine for patients with chronic obstructive pulmonary disease.rm5"
       ]
      },
      {
       "output_type": "stream",
       "stream": "stdout",
       "text": [
        "\n",
        "CD002734 v. 11.0 Oral methylxanthines for bronchiectasis.rm5"
       ]
      },
      {
       "output_type": "stream",
       "stream": "stdout",
       "text": [
        "\n",
        "CD002739 v. 6.0 Inhaled corticosteroids compared to placebo for prevention of exercise induced bronchoconstriction.rm5\n",
        "CD002742 v. 7.4 Addition of intravenous aminophylline to inhaled beta2-agonists in adults with acute asthma.rm5\n",
        "CD002745 v. 8.0 Amantadine and rimantadine for influenza A in children and the elderly.rm5"
       ]
      },
      {
       "output_type": "stream",
       "stream": "stdout",
       "text": [
        "\n",
        "CD002748 v. 9.2 Prophylactic mastectomy for the prevention of breast cancer.rm5"
       ]
      },
      {
       "output_type": "stream",
       "stream": "stdout",
       "text": [
        "\n",
        "CD002750 v. 11.0 Calcium antagonists as an add-on therapy for drug-resistant epilepsy.rm5"
       ]
      },
      {
       "output_type": "stream",
       "stream": "stdout",
       "text": [
        "\n",
        "CD002759 v. 7.0 Progressive resistance strength training for improving physical function in older adults.rm5"
       ]
      },
      {
       "output_type": "stream",
       "stream": "stdout",
       "text": [
        "\n",
        "CD002769 v. 13.0 Non-invasive ventilation for cystic fibrosis.rm5"
       ]
      },
      {
       "output_type": "stream",
       "stream": "stdout",
       "text": [
        "\n",
        "CD002773 v. 4.0 Neuromuscular paralysis for newborn infants receiving mechanical ventilation.rm5"
       ]
      },
      {
       "output_type": "stream",
       "stream": "stdout",
       "text": [
        "\n",
        "CD002775 v. 8.0 Alpha-1 proteinase inhibitor (a1PI) for preventing chronic lung disease in preterm infants.rm5\n",
        "CD002779 v. 7.0 Interventions for treating burning mouth syndrome.rm5"
       ]
      },
      {
       "output_type": "stream",
       "stream": "stdout",
       "text": [
        "\n",
        "CD002783 v. 9.0 Thrombolysis for acute deep vein thrombosis.rm5"
       ]
      },
      {
       "output_type": "stream",
       "stream": "stdout",
       "text": [
        "\n",
        "CD002784 v. 10.0 Surgery versus thrombolysis for initial management of acute limb ischaemia.rm5"
       ]
      },
      {
       "output_type": "stream",
       "stream": "stdout",
       "text": [
        "\n",
        "CD002786 v. 5.0 Medical adjuvant treatment to increase patency of arteriovenous fistulae and grafts.rm5\n",
        "CD002788 v. 9.0 Rocuronium versus succinylcholine for rapid sequence induction intubation.rm5"
       ]
      },
      {
       "output_type": "stream",
       "stream": "stdout",
       "text": [
        "\n",
        "CD002796 v. 9.5 'Scared Straight' and other juvenile awareness programs for preventing juvenile delinquency.rm5"
       ]
      },
      {
       "output_type": "stream",
       "stream": "stdout",
       "text": [
        "\n",
        "CD002798 v. 13.0 Flumazenil versus placebo or no intervention for people with cirrhosis and hepatic encephalopathy.rm5"
       ]
      },
      {
       "output_type": "stream",
       "stream": "stdout",
       "text": [
        "\n",
        "CD002799 v. 7.0 Alpha-foetoprotein andor liver ultrasonography for screening of hepatocellular carcinoma in patient.rm5"
       ]
      },
      {
       "output_type": "stream",
       "stream": "stdout",
       "text": [
        "\n",
        "CD002800 v. 7.0 Propylthiouracil for alcoholic liver disease.rm5"
       ]
      },
      {
       "output_type": "stream",
       "stream": "stdout",
       "text": [
        "\n",
        "CD002801 v. 7.0 Habit retraining for the management of urinary incontinence in adults.rm5"
       ]
      },
      {
       "output_type": "stream",
       "stream": "stdout",
       "text": [
        "\n",
        "CD002808 v. 6.0 Depot versus daily administration of gonadotrophin-releasing hormone agonist protocols for pituitary.rm5"
       ]
      },
      {
       "output_type": "stream",
       "stream": "stdout",
       "text": [
        "\n",
        "CD002812 v. 9.5 Speech and language therapy versus placebo or no intervention for speech problems in Parkinson's dis.rm5"
       ]
      },
      {
       "output_type": "stream",
       "stream": "stdout",
       "text": [
        "\n",
        "CD002814 v. 9.26 Comparison of speech and language therapy techniques for speech problems in Parkinson's disease.rm5"
       ]
      },
      {
       "output_type": "stream",
       "stream": "stdout",
       "text": [
        "\n",
        "CD002815 v. 7.0 Physiotherapy for Parkinson's disease a comparison of techniques.rm5"
       ]
      },
      {
       "output_type": "stream",
       "stream": "stdout",
       "text": [
        "\n",
        "CD002817 v. 11.0 Physiotherapy versus placebo or no intervention in Parkinson's disease.rm5"
       ]
      },
      {
       "output_type": "stream",
       "stream": "stdout",
       "text": [
        "\n",
        "CD002827 v. 11.0 Immunotherapy for IgM anti-myelin-associated glycoprotein paraprotein-associated peripheral neuropat.rm5"
       ]
      },
      {
       "output_type": "stream",
       "stream": "stdout",
       "text": [
        "\n",
        "CD002828 v. 9.0 Corticosteroids for myasthenia gravis.rm5"
       ]
      },
      {
       "output_type": "stream",
       "stream": "stdout",
       "text": [
        "\n",
        "CD002829 v. 8.0 Antioxidant treatment for amyotrophic lateral sclerosis or motor neuron disease.rm5\n",
        "CD002830 v. 10.0 Droperidol for psychosis-induced aggression or agitation.rm5"
       ]
      },
      {
       "output_type": "stream",
       "stream": "stdout",
       "text": [
        "\n",
        "CD002832 v. 9.0 Perazine for schizophrenia.rm5"
       ]
      },
      {
       "output_type": "stream",
       "stream": "stdout",
       "text": [
        "\n",
        "CD002839 v. 6.0 Vasoactive drugs for acute stroke.rm5"
       ]
      },
      {
       "output_type": "stream",
       "stream": "stdout",
       "text": [
        "\n",
        "CD002840 v. 7.0 Treadmill training and body weight support for walking after stroke.rm5"
       ]
      },
      {
       "output_type": "stream",
       "stream": "stdout",
       "text": [
        "\n",
        "CD002842 v. 5.0 Cognitive rehabilitation for attention deficits following stroke.rm5"
       ]
      },
      {
       "output_type": "stream",
       "stream": "stdout",
       "text": [
        "\n",
        "CD002843 v. 6.0 Strategies for partner notification for sexually transmitted infections including HIV.rm5"
       ]
      },
      {
       "output_type": "stream",
       "stream": "stdout",
       "text": [
        "\n",
        "CD002851 v. 9.0 Scopolamine (hyoscine) for preventing and treating motion sickness.rm5"
       ]
      },
      {
       "output_type": "stream",
       "stream": "stdout",
       "text": [
        "\n",
        "CD002853 v. 6.0 Propentofylline for dementia.rm5\n",
        "CD002854 v. 10.1 Vitamin E for Alzheimer's dementia and mild cognitive impairment.rm5"
       ]
      },
      {
       "output_type": "stream",
       "stream": "stdout",
       "text": [
        "\n",
        "CD002856 v. 7.0 Giving women their own case notes to carry during pregnancy.rm5"
       ]
      },
      {
       "output_type": "stream",
       "stream": "stdout",
       "text": [
        "\n",
        "CD002857 v. 4.0 Uterine muscle relaxant drugs for threatened miscarriage.rm5"
       ]
      },
      {
       "output_type": "stream",
       "stream": "stdout",
       "text": [
        "\n",
        "CD002860 v. 7.0 Nitric oxide donors for treating preterm labour.rm5\n",
        "CD002865 v. 5.0 Mifepristone for induction of labour.rm5"
       ]
      },
      {
       "output_type": "stream",
       "stream": "stdout",
       "text": [
        "\n",
        "CD002867 v. 5.0 Treatments for secondary postpartum haemorrhage.rm5"
       ]
      },
      {
       "output_type": "stream",
       "stream": "stdout",
       "text": [
        "\n",
        "CD002872 v. 11.0 Nebulised morphine for severe interstitial lung disease.rm5\n",
        "CD002875 v. 10.0 Lifestyle modification for obstructive sleep apnoea.rm5\n",
        "CD002883 v. 10.0 Domiciliary oxygen for interstitial lung disease.rm5"
       ]
      },
      {
       "output_type": "stream",
       "stream": "stdout",
       "text": [
        "\n",
        "CD002885 v. 5.4 Oral xanthines as maintenance treatment for asthma in children.rm5\n",
        "CD002892 v. 10.0 Preventing occupational stress in healthcare workers.rm5"
       ]
      },
      {
       "output_type": "stream",
       "stream": "stdout",
       "text": [
        "\n",
        "CD002894 v. 7.0 Computerized advice on drug dosage to improve prescribing practice.rm5"
       ]
      },
      {
       "output_type": "stream",
       "stream": "stdout",
       "text": [
        "\n",
        "CD002896 v. 14.0 Vagus nerve stimulation for partial seizures.rm5"
       ]
      },
      {
       "output_type": "stream",
       "stream": "stdout",
       "text": [
        "\n",
        "CD002897 v. 7.0 Intraoperative Mitomycin C for glaucoma surgery.rm5"
       ]
      },
      {
       "output_type": "stream",
       "stream": "stdout",
       "text": [
        "\n",
        "CD002898 v. 11.0 Antiviral treatment and other therapeutic interventions for herpes simplex virus epithelial keratiti.rm5"
       ]
      },
      {
       "output_type": "stream",
       "stream": "stdout",
       "text": [
        "\n",
        "CD002900 v. 6.0 Surgical methods for first trimester termination of pregnancy.rm5"
       ]
      },
      {
       "output_type": "stream",
       "stream": "stdout",
       "text": [
        "\n",
        "CD002902 v. 10.0 Psychological interventions for coronary heart disease.rm5"
       ]
      },
      {
       "output_type": "stream",
       "stream": "stdout",
       "text": [
        "\n",
        "CD002907 v. 8.2 Antibiotic prophylaxis for cirrhotic patients with upper gastrointestinal bleeding.rm5"
       ]
      },
      {
       "output_type": "stream",
       "stream": "stdout",
       "text": [
        "\n",
        "CD002914 v. 8.13 Acupuncture for Bell's palsy.rm5"
       ]
      },
      {
       "output_type": "stream",
       "stream": "stdout",
       "text": [
        "\n",
        "CD002922 v. 9.2 Treatment for lupus nephritis.rm5"
       ]
      },
      {
       "output_type": "stream",
       "stream": "stdout",
       "text": [
        "\n",
        "CD002928 v. 7.0 Enhancing partner support to improve smoking cessation.rm5"
       ]
      },
      {
       "output_type": "stream",
       "stream": "stdout",
       "text": [
        "\n",
        "CD002929 v. 12.0 Disposable surgical face masks for preventing surgical wound infection in clean surgery.rm5"
       ]
      },
      {
       "output_type": "stream",
       "stream": "stdout",
       "text": [
        "\n",
        "CD002930 v. 9.0 Electromagnetic therapy for treating pressure ulcers.rm5\n",
        "CD002933 v. 9.0 Electromagnetic therapy for treating venous leg ulcers.rm5"
       ]
      },
      {
       "output_type": "stream",
       "stream": "stdout",
       "text": [
        "\n",
        "CD002936 v. 6.0 Intravenous immunoglobulins for multiple sclerosis.rm5\n",
        "CD002941 v. 8.0 Antibiotic therapy for prophylaxis against infection of pancreatic necrosis in acute pancreatitis.rm5"
       ]
      },
      {
       "output_type": "stream",
       "stream": "stdout",
       "text": [
        "\n",
        "CD002944 v. 8.0 Balloon angioplasty with and without stenting versus medical therapy for hypertensive patients wit.rm5"
       ]
      },
      {
       "output_type": "stream",
       "stream": "stdout",
       "text": [
        "\n",
        "CD002946 v. 8.0 Glucosamine therapy for treating osteoarthritis.rm5"
       ]
      },
      {
       "output_type": "stream",
       "stream": "stdout",
       "text": [
        "\n",
        "CD002948 v. 5.0 Herbal therapy for treating rheumatoid arthritis.rm5"
       ]
      },
      {
       "output_type": "stream",
       "stream": "stdout",
       "text": [
        "\n",
        "CD002950 v. 10.2 Antidepressants for cocaine dependence and problematic cocaine use.rm5"
       ]
      },
      {
       "output_type": "stream",
       "stream": "stdout",
       "text": [
        "\n",
        "CD002954 v. 6.0 Drugs for discoid lupus erythematosus.rm5"
       ]
      },
      {
       "output_type": "stream",
       "stream": "stdout",
       "text": [
        "\n",
        "CD002958 v. 6.0 Early postnatal discharge from hospital for healthy mothers and term infants.rm5"
       ]
      },
      {
       "output_type": "stream",
       "stream": "stdout",
       "text": [
        "\n",
        "CD002959 v. 10.0 Vaccines for women for preventing neonatal tetanus.rm5"
       ]
      },
      {
       "output_type": "stream",
       "stream": "stdout",
       "text": [
        "\n",
        "CD002961 v. 5.0 Critical incident audit and feedback to improve perinatal and maternal mortality and morbidity.rm5"
       ]
      },
      {
       "output_type": "stream",
       "stream": "stdout",
       "text": [
        "\n",
        "CD002962 v. 10.0 Acupuncture or acupressure for induction of labour.rm5\n",
        "CD002963 v. 6.0 Fetal vibroacoustic stimulation for facilitation of tests of fetal wellbeing.rm5"
       ]
      },
      {
       "output_type": "stream",
       "stream": "stdout",
       "text": [
        "\n",
        "CD002971 v. 7.0 Formula versus donor breast milk for feeding preterm or low birth weight infants.rm5"
       ]
      },
      {
       "output_type": "stream",
       "stream": "stdout",
       "text": [
        "\n",
        "CD002973 v. 5.2 Tracheal gas insufflation for the prevention of morbidity and mortality in mechanically ventilated n.rm5"
       ]
      },
      {
       "output_type": "stream",
       "stream": "stdout",
       "text": [
        "\n",
        "CD002975 v. 7.0 Early versus delayed initiation of continuous distending pressure for respiratory distress syndrome .rm5\n",
        "CD002985 v. 8.0 Gold as an oral corticosteroid sparing agent in stable asthma.rm5"
       ]
      },
      {
       "output_type": "stream",
       "stream": "stdout",
       "text": [
        "\n",
        "CD002987 v. 10.0 Troleandomycin as an oral corticosteroid sparing agent in stable asthma.rm5\n",
        "CD002989 v. 8.3 Pet allergen control measures for allergic asthma in children and adults.rm5\n",
        "CD002992 v. 11.0 Cardioselective beta-blockers for reversible airway disease.rm5"
       ]
      },
      {
       "output_type": "stream",
       "stream": "stdout",
       "text": [
        "\n",
        "CD002993 v. 9.0 Cyclosporin as an oral corticosteroid sparing agent in stable asthma.rm5"
       ]
      },
      {
       "output_type": "stream",
       "stream": "stdout",
       "text": [
        "\n",
        "CD002996 v. 8.0 Inhaled hyperosmolar agents for bronchiectasis.rm5\n",
        "CD003002 v. 9.4 Drug therapy for obstructive sleep apnoea in adults.rm5"
       ]
      },
      {
       "output_type": "stream",
       "stream": "stdout",
       "text": [
        "\n",
        "CD003004 v. 10.3 Perioperative fluid volume optimization following proximal femoral fracture.rm5"
       ]
      },
      {
       "output_type": "stream",
       "stream": "stdout",
       "text": [
        "\n",
        "CD003006 v. 8.0 Transient neurologic symptoms (TNS) following spinal anaesthesia with lidocaine versus other local a.rm5"
       ]
      },
      {
       "output_type": "stream",
       "stream": "stdout",
       "text": [
        "\n",
        "CD003007 v. 12.0 Rehabilitation after lumbar disc surgery.rm5"
       ]
      },
      {
       "output_type": "stream",
       "stream": "stdout",
       "text": [
        "\n",
        "CD003010 v. 9.0 Traction for low-back pain with or without sciatica.rm5"
       ]
      },
      {
       "output_type": "stream",
       "stream": "stdout",
       "text": [
        "\n",
        "CD003021 v. 10.2 Treatment for amphetamine withdrawal.rm5"
       ]
      },
      {
       "output_type": "stream",
       "stream": "stdout",
       "text": [
        "\n",
        "CD003026 v. 10.0 Treatment for amphetamine psychosis.rm5"
       ]
      },
      {
       "output_type": "stream",
       "stream": "stdout",
       "text": [
        "\n",
        "CD003031 v. 8.0 Prophylactic drug management for febrile seizures in children.rm5\n",
        "CD003032 v. 12.0 Ethosuximide sodium valproate or lamotrigine for absence seizures in children and adolescents.rm5"
       ]
      },
      {
       "output_type": "stream",
       "stream": "stdout",
       "text": [
        "\n",
        "CD003034 v. 10.0 Techniques for the interruption of tubal patency for female sterilisation.rm5"
       ]
      },
      {
       "output_type": "stream",
       "stream": "stdout",
       "text": [
        "\n",
        "CD003036 v. 11.0 Immediate postpartum insertion of intrauterine device for contraception.rm5"
       ]
      },
      {
       "output_type": "stream",
       "stream": "stdout",
       "text": [
        "\n",
        "CD003037 v. 8.0 Medical versus surgical methods for first trimester termination of pregnancy.rm5"
       ]
      },
      {
       "output_type": "stream",
       "stream": "stdout",
       "text": [
        "\n",
        "CD003042 v. 10.0 Mediastinal chest drain clearance for cardiac surgery.rm5"
       ]
      },
      {
       "output_type": "stream",
       "stream": "stdout",
       "text": [
        "\n",
        "CD003044 v. 9.0 Non-absorbable disaccharides versus placebono intervention and lactulose versus lactitol for the pr.rm5\n",
        "CD003046 v. 6.0 Radiofrequency (thermal) ablation versus no intervention or other interventions for hepatocellular c.rm5"
       ]
      },
      {
       "output_type": "stream",
       "stream": "stdout",
       "text": [
        "\n",
        "CD003047 v. 6.7 Dopamine agents for hepatic encephalopathy.rm5"
       ]
      },
      {
       "output_type": "stream",
       "stream": "stdout",
       "text": [
        "\n",
        "CD003049 v. 7.0 Community animal health services for improving household wealth and health status of low income farm.rm5"
       ]
      },
      {
       "output_type": "stream",
       "stream": "stdout",
       "text": [
        "\n",
        "CD003053 v. 11.4 Insulin-sensitising drugs (metformin rosiglitazone pioglitazone D-chiro-inositol) for women with .rm5\n",
        "CD003054 v. 6.2 Diet physical activity or both for prevention or delay of type 2 diabetes mellitus and its associat.rm5"
       ]
      },
      {
       "output_type": "stream",
       "stream": "stdout",
       "text": [
        "\n",
        "CD003059 v. 10.0 Cromolyn sodium for the prevention of chronic lung disease in preterm infants.rm5"
       ]
      },
      {
       "output_type": "stream",
       "stream": "stdout",
       "text": [
        "\n",
        "CD003062 v. 5.0 Cot-nursing versus incubator care for preterm infants.rm5"
       ]
      },
      {
       "output_type": "stream",
       "stream": "stdout",
       "text": [
        "\n",
        "CD003064 v. 7.0 Diuretics for transient tachypnoea of the newborn.rm5\n",
        "CD003067 v. 9.8 Pit and fissure sealants versus fluoride varnishes for preventing dental decay in the permanent teet.rm5"
       ]
      },
      {
       "output_type": "stream",
       "stream": "stdout",
       "text": [
        "\n",
        "CD003073 v. 7.0 Prevention of infection in arterial reconstruction.rm5"
       ]
      },
      {
       "output_type": "stream",
       "stream": "stdout",
       "text": [
        "\n",
        "CD003075 v. 6.0 Treatment of hypertension in peripheral arterial disease.rm5"
       ]
      },
      {
       "output_type": "stream",
       "stream": "stdout",
       "text": [
        "\n",
        "CD003079 v. 9.2 Benzodiazepines for psychosis-induced aggression or agitation.rm5"
       ]
      },
      {
       "output_type": "stream",
       "stream": "stdout",
       "text": [
        "\n",
        "CD003082 v. 13.0 Haloperidol versus placebo for schizophrenia.rm5"
       ]
      },
      {
       "output_type": "stream",
       "stream": "stdout",
       "text": [
        "\n",
        "CD003086 v. 10.2 Opioid antagonists for smoking cessation.rm5"
       ]
      },
      {
       "output_type": "stream",
       "stream": "stdout",
       "text": [
        "\n",
        "CD003087 v. 9.0 Double gloving to reduce surgical cross-infection.rm5"
       ]
      },
      {
       "output_type": "stream",
       "stream": "stdout",
       "text": [
        "\n",
        "CD003091 v. 9.2 Dressings for the prevention of surgical site infection.rm5"
       ]
      },
      {
       "output_type": "stream",
       "stream": "stdout",
       "text": [
        "\n",
        "CD003097 v. 4.0 Hyaluronidase for cervical ripening and induction of labour.rm5"
       ]
      },
      {
       "output_type": "stream",
       "stream": "stdout",
       "text": [
        "\n",
        "CD003099 v. 7.4 Castor oil bath andor enema for cervical priming and induction of labour.rm5\n",
        "CD003101 v. 7.0 Vaginal prostaglandin (PGE2 and PGF2a) for induction of labour at term.rm5"
       ]
      },
      {
       "output_type": "stream",
       "stream": "stdout",
       "text": [
        "\n",
        "CD003106 v. 7.0 Interventionist versus expectant care for severe pre-eclampsia between 24 and 34 weeks' gestation.rm5"
       ]
      },
      {
       "output_type": "stream",
       "stream": "stdout",
       "text": [
        "\n",
        "CD003109 v. 7.2 Advanced training in trauma life support for ambulance crews.rm5"
       ]
      },
      {
       "output_type": "stream",
       "stream": "stdout",
       "text": [
        "\n",
        "CD003110 v. 7.7 Area-wide traffic calming for preventing traffic related injuries.rm5\n",
        "CD003115 v. 7.2 Oral or transdermal opioids for osteoarthritis of the knee or hip.rm5"
       ]
      },
      {
       "output_type": "stream",
       "stream": "stdout",
       "text": [
        "\n",
        "CD003119 v. 10.0 Vinpocetine for cognitive impairment and dementia.rm5"
       ]
      },
      {
       "output_type": "stream",
       "stream": "stdout",
       "text": [
        "\n",
        "CD003123 v. 11.0 Epinephrine for bronchiolitis.rm5\n",
        "CD003124 v. 8.0 Acetylcysteine and carbocysteine for acute upper and lower respiratory tract infections in paediatri.rm5"
       ]
      },
      {
       "output_type": "stream",
       "stream": "stdout",
       "text": [
        "\n",
        "CD003130 v. 6.4 Mobile bearing vs fixed bearing prostheses for posterior cruciate retaining total knee arthroplasty .rm5"
       ]
      },
      {
       "output_type": "stream",
       "stream": "stdout",
       "text": [
        "\n",
        "CD003132 v. 6.0 Therapeutic ultrasound for osteoarthritis of the knee or hip.rm5"
       ]
      },
      {
       "output_type": "stream",
       "stream": "stdout",
       "text": [
        "\n",
        "CD003134 v. 5.0 Non-steroid agents for idiopathic pulmonary fibrosis.rm5"
       ]
      },
      {
       "output_type": "stream",
       "stream": "stdout",
       "text": [
        "\n",
        "CD003137 v. 11.0 Addition to inhaled corticosteroids of long-acting beta2-agonists versus anti-leukotrienes for chron.rm5"
       ]
      },
      {
       "output_type": "stream",
       "stream": "stdout",
       "text": [
        "\n",
        "CD003141 v. 9.7 Physical therapies for reducing and controlling lymphoedema of the limbs.rm5"
       ]
      },
      {
       "output_type": "stream",
       "stream": "stdout",
       "text": [
        "\n",
        "CD003142 v. 10.0 High dose chemotherapy and autologous bone marrow or stem cell transplantation versus conventional c.rm5"
       ]
      },
      {
       "output_type": "stream",
       "stream": "stdout",
       "text": [
        "\n",
        "CD003144 v. 5.0 Stapled versus handsewn methods for colorectal anastomosis surgery.rm5"
       ]
      },
      {
       "output_type": "stream",
       "stream": "stdout",
       "text": [
        "\n",
        "CD003147 v. 7.0 Positive expiratory pressure physiotherapy for airway clearance in people with cystic fibrosis.rm5"
       ]
      },
      {
       "output_type": "stream",
       "stream": "stdout",
       "text": [
        "\n",
        "CD003148 v. 7.0 Psychological interventions for individuals with cystic fibrosis and their families.rm5"
       ]
      },
      {
       "output_type": "stream",
       "stream": "stdout",
       "text": [
        "\n",
        "CD003149 v. 12.0 Preoperative blood transfusions for sickle cell disease.rm5"
       ]
      },
      {
       "output_type": "stream",
       "stream": "stdout",
       "text": [
        "\n",
        "CD003150 v. 8.0 Aromatherapy for dementia.rm5"
       ]
      },
      {
       "output_type": "stream",
       "stream": "stdout",
       "text": [
        "\n",
        "CD003152 v. 9.0 Snoezelen for dementia.rm5"
       ]
      },
      {
       "output_type": "stream",
       "stream": "stdout",
       "text": [
        "\n",
        "CD003157 v. 5.0 Shunting for normal pressure hydrocephalus (NPH).rm5"
       ]
      },
      {
       "output_type": "stream",
       "stream": "stdout",
       "text": [
        "\n",
        "CD003160 v. 9.0 Statins for the prevention of dementia.rm5\n",
        "CD003162 v. 9.0 The Epley (canalith repositioning) manoeuvre for benign paroxysmal positional vertigo.rm5"
       ]
      },
      {
       "output_type": "stream",
       "stream": "stdout",
       "text": [
        "\n",
        "CD003169 v. 9.0 Multifocal versus monofocal intraocular lenses after cataract extraction.rm5"
       ]
      },
      {
       "output_type": "stream",
       "stream": "stdout",
       "text": [
        "\n",
        "CD003170 v. 9.0 Interventions for asymptomatic retinal breaks and lattice degeneration for preventing retinal detach.rm5"
       ]
      },
      {
       "output_type": "stream",
       "stream": "stdout",
       "text": [
        "\n",
        "CD003172 v. 10.0 Sponge versus diaphragm for contraception.rm5\n",
        "CD003186 v. 7.0 Antiplatelet agents and anticoagulants for hypertension.rm5\n",
        "CD003188 v. 16.0 Bisphosphonates in multiple myeloma an updated network meta-analysis.rm5"
       ]
      },
      {
       "output_type": "stream",
       "stream": "stdout",
       "text": [
        "\n",
        "CD003189 v. 13.2 Granulopoiesis-stimulating factors to prevent adverse effects in the treatment of malignant lymphoma.rm5"
       ]
      },
      {
       "output_type": "stream",
       "stream": "stdout",
       "text": [
        "\n",
        "CD003195 v. 7.0 Urodynamic studies for management of urinary incontinence in children and adults.rm5"
       ]
      },
      {
       "output_type": "stream",
       "stream": "stdout",
       "text": [
        "\n",
        "CD003196 v. 14.2 Valproic acid valproate and divalproex in the maintenance treatment of bipolar disorder.rm5"
       ]
      },
      {
       "output_type": "stream",
       "stream": "stdout",
       "text": [
        "\n",
        "CD003211 v. 5.0 Feed thickener for infants up to six months of age with gastro-oesophageal reflux.rm5"
       ]
      },
      {
       "output_type": "stream",
       "stream": "stdout",
       "text": [
        "\n",
        "CD003212 v. 7.0 Nasal intermittent positive pressure ventilation (NIPPV) versus nasal continuous positive airway pre.rm5"
       ]
      },
      {
       "output_type": "stream",
       "stream": "stdout",
       "text": [
        "\n",
        "CD003213 v. 6.0 Dopamine versus no treatment to prevent renal dysfunction in indomethacin-treated preterm newborn in.rm5"
       ]
      },
      {
       "output_type": "stream",
       "stream": "stdout",
       "text": [
        "\n",
        "CD003214 v. 8.0 Bronchodilators for the prevention and treatment of chronic lung disease in preterm infants.rm5\n",
        "CD003215 v. 5.0 Base administration or fluid bolus for preventing morbidity and mortality in preterm infants with me.rm5"
       ]
      },
      {
       "output_type": "stream",
       "stream": "stdout",
       "text": [
        "\n",
        "CD003216 v. 9.0 Nutritional interventions for preventing and treating pressure ulcers.rm5\n",
        "CD003217 v. 7.0 Immunosuppressant and immunomodulatory treatments for multifocal motor neuropathy.rm5"
       ]
      },
      {
       "output_type": "stream",
       "stream": "stdout",
       "text": [
        "\n",
        "CD003218 v. 9.0 Psychostimulants for hypersomnia (excessive daytime sleepiness) in myotonic dystrophy.rm5"
       ]
      },
      {
       "output_type": "stream",
       "stream": "stdout",
       "text": [
        "\n",
        "CD003220 v. 6.0 Pulp treatment for extensive decay in primary teeth.rm5\n",
        "CD003228 v. 7.0 Endovascular stents for intermittent claudication.rm5"
       ]
      },
      {
       "output_type": "stream",
       "stream": "stdout",
       "text": [
        "\n",
        "CD003229 v. 6.0 Phlebotonics for venous insufficiency.rm5"
       ]
      },
      {
       "output_type": "stream",
       "stream": "stdout",
       "text": [
        "\n",
        "CD003232 v. 9.0 Interventions for renal vasculitis in adults.rm5"
       ]
      },
      {
       "output_type": "stream",
       "stream": "stdout",
       "text": [
        "\n",
        "CD003243 v. 7.0 Laparoscopic fundoplication surgery versus medical management for gastro-oesophageal reflux disease .rm5"
       ]
      },
      {
       "output_type": "stream",
       "stream": "stdout",
       "text": [
        "\n",
        "CD003246 v. 6.0 Intravenous oxytocin alone for cervical ripening and induction of labour.rm5"
       ]
      },
      {
       "output_type": "stream",
       "stream": "stdout",
       "text": [
        "\n",
        "CD003247 v. 6.0 Interventions for treating placental abruption.rm5"
       ]
      },
      {
       "output_type": "stream",
       "stream": "stdout",
       "text": [
        "\n",
        "CD003248 v. 8.7 Effect of timing of umbilical cord clamping and other strategies to influence placental transfusion .rm5\n",
        "CD003252 v. 8.0 Amniocentesis and chorionic villus sampling for prenatal diagnosis.rm5"
       ]
      },
      {
       "output_type": "stream",
       "stream": "stdout",
       "text": [
        "\n",
        "CD003257 v. 10.1 Symptomatic treatment of the cough in whooping cough.rm5"
       ]
      },
      {
       "output_type": "stream",
       "stream": "stdout",
       "text": [
        "\n",
        "CD003260 v. 8.0 Cognitive training and cognitive rehabilitation for mild to moderate Alzheimer's disease and vascula.rm5"
       ]
      },
      {
       "output_type": "stream",
       "stream": "stdout",
       "text": [
        "\n",
        "CD003268 v. 11.0 Dapsone as an oral corticosteroid sparing agent for asthma.rm5"
       ]
      },
      {
       "output_type": "stream",
       "stream": "stdout",
       "text": [
        "\n",
        "CD003270 v. 9.2 Azathioprine as an oral corticosteroid sparing agent for asthma.rm5\n",
        "CD003273 v. 8.0 Colchicine as an oral corticosteroid sparing agent for asthma.rm5\n",
        "CD003275 v. 9.0 Chloroquine as a steroid sparing agent for asthma.rm5\n",
        "CD003277 v. 16.2 Treatment of Lennox-Gastaut syndrome.rm5"
       ]
      },
      {
       "output_type": "stream",
       "stream": "stdout",
       "text": [
        "\n",
        "CD003279 v. 8.0 Treatment for Lambert-Eaton myasthenic syndrome.rm5"
       ]
      },
      {
       "output_type": "stream",
       "stream": "stdout",
       "text": [
        "\n",
        "CD003280 v. 11.0 Immunomodulatory treatment other than corticosteroids immunoglobulin and plasma exchange for chroni.rm5"
       ]
      },
      {
       "output_type": "stream",
       "stream": "stdout",
       "text": [
        "\n",
        "CD003283 v. 8.0 Biphasic versus triphasic oral contraceptives for contraception.rm5"
       ]
      },
      {
       "output_type": "stream",
       "stream": "stdout",
       "text": [
        "\n",
        "CD003285 v. 6.0 Homocysteine lowering interventions for peripheral arterial disease and bypass grafts.rm5\n",
        "CD003289 v. 10.0 Tobacco cessation interventions for young people.rm5"
       ]
      },
      {
       "output_type": "stream",
       "stream": "stdout",
       "text": [
        "\n",
        "CD003298 v. 10.0 Nutritional support in children and young people with cancer undergoing chemotherapy.rm5"
       ]
      },
      {
       "output_type": "stream",
       "stream": "stdout",
       "text": [
        "\n",
        "CD003303 v. 8.0 Reading aids for adults with low vision.rm5"
       ]
      },
      {
       "output_type": "stream",
       "stream": "stdout",
       "text": [
        "\n",
        "CD003306 v. 10.2 Urinary diversion and bladder reconstructionreplacement using intestinal segments for intractable i.rm5"
       ]
      },
      {
       "output_type": "stream",
       "stream": "stdout",
       "text": [
        "\n",
        "CD003310 v. 7.0 Calcium and phosphorus supplementation of human milk for preterm infants.rm5"
       ]
      },
      {
       "output_type": "stream",
       "stream": "stdout",
       "text": [
        "\n",
        "CD003312 v. 4.0 Selenium supplementation to prevent short-term morbidity in preterm neonates.rm5\n",
        "CD003315 v. 5.2 Feeding interventions for growth and development in infants with cleft lip cleft palate or cleft li.rm5"
       ]
      },
      {
       "output_type": "stream",
       "stream": "stdout",
       "text": [
        "\n",
        "CD003316 v. 8.0 Physical fitness training for stroke patients.rm5"
       ]
      },
      {
       "output_type": "stream",
       "stream": "stdout",
       "text": [
        "\n",
        "CD003318 v. 6.0 Strategies for integrating primary health services in low- and middle-income countries at the point .rm5"
       ]
      },
      {
       "output_type": "stream",
       "stream": "stdout",
       "text": [
        "\n",
        "CD003323 v. 7.0 Autologous chondrocyte implantation for full thickness articular cartilage defects of the knee.rm5"
       ]
      },
      {
       "output_type": "stream",
       "stream": "stdout",
       "text": [
        "\n",
        "CD003324 v. 11.0 Rehabilitation for distal radial fractures in adults.rm5"
       ]
      },
      {
       "output_type": "stream",
       "stream": "stdout",
       "text": [
        "\n",
        "CD003325 v. 9.0 Removal of nail polish and finger rings to prevent surgical infection.rm5"
       ]
      },
      {
       "output_type": "stream",
       "stream": "stdout",
       "text": [
        "\n",
        "CD003327 v. 7.0 Surgical versus endoscopic treatment of bile duct stones.rm5\n",
        "CD003333 v. 12.0 Antiplatelet versus anticoagulation treatment for patients with heart failure in sinus rhythm.rm5"
       ]
      },
      {
       "output_type": "stream",
       "stream": "stdout",
       "text": [
        "\n",
        "CD003334 v. 7.0 Percutaneous transluminal rotational atherectomy for coronary artery disease.rm5"
       ]
      },
      {
       "output_type": "stream",
       "stream": "stdout",
       "text": [
        "\n",
        "CD003336 v. 11.0 Anticoagulation versus placebo for heart failure in sinus rhythm.rm5"
       ]
      },
      {
       "output_type": "stream",
       "stream": "stdout",
       "text": [
        "\n",
        "CD003341 v. 6.0 High first dose quinine regimen for treating severe malaria.rm5\n",
        "CD003343 v. 11.2 Directly observed therapy for treating tuberculosis.rm5"
       ]
      },
      {
       "output_type": "stream",
       "stream": "stdout",
       "text": [
        "\n",
        "CD003344 v. 8.2 Beta lactam antibiotic monotherapy versus beta lactam-aminoglycoside antibiotic combination therapy .rm5"
       ]
      },
      {
       "output_type": "stream",
       "stream": "stdout",
       "text": [
        "\n",
        "CD003353 v. 9.2 Metoclopramide for post-pyloric placement of naso-enteral feeding tubes.rm5"
       ]
      },
      {
       "output_type": "stream",
       "stream": "stdout",
       "text": [
        "\n",
        "CD003357 v. 8.0 In vitro fertilisation for unexplained subfertility.rm5\n",
        "CD003370 v. 11.0 Aromatase inhibitors for treatment of advanced breast cancer in postmenopausal women.rm5"
       ]
      },
      {
       "output_type": "stream",
       "stream": "stdout",
       "text": [
        "\n",
        "CD003372 v. 8.0 Single agent versus combination chemotherapy for metastatic breast cancer.rm5"
       ]
      },
      {
       "output_type": "stream",
       "stream": "stdout",
       "text": [
        "\n",
        "CD003373 v. 8.0 Regular self-examination or clinical examination for early detection of breast cancer.rm5"
       ]
      },
      {
       "output_type": "stream",
       "stream": "stdout",
       "text": [
        "\n",
        "CD003380 v. 13.0 Cognitive behavioural therapy (CBT) third-wave CBT and interpersonal therapy (IPT) based interventi.rm5\n",
        "CD003382 v. 13.0 Strategies for managing sexual dysfunction induced by antidepressant medication.rm5"
       ]
      },
      {
       "output_type": "stream",
       "stream": "stdout",
       "text": [
        "\n",
        "CD003384 v. 12.0 Topiramate for acute affective episodes in bipolar disorder in adults.rm5"
       ]
      },
      {
       "output_type": "stream",
       "stream": "stdout",
       "text": [
        "\n",
        "CD003392 v. 5.0 Breast stimulation for cervical ripening and induction of labour.rm5"
       ]
      },
      {
       "output_type": "stream",
       "stream": "stdout",
       "text": [
        "\n",
        "CD003393 v. 6.0 Oestrogens alone or with amniotomy for cervical ripening or induction of labour.rm5"
       ]
      },
      {
       "output_type": "stream",
       "stream": "stdout",
       "text": [
        "\n",
        "CD003396 v. 8.0 Fetal manipulation for facilitating tests of fetal wellbeing.rm5"
       ]
      },
      {
       "output_type": "stream",
       "stream": "stdout",
       "text": [
        "\n",
        "CD003397 v. 7.0 Maternal glucose administration for facilitating tests of fetal wellbeing.rm5"
       ]
      },
      {
       "output_type": "stream",
       "stream": "stdout",
       "text": [
        "\n",
        "CD003399 v. 6.0 Homoeopathy for induction of labour.rm5\n",
        "CD003401 v. 6.0 Combined spinal-epidural versus epidural analgesia in labour.rm5\n",
        "CD003406 v. 6.0 Behavioural and cognitive-behavioural interventions for outwardly-directed aggressive behaviour in p.rm5"
       ]
      },
      {
       "output_type": "stream",
       "stream": "stdout",
       "text": [
        "\n",
        "CD003407 v. 13.2 Erythropoietin or darbepoetin for patients with cancer.rm5"
       ]
      },
      {
       "output_type": "stream",
       "stream": "stdout",
       "text": [
        "\n",
        "CD003408 v. 10.4 Pulmonary artery catheters for adult patients in intensive care.rm5"
       ]
      },
      {
       "output_type": "stream",
       "stream": "stdout",
       "text": [
        "\n",
        "CD003409 v. 19.0 Methadone at tapered doses for the management of opioid withdrawal.rm5"
       ]
      },
      {
       "output_type": "stream",
       "stream": "stdout",
       "text": [
        "\n",
        "CD003414 v. 6.0 Cycle regimens for frozen-thawed embryo transfer.rm5"
       ]
      },
      {
       "output_type": "stream",
       "stream": "stdout",
       "text": [
        "\n",
        "CD003420 v. 7.2 Antithyroid drug regimen for treating Graves' hyperthyroidism.rm5"
       ]
      },
      {
       "output_type": "stream",
       "stream": "stdout",
       "text": [
        "\n",
        "CD003423 v. 4.2 Antihistamines andor decongestants for otitis media with effusion (OME) in children.rm5"
       ]
      },
      {
       "output_type": "stream",
       "stream": "stdout",
       "text": [
        "\n",
        "CD003424 v. 12.0 Drug therapies for reducing gastric acidity in people with cystic fibrosis.rm5"
       ]
      },
      {
       "output_type": "stream",
       "stream": "stdout",
       "text": [
        "\n",
        "CD003425 v. 16.0 Splenectomy versus conservative management for acute sequestration crises in people with sickle cell.rm5"
       ]
      },
      {
       "output_type": "stream",
       "stream": "stdout",
       "text": [
        "\n",
        "CD003426 v. 11.0 Drugs for preventing red blood cell dehydration in people with sickle cell disease.rm5\n",
        "CD003427 v. 15.0 Prophylactic antibiotics for preventing pneumococcal infection in children with sickle cell disease.rm5"
       ]
      },
      {
       "output_type": "stream",
       "stream": "stdout",
       "text": [
        "\n",
        "CD003429 v. 9.0 Clotting factor concentrates given to prevent bleeding and bleeding-related complications in people .rm5"
       ]
      },
      {
       "output_type": "stream",
       "stream": "stdout",
       "text": [
        "\n",
        "CD003431 v. 9.2 Non surgical therapy for anal fissure.rm5"
       ]
      },
      {
       "output_type": "stream",
       "stream": "stdout",
       "text": [
        "\n",
        "CD003433 v. 7.0 Beta radiation for glaucoma surgery.rm5"
       ]
      },
      {
       "output_type": "stream",
       "stream": "stdout",
       "text": [
        "\n",
        "CD003434 v. 9.0 Interventions for idiopathic intracranial hypertension.rm5\n",
        "CD003435 v. 5.0 Surgical decompression for cerebral oedema in acute ischaemic stroke.rm5"
       ]
      },
      {
       "output_type": "stream",
       "stream": "stdout",
       "text": [
        "\n",
        "CD003436 v. 4.0 Interventions for treating brain arteriovenous malformations in adults.rm5\n",
        "CD003437 v. 4.2 Interventions for treating depression after stroke.rm5"
       ]
      },
      {
       "output_type": "stream",
       "stream": "stdout",
       "text": [
        "\n",
        "CD003438 v. 9.8 Interventions for increasing pedestrian and cyclist visibility for the prevention of death and injur.rm5"
       ]
      },
      {
       "output_type": "stream",
       "stream": "stdout",
       "text": [
        "\n",
        "CD003439 v. 6.5 Impact of tobacco advertising and promotion on increasing adolescent smoking behaviours.rm5"
       ]
      },
      {
       "output_type": "stream",
       "stream": "stdout",
       "text": [
        "\n",
        "CD003440 v. 11.0 Workplace interventions for smoking cessation.rm5"
       ]
      },
      {
       "output_type": "stream",
       "stream": "stdout",
       "text": [
        "\n",
        "CD003441 v. 8.3 'As required' medication regimens for seriously mentally ill people in hospital.rm5"
       ]
      },
      {
       "output_type": "stream",
       "stream": "stdout",
       "text": [
        "\n",
        "CD003443 v. 6.2 Perphenazine for schizophrenia.rm5\n",
        "CD003448 v. 11.2 Laxatives for the management of constipation in people receiving palliative care.rm5"
       ]
      },
      {
       "output_type": "stream",
       "stream": "stdout",
       "text": [
        "\n",
        "CD003455 v. 6.4 Non-surgical interventions for late rectal problems (proctopathy) of radiotherapy in people who have.rm5"
       ]
      },
      {
       "output_type": "stream",
       "stream": "stdout",
       "text": [
        "\n",
        "CD003456 v. 8.0 Drug therapy for chronic idiopathic axonal polyneuropathy.rm5"
       ]
      },
      {
       "output_type": "stream",
       "stream": "stdout",
       "text": [
        "\n",
        "CD003458 v. 8.0 Pharmacological and nutritional treatment for McArdle disease (Glycogen Storage Disease type V).rm5"
       ]
      },
      {
       "output_type": "stream",
       "stream": "stdout",
       "text": [
        "\n",
        "CD003462 v. 8.0 Heparin versus placebo for non-ST elevation acute coronary syndromes.rm5\n",
        "CD003463 v. 7.0 Trypanocidal drugs for chronic asymptomatic Trypanosoma cruzi infection.rm5"
       ]
      },
      {
       "output_type": "stream",
       "stream": "stdout",
       "text": [
        "\n",
        "CD003464 v. 9.0 Antiplatelet and anticoagulation for patients with prosthetic heart valves.rm5"
       ]
      },
      {
       "output_type": "stream",
       "stream": "stdout",
       "text": [
        "\n",
        "CD003469 v. 7.0 Botulinum toxin A as an adjunct to treatment in the management of the upper limb in children with sp.rm5"
       ]
      },
      {
       "output_type": "stream",
       "stream": "stdout",
       "text": [
        "\n",
        "CD003474 v. 16.3 Bisphosphonates and other bone agents for breast cancer.rm5"
       ]
      },
      {
       "output_type": "stream",
       "stream": "stdout",
       "text": [
        "\n",
        "CD003477 v. 9.0 Music-based therapeutic interventions for people with dementia.rm5"
       ]
      },
      {
       "output_type": "stream",
       "stream": "stdout",
       "text": [
        "\n",
        "CD003478 v. 7.0 Prophylactic oraltopical non-absorbed antifungal agents to prevent invasive fungal infection in ver.rm5"
       ]
      },
      {
       "output_type": "stream",
       "stream": "stdout",
       "text": [
        "\n",
        "CD003481 v. 10.0 Ibuprofen for the treatment of patent ductus arteriosus in preterm or low birth weight (or both) inf.rm5"
       ]
      },
      {
       "output_type": "stream",
       "stream": "stdout",
       "text": [
        "\n",
        "CD003483 v. 6.3 Naloxone for opiate-exposed newborn infants.rm5"
       ]
      },
      {
       "output_type": "stream",
       "stream": "stdout",
       "text": [
        "\n",
        "CD003487 v. 5.2 Transpyloric versus gastric tube feeding for preterm infants.rm5\n",
        "CD003490 v. 10.0 Low level laser therapy for treating tuberculosis.rm5"
       ]
      },
      {
       "output_type": "stream",
       "stream": "stdout",
       "text": [
        "\n",
        "CD003495 v. 5.2 Intravenous secretin for autism spectrum disorders (ASD).rm5\n",
        "CD003504 v. 7.0 Intravascular brachytherapy for peripheral vascular disease.rm5"
       ]
      },
      {
       "output_type": "stream",
       "stream": "stdout",
       "text": [
        "\n",
        "CD003510 v. 8.0 Antiretrovirals for reducing the risk of mother-to-child transmission of HIV infection.rm5"
       ]
      },
      {
       "output_type": "stream",
       "stream": "stdout",
       "text": [
        "\n",
        "CD003511 v. 9.0 Progestogen for preventing miscarriage.rm5"
       ]
      },
      {
       "output_type": "stream",
       "stream": "stdout",
       "text": [
        "\n",
        "CD003514 v. 7.0 Bed rest with or without hospitalisation for hypertension during pregnancy.rm5"
       ]
      },
      {
       "output_type": "stream",
       "stream": "stdout",
       "text": [
        "\n",
        "CD003515 v. 5.0 Low-dose dopamine for women with severe pre-eclampsia.rm5\n",
        "CD003517 v. 5.0 Optimal duration of exclusive breastfeeding.rm5"
       ]
      },
      {
       "output_type": "stream",
       "stream": "stdout",
       "text": [
        "\n",
        "CD003518 v. 8.0 Expectant care versus surgical treatment for miscarriage.rm5"
       ]
      },
      {
       "output_type": "stream",
       "stream": "stdout",
       "text": [
        "\n",
        "CD003519 v. 7.2 Early skin-to-skin contact for mothers and their healthy newborn infants.rm5"
       ]
      },
      {
       "output_type": "stream",
       "stream": "stdout",
       "text": [
        "\n",
        "CD003520 v. 7.0 Vaginal chlorhexidine during labour to prevent early-onset neonatal group B streptococcal infection.rm5"
       ]
      },
      {
       "output_type": "stream",
       "stream": "stdout",
       "text": [
        "\n",
        "CD003523 v. 7.0 Electromagnetic fields for treating osteoarthritis.rm5"
       ]
      },
      {
       "output_type": "stream",
       "stream": "stdout",
       "text": [
        "\n",
        "CD003525 v. 7.0 Surgery for lateral elbow pain.rm5"
       ]
      },
      {
       "output_type": "stream",
       "stream": "stdout",
       "text": [
        "\n",
        "CD003528 v. 6.61 Deep transverse friction massage for treating lateral elbow or lateral knee tendinitis.rm5"
       ]
      },
      {
       "output_type": "stream",
       "stream": "stdout",
       "text": [
        "\n",
        "CD003531 v. 6.0 Pressure modification for improving usage of continuous positive airway pressure machines in adults .rm5"
       ]
      },
      {
       "output_type": "stream",
       "stream": "stdout",
       "text": [
        "\n",
        "CD003533 v. 5.0 Primary care based clinics for asthma.rm5"
       ]
      },
      {
       "output_type": "stream",
       "stream": "stdout",
       "text": [
        "\n",
        "CD003540 v. 6.0 Interventions to increase or decrease the length of primary care physicians' consultation.rm5"
       ]
      },
      {
       "output_type": "stream",
       "stream": "stdout",
       "text": [
        "\n",
        "CD003546 v. 7.0 Management of sexual dysfunction due to antipsychotic drug therapy.rm5"
       ]
      },
      {
       "output_type": "stream",
       "stream": "stdout",
       "text": [
        "\n",
        "CD003548 v. 9.0 Dietary calcium supplementation for preventing colorectal cancer and adenomatous polyps.rm5"
       ]
      },
      {
       "output_type": "stream",
       "stream": "stdout",
       "text": [
        "\n",
        "CD003551 v. 9.0 Cervical cap versus diaphragm for contraception.rm5\n",
        "CD003552 v. 9.0 Skin patch and vaginal ring versus combined oral contraceptives for contraception.rm5"
       ]
      },
      {
       "output_type": "stream",
       "stream": "stdout",
       "text": [
        "\n",
        "CD003557 v. 10.0 Antibiotics and antiseptics for venous leg ulcers.rm5"
       ]
      },
      {
       "output_type": "stream",
       "stream": "stdout",
       "text": [
        "\n",
        "CD003559 v. 6.4 Omalizumab for asthma in adults and children.rm5"
       ]
      },
      {
       "output_type": "stream",
       "stream": "stdout",
       "text": [
        "\n",
        "CD003573 v. 8.6 Hospital at home for acute exacerbations of chronic obstructive pulmonary disease.rm5"
       ]
      },
      {
       "output_type": "stream",
       "stream": "stdout",
       "text": [
        "\n",
        "CD003575 v. 15.0 Interventions for treating collagenous colitis.rm5"
       ]
      },
      {
       "output_type": "stream",
       "stream": "stdout",
       "text": [
        "\n",
        "CD003576 v. 6.0 Bed rest during pregnancy for preventing miscarriage.rm5"
       ]
      },
      {
       "output_type": "stream",
       "stream": "stdout",
       "text": [
        "\n",
        "CD003581 v. 7.0 Bed rest in singleton pregnancies for preventing preterm birth.rm5\n",
        "CD003582 v. 10.0 Elective birth at 37 weeks gestation for women with an uncomplicated twin pregnancy.rm5"
       ]
      },
      {
       "output_type": "stream",
       "stream": "stdout",
       "text": [
        "\n",
        "CD003585 v. 6.0 Occupational therapy for adults with problems in activities of daily living after stroke.rm5\n",
        "CD003586 v. 5.0 Cognitive rehabilitation for spatial neglect following stroke.rm5"
       ]
      },
      {
       "output_type": "stream",
       "stream": "stdout",
       "text": [
        "\n",
        "CD003587 v. 11.0 Fast-track cardiac care for adult cardiac surgical patients.rm5"
       ]
      },
      {
       "output_type": "stream",
       "stream": "stdout",
       "text": [
        "\n",
        "CD003588 v. 6.0 Optimal timing for intravascular administration set replacement.rm5"
       ]
      },
      {
       "output_type": "stream",
       "stream": "stdout",
       "text": [
        "\n",
        "CD003590 v. 9.0 Interventions for protecting renal function in the perioperative period.rm5"
       ]
      },
      {
       "output_type": "stream",
       "stream": "stdout",
       "text": [
        "\n",
        "CD003591 v. 8.3 Nonsteroidal anti-inflammatory drugs and perioperative bleeding in paediatric tonsillectomy.rm5"
       ]
      },
      {
       "output_type": "stream",
       "stream": "stdout",
       "text": [
        "\n",
        "CD003594 v. 13.2 Interventions for idiopathic steroid-resistant nephrotic syndrome in children.rm5"
       ]
      },
      {
       "output_type": "stream",
       "stream": "stdout",
       "text": [
        "\n",
        "CD003602 v. 6.0 Pre-operative autologous donation for minimising perioperative allogeneic blood transfusion.rm5"
       ]
      },
      {
       "output_type": "stream",
       "stream": "stdout",
       "text": [
        "\n",
        "CD003603 v. 7.0 Interventions for replacing missing teeth hyperbaric oxygen therapy for irradiated patients who req.rm5"
       ]
      },
      {
       "output_type": "stream",
       "stream": "stdout",
       "text": [
        "\n",
        "CD003611 v. 7.0 Interventions for preventing post-operative atrial fibrillation in patients undergoing heart surgery.rm5\n",
        "CD003615 v. 9.0 Oxcarbazepine versus phenytoin monotherapy for epilepsy.rm5"
       ]
      },
      {
       "output_type": "stream",
       "stream": "stdout",
       "text": [
        "\n",
        "CD003617 v. 6.55 Interferon for interferon nonresponding and relapsing patients with chronic hepatitis C.rm5"
       ]
      },
      {
       "output_type": "stream",
       "stream": "stdout",
       "text": [
        "\n",
        "CD003623 v. 5.0 Percutaneous needle aspiration injection and re-aspiration with or without benzimidazole coverage .rm5"
       ]
      },
      {
       "output_type": "stream",
       "stream": "stdout",
       "text": [
        "\n",
        "CD003626 v. 6.0 Bile acids for primary sclerosing cholangitis.rm5\n",
        "CD003631 v. 8.20 Chinese herbal medicines for acute pancreatitis.rm5"
       ]
      },
      {
       "output_type": "stream",
       "stream": "stdout",
       "text": [
        "\n",
        "CD003633 v. 4.0 Botulinum toxin type A therapy for cervical dystonia.rm5"
       ]
      },
      {
       "output_type": "stream",
       "stream": "stdout",
       "text": [
        "\n",
        "CD003637 v. 6.0 Simple behavioural interventions for nocturnal enuresis in children.rm5"
       ]
      },
      {
       "output_type": "stream",
       "stream": "stdout",
       "text": [
        "\n",
        "CD003645 v. 10.0 Positioning for acute respiratory distress in hospitalised infants and children.rm5"
       ]
      },
      {
       "output_type": "stream",
       "stream": "stdout",
       "text": [
        "\n",
        "CD003648 v. 9.0 Vitamin A supplements for reducing mother-to-child HIV transmission.rm5"
       ]
      },
      {
       "output_type": "stream",
       "stream": "stdout",
       "text": [
        "\n",
        "CD003650 v. 9.0 Micronutrient supplementation in adults with HIV infection.rm5"
       ]
      },
      {
       "output_type": "stream",
       "stream": "stdout",
       "text": [
        "\n",
        "CD003658 v. 6.2 Needling for encapsulated trabeculectomy filtering blebs.rm5"
       ]
      },
      {
       "output_type": "stream",
       "stream": "stdout",
       "text": [
        "\n",
        "CD003659 v. 8.0 Face washing promotion for preventing active trachoma.rm5\n",
        "CD003662 v. 6.0 Corticosteroids for treating hypotension in preterm infants.rm5"
       ]
      },
      {
       "output_type": "stream",
       "stream": "stdout",
       "text": [
        "\n",
        "CD003666 v. 7.2 Volume-targeted versus pressure-limited ventilation in neonates.rm5"
       ]
      },
      {
       "output_type": "stream",
       "stream": "stdout",
       "text": [
        "\n",
        "CD003668 v. 9.0 Infant position in neonates receiving mechanical ventilation.rm5"
       ]
      },
      {
       "output_type": "stream",
       "stream": "stdout",
       "text": [
        "\n",
        "CD003669 v. 4.0  Regional (spinal epidural caudal) versus general anaesthesia in preterm infants undergoing inguin.rm5"
       ]
      },
      {
       "output_type": "stream",
       "stream": "stdout",
       "text": [
        "\n",
        "CD003671 v. 5.2 Ward reduction without general anaesthesia versus reduction and repair under general anaesthesia for.rm5"
       ]
      },
      {
       "output_type": "stream",
       "stream": "stdout",
       "text": [
        "\n",
        "CD003674 v. 7.2 Surgical interventions for treating acute Achilles tendon ruptures.rm5\n",
        "CD003677 v. 9.0 Surgical approach to hysterectomy for benign gynaecological disease.rm5"
       ]
      },
      {
       "output_type": "stream",
       "stream": "stdout",
       "text": [
        "\n",
        "CD003680 v. 14.0 Group-based parent training programmes for improving emotional and behavioural adjustment in young c.rm5"
       ]
      },
      {
       "output_type": "stream",
       "stream": "stdout",
       "text": [
        "\n",
        "CD003681 v. 7.2 Auditory integration training and other sound therapies for autism spectrum disorders (ASD).rm5"
       ]
      },
      {
       "output_type": "stream",
       "stream": "stdout",
       "text": [
        "\n",
        "CD003686 v. 7.0 Non-steroidal anti-inflammatory drugs (NSAIDs) for treating lateral elbow pain in adults.rm5"
       ]
      },
      {
       "output_type": "stream",
       "stream": "stdout",
       "text": [
        "\n",
        "CD003689 v. 5.2 Interventions for preventing depression after stroke.rm5"
       ]
      },
      {
       "output_type": "stream",
       "stream": "stdout",
       "text": [
        "\n",
        "CD003690 v. 6.0 Pharmaceutical interventions for emotionalism after stroke.rm5"
       ]
      },
      {
       "output_type": "stream",
       "stream": "stdout",
       "text": [
        "\n",
        "CD003700 v. 11.3 Vitamin A for non-measles pneumonia in children.rm5"
       ]
      },
      {
       "output_type": "stream",
       "stream": "stdout",
       "text": [
        "\n",
        "CD003709 v. 6.0 Vasopressors for hypotensive shock.rm5"
       ]
      },
      {
       "output_type": "stream",
       "stream": "stdout",
       "text": [
        "\n",
        "CD003715 v. 8.0 Oral 5-aminosalicylic acid for maintenance of medically-induced remission in Crohn's disease.rm5"
       ]
      },
      {
       "output_type": "stream",
       "stream": "stdout",
       "text": [
        "\n",
        "CD003717 v. 7.2 Audio-visual presentation of information for informed consent for participation in clinical trials.rm5"
       ]
      },
      {
       "output_type": "stream",
       "stream": "stdout",
       "text": [
        "\n",
        "CD003718 v. 9.1 Tubal flushing for subfertility.rm5"
       ]
      },
      {
       "output_type": "stream",
       "stream": "stdout",
       "text": [
        "\n",
        "CD003721 v. 7.2 Cancer genetic risk assessment for individuals at risk of familial breast cancer.rm5"
       ]
      },
      {
       "output_type": "stream",
       "stream": "stdout",
       "text": [
        "\n",
        "CD003723 v. 7.9 Anticonvulsant therapy for status epilepticus.rm5"
       ]
      },
      {
       "output_type": "stream",
       "stream": "stdout",
       "text": [
        "\n",
        "CD003724 v. 6.0 Antidepressant drugs for narcolepsy.rm5"
       ]
      },
      {
       "output_type": "stream",
       "stream": "stdout",
       "text": [
        "\n",
        "CD003726 v. 8.0 Tramadol for neuropathic pain in adults.rm5\n",
        "CD003733 v. 13.0 Inhaled bronchodilators for acute chest syndrome in people with sickle cell disease.rm5"
       ]
      },
      {
       "output_type": "stream",
       "stream": "stdout",
       "text": [
        "\n",
        "CD003737 v. 8.2 Interventions for intermittent exotropia.rm5\n",
        "CD003740 v. 7.0 Oral immunoglobulin for the prevention of rotavirus infection in low birth weight infants.rm5"
       ]
      },
      {
       "output_type": "stream",
       "stream": "stdout",
       "text": [
        "\n",
        "CD003742 v. 8.0 Oral immunoglobulin for the treatment of rotavirus diarrhea in low birth weight infants.rm5"
       ]
      },
      {
       "output_type": "stream",
       "stream": "stdout",
       "text": [
        "\n",
        "CD003743 v. 8.0 Early discharge with home support of gavage feeding for stable preterm infants who have not establis.rm5\n",
        "CD003746 v. 5.1 Anticoagulants versus non-steroidal anti-inflammatories or placebo for treatment of venous thromboem.rm5"
       ]
      },
      {
       "output_type": "stream",
       "stream": "stdout",
       "text": [
        "\n",
        "CD003748 v. 7.1 Cilostazol for intermittent claudication.rm5\n",
        "CD003749 v. 7.0 Type of incision for below knee amputation.rm5"
       ]
      },
      {
       "output_type": "stream",
       "stream": "stdout",
       "text": [
        "\n",
        "CD003754 v. 7.8 Oral rehydration salt solution for treating cholera  270 mOsmL solutions vs  310 mOsmL solution.rm5\n",
        "CD003756 v. 6.2 Intermittent preventive treatment for malaria in children living in areas with seasonal transmission.rm5"
       ]
      },
      {
       "output_type": "stream",
       "stream": "stdout",
       "text": [
        "\n",
        "CD003764 v. 5.0 Antibiotics for preventing infection in open limb fractures.rm5"
       ]
      },
      {
       "output_type": "stream",
       "stream": "stdout",
       "text": [
        "\n",
        "CD003767 v. 8.5 Antibiotics for ureaplasma in the vagina in pregnancy.rm5"
       ]
      },
      {
       "output_type": "stream",
       "stream": "stdout",
       "text": [
        "\n",
        "CD003769 v. 9.0 Antibiotic prophylaxis for hernia repair..rm5\n",
        "CD003770 v. 6.0 Hepatic artery adjuvant chemotherapy for patients having resection or ablation of colorectal cancer .rm5"
       ]
      },
      {
       "output_type": "stream",
       "stream": "stdout",
       "text": [
        "\n",
        "CD003772 v. 13.0 Antibiotics for acute pyelonephritis in children.rm5\n",
        "CD003774 v. 13.0 Antiviral medications for preventing cytomegalovirus disease in solid organ transplant recipients.rm5"
       ]
      },
      {
       "output_type": "stream",
       "stream": "stdout",
       "text": [
        "\n",
        "CD003802 v. 9.0 Melatonin for the treatment of dementia.rm5"
       ]
      },
      {
       "output_type": "stream",
       "stream": "stdout",
       "text": [
        "\n",
        "CD003803 v. 9.4 Homeopathy for dementia.rm5"
       ]
      },
      {
       "output_type": "stream",
       "stream": "stdout",
       "text": [
        "\n",
        "CD003804 v. 8.0 Effect of the treatment of Type 2 diabetes mellitus on the development of cognitive impairment and d.rm5\n",
        "CD003807 v. 5.2 Interventions for preventing oral candidiasis for patients with cancer receiving treatment.rm5"
       ]
      },
      {
       "output_type": "stream",
       "stream": "stdout",
       "text": [
        "\n",
        "CD003808 v. 6.0 Operative caries management in adults and children.rm5"
       ]
      },
      {
       "output_type": "stream",
       "stream": "stdout",
       "text": [
        "\n",
        "CD003809 v. 5.0 Fluorides for the prevention of early tooth decay (demineralised white lesions) during fixed brace t.rm5"
       ]
      },
      {
       "output_type": "stream",
       "stream": "stdout",
       "text": [
        "\n",
        "CD003813 v. 5.0 Antibiotics for the prophylaxis of bacterial endocarditis in dentistry.rm5"
       ]
      },
      {
       "output_type": "stream",
       "stream": "stdout",
       "text": [
        "\n",
        "CD003825 v. 10.0 Blood pressure-lowering efficacy of loop diuretics for primary hypertension.rm5"
       ]
      },
      {
       "output_type": "stream",
       "stream": "stdout",
       "text": [
        "\n",
        "CD003826 v. 8.0 Silicone gel sheeting for preventing and treating hypertrophic and keloid scars.rm5"
       ]
      },
      {
       "output_type": "stream",
       "stream": "stdout",
       "text": [
        "\n",
        "CD003833 v. 10.0 Omega-3 fatty acids for intermittent claudication.rm5"
       ]
      },
      {
       "output_type": "stream",
       "stream": "stdout",
       "text": [
        "\n",
        "CD003834 v. 6.0 Lithium for schizophrenia.rm5"
       ]
      },
      {
       "output_type": "stream",
       "stream": "stdout",
       "text": [
        "\n",
        "CD003839 v. 8.0 Self-monitoring and self-management of oral anticoagulation.rm5"
       ]
      },
      {
       "output_type": "stream",
       "stream": "stdout",
       "text": [
        "\n",
        "CD003840 v. 11.0 Eradication therapy for peptic ulcer disease in Helicobacter pylori-positive people.rm5"
       ]
      },
      {
       "output_type": "stream",
       "stream": "stdout",
       "text": [
        "\n",
        "CD003842 v. 7.0 Single double or multiple-injection techniques for non-ultrasound guided axillary brachial plexus b.rm5"
       ]
      },
      {
       "output_type": "stream",
       "stream": "stdout",
       "text": [
        "\n",
        "CD003844 v. 7.0 Lung protective ventilation strategy for the acute respiratory distress syndrome.rm5"
       ]
      },
      {
       "output_type": "stream",
       "stream": "stdout",
       "text": [
        "\n",
        "CD003845 v. 7.0 Partial liquid ventilation for the prevention of mortality and morbidity in paediatric acute lung in.rm5\n",
        "CD003849 v. 7.0 Epinephrine for the resuscitation of apparently stillborn or extremely bradycardic newborn infants.rm5"
       ]
      },
      {
       "output_type": "stream",
       "stream": "stdout",
       "text": [
        "\n",
        "CD003850 v. 10.0 Prophylactic systemic antifungal agents to prevent mortality and morbidity in very low birth weight .rm5\n",
        "CD003852 v. 7.0 Ginkgo biloba for tinnitus.rm5"
       ]
      },
      {
       "output_type": "stream",
       "stream": "stdout",
       "text": [
        "\n",
        "CD003853 v. 7.2 Antidepressants for patients with tinnitus.rm5"
       ]
      },
      {
       "output_type": "stream",
       "stream": "stdout",
       "text": [
        "\n",
        "CD003855 v. 7.0 Surgery versus medical therapy for heavy menstrual bleeding.rm5"
       ]
      },
      {
       "output_type": "stream",
       "stream": "stdout",
       "text": [
        "\n",
        "CD003857 v. 6.0 Surgical treatment of fibroids for subfertility.rm5"
       ]
      },
      {
       "output_type": "stream",
       "stream": "stdout",
       "text": [
        "\n",
        "CD003876 v. 7.0 Fluoridated milk for preventing dental caries.rm5"
       ]
      },
      {
       "output_type": "stream",
       "stream": "stdout",
       "text": [
        "\n",
        "CD003877 v. 6.0 Sedation of children undergoing dental treatment.rm5\n",
        "CD003879 v. 6.2 Surgical removal versus retention for the management of asymptomatic disease-free impacted wisdom te.rm5"
       ]
      },
      {
       "output_type": "stream",
       "stream": "stdout",
       "text": [
        "\n",
        "CD003882 v. 6.0 Conservative prevention and management of pelvic organ prolapse in women.rm5"
       ]
      },
      {
       "output_type": "stream",
       "stream": "stdout",
       "text": [
        "\n",
        "CD003892 v. 4.0 Chitosan for overweight or obesity.rm5"
       ]
      },
      {
       "output_type": "stream",
       "stream": "stdout",
       "text": [
        "\n",
        "CD003898 v. 9.0 Inhaled magnesium sulfate in the treatment of acute asthma.rm5"
       ]
      },
      {
       "output_type": "stream",
       "stream": "stdout",
       "text": [
        "\n",
        "CD003907 v. 6.2 Strength training and aerobic exercise training for muscle disease.rm5"
       ]
      },
      {
       "output_type": "stream",
       "stream": "stdout",
       "text": [
        "\n",
        "CD003909 v. 13.3 Individual psychological therapy in the outpatient treatment of adults with anorexia nervosa.rm5"
       ]
      },
      {
       "output_type": "stream",
       "stream": "stdout",
       "text": [
        "\n",
        "CD003914 v. 13.0 Empirical antibiotics targeting gram-positive bacteria for the treatment of febrile neutropenic pati.rm5"
       ]
      },
      {
       "output_type": "stream",
       "stream": "stdout",
       "text": [
        "\n",
        "CD003925 v. 6.0 Orientation and mobility training for adults with low vision.rm5"
       ]
      },
      {
       "output_type": "stream",
       "stream": "stdout",
       "text": [
        "\n",
        "CD003928 v. 7.0 Cephalic version by moxibustion for breech presentation.rm5\n",
        "CD003930 v. 9.1 Restricting oral fluid and food intake during labour.rm5"
       ]
      },
      {
       "output_type": "stream",
       "stream": "stdout",
       "text": [
        "\n",
        "CD003935 v. 13.0 Repeat doses of prenatal corticosteroids for women at risk of preterm birth for improving neonatal h.rm5"
       ]
      },
      {
       "output_type": "stream",
       "stream": "stdout",
       "text": [
        "\n",
        "CD003940 v. 6.0 Interventions for the prevention and management of oropharyngeal candidiasis associated with HIV inf.rm5"
       ]
      },
      {
       "output_type": "stream",
       "stream": "stdout",
       "text": [
        "\n",
        "CD003943 v. 6.0 Gastrostomy feeding versus oral feeding alone for children with cerebral palsy.rm5"
       ]
      },
      {
       "output_type": "stream",
       "stream": "stdout",
       "text": [
        "\n",
        "CD003945 v. 9.0 Valproate preparations for agitation in dementia.rm5\n",
        "CD003946 v. 11.0 Light therapy for improving cognition activities of daily living sleep challenging behaviour and.rm5"
       ]
      },
      {
       "output_type": "stream",
       "stream": "stdout",
       "text": [
        "\n",
        "CD003948 v. 11.0 Topical agents and dressings for fungating wounds.rm5"
       ]
      },
      {
       "output_type": "stream",
       "stream": "stdout",
       "text": [
        "\n",
        "CD003949 v. 9.0 Preoperative skin antiseptics for preventing surgical wound infections after clean surgery.rm5\n",
        "CD003951 v. 6.0 Surgical versus medical treatment with cyclooxygenase inhibitors for symptomatic patent ductus arter.rm5"
       ]
      },
      {
       "output_type": "stream",
       "stream": "stdout",
       "text": [
        "\n",
        "CD003952 v. 6.0 Nasal versus oral route for placing feeding tubes in preterm or low birth weight infants.rm5\n",
        "CD003953 v. 4.0 Antifungal therapy for newborn infants with invasive fungal infection.rm5"
       ]
      },
      {
       "output_type": "stream",
       "stream": "stdout",
       "text": [
        "\n",
        "CD003956 v. 8.0 Granulocyte transfusions for neonates with confirmed or suspected sepsis and neutropenia.rm5\n",
        "CD003959 v. 5.1 Higher versus lower protein intake in formula-fed low birth weight infants.rm5"
       ]
      },
      {
       "output_type": "stream",
       "stream": "stdout",
       "text": [
        "\n",
        "CD003965 v. 12.3 Immunosuppressive agents for treating IgA nephropathy.rm5"
       ]
      },
      {
       "output_type": "stream",
       "stream": "stdout",
       "text": [
        "\n",
        "CD003974 v. 5.0 Placebo interventions for all clinical conditions.rm5"
       ]
      },
      {
       "output_type": "stream",
       "stream": "stdout",
       "text": [
        "\n",
        "CD003987 v. 10.0 Combination contraceptives effects on weight.rm5"
       ]
      },
      {
       "output_type": "stream",
       "stream": "stdout",
       "text": [
        "\n",
        "CD003988 v. 12.0 Combined hormonal versus nonhormonal versus progestin-only contraception in lactation.rm5"
       ]
      },
      {
       "output_type": "stream",
       "stream": "stdout",
       "text": [
        "\n",
        "CD003990 v. 9.0 Hormonal versus non-hormonal contraceptives in women with diabetes mellitus type 1 and 2.rm5"
       ]
      },
      {
       "output_type": "stream",
       "stream": "stdout",
       "text": [
        "\n",
        "CD003996 v. 7.0 Antibiotic prophylaxis in clean and clean-contaminated ear surgery.rm5\n",
        "CD003997 v. 5.2 Steroids for improving recovery following tonsillectomy in children.rm5"
       ]
      },
      {
       "output_type": "stream",
       "stream": "stdout",
       "text": [
        "\n",
        "CD003998 v. 5.0 Steroids for idiopathic sudden sensorineural hearing loss.rm5"
       ]
      },
      {
       "output_type": "stream",
       "stream": "stdout",
       "text": [
        "\n",
        "CD003999 v. 7.0 Relapse prevention interventions for smoking cessation.rm5"
       ]
      },
      {
       "output_type": "stream",
       "stream": "stdout",
       "text": [
        "\n",
        "CD004002 v. 9.0 Compression stockings for preventing deep vein thrombosis in airline passengers.rm5"
       ]
      },
      {
       "output_type": "stream",
       "stream": "stdout",
       "text": [
        "\n",
        "CD004003 v. 7.3 Environmental sanitary interventions for preventing active trachoma.rm5"
       ]
      },
      {
       "output_type": "stream",
       "stream": "stdout",
       "text": [
        "\n",
        "CD004004 v. 4.2 Radiotherapy for neovascular age-related macular degeneration.rm5\n",
        "CD004009 v. 4.0 Intrarectal quinine versus intravenous or intramuscular quinine for treating Plasmodium falciparum m.rm5"
       ]
      },
      {
       "output_type": "stream",
       "stream": "stdout",
       "text": [
        "\n",
        "CD004010 v. 6.0 Pessaries (mechanical devices) for pelvic organ prolapse in women.rm5"
       ]
      },
      {
       "output_type": "stream",
       "stream": "stdout",
       "text": [
        "\n",
        "CD004012 v. 8.2 Washout policies in long-term indwelling urinary catheterisation in adults.rm5"
       ]
      },
      {
       "output_type": "stream",
       "stream": "stdout",
       "text": [
        "\n",
        "CD004013 v. 9.0 Types of indwelling urethral catheters for short-term catheterisation in hospitalised adults.rm5"
       ]
      },
      {
       "output_type": "stream",
       "stream": "stdout",
       "text": [
        "\n",
        "CD004015 v. 6.3 Lay health workers in primary and community health care for maternal and child health and the manage.rm5"
       ]
      },
      {
       "output_type": "stream",
       "stream": "stdout",
       "text": [
        "\n",
        "CD004019 v. 5.0 Osteotomy for treating knee osteoarthritis.rm5"
       ]
      },
      {
       "output_type": "stream",
       "stream": "stdout",
       "text": [
        "\n",
        "CD004020 v. 7.0 Braces and orthoses for treating osteoarthritis of the knee.rm5"
       ]
      },
      {
       "output_type": "stream",
       "stream": "stdout",
       "text": [
        "\n",
        "CD004022 v. 9.0 Effects of low sodium diet versus high sodium diet on blood pressure renin aldosterone catecholam.rm5"
       ]
      },
      {
       "output_type": "stream",
       "stream": "stdout",
       "text": [
        "\n",
        "CD004024 v. 10.0 High-dose chemotherapy with autologous stem cell transplantation in the first line treatment of aggr.rm5"
       ]
      },
      {
       "output_type": "stream",
       "stream": "stdout",
       "text": [
        "\n",
        "CD004025 v. 8.0 Music therapy for people with schizophrenia and schizophrenia-like disorders.rm5"
       ]
      },
      {
       "output_type": "stream",
       "stream": "stdout",
       "text": [
        "\n",
        "CD004026 v. 6.0 Day hospital versus admission for acute psychiatric disorders.rm5"
       ]
      },
      {
       "output_type": "stream",
       "stream": "stdout",
       "text": [
        "\n",
        "CD004028 v. 8.0 Valproate for schizophrenia.rm5"
       ]
      },
      {
       "output_type": "stream",
       "stream": "stdout",
       "text": [
        "\n",
        "CD004029 v. 8.0 Non-antiepileptic drugs for trigeminal neuralgia.rm5"
       ]
      },
      {
       "output_type": "stream",
       "stream": "stdout",
       "text": [
        "\n",
        "CD004030 v. 5.1 Enteral tube feeding for amyotrophic lateral sclerosismotor neuron disease.rm5"
       ]
      },
      {
       "output_type": "stream",
       "stream": "stdout",
       "text": [
        "\n",
        "CD004033 v. 7.0 Thiamine for prevention and treatment of Wernicke-Korsakoff Syndrome in people who abuse alcohol.rm5\n",
        "CD004034 v. 8.0 Blood pressure lowering in patients without prior cerebrovascular disease for prevention of cognitiv.rm5"
       ]
      },
      {
       "output_type": "stream",
       "stream": "stdout",
       "text": [
        "\n",
        "CD004044 v. 7.0 Pharmacological treatment for psychotic depression.rm5"
       ]
      },
      {
       "output_type": "stream",
       "stream": "stdout",
       "text": [
        "\n",
        "CD004063 v. 8.0 Palliative chemotherapy and targeted therapies for esophageal and gastroesophageal junction cancer.rm5"
       ]
      },
      {
       "output_type": "stream",
       "stream": "stdout",
       "text": [
        "\n",
        "CD004064 v. 11.4 Chemotherapy for advanced gastric cancer.rm5"
       ]
      },
      {
       "output_type": "stream",
       "stream": "stdout",
       "text": [
        "\n",
        "CD004068 v. 6.0 Postnatal parental education for optimizing infant general health and parent-infant relationships.rm5"
       ]
      },
      {
       "output_type": "stream",
       "stream": "stdout",
       "text": [
        "\n",
        "CD004070 v. 9.0 Vaginal chlorhexidine during labour for preventing maternal and neonatal infections (excluding Group.rm5"
       ]
      },
      {
       "output_type": "stream",
       "stream": "stdout",
       "text": [
        "\n",
        "CD004071 v. 6.0 Maintenance therapy with calcium channel blockers for preventing preterm birth after threatened pret.rm5\n",
        "CD004073 v. 7.0 Vitamin supplementation for preventing miscarriage.rm5"
       ]
      },
      {
       "output_type": "stream",
       "stream": "stdout",
       "text": [
        "\n",
        "CD004075 v. 13.0 Fetal pulse oximetry for fetal assessment in labour.rm5"
       ]
      },
      {
       "output_type": "stream",
       "stream": "stdout",
       "text": [
        "\n",
        "CD004080 v. 7.0 Early enteral nutrition within 24h of colorectal surgery versus later commencement of feeding for po.rm5"
       ]
      },
      {
       "output_type": "stream",
       "stream": "stdout",
       "text": [
        "\n",
        "CD004081 v. 7.0 Lidocaine for preventing postoperative sore throat.rm5\n",
        "CD004083 v. 6.0 Peribulbar versus retrobulbar anaesthesia for cataract surgery.rm5"
       ]
      },
      {
       "output_type": "stream",
       "stream": "stdout",
       "text": [
        "\n",
        "CD004084 v. 5.0 Central venous access sites for the prevention of venous thrombosis stenosis and infection.rm5\n",
        "CD004085 v. 6.6 High-frequency oscillatory ventilation versus conventional ventilation for acute respiratory distres.rm5"
       ]
      },
      {
       "output_type": "stream",
       "stream": "stdout",
       "text": [
        "\n",
        "CD004089 v. 10.2 Perioperative administration of buffered versus non-buffered crystalloid intravenous fluid to improv.rm5"
       ]
      },
      {
       "output_type": "stream",
       "stream": "stdout",
       "text": [
        "\n",
        "CD004101 v. 8.0 Psychological interventions for symptomatic management of non-specific chest pain in patients with n.rm5"
       ]
      },
      {
       "output_type": "stream",
       "stream": "stdout",
       "text": [
        "\n",
        "CD004102 v. 5.0 Trypanocidal drugs for late stage symptomatic Chagas disease (Trypanosoma cruzi infection).rm5"
       ]
      },
      {
       "output_type": "stream",
       "stream": "stdout",
       "text": [
        "\n",
        "CD004104 v. 7.0 Non-invasive ventilation for the management of acute hypercapnic respiratory failure due to exacerba.rm5\n",
        "CD004108 v. 9.0 Nedocromil sodium for chronic asthma in children.rm5"
       ]
      },
      {
       "output_type": "stream",
       "stream": "stdout",
       "text": [
        "\n",
        "CD004122 v. 8.2 Preoperative hair removal to reduce surgical site infection.rm5"
       ]
      },
      {
       "output_type": "stream",
       "stream": "stdout",
       "text": [
        "\n",
        "CD004123 v. 10.0 Hyperbaric oxygen therapy for chronic wounds.rm5"
       ]
      },
      {
       "output_type": "stream",
       "stream": "stdout",
       "text": [
        "\n",
        "CD004124 v. 8.0 Interventions for treating chronic ankle instability.rm5"
       ]
      },
      {
       "output_type": "stream",
       "stream": "stdout",
       "text": [
        "\n",
        "CD004127 v. 8.0 Noninvasive positive-pressure ventilation as a weaning strategy for intubated adults with respirator.rm5"
       ]
      },
      {
       "output_type": "stream",
       "stream": "stdout",
       "text": [
        "\n",
        "CD004128 v. 11.2 Hypothermia for neuroprotection in adults after cardiopulmonary resuscitation.rm5"
       ]
      },
      {
       "output_type": "stream",
       "stream": "stdout",
       "text": [
        "\n",
        "CD004131 v. 8.0 Acupuncture for stroke rehabilitation.rm5"
       ]
      },
      {
       "output_type": "stream",
       "stream": "stdout",
       "text": [
        "\n",
        "CD004134 v. 6.0 Interventions for improving patients' trust in doctors and groups of doctors.rm5"
       ]
      },
      {
       "output_type": "stream",
       "stream": "stdout",
       "text": [
        "\n",
        "CD004135 v. 6.0 Microwave thermotherapy for benign prostatic hyperplasia.rm5"
       ]
      },
      {
       "output_type": "stream",
       "stream": "stdout",
       "text": [
        "\n",
        "CD004143 v. 7.2 Long-term hormone therapy for perimenopausal and postmenopausal women.rm5"
       ]
      },
      {
       "output_type": "stream",
       "stream": "stdout",
       "text": [
        "\n",
        "CD004145 v. 10.0 Oral substitution treatment of injecting opioid users for prevention of HIV infection.rm5"
       ]
      },
      {
       "output_type": "stream",
       "stream": "stdout",
       "text": [
        "\n",
        "CD004147 v. 10.0 Psychosocial combined with agonist maintenance treatments versus agonist maintenance treatments alon.rm5"
       ]
      },
      {
       "output_type": "stream",
       "stream": "stdout",
       "text": [
        "\n",
        "CD004150 v. 7.2 Screening programmes for the early detection and prevention of oral cancer.rm5"
       ]
      },
      {
       "output_type": "stream",
       "stream": "stdout",
       "text": [
        "\n",
        "CD004152 v. 7.0 Interventions for replacing missing teeth antibiotics at dental implant placement to prevent compli.rm5"
       ]
      },
      {
       "output_type": "stream",
       "stream": "stdout",
       "text": [
        "\n",
        "CD004154 v. 12.0 Clobazam as an add-on in the management of refractory epilepsy.rm5"
       ]
      },
      {
       "output_type": "stream",
       "stream": "stdout",
       "text": [
        "\n",
        "CD004156 v. 9.0 Treatment for spasticity in amyotrophic lateral sclerosismotor neuron disease.rm5\n",
        "CD004158 v. 6.0 Rehabilitation following carpal tunnel release.rm5\n",
        "CD004161 v. 8.0 Risperidone (depot) for schizophrenia.rm5"
       ]
      },
      {
       "output_type": "stream",
       "stream": "stdout",
       "text": [
        "\n",
        "CD004163 v. 5.0 Identification of children in the first four years of life for early treatment for otitis media with.rm5"
       ]
      },
      {
       "output_type": "stream",
       "stream": "stdout",
       "text": [
        "\n",
        "CD004166 v. 7.0 Interventions for acute auricular haematoma.rm5"
       ]
      },
      {
       "output_type": "stream",
       "stream": "stdout",
       "text": [
        "\n",
        "CD004170 v. 10.11 Multi-disciplinary rehabilitation for acquired brain injury in adults of working age.rm5\n",
        "CD004173 v. 9.2 Advanced trauma life support training for hospital staff.rm5"
       ]
      },
      {
       "output_type": "stream",
       "stream": "stdout",
       "text": [
        "\n",
        "CD004174 v. 6.0 Compression therapy for prevention of post-thrombotic syndrome.rm5"
       ]
      },
      {
       "output_type": "stream",
       "stream": "stdout",
       "text": [
        "\n",
        "CD004175 v. 7.0 Salicylate for the treatment of Kawasaki disease in children.rm5"
       ]
      },
      {
       "output_type": "stream",
       "stream": "stdout",
       "text": [
        "\n",
        "CD004183 v. 10.0 Antioxidant supplements for preventing gastrointestinal cancers.rm5"
       ]
      },
      {
       "output_type": "stream",
       "stream": "stdout",
       "text": [
        "\n",
        "CD004185 v. 10.0 Fluoxetine versus other types of pharmacotherapy for depression.rm5"
       ]
      },
      {
       "output_type": "stream",
       "stream": "stdout",
       "text": [
        "\n",
        "CD004192 v. 8.0 Dietary interventions for multiple sclerosis.rm5"
       ]
      },
      {
       "output_type": "stream",
       "stream": "stdout",
       "text": [
        "\n",
        "CD004197 v. 11.0 Antibiotic strategies for eradicating Pseudomonas aeruginosa in people with cystic fibrosis.rm5"
       ]
      },
      {
       "output_type": "stream",
       "stream": "stdout",
       "text": [
        "\n",
        "CD004198 v. 8.0 Treatments for priapism in boys and men with sickle cell disease.rm5"
       ]
      },
      {
       "output_type": "stream",
       "stream": "stdout",
       "text": [
        "\n",
        "CD004201 v. 6.0 Urinary catheter policies for long-term bladder drainage.rm5"
       ]
      },
      {
       "output_type": "stream",
       "stream": "stdout",
       "text": [
        "\n",
        "CD004203 v. 6.3 Urethral (indwelling or intermittent) or suprapubic routes for short-term catheterisation in hospita.rm5"
       ]
      },
      {
       "output_type": "stream",
       "stream": "stdout",
       "text": [
        "\n",
        "CD004205 v. 7.1 Pentoxifylline for treatment of sepsis and necrotizing enterocolitis in neonates.rm5"
       ]
      },
      {
       "output_type": "stream",
       "stream": "stdout",
       "text": [
        "\n",
        "CD004210 v. 7.0 Interventions to prevent hypothermia at birth in preterm andor low birthweight infants.rm5"
       ]
      },
      {
       "output_type": "stream",
       "stream": "stdout",
       "text": [
        "\n",
        "CD004213 v. 6.0 Ibuprofen for the prevention of patent ductus arteriosus in preterm andor low birth weight infants.rm5"
       ]
      },
      {
       "output_type": "stream",
       "stream": "stdout",
       "text": [
        "\n",
        "CD004215 v. 4.1 Double wall versus single wall incubator for reducing heat loss in very low birth weight infants in .rm5"
       ]
      },
      {
       "output_type": "stream",
       "stream": "stdout",
       "text": [
        "\n",
        "CD004219 v. 5.0 Percutaneous central venous catheters versus peripheral cannulae for delivery of parenteral nutritio.rm5\n",
        "CD004220 v. 5.1 Thyroid hormone supplementation for the prevention of morbidity and mortality in infants undergoing .rm5"
       ]
      },
      {
       "output_type": "stream",
       "stream": "stdout",
       "text": [
        "\n",
        "CD004224 v. 7.0 Planned elective repeat caesarean section versus planned vaginal birth for women with a previous cae.rm5\n",
        "CD004226 v. 7.0 Antenatal interventions for fetomaternal alloimmune thrombocytopenia.rm5"
       ]
      },
      {
       "output_type": "stream",
       "stream": "stdout",
       "text": [
        "\n",
        "CD004239 v. 5.2 Non-steroidal anti-inflammatory agents for treating cystoid macular oedema following cataract surger.rm5"
       ]
      },
      {
       "output_type": "stream",
       "stream": "stdout",
       "text": [
        "\n",
        "CD004240 v. 6.0 Adjustable versus non-adjustable sutures for strabismus.rm5\n",
        "CD004241 v. 7.0 Medical interventions for fungal keratitis.rm5"
       ]
      },
      {
       "output_type": "stream",
       "stream": "stdout",
       "text": [
        "\n",
        "CD004242 v. 11.2 Day care versus in-patient surgery for age-related cataract.rm5"
       ]
      },
      {
       "output_type": "stream",
       "stream": "stdout",
       "text": [
        "\n",
        "CD004244 v. 5.0 Alpha lipoic acid for dementia.rm5\n",
        "CD004246 v. 9.0 Efavirenz or nevirapine in three-drug combination therapy with two nucleoside or nucleotide-reverse .rm5"
       ]
      },
      {
       "output_type": "stream",
       "stream": "stdout",
       "text": [
        "\n",
        "CD004249 v. 10.0 Manipulation and mobilisation for neck pain contrasted against an inactive control or another active.rm5"
       ]
      },
      {
       "output_type": "stream",
       "stream": "stdout",
       "text": [
        "\n",
        "CD004250 v. 9.0 Exercises for mechanical neck disorders.rm5"
       ]
      },
      {
       "output_type": "stream",
       "stream": "stdout",
       "text": [
        "\n",
        "CD004251 v. 10.10 Electrotherapy for neck pain.rm5"
       ]
      },
      {
       "output_type": "stream",
       "stream": "stdout",
       "text": [
        "\n",
        "CD004265 v. 8.0 Hand washing promotion for preventing diarrhoea.rm5"
       ]
      },
      {
       "output_type": "stream",
       "stream": "stdout",
       "text": [
        "\n",
        "CD004269 v. 10.6 Prophylactic platelet transfusion for prevention of bleeding in patients with haematological disorde.rm5"
       ]
      },
      {
       "output_type": "stream",
       "stream": "stdout",
       "text": [
        "\n",
        "CD004277 v. 3.0 Cyclosporine A for induction of remission in severe ulcerative colitis.rm5"
       ]
      },
      {
       "output_type": "stream",
       "stream": "stdout",
       "text": [
        "\n",
        "CD004284 v. 7.0 Palliative endobronchial brachytherapy for non-small cell lung cancer.rm5\n",
        "CD004287 v. 9.2 Tissue adhesives for closure of surgical incisions.rm5"
       ]
      },
      {
       "output_type": "stream",
       "stream": "stdout",
       "text": [
        "\n",
        "CD004288 v. 8.0 Surgical hand antisepsis to reduce surgical site infection.rm5"
       ]
      },
      {
       "output_type": "stream",
       "stream": "stdout",
       "text": [
        "\n",
        "CD004292 v. 7.0 Water for preventing urinary stones.rm5"
       ]
      },
      {
       "output_type": "stream",
       "stream": "stdout",
       "text": [
        "\n",
        "CD004294 v. 6.3 Physical rehabilitation for older people in long-term care.rm5"
       ]
      },
      {
       "output_type": "stream",
       "stream": "stdout",
       "text": [
        "\n",
        "CD004302 v. 6.0 Ciliary neurotrophic factor (CNTF) for amyotrophic lateral sclerosis or motor neuron disease.rm5"
       ]
      },
      {
       "output_type": "stream",
       "stream": "stdout",
       "text": [
        "\n",
        "CD004303 v. 9.2 Interventions for dysphagia in long-term progressive muscle disease.rm5"
       ]
      },
      {
       "output_type": "stream",
       "stream": "stdout",
       "text": [
        "\n",
        "CD004305 v. 9.4 Healthcare financing systems for increasing the use of tobacco dependence treatment.rm5"
       ]
      },
      {
       "output_type": "stream",
       "stream": "stdout",
       "text": [
        "\n",
        "CD004306 v. 10.0 Interventions for smokeless tobacco use cessation.rm5"
       ]
      },
      {
       "output_type": "stream",
       "stream": "stdout",
       "text": [
        "\n",
        "CD004307 v. 11.2 Incentives for smoking cessation.rm5"
       ]
      },
      {
       "output_type": "stream",
       "stream": "stdout",
       "text": [
        "\n",
        "CD004314 v. 5.3 Botulinum toxin type A versus botulinum toxin type B for cervical dystonia.rm5"
       ]
      },
      {
       "output_type": "stream",
       "stream": "stdout",
       "text": [
        "\n",
        "CD004315 v. 4.0 Botulinum toxin type B for cervical dystonia.rm5"
       ]
      },
      {
       "output_type": "stream",
       "stream": "stdout",
       "text": [
        "\n",
        "CD004316 v. 11.1 Steroid hormones for contraception in men.rm5"
       ]
      },
      {
       "output_type": "stream",
       "stream": "stdout",
       "text": [
        "\n",
        "CD004317 v. 9.0 Strategies to improve adherence and acceptability of hormonal methods of contraception.rm5"
       ]
      },
      {
       "output_type": "stream",
       "stream": "stdout",
       "text": [
        "\n",
        "CD004320 v. 5.0 Stapled versus handsewn methods for ileocolic anastomoses.rm5"
       ]
      },
      {
       "output_type": "stream",
       "stream": "stdout",
       "text": [
        "\n",
        "CD004323 v. 8.0 Quality of life after rectal resection for cancer with or without permanent colostomy..rm5"
       ]
      },
      {
       "output_type": "stream",
       "stream": "stdout",
       "text": [
        "\n",
        "CD004327 v. 6.0 Botulinum toxin injections for the treatment of spasmodic dysphonia.rm5"
       ]
      },
      {
       "output_type": "stream",
       "stream": "stdout",
       "text": [
        "\n",
        "CD004338 v. 7.0 Prophylactic antibiotics to reduce morbidity and mortality in ventilated newborn infants.rm5"
       ]
      },
      {
       "output_type": "stream",
       "stream": "stdout",
       "text": [
        "\n",
        "CD004339 v. 6.0 Arginine supplementation for prevention of necrotising enterocolitis in preterm infants.rm5\n",
        "CD004344 v. 13.0 Treatment for avascular necrosis of bone in people with sickle cell disease.rm5"
       ]
      },
      {
       "output_type": "stream",
       "stream": "stdout",
       "text": [
        "\n",
        "CD004346 v. 6.0 Recall intervals for oral health in primary care patients.rm5\n",
        "CD004350 v. 7.0 Regional versus general anaesthesia for caesarean section.rm5"
       ]
      },
      {
       "output_type": "stream",
       "stream": "stdout",
       "text": [
        "\n",
        "CD004351 v. 6.2 Prevention and treatment of postpartum hypertension.rm5"
       ]
      },
      {
       "output_type": "stream",
       "stream": "stdout",
       "text": [
        "\n",
        "CD004352 v. 8.0 Betamimetics for inhibiting preterm labour.rm5"
       ]
      },
      {
       "output_type": "stream",
       "stream": "stdout",
       "text": [
        "\n",
        "CD004358 v. 12.0 Anticholinergics for prolonged non-specific cough in children.rm5"
       ]
      },
      {
       "output_type": "stream",
       "stream": "stdout",
       "text": [
        "\n",
        "CD004359 v. 6.0 Nurse specialist care for bronchiectasis.rm5\n",
        "CD004360 v. 6.6 Non-invasive positive pressure ventilation for treatment of respiratory failure due to severe acute .rm5\n",
        "CD004366 v. 12.5 Exercise for depression.rm5"
       ]
      },
      {
       "output_type": "stream",
       "stream": "stdout",
       "text": [
        "\n",
        "CD004370 v. 7.0 Intravenous immunoglobulin for presumed viral myocarditis in children and adults.rm5"
       ]
      },
      {
       "output_type": "stream",
       "stream": "stdout",
       "text": [
        "\n",
        "CD004371 v. 9.0 Interventions to improve adherence to lipid-lowering medication.rm5"
       ]
      },
      {
       "output_type": "stream",
       "stream": "stdout",
       "text": [
        "\n",
        "CD004372 v. 6.0 Psychological interventions for depression in adolescent and adult congenital heart disease.rm5"
       ]
      },
      {
       "output_type": "stream",
       "stream": "stdout",
       "text": [
        "\n",
        "CD004375 v. 6.0 Catheter policies for management of long term voiding problems in adults with neurogenic bladder dis.rm5\n",
        "CD004376 v. 6.0 Exercise for osteoarthritis of the knee.rm5"
       ]
      },
      {
       "output_type": "stream",
       "stream": "stdout",
       "text": [
        "\n",
        "CD004380 v. 5.15 School-based education programmes for the prevention of child sexual abuse.rm5"
       ]
      },
      {
       "output_type": "stream",
       "stream": "stdout",
       "text": [
        "\n",
        "CD004383 v. 5.2 Specialist home-based nursing services for children with acute and chronic illnesses.rm5"
       ]
      },
      {
       "output_type": "stream",
       "stream": "stdout",
       "text": [
        "\n",
        "CD004385 v. 6.0 Methotrexate for primary biliary cirrhosis.rm5"
       ]
      },
      {
       "output_type": "stream",
       "stream": "stdout",
       "text": [
        "\n",
        "CD004389 v. 4.0 Primaquine for preventing relapse in people with Plasmodium vivax malaria treated with chloroquine.rm5"
       ]
      },
      {
       "output_type": "stream",
       "stream": "stdout",
       "text": [
        "\n",
        "CD004391 v. 7.0 Intramuscular arteether for treating severe malaria.rm5"
       ]
      },
      {
       "output_type": "stream",
       "stream": "stdout",
       "text": [
        "\n",
        "CD004393 v. 8.1 Vitamin B6 for cognition.rm5\n",
        "CD004396 v. 8.0 Respite care for people with dementia and their carers.rm5"
       ]
      },
      {
       "output_type": "stream",
       "stream": "stdout",
       "text": [
        "\n",
        "CD004399 v. 6.1 Medical versus surgical interventions for open angle glaucoma.rm5"
       ]
      },
      {
       "output_type": "stream",
       "stream": "stdout",
       "text": [
        "\n",
        "CD004406 v. 9.0 Different antibiotic treatments for group A streptococcal pharyngitis.rm5"
       ]
      },
      {
       "output_type": "stream",
       "stream": "stdout",
       "text": [
        "\n",
        "CD004418 v. 13.0 Empiric antibiotic coverage of atypical pathogens for community-acquired pneumonia in hospitalized a.rm5"
       ]
      },
      {
       "output_type": "stream",
       "stream": "stdout",
       "text": [
        "\n",
        "CD004419 v. 9.0 Advising patients to increase fluid intake for treating acute respiratory infections.rm5"
       ]
      },
      {
       "output_type": "stream",
       "stream": "stdout",
       "text": [
        "\n",
        "CD004425 v. 10.0 Combined oral contraceptive pills for treatment of acne.rm5\n",
        "CD004426 v. 7.2 Treatment for mitochondrial disorders.rm5"
       ]
      },
      {
       "output_type": "stream",
       "stream": "stdout",
       "text": [
        "\n",
        "CD004427 v. 6.0 Mechanical ventilation for amyotrophic lateral sclerosismotor neuron disease.rm5"
       ]
      },
      {
       "output_type": "stream",
       "stream": "stdout",
       "text": [
        "\n",
        "CD004434 v. 8.2 Endothelin receptor antagonists for pulmonary arterial hypertension.rm5"
       ]
      },
      {
       "output_type": "stream",
       "stream": "stdout",
       "text": [
        "\n",
        "CD004436 v. 10.2 Inhaled cromones for prolonged non-specific cough in children.rm5"
       ]
      },
      {
       "output_type": "stream",
       "stream": "stdout",
       "text": [
        "\n",
        "CD004437 v. 7.0 Thrombolytic therapy for pulmonary embolism.rm5"
       ]
      },
      {
       "output_type": "stream",
       "stream": "stdout",
       "text": [
        "\n",
        "CD004443 v. 5.0 Naloxone for shock.rm5"
       ]
      },
      {
       "output_type": "stream",
       "stream": "stdout",
       "text": [
        "\n",
        "CD004444 v. 4.0 Gangliosides for acute spinal cord injury.rm5\n",
        "CD004447 v. 12.0 Recombinant growth hormone therapy for X-linked hypophosphatemia in children.rm5"
       ]
      },
      {
       "output_type": "stream",
       "stream": "stdout",
       "text": [
        "\n",
        "CD004448 v. 9.0 Phytomedicines (medicines derived from plants) for sickle cell disease.rm5\n",
        "CD004449 v. 8.0 Recombinant factor VIIa concentrate versus plasma-derived concentrates for treating acute bleeding e.rm5"
       ]
      },
      {
       "output_type": "stream",
       "stream": "stdout",
       "text": [
        "\n",
        "CD004451 v. 6.0 Diuretics for preventing pre-eclampsia.rm5"
       ]
      },
      {
       "output_type": "stream",
       "stream": "stdout",
       "text": [
        "\n",
        "CD004452 v. 12.0 Oxytocin receptor antagonists for inhibiting preterm labour.rm5"
       ]
      },
      {
       "output_type": "stream",
       "stream": "stdout",
       "text": [
        "\n",
        "CD004453 v. 6.2 Abdominal surgical incisions for caesarean section.rm5"
       ]
      },
      {
       "output_type": "stream",
       "stream": "stdout",
       "text": [
        "\n",
        "CD004454 v. 7.4 Antenatal corticosteroids for accelerating fetal lung maturation for women at risk of preterm birth.rm5"
       ]
      },
      {
       "output_type": "stream",
       "stream": "stdout",
       "text": [
        "\n",
        "CD004455 v. 8.0 Antibiotic prophylaxis for operative vaginal delivery.rm5"
       ]
      },
      {
       "output_type": "stream",
       "stream": "stdout",
       "text": [
        "\n",
        "CD004456 v. 5.0 Home visits during pregnancy and after birth for women with an alcohol or drug problem.rm5"
       ]
      },
      {
       "output_type": "stream",
       "stream": "stdout",
       "text": [
        "\n",
        "CD004458 v. 5.0 Functional endoscopic sinus surgery for chronic rhinosinusitis.rm5"
       ]
      },
      {
       "output_type": "stream",
       "stream": "stdout",
       "text": [
        "\n",
        "CD004459 v. 6.0 Surgical interventions for pharyngeal pouch.rm5\n",
        "CD004460 v. 4.0 Capsaicin for allergic rhinitis in adults.rm5"
       ]
      },
      {
       "output_type": "stream",
       "stream": "stdout",
       "text": [
        "\n",
        "CD004461 v. 6.0 Interventions for recurrent idiopathic epistaxis (nosebleeds) in children.rm5\n",
        "CD004464 v. 7.0 Sacral nerve stimulation for faecal incontinence and constipation in adults.rm5"
       ]
      },
      {
       "output_type": "stream",
       "stream": "stdout",
       "text": [
        "\n",
        "CD004466 v. 5.0 Incentive spirometry for preventing pulmonary complications after coronary artery bypass graft.rm5"
       ]
      },
      {
       "output_type": "stream",
       "stream": "stdout",
       "text": [
        "\n",
        "CD004467 v. 6.0 Low glycaemic index diets for the prevention of cardiovascular disease.rm5"
       ]
      },
      {
       "output_type": "stream",
       "stream": "stdout",
       "text": [
        "\n",
        "CD004469 v. 7.0 Antibiotics for brain abscesses in people with cyanotic congenital heart disease.rm5"
       ]
      },
      {
       "output_type": "stream",
       "stream": "stdout",
       "text": [
        "\n",
        "CD004471 v. 6.1 Corticosteroids for viral myocarditis.rm5\n",
        "CD004472 v. 4.0 Preoperative intra aortic balloon pumps in patients undergoing coronary artery bypass grafting.rm5"
       ]
      },
      {
       "output_type": "stream",
       "stream": "stdout",
       "text": [
        "\n",
        "CD004493 v. 9.179 Family-based programmes for preventing smoking by children and adolescents.rm5\n",
        "CD004496 v. 7.2 Intraventricular antibiotics for bacterial meningitis in neonates.rm5"
       ]
      },
      {
       "output_type": "stream",
       "stream": "stdout",
       "text": [
        "\n",
        "CD004497 v. 6.0 Carnitine supplementation for preterm infants with recurrent apnoea.rm5\n",
        "CD004504 v. 10.27 Herbal medicine for low-back pain.rm5"
       ]
      },
      {
       "output_type": "stream",
       "stream": "stdout",
       "text": [
        "\n",
        "CD004507 v. 6.0 Semen preparation techniques for intrauterine insemination.rm5"
       ]
      },
      {
       "output_type": "stream",
       "stream": "stdout",
       "text": [
        "\n",
        "CD004508 v. 5.0 Early versus delayed oral fluids and food for reducing complications after major abdominal gynaecolo.rm5"
       ]
      },
      {
       "output_type": "stream",
       "stream": "stdout",
       "text": [
        "\n",
        "CD004520 v. 11.0 Chinese herbal medicine for oesophageal cancer.rm5"
       ]
      },
      {
       "output_type": "stream",
       "stream": "stdout",
       "text": [
        "\n",
        "CD004524 v. 8.0 Methotrexate for ankylosing spondylitis.rm5"
       ]
      },
      {
       "output_type": "stream",
       "stream": "stdout",
       "text": [
        "\n",
        "CD004532 v. 7.3 Routine surgery in addition to chemotherapy for treating spinal tuberculosis.rm5"
       ]
      },
      {
       "output_type": "stream",
       "stream": "stdout",
       "text": [
        "\n",
        "CD004541 v. 10.0 Antidepressants for treating depression in adults with end-stage kidney disease treated with dialysi.rm5"
       ]
      },
      {
       "output_type": "stream",
       "stream": "stdout",
       "text": [
        "\n",
        "CD004549 v. 9.0 Wound drainage for caesarean section.rm5"
       ]
      },
      {
       "output_type": "stream",
       "stream": "stdout",
       "text": [
        "\n",
        "CD004551 v. 6.0 Pin site care for preventing infections associated with external bone fixators and pins.rm5"
       ]
      },
      {
       "output_type": "stream",
       "stream": "stdout",
       "text": [
        "\n",
        "CD004559 v. 12.0 Chinese medicinal herbs for influenza.rm5"
       ]
      },
      {
       "output_type": "stream",
       "stream": "stdout",
       "text": [
        "\n",
        "CD004560 v. 15.0 Chinese medicinal herbs for acute bronchitis.rm5"
       ]
      },
      {
       "output_type": "stream",
       "stream": "stdout",
       "text": [
        "\n",
        "CD004562 v. 7.0 LHRH agonists for adjuvant therapy of early breast cancer in premenopausal women.rm5"
       ]
      },
      {
       "output_type": "stream",
       "stream": "stdout",
       "text": [
        "\n",
        "CD004568 v. 12.0 Combination injectable contraceptives for contraception.rm5\n",
        "CD004574 v. 4.0 Interventions for treating mallet finger injuries.rm5"
       ]
      },
      {
       "output_type": "stream",
       "stream": "stdout",
       "text": [
        "\n",
        "CD004575 v. 5.0 Rehabilitation for hamstring injuries.rm5\n",
        "CD004577 v. 6.0 Stretching to prevent or reduce muscle soreness after exercise.rm5"
       ]
      },
      {
       "output_type": "stream",
       "stream": "stdout",
       "text": [
        "\n",
        "CD004580 v. 10.0 Inpatient versus other settings for detoxification for opioid dependence.rm5"
       ]
      },
      {
       "output_type": "stream",
       "stream": "stdout",
       "text": [
        "\n",
        "CD004591 v. 6.0 Lactase treated feeds to promote growth and feeding tolerance in preterm infants.rm5\n",
        "CD004596 v. 12.0 Drug therapy for symptoms associated with anxiety in adult palliative care patients.rm5"
       ]
      },
      {
       "output_type": "stream",
       "stream": "stdout",
       "text": [
        "\n",
        "CD004609 v. 8.17 Hyperbaric oxygen therapy for the adjunctive treatment of traumatic brain injury.rm5"
       ]
      },
      {
       "output_type": "stream",
       "stream": "stdout",
       "text": [
        "\n",
        "CD004610 v. 9.0 Antibiotic treatment for Clostridium difficile-associated diarrhoea in adults.rm5"
       ]
      },
      {
       "output_type": "stream",
       "stream": "stdout",
       "text": [
        "\n",
        "CD004614 v. 6.0 Unit-dose packaged drugs for treating malaria.rm5"
       ]
      },
      {
       "output_type": "stream",
       "stream": "stdout",
       "text": [
        "\n",
        "CD004615 v. 5.2 Mannitol and other osmotic diuretics as adjuncts for treating cerebral malaria.rm5"
       ]
      },
      {
       "output_type": "stream",
       "stream": "stdout",
       "text": [
        "\n",
        "CD004617 v. 7.0 Hyperbaric oxygen as an adjuvant treatment for malignant otitis externa.rm5\n",
        "CD004619 v. 5.8 Coblation versus other surgical techniques for tonsillectomy.rm5"
       ]
      },
      {
       "output_type": "stream",
       "stream": "stdout",
       "text": [
        "\n",
        "CD004621 v. 5.0 Extraction of primary (baby) teeth for unerupted palatally displaced permanent canine teeth in child.rm5"
       ]
      },
      {
       "output_type": "stream",
       "stream": "stdout",
       "text": [
        "\n",
        "CD004622 v. 7.2 Full-mouth treatment modalities (within 24 hours) for chronic periodontitis in adults.rm5\n",
        "CD004625 v. 5.0 Routine scale and polish for periodontal health in adults.rm5"
       ]
      },
      {
       "output_type": "stream",
       "stream": "stdout",
       "text": [
        "\n",
        "CD004643 v. 7.0 Blood pressure lowering efficacy of alpha blockers for primary hypertension.rm5"
       ]
      },
      {
       "output_type": "stream",
       "stream": "stdout",
       "text": [
        "\n",
        "CD004660 v. 7.0 Caesarean section for non-medical reasons at term.rm5"
       ]
      },
      {
       "output_type": "stream",
       "stream": "stdout",
       "text": [
        "\n",
        "CD004664 v. 6.0 Vibroacoustic stimulation for fetal assessment in labour in the presence of a nonreassuring fetal he.rm5\n",
        "CD004665 v. 8.0 Placental cord drainage after vaginal delivery as part of the management of the third stage of labou.rm5"
       ]
      },
      {
       "output_type": "stream",
       "stream": "stdout",
       "text": [
        "\n",
        "CD004667 v. 11.0 Midwife-led continuity models versus other models of care for childbearing women.rm5"
       ]
      },
      {
       "output_type": "stream",
       "stream": "stdout",
       "text": [
        "\n",
        "CD004668 v. 5.0 Complex behavioural and educational interventions for nocturnal enuresis in children.rm5"
       ]
      },
      {
       "output_type": "stream",
       "stream": "stdout",
       "text": [
        "\n",
        "CD004670 v. 7.0 Zhiling decoction for vascular dementia.rm5"
       ]
      },
      {
       "output_type": "stream",
       "stream": "stdout",
       "text": [
        "\n",
        "CD004677 v. 5.37 Selective serotonin reuptake inhibitors (SSRIs) for autism spectrum disorders (ASD).rm5\n",
        "CD004678 v. 5.14 Glatiramer acetate for multiple sclerosis.rm5"
       ]
      },
      {
       "output_type": "stream",
       "stream": "stdout",
       "text": [
        "\n",
        "CD004685 v. 7.0 Systemic antifungal therapy for tinea capitis in children.rm5"
       ]
      },
      {
       "output_type": "stream",
       "stream": "stdout",
       "text": [
        "\n",
        "CD004687 v. 9.1 Short-term psychodynamic psychotherapies for common mental disorders.rm5"
       ]
      },
      {
       "output_type": "stream",
       "stream": "stdout",
       "text": [
        "\n",
        "CD004694 v. 10.11 Tiagabine for acute affective episodes in bipolar disorder.rm5"
       ]
      },
      {
       "output_type": "stream",
       "stream": "stdout",
       "text": [
        "\n",
        "CD004695 v. 11.0 Continuous or extended cycle vs. cyclic use of combined hormonal contraceptives for contraception.rm5\n",
        "CD004696 v. 7.0 Nutrient-enriched formula versus standard formula for preterm infants following hospital discharge.rm5"
       ]
      },
      {
       "output_type": "stream",
       "stream": "stdout",
       "text": [
        "\n",
        "CD004697 v. 6.0 Prophylactic antibiotics to reduce morbidity and mortality in neonates with umbilical artery cathete.rm5"
       ]
      },
      {
       "output_type": "stream",
       "stream": "stdout",
       "text": [
        "\n",
        "CD004699 v. 7.0 Surgery for local and locally advanced non-small cell lung cancer.rm5\n",
        "CD004700 v. 10.0 Early versus late chest radiotherapy in patients with limited-stage small cell lung cancer.rm5"
       ]
      },
      {
       "output_type": "stream",
       "stream": "stdout",
       "text": [
        "\n",
        "CD004704 v. 10.5 Mass media interventions for smoking cessation in adults.rm5"
       ]
      },
      {
       "output_type": "stream",
       "stream": "stdout",
       "text": [
        "\n",
        "CD004705 v. 7.2 Biomedical risk assessment as an aid for smoking cessation.rm5"
       ]
      },
      {
       "output_type": "stream",
       "stream": "stdout",
       "text": [
        "\n",
        "CD004712 v. 5.0 Hyperbaric oxygen therapy for promoting fracture healing and treating fracture non-union.rm5"
       ]
      },
      {
       "output_type": "stream",
       "stream": "stdout",
       "text": [
        "\n",
        "CD004713 v. 6.0 Hyperbaric oxygen therapy for delayed onset muscle soreness and closed soft tissue injury.rm5\n",
        "CD004714 v. 5.12 Treatment of periodontal disease for glycaemic control in people with diabetes mellitus.rm5"
       ]
      },
      {
       "output_type": "stream",
       "stream": "stdout",
       "text": [
        "\n",
        "CD004718 v. 7.0 Early intervention for psychosis.rm5"
       ]
      },
      {
       "output_type": "stream",
       "stream": "stdout",
       "text": [
        "\n",
        "CD004720 v. 8.0 Screening for prostate cancer.rm5"
       ]
      },
      {
       "output_type": "stream",
       "stream": "stdout",
       "text": [
        "\n",
        "CD004722 v. 7.0 Transdermal nicotine for induction of remission in ulcerative colitis.rm5"
       ]
      },
      {
       "output_type": "stream",
       "stream": "stdout",
       "text": [
        "\n",
        "CD004727 v. 9.0 Hyperbaric oxygen therapy for thermal burns.rm5\n",
        "CD004730 v. 10.0 Insulin and oral agents for managing cystic fibrosis-related diabetes.rm5"
       ]
      },
      {
       "output_type": "stream",
       "stream": "stdout",
       "text": [
        "\n",
        "CD004731 v. 10.4 Protein substitute for children and adults with phenylketonuria.rm5"
       ]
      },
      {
       "output_type": "stream",
       "stream": "stdout",
       "text": [
        "\n",
        "CD004732 v. 6.0 Surgical techniques for uterine incision and uterine closure at the time of caesarean section.rm5\n",
        "CD004733 v. 6.2 Prophylactic oral betamimetics for reducing preterm birth in women with a twin pregnancy.rm5"
       ]
      },
      {
       "output_type": "stream",
       "stream": "stdout",
       "text": [
        "\n",
        "CD004734 v. 6.0 Aspirin andor heparin for women with unexplained recurrent miscarriage with or without inherited th.rm5"
       ]
      },
      {
       "output_type": "stream",
       "stream": "stdout",
       "text": [
        "\n",
        "CD004735 v. 4.0 Planned early birth versus expectant management for women with preterm prelabour rupture of membrane.rm5"
       ]
      },
      {
       "output_type": "stream",
       "stream": "stdout",
       "text": [
        "\n",
        "CD004736 v. 8.0 Daily oral iron supplementation during pregnancy.rm5"
       ]
      },
      {
       "output_type": "stream",
       "stream": "stdout",
       "text": [
        "\n",
        "CD004739 v. 7.2 Hyperbaric oxygen for idiopathic sudden sensorineural hearing loss and tinnitus.rm5"
       ]
      },
      {
       "output_type": "stream",
       "stream": "stdout",
       "text": [
        "\n",
        "CD004741 v. 3.0 Grommets (ventilation tubes) for recurrent acute otitis media in children.rm5"
       ]
      },
      {
       "output_type": "stream",
       "stream": "stdout",
       "text": [
        "\n",
        "CD004744 v. 6.0 Rivastigmine for vascular cognitive impairment.rm5\n",
        "CD004746 v. 8.0 Galantamine for vascular cognitive impairment.rm5"
       ]
      },
      {
       "output_type": "stream",
       "stream": "stdout",
       "text": [
        "\n",
        "CD004756 v. 9.2 Polyclonal and monoclonal antibodies for treating acute rejection episodes in kidney transplant reci.rm5"
       ]
      },
      {
       "output_type": "stream",
       "stream": "stdout",
       "text": [
        "\n",
        "CD004760 v. 8.0 Creatine for treating muscle disorders.rm5"
       ]
      },
      {
       "output_type": "stream",
       "stream": "stdout",
       "text": [
        "\n",
        "CD004761 v. 4.2 Treatment for Fisher syndrome Bickerstaff's brainstem encephalitis and related disorders.rm5"
       ]
      },
      {
       "output_type": "stream",
       "stream": "stdout",
       "text": [
        "\n",
        "CD004764 v. 6.0 Patching for corneal abrasion.rm5"
       ]
      },
      {
       "output_type": "stream",
       "stream": "stdout",
       "text": [
        "\n",
        "CD004767 v. 11.0 Interventions for cutaneous molluscum contagiosum.rm5"
       ]
      },
      {
       "output_type": "stream",
       "stream": "stdout",
       "text": [
        "\n",
        "CD004770 v. 11.0 Drug therapy for delirium in terminally ill adult patients.rm5"
       ]
      },
      {
       "output_type": "stream",
       "stream": "stdout",
       "text": [
        "\n",
        "CD004776 v. 5.2 Treatment for anemia in people with AIDS.rm5"
       ]
      },
      {
       "output_type": "stream",
       "stream": "stdout",
       "text": [
        "\n",
        "CD004783 v. 16.0 Antibiotics for acute laryngitis in adults.rm5"
       ]
      },
      {
       "output_type": "stream",
       "stream": "stdout",
       "text": [
        "\n",
        "CD004785 v. 10.0 Antibiotics for preventing meningococcal infections.rm5"
       ]
      },
      {
       "output_type": "stream",
       "stream": "stdout",
       "text": [
        "\n",
        "CD004786 v. 13.0 Fluid therapy for acute bacterial meningitis.rm5"
       ]
      },
      {
       "output_type": "stream",
       "stream": "stdout",
       "text": [
        "\n",
        "CD004792 v. 14.0 Vitamin K for upper gastrointestinal bleeding in people with acute or chronic liver diseases.rm5"
       ]
      },
      {
       "output_type": "stream",
       "stream": "stdout",
       "text": [
        "\n",
        "CD004795 v. 6.0 Fluoroquinolones for treating tuberculosis (presumed drug-sensitive).rm5\n",
        "CD004800 v. 7.2 Sulfasalazine for ankylosing spondylitis.rm5"
       ]
      },
      {
       "output_type": "stream",
       "stream": "stdout",
       "text": [
        "\n",
        "CD004803 v. 6.0 Retention versus sacrifice of the posterior cruciate ligament in total knee arthroplasty for treatin.rm5"
       ]
      },
      {
       "output_type": "stream",
       "stream": "stdout",
       "text": [
        "\n",
        "CD004809 v. 4.2 Policy interventions implemented through sporting organisations for promoting healthy behaviour chan.rm5"
       ]
      },
      {
       "output_type": "stream",
       "stream": "stdout",
       "text": [
        "\n",
        "CD004812 v. 5.2 Interventions implemented through sporting organisations for increasing participation in sport.rm5\n",
        "CD004815 v. 7.0 Routine invasive strategies versus selective invasive strategies for unstable angina and non-ST elev.rm5"
       ]
      },
      {
       "output_type": "stream",
       "stream": "stdout",
       "text": [
        "\n",
        "CD004818 v. 6.0 Hyperbaric oxygen therapy for acute coronary syndrome.rm5"
       ]
      },
      {
       "output_type": "stream",
       "stream": "stdout",
       "text": [
        "\n",
        "CD004822 v. 6.0 Antibiotics for prolonged moist cough in children.rm5"
       ]
      },
      {
       "output_type": "stream",
       "stream": "stdout",
       "text": [
        "\n",
        "CD004823 v. 11.0 Gastro-oesophageal reflux treatment for prolonged non-specific cough in children and adults.rm5\n",
        "CD004829 v. 5.2 Pain relief for women undergoing oocyte retrieval for assisted reproduction.rm5"
       ]
      },
      {
       "output_type": "stream",
       "stream": "stdout",
       "text": [
        "\n",
        "CD004837 v. 5.0 Cannabis and schizophrenia.rm5"
       ]
      },
      {
       "output_type": "stream",
       "stream": "stdout",
       "text": [
        "\n",
        "CD004851 v. 11.2 Newer generation antidepressants for depressive disorders in children and adolescents.rm5"
       ]
      },
      {
       "output_type": "stream",
       "stream": "stdout",
       "text": [
        "\n",
        "CD004856 v. 6.0 Behavioural and cognitive behavioural therapy for obsessive compulsive disorder in children and adol.rm5"
       ]
      },
      {
       "output_type": "stream",
       "stream": "stdout",
       "text": [
        "\n",
        "CD004860 v. 8.0 Fertility awareness-based methods for contraception.rm5"
       ]
      },
      {
       "output_type": "stream",
       "stream": "stdout",
       "text": [
        "\n",
        "CD004865 v. 5.0 Early versus late erythropoietin for preventing red blood cell transfusion in preterm andor low bir.rm5\n",
        "CD004868 v. 6.0 Late erythropoietin for preventing red blood cell transfusion in preterm andor low birth weight inf.rm5"
       ]
      },
      {
       "output_type": "stream",
       "stream": "stdout",
       "text": [
        "\n",
        "CD004869 v. 5.0 Cysteine cystine or N-acetylcysteine supplementation in parenterally fed neonates.rm5"
       ]
      },
      {
       "output_type": "stream",
       "stream": "stdout",
       "text": [
        "\n",
        "CD004872 v. 7.0 Short-term late-generation antibiotics versus longer term penicillin for acute streptococcal pharyng.rm5\n",
        "CD004874 v. 10.0 Antibiotics for community-acquired pneumonia in children.rm5"
       ]
      },
      {
       "output_type": "stream",
       "stream": "stdout",
       "text": [
        "\n",
        "CD004875 v. 9.0 Antibiotics for community-acquired lower respiratory tract infections secondary to Mycoplasma pneumo.rm5"
       ]
      },
      {
       "output_type": "stream",
       "stream": "stdout",
       "text": [
        "\n",
        "CD004876 v. 9.0 Vaccines for preventing influenza in the elderly.rm5"
       ]
      },
      {
       "output_type": "stream",
       "stream": "stdout",
       "text": [
        "\n",
        "CD004877 v. 14.0 Chinese medicinal herbs for sore throat.rm5"
       ]
      },
      {
       "output_type": "stream",
       "stream": "stdout",
       "text": [
        "\n",
        "CD004878 v. 10.0 Glucocorticoids for acute viral bronchiolitis in infants and young children.rm5"
       ]
      },
      {
       "output_type": "stream",
       "stream": "stdout",
       "text": [
        "\n",
        "CD004882 v. 10.0 Chinese herbs combined with Western medicine for severe acute respiratory syndrome (SARS).rm5"
       ]
      },
      {
       "output_type": "stream",
       "stream": "stdout",
       "text": [
        "\n",
        "CD004884 v. 9.0 Antibiotic prophylaxis for preventing meningitis in patients with basilar skull fractures.rm5"
       ]
      },
      {
       "output_type": "stream",
       "stream": "stdout",
       "text": [
        "\n",
        "CD004887 v. 9.0 Human recombinant activated factor VII for upper gastrointestinal bleeding in patients with liver di.rm5"
       ]
      },
      {
       "output_type": "stream",
       "stream": "stdout",
       "text": [
        "\n",
        "CD004893 v. 7.0 Anticonvulsants for preventing seizures in patients with chronic subdural haematoma.rm5"
       ]
      },
      {
       "output_type": "stream",
       "stream": "stdout",
       "text": [
        "\n",
        "CD004897 v. 6.0 Alkalinisation for organophosphorus pesticide poisoning.rm5\n",
        "CD004898 v. 5.0 Monoamine oxidase B inhibitors for early Parkinson's disease.rm5\n",
        "CD004902 v. 7.0 Risk-scoring systems for predicting preterm birth with the aim of reducing associated adverse outcom.rm5"
       ]
      },
      {
       "output_type": "stream",
       "stream": "stdout",
       "text": [
        "\n",
        "CD004903 v. 7.0 Pneumococcal vaccination during pregnancy for preventing infant infection.rm5\n",
        "CD004904 v. 7.0 Prophylactic antibiotics for manual removal of retained placenta in vaginal birth.rm5"
       ]
      },
      {
       "output_type": "stream",
       "stream": "stdout",
       "text": [
        "\n",
        "CD004906 v. 8.0 Elective repeat caesarean section versus induction of labour for women with a previous caesarean bir.rm5"
       ]
      },
      {
       "output_type": "stream",
       "stream": "stdout",
       "text": [
        "\n",
        "CD004907 v. 5.0 Package of care for active management in labour for reducing caesarean section rates in low-risk wom.rm5\n",
        "CD004909 v. 8.0 Fetal movement counting for assessment of fetal wellbeing.rm5"
       ]
      },
      {
       "output_type": "stream",
       "stream": "stdout",
       "text": [
        "\n",
        "CD004910 v. 5.0 Shared care across the interface between primary and specialty care in management of long term condi.rm5"
       ]
      },
      {
       "output_type": "stream",
       "stream": "stdout",
       "text": [
        "\n",
        "CD004912 v. 5.0 Drugs for treating uncomplicated malaria in pregnant women.rm5"
       ]
      },
      {
       "output_type": "stream",
       "stream": "stdout",
       "text": [
        "\n",
        "CD004917 v. 6.0 Interventions for infantile esotropia.rm5"
       ]
      },
      {
       "output_type": "stream",
       "stream": "stdout",
       "text": [
        "\n",
        "CD004918 v. 5.2 Aqueous shunts for glaucoma.rm5\n",
        "CD004925 v. 8.0 Routine intraoperative ureteric stenting for kidney transplant recipients.rm5"
       ]
      },
      {
       "output_type": "stream",
       "stream": "stdout",
       "text": [
        "\n",
        "CD004926 v. 9.3 Fluids and diuretics for acute ureteric colic.rm5"
       ]
      },
      {
       "output_type": "stream",
       "stream": "stdout",
       "text": [
        "\n",
        "CD004929 v. 5.0 Prophylactic nasogastric decompression after abdominal surgery.rm5"
       ]
      },
      {
       "output_type": "stream",
       "stream": "stdout",
       "text": [
        "\n",
        "CD004934 v. 8.0 Hydralazine for essential hypertension.rm5"
       ]
      },
      {
       "output_type": "stream",
       "stream": "stdout",
       "text": [
        "\n",
        "CD004937 v. 6.12 Effect of longer-term modest salt reduction on blood pressure.rm5\n",
        "CD004943 v. 6.0 Interventions at caesarean section for reducing the risk of aspiration pneumonitis.rm5"
       ]
      },
      {
       "output_type": "stream",
       "stream": "stdout",
       "text": [
        "\n",
        "CD004944 v. 7.0 Techniques for assisting difficult delivery at caesarean section.rm5"
       ]
      },
      {
       "output_type": "stream",
       "stream": "stdout",
       "text": [
        "\n",
        "CD004945 v. 7.0 Induction of labour for improving birth outcomes for women at or beyond term.rm5"
       ]
      },
      {
       "output_type": "stream",
       "stream": "stdout",
       "text": [
        "\n",
        "CD004950 v. 5.0 Breastfeeding or breast milk for procedural pain in neonates.rm5"
       ]
      },
      {
       "output_type": "stream",
       "stream": "stdout",
       "text": [
        "\n",
        "CD004954 v. 5.0 Hyperbaric oxygen therapy for acute ischaemic stroke.rm5"
       ]
      },
      {
       "output_type": "stream",
       "stream": "stdout",
       "text": [
        "\n",
        "CD004955 v. 5.0 Puerarin for ischaemic stroke.rm5"
       ]
      },
      {
       "output_type": "stream",
       "stream": "stdout",
       "text": [
        "\n",
        "CD004961 v. 6.0 Intramedullary nails for extracapsular hip fractures in adults.rm5"
       ]
      },
      {
       "output_type": "stream",
       "stream": "stdout",
       "text": [
        "\n",
        "CD004962 v. 4.0 Conservative management following closed reduction of traumatic anterior dislocation of the shoulder.rm5"
       ]
      },
      {
       "output_type": "stream",
       "stream": "stdout",
       "text": [
        "\n",
        "CD004967 v. 4.0 Drugs for treating paracoccidioidomycosis.rm5"
       ]
      },
      {
       "output_type": "stream",
       "stream": "stdout",
       "text": [
        "\n",
        "CD004969 v. 6.2 Antibiotic use for irreversible pulpitis.rm5\n",
        "CD004974 v. 9.0 Immunostimulants for preventing respiratory tract infection in children.rm5"
       ]
      },
      {
       "output_type": "stream",
       "stream": "stdout",
       "text": [
        "\n",
        "CD004977 v. 6.0 Pneumococcal conjugate vaccines for preventing vaccine-type invasive pneumococcal disease and X-ray .rm5"
       ]
      },
      {
       "output_type": "stream",
       "stream": "stdout",
       "text": [
        "\n",
        "CD004981 v. 5.0 Treatment for femoral pseudoaneurysms.rm5"
       ]
      },
      {
       "output_type": "stream",
       "stream": "stdout",
       "text": [
        "\n",
        "CD004985 v. 10.0 Preoperative bathing or showering with skin antiseptics to prevent surgical site infection.rm5"
       ]
      },
      {
       "output_type": "stream",
       "stream": "stdout",
       "text": [
        "\n",
        "CD004990 v. 6.2 Trazodone for agitation in dementia.rm5"
       ]
      },
      {
       "output_type": "stream",
       "stream": "stdout",
       "text": [
        "\n",
        "CD004993 v. 5.5 Total versus subtotal hysterectomy for benign gynaecological conditions.rm5"
       ]
      },
      {
       "output_type": "stream",
       "stream": "stdout",
       "text": [
        "\n",
        "CD004997 v. 4.0 Types of indwelling urinary catheters for long-term bladder drainage in adults.rm5"
       ]
      },
      {
       "output_type": "stream",
       "stream": "stdout",
       "text": [
        "\n",
        "CD005011 v. 10.0 Recombinant factor VIIa for the prevention and treatment of bleeding in patients without haemophilia.rm5"
       ]
      },
      {
       "output_type": "stream",
       "stream": "stdout",
       "text": [
        "\n",
        "CD005022 v. 5.0 Surgical implantation of steroids with antiangiogenic characteristics for treating neovascular age-r.rm5"
       ]
      },
      {
       "output_type": "stream",
       "stream": "stdout",
       "text": [
        "\n",
        "CD005024 v. 7.0 Surgery for traumatic optic neuropathy.rm5\n",
        "CD005031 v. 13.0 Psychosocial and pharmacological treatments versus pharmacological treatments for opioid detoxificat.rm5"
       ]
      },
      {
       "output_type": "stream",
       "stream": "stdout",
       "text": [
        "\n",
        "CD005033 v. 6.0 Perioperative blood transfusions and recurrence of colorectal cancer.rm5"
       ]
      },
      {
       "output_type": "stream",
       "stream": "stdout",
       "text": [
        "\n",
        "CD005034 v. 6.0 Rubber band ligation versus excisional haemorrhoidectomy for haemorrhoids.rm5"
       ]
      },
      {
       "output_type": "stream",
       "stream": "stdout",
       "text": [
        "\n",
        "CD005038 v. 5.0 Massage for promoting mental and physical health in typically developing infants under the age of si.rm5"
       ]
      },
      {
       "output_type": "stream",
       "stream": "stdout",
       "text": [
        "\n",
        "CD005039 v. 11.0 Community-based supplementary feeding for promoting the growth of children under five years of age i.rm5"
       ]
      },
      {
       "output_type": "stream",
       "stream": "stdout",
       "text": [
        "\n",
        "CD005043 v. 7.0 Advocacy interventions to reduce or eliminate violence and promote the physical and psychosocial wel.rm5"
       ]
      },
      {
       "output_type": "stream",
       "stream": "stdout",
       "text": [
        "\n",
        "CD005044 v. 5.0 Quinine for muscle cramps.rm5"
       ]
      },
      {
       "output_type": "stream",
       "stream": "stdout",
       "text": [
        "\n",
        "CD005046 v. 10.0 Endoscopic pneumatic dilation versus botulinum toxin injection in the management of primary achalasi.rm5"
       ]
      },
      {
       "output_type": "stream",
       "stream": "stdout",
       "text": [
        "\n",
        "CD005048 v. 8.0 Interventions for dysphagia in oesophageal cancer.rm5"
       ]
      },
      {
       "output_type": "stream",
       "stream": "stdout",
       "text": [
        "\n",
        "CD005050 v. 4.0 Influenza vaccines for preventing cardiovascular disease.rm5"
       ]
      },
      {
       "output_type": "stream",
       "stream": "stdout",
       "text": [
        "\n",
        "CD005051 v. 4.3 Whole grain cereals for the primary or secondary prevention of cardiovascular disease.rm5"
       ]
      },
      {
       "output_type": "stream",
       "stream": "stdout",
       "text": [
        "\n",
        "CD005053 v. 7.0 Adjuvant antiviral therapy for recurrent respiratory papillomatosis.rm5"
       ]
      },
      {
       "output_type": "stream",
       "stream": "stdout",
       "text": [
        "\n",
        "CD005055 v. 11.0 Inhaled nitric oxide for the postoperative management of pulmonary hypertension in infants and child.rm5\n",
        "CD005056 v. 6.0 Paracervical local anaesthesia for cervical dilatation and uterine intervention.rm5"
       ]
      },
      {
       "output_type": "stream",
       "stream": "stdout",
       "text": [
        "\n",
        "CD005062 v. 10.0 Acupuncture for epilepsy.rm5"
       ]
      },
      {
       "output_type": "stream",
       "stream": "stdout",
       "text": [
        "\n",
        "CD005063 v. 8.3 Benzodiazepines for alcohol withdrawal.rm5"
       ]
      },
      {
       "output_type": "stream",
       "stream": "stdout",
       "text": [
        "\n",
        "CD005064 v. 9.0 Anticonvulsants for alcohol withdrawal.rm5"
       ]
      },
      {
       "output_type": "stream",
       "stream": "stdout",
       "text": [
        "\n",
        "CD005070 v. 6.0 Recombinant luteinizing hormone (rLH) and recombinant follicle stimulating hormone (rFSH) for ovaria.rm5"
       ]
      },
      {
       "output_type": "stream",
       "stream": "stdout",
       "text": [
        "\n",
        "CD005071 v. 5.0 Gonadotrophins for idiopathic male factor subfertility.rm5"
       ]
      },
      {
       "output_type": "stream",
       "stream": "stdout",
       "text": [
        "\n",
        "CD005072 v. 6.0 Levonorgestrel-releasing intrauterine device (LNG-IUD) for symptomatic endometriosis following surge.rm5"
       ]
      },
      {
       "output_type": "stream",
       "stream": "stdout",
       "text": [
        "\n",
        "CD005073 v. 7.0 Uterine artery embolization for symptomatic uterine fibroids.rm5\n",
        "CD005074 v. 5.0 Action plans with brief patient education for exacerbations in chronic obstructive pulmonary disease.rm5"
       ]
      },
      {
       "output_type": "stream",
       "stream": "stdout",
       "text": [
        "\n",
        "CD005075 v. 4.0 Indoor air modification interventions for prolonged non-specific cough in children.rm5"
       ]
      },
      {
       "output_type": "stream",
       "stream": "stdout",
       "text": [
        "\n",
        "CD005078 v. 3.0 Surgical versus conservative management for odontoid fractures.rm5\n",
        "CD005079 v. 4.0 Surgical versus non-surgical treatment for thoracolumbar burst fractures without neurological defici.rm5\n",
        "CD005084 v. 6.0 Interventions for tobacco cessation in the dental setting.rm5"
       ]
      },
      {
       "output_type": "stream",
       "stream": "stdout",
       "text": [
        "\n",
        "CD005086 v. 9.0 Plugs for containing faecal incontinence.rm5"
       ]
      },
      {
       "output_type": "stream",
       "stream": "stdout",
       "text": [
        "\n",
        "CD005087 v. 8.0 Sodium channel blockers for cystic fibrosis.rm5"
       ]
      },
      {
       "output_type": "stream",
       "stream": "stdout",
       "text": [
        "\n",
        "CD005088 v. 8.0 Bisphosphonate therapy for osteogenesis imperfecta.rm5"
       ]
      },
      {
       "output_type": "stream",
       "stream": "stdout",
       "text": [
        "\n",
        "CD005090 v. 4.0 The effect of inotropes on morbidity and mortality in preterm infants with low systemic or organ blo.rm5"
       ]
      },
      {
       "output_type": "stream",
       "stream": "stdout",
       "text": [
        "\n",
        "CD005096 v. 8.2 Chinese herbal medicines for induction of remission in advanced or late gastric cancer.rm5"
       ]
      },
      {
       "output_type": "stream",
       "stream": "stdout",
       "text": [
        "\n",
        "CD005098 v. 4.0 Reinforcement of anchorage during orthodontic brace treatment with implants or other surgical method.rm5"
       ]
      },
      {
       "output_type": "stream",
       "stream": "stdout",
       "text": [
        "\n",
        "CD005111 v. 5.0 Acupuncture for treatment of irritable bowel syndrome.rm5"
       ]
      },
      {
       "output_type": "stream",
       "stream": "stdout",
       "text": [
        "\n",
        "CD005117 v. 6.8 Diacerein for osteoarthritis.rm5"
       ]
      },
      {
       "output_type": "stream",
       "stream": "stdout",
       "text": [
        "\n",
        "CD005122 v. 11.0 Cardiotocography versus intermittent auscultation of fetal heart on admission to labour ward for ass.rm5"
       ]
      },
      {
       "output_type": "stream",
       "stream": "stdout",
       "text": [
        "\n",
        "CD005123 v. 7.0 Antenatal perineal massage for reducing perineal trauma.rm5"
       ]
      },
      {
       "output_type": "stream",
       "stream": "stdout",
       "text": [
        "\n",
        "CD005125 v. 7.0 Antibiotic prophylaxis for third- and fourth-degree perineal tear during vaginal birth.rm5"
       ]
      },
      {
       "output_type": "stream",
       "stream": "stdout",
       "text": [
        "\n",
        "CD005126 v. 5.1 Chinese herbal medicines for treating pre-eclampsia.rm5\n",
        "CD005128 v. 8.3 Interventions for preventing and treating kidney disease in Henoch-Schnlein Purpura (HSP).rm5"
       ]
      },
      {
       "output_type": "stream",
       "stream": "stdout",
       "text": [
        "\n",
        "CD005133 v. 10.0 Pre-emptive treatment for cytomegalovirus viraemia to prevent cytomegalovirus disease in solid organ.rm5"
       ]
      },
      {
       "output_type": "stream",
       "stream": "stdout",
       "text": [
        "\n",
        "CD005135 v. 5.2 Laser-assisted in-situ keratomileusis (LASIK) versus photorefractive keratectomy (PRK) for myopia.rm5"
       ]
      },
      {
       "output_type": "stream",
       "stream": "stdout",
       "text": [
        "\n",
        "CD005136 v. 6.0 Occlusion for stimulus deprivation amblyopia.rm5"
       ]
      },
      {
       "output_type": "stream",
       "stream": "stdout",
       "text": [
        "\n",
        "CD005143 v. 6.0 Hyperbaric versus isobaric bupivacaine for spinal anaesthesia for caesarean section.rm5"
       ]
      },
      {
       "output_type": "stream",
       "stream": "stdout",
       "text": [
        "\n",
        "CD005144 v. 5.0 Nutritional support for critically ill children.rm5"
       ]
      },
      {
       "output_type": "stream",
       "stream": "stdout",
       "text": [
        "\n",
        "CD005146 v. 9.0 Haloperidol plus promethazine for psychosis-induced aggression.rm5"
       ]
      },
      {
       "output_type": "stream",
       "stream": "stdout",
       "text": [
        "\n",
        "CD005149 v. 10.0 Intranasal steroids for acute sinusitis.rm5"
       ]
      },
      {
       "output_type": "stream",
       "stream": "stdout",
       "text": [
        "\n",
        "CD005154 v. 7.0 Adenosine versus intravenous calcium channel antagonists for supraventricular tachycardia.rm5"
       ]
      },
      {
       "output_type": "stream",
       "stream": "stdout",
       "text": [
        "\n",
        "CD005158 v. 6.0 Clopidogrel plus aspirin versus aspirin alone for preventing cardiovascular events.rm5"
       ]
      },
      {
       "output_type": "stream",
       "stream": "stdout",
       "text": [
        "\n",
        "CD005159 v. 4.2 Rifabutin for treating pulmonary tuberculosis.rm5"
       ]
      },
      {
       "output_type": "stream",
       "stream": "stdout",
       "text": [
        "\n",
        "CD005162 v. 7.0 Terlipressin versus placebo or no intervention for people with cirrhosis and hepatorenal syndrome.rm5"
       ]
      },
      {
       "output_type": "stream",
       "stream": "stdout",
       "text": [
        "\n",
        "CD005179 v. 8.0 Psychological interventions for needle-related procedural pain and distress in children and adolesce.rm5"
       ]
      },
      {
       "output_type": "stream",
       "stream": "stdout",
       "text": [
        "\n",
        "CD005182 v. 7.0 Interventions used to improve control of blood pressure in patients with hypertension.rm5"
       ]
      },
      {
       "output_type": "stream",
       "stream": "stdout",
       "text": [
        "\n",
        "CD005186 v. 7.2 Interventions to improve hand hygiene compliance in patient care.rm5"
       ]
      },
      {
       "output_type": "stream",
       "stream": "stdout",
       "text": [
        "\n",
        "CD005187 v. 9.4 Influenza vaccination for healthcare workers who care for people aged 60 or older living in long-ter.rm5"
       ]
      },
      {
       "output_type": "stream",
       "stream": "stdout",
       "text": [
        "\n",
        "CD005188 v. 7.0 Interventions to increase influenza vaccination rates of those 60 years and older in the community.rm5"
       ]
      },
      {
       "output_type": "stream",
       "stream": "stdout",
       "text": [
        "\n",
        "CD005189 v. 12.0 Antibiotics for bronchiolitis in children under two years of age.rm5"
       ]
      },
      {
       "output_type": "stream",
       "stream": "stdout",
       "text": [
        "\n",
        "CD005198 v. 8.7 Therapeutic interventions for Burkitt lymphoma in children.rm5"
       ]
      },
      {
       "output_type": "stream",
       "stream": "stdout",
       "text": [
        "\n",
        "CD005199 v. 7.0 Transverse verses midline incisions for abdominal surgery.rm5"
       ]
      },
      {
       "output_type": "stream",
       "stream": "stdout",
       "text": [
        "\n",
        "CD005200 v. 4.0 Laparoscopic versus open total mesorectal excision for rectal cancer.rm5"
       ]
      },
      {
       "output_type": "stream",
       "stream": "stdout",
       "text": [
        "\n",
        "CD005207 v. 9.0 Colony stimulating factors (including erythropoietin granulocyte colony stimulating factor and anal.rm5"
       ]
      },
      {
       "output_type": "stream",
       "stream": "stdout",
       "text": [
        "\n",
        "CD005208 v. 6.0 Glycoprotein IIb-IIIa inhibitors for acute ischaemic stroke.rm5"
       ]
      },
      {
       "output_type": "stream",
       "stream": "stdout",
       "text": [
        "\n",
        "CD005212 v. 6.0 Sequencing of chemotherapy and radiotherapy for early breast cancer.rm5"
       ]
      },
      {
       "output_type": "stream",
       "stream": "stdout",
       "text": [
        "\n",
        "CD005215 v. 7.0 Interventions for preventing unintended pregnancies among adolescents.rm5"
       ]
      },
      {
       "output_type": "stream",
       "stream": "stdout",
       "text": [
        "\n",
        "CD005221 v. 5.2 Prophylactic cranial irradiation for preventing brain metastases in patients undergoing radical trea.rm5"
       ]
      },
      {
       "output_type": "stream",
       "stream": "stdout",
       "text": [
        "\n",
        "CD005222 v. 7.3 Corticosteroids including ACTH for childhood epilepsy other than epileptic spasms.rm5\n",
        "CD005225 v. 6.2 Creatine for amyotrophic lateral sclerosismotor neuron disease.rm5"
       ]
      },
      {
       "output_type": "stream",
       "stream": "stdout",
       "text": [
        "\n",
        "CD005226 v. 6.4 Drug therapy for pain in amyotrophic lateral sclerosis or motor neuron disease.rm5"
       ]
      },
      {
       "output_type": "stream",
       "stream": "stdout",
       "text": [
        "\n",
        "CD005228 v. 6.2 Interventions for preventing neuropathy caused by cisplatin and related compounds.rm5"
       ]
      },
      {
       "output_type": "stream",
       "stream": "stdout",
       "text": [
        "\n",
        "CD005229 v. 5.2 Therapeutic exercise for people with amyotrophic lateral sclerosis or motor neuron disease.rm5"
       ]
      },
      {
       "output_type": "stream",
       "stream": "stdout",
       "text": [
        "\n",
        "CD005230 v. 4.8 Complementary and miscellaneous interventions for nocturnal enuresis in children.rm5"
       ]
      },
      {
       "output_type": "stream",
       "stream": "stdout",
       "text": [
        "\n",
        "CD005244 v. 9.2 Interventions in the alcohol server setting for preventing injuries.rm5"
       ]
      },
      {
       "output_type": "stream",
       "stream": "stdout",
       "text": [
        "\n",
        "CD005248 v. 8.0 Intravenous in-line filters for preventing morbidity and mortality in neonates.rm5"
       ]
      },
      {
       "output_type": "stream",
       "stream": "stdout",
       "text": [
        "\n",
        "CD005251 v. 5.0 Prophylactic antibiotics to reduce morbidity and mortality in neonates with umbilical venous cathete.rm5\n",
        "CD005254 v. 3.0 Surfactant for pulmonary haemorrhage in neonates.rm5"
       ]
      },
      {
       "output_type": "stream",
       "stream": "stdout",
       "text": [
        "\n",
        "CD005255 v. 6.0 Responsive versus scheduled feeding for preterm infants.rm5\n",
        "CD005257 v. 4.2 Interventions for non-oliguric hyperkalaemia in preterm neonates.rm5"
       ]
      },
      {
       "output_type": "stream",
       "stream": "stdout",
       "text": [
        "\n",
        "CD005258 v. 4.2 Combined intermittent pneumatic leg compression and pharmacological prophylaxis for prevention of ve.rm5"
       ]
      },
      {
       "output_type": "stream",
       "stream": "stdout",
       "text": [
        "\n",
        "CD005260 v. 8.0 Prosthetic rehabilitation for older dysvascular people following a unilateral transfemoral amputatio.rm5"
       ]
      },
      {
       "output_type": "stream",
       "stream": "stdout",
       "text": [
        "\n",
        "CD005262 v. 10.0 Pentoxifylline for intermittent claudication.rm5"
       ]
      },
      {
       "output_type": "stream",
       "stream": "stdout",
       "text": [
        "\n",
        "CD005263 v. 5.0 Supervised exercise therapy versus non-supervised exercise therapy for intermittent claudication.rm5"
       ]
      },
      {
       "output_type": "stream",
       "stream": "stdout",
       "text": [
        "\n",
        "CD005277 v. 5.2 Recompression and adjunctive therapy for decompression illness.rm5"
       ]
      },
      {
       "output_type": "stream",
       "stream": "stdout",
       "text": [
        "\n",
        "CD005282 v. 6.0 Fish oil for kidney transplant recipients.rm5\n",
        "CD005287 v. 6.0 Selective estrogen receptor modulators (SERMs) for uterine leiomyomas.rm5"
       ]
      },
      {
       "output_type": "stream",
       "stream": "stdout",
       "text": [
        "\n",
        "CD005289 v. 5.0 Monitoring of stimulated cycles in assisted reproduction (IVF and ICSI).rm5"
       ]
      },
      {
       "output_type": "stream",
       "stream": "stdout",
       "text": [
        "\n",
        "CD005292 v. 5.2 Herbal preparations for uterine fibroids.rm5"
       ]
      },
      {
       "output_type": "stream",
       "stream": "stdout",
       "text": [
        "\n",
        "CD005296 v. 4.2 Single versus multiple visits for endodontic treatment of permanent teeth.rm5"
       ]
      },
      {
       "output_type": "stream",
       "stream": "stdout",
       "text": [
        "\n",
        "CD005299 v. 6.0 Symphysiotomy for feto-pelvic disproportion.rm5"
       ]
      },
      {
       "output_type": "stream",
       "stream": "stdout",
       "text": [
        "\n",
        "CD005302 v. 6.0 Planned early birth versus expectant management (waiting) for prelabour rupture of membranes at term.rm5"
       ]
      },
      {
       "output_type": "stream",
       "stream": "stdout",
       "text": [
        "\n",
        "CD005303 v. 7.0 Restriction of oral intake of water for aspiration lung disease in children.rm5"
       ]
      },
      {
       "output_type": "stream",
       "stream": "stdout",
       "text": [
        "\n",
        "CD005304 v. 4.0 Interventions for primary (intrinsic) tracheomalacia in children.rm5"
       ]
      },
      {
       "output_type": "stream",
       "stream": "stdout",
       "text": [
        "\n",
        "CD005305 v. 5.0 Pulmonary rehabilitation following exacerbations of chronic obstructive pulmonary disease.rm5"
       ]
      },
      {
       "output_type": "stream",
       "stream": "stdout",
       "text": [
        "\n",
        "CD005310 v. 10.0 Methylxanthines for prolonged non-specific cough in children.rm5"
       ]
      },
      {
       "output_type": "stream",
       "stream": "stdout",
       "text": [
        "\n",
        "CD005311 v. 6.0 Parent-initiated oral corticosteroid therapy for intermittent wheezing illnesses in children.rm5\n",
        "CD005314 v. 4.0 Interventions for increasing the proportion of health professionals practising in rural and other un.rm5\n",
        "CD005339 v. 5.0 Granulocyte transfusions for treating infections in people with neutropenia or neutrophil dysfunctio.rm5"
       ]
      },
      {
       "output_type": "stream",
       "stream": "stdout",
       "text": [
        "\n",
        "CD005346 v. 9.3 Insulin for glycaemic control in acute ischaemic stroke.rm5"
       ]
      },
      {
       "output_type": "stream",
       "stream": "stdout",
       "text": [
        "\n",
        "CD005351 v. 3.2 Non-invasive positive pressure ventilation (CPAP or bilevel NPPV) for cardiogenic pulmonary oedema.rm5"
       ]
      },
      {
       "output_type": "stream",
       "stream": "stdout",
       "text": [
        "\n",
        "CD005360 v. 9.0 Prophylactic antibiotics to prevent surgical site infection after breast cancer surgery.rm5"
       ]
      },
      {
       "output_type": "stream",
       "stream": "stdout",
       "text": [
        "\n",
        "CD005364 v. 11.0 Topical anaesthetics for pain control during repair of dermal laceration.rm5"
       ]
      },
      {
       "output_type": "stream",
       "stream": "stdout",
       "text": [
        "\n",
        "CD005370 v. 9.3 Antithrombin III for critically ill patients.rm5"
       ]
      },
      {
       "output_type": "stream",
       "stream": "stdout",
       "text": [
        "\n",
        "CD005372 v. 5.0 Oxygen therapy during exercise training in chronic obstructive pulmonary disease.rm5"
       ]
      },
      {
       "output_type": "stream",
       "stream": "stdout",
       "text": [
        "\n",
        "CD005375 v. 10.0 Surgery for scoliosis in Duchenne muscular dystrophy.rm5"
       ]
      },
      {
       "output_type": "stream",
       "stream": "stdout",
       "text": [
        "\n",
        "CD005376 v. 5.0 Treatment for IgG and IgA paraproteinaemic neuropathy.rm5"
       ]
      },
      {
       "output_type": "stream",
       "stream": "stdout",
       "text": [
        "\n",
        "CD005381 v. 5.1 Aerobic exercise to improve cognitive function in older people without known cognitive impairment.rm5\n",
        "CD005382 v. 5.0 Yizhi capsule for vascular dementia.rm5"
       ]
      },
      {
       "output_type": "stream",
       "stream": "stdout",
       "text": [
        "\n",
        "CD005383 v. 5.3 Antithrombin for respiratory distress syndrome in preterm infants.rm5"
       ]
      },
      {
       "output_type": "stream",
       "stream": "stdout",
       "text": [
        "\n",
        "CD005385 v. 5.0 Recombinant human activated protein C for severe sepsis in neonates.rm5\n",
        "CD005387 v. 7.0 Physical activity programs for promoting bone mineralization and growth in preterm infants.rm5"
       ]
      },
      {
       "output_type": "stream",
       "stream": "stdout",
       "text": [
        "\n",
        "CD005393 v. 6.2 Stapled versus conventional surgery for hemorrhoids.rm5"
       ]
      },
      {
       "output_type": "stream",
       "stream": "stdout",
       "text": [
        "\n",
        "CD005395 v. 4.2 Surgery for Mnire's disease.rm5"
       ]
      },
      {
       "output_type": "stream",
       "stream": "stdout",
       "text": [
        "\n",
        "CD005397 v. 6.0 Vestibular rehabilitation for unilateral peripheral vestibular dysfunction.rm5"
       ]
      },
      {
       "output_type": "stream",
       "stream": "stdout",
       "text": [
        "\n",
        "CD005398 v. 10.0 Antiepileptic drugs for the primary and secondary prevention of seizures after stroke.rm5"
       ]
      },
      {
       "output_type": "stream",
       "stream": "stdout",
       "text": [
        "\n",
        "CD005399 v. 10.0 Pharmacological interventions for epilepsy in people with intellectual disabilities.rm5"
       ]
      },
      {
       "output_type": "stream",
       "stream": "stdout",
       "text": [
        "\n",
        "CD005401 v. 8.0 Bicycle helmet legislation for the uptake of helmet use and prevention of head injuries.rm5"
       ]
      },
      {
       "output_type": "stream",
       "stream": "stdout",
       "text": [
        "\n",
        "CD005405 v. 9.0 Oral anti-pseudomonal antibiotics for cystic fibrosis.rm5\n",
        "CD005406 v. 9.0 Fluid replacement therapy for acute episodes of pain in people with sickle cell disease.rm5"
       ]
      },
      {
       "output_type": "stream",
       "stream": "stdout",
       "text": [
        "\n",
        "CD005428 v. 6.0 Antibiotic prophylaxis for short-term catheter bladder drainage in adults.rm5\n",
        "CD005430 v. 5.0 Topical corticosteroids as adjunctive therapy for bacterial keratitis.rm5"
       ]
      },
      {
       "output_type": "stream",
       "stream": "stdout",
       "text": [
        "\n",
        "CD005431 v. 5.2 Medical interventions for traumatic hyphema.rm5"
       ]
      },
      {
       "output_type": "stream",
       "stream": "stdout",
       "text": [
        "\n",
        "CD005435 v. 6.0 Drugs for preventing tuberculosis in people at risk of multiple-drug-resistant pulmonary tuberculosi.rm5"
       ]
      },
      {
       "output_type": "stream",
       "stream": "stdout",
       "text": [
        "\n",
        "CD005437 v. 8.0 Pre-admission antibiotics for suspected cases of meningococcal disease.rm5\n",
        "CD005440 v. 9.0 Early versus delayed laparoscopic cholecystectomy for people with acute cholecystitis.rm5"
       ]
      },
      {
       "output_type": "stream",
       "stream": "stdout",
       "text": [
        "\n",
        "CD005442 v. 7.0 Bile acids for liver-transplanted patients.rm5"
       ]
      },
      {
       "output_type": "stream",
       "stream": "stdout",
       "text": [
        "\n",
        "CD005444 v. 6.4 Pre-operative biliary drainage for obstructive jaundice.rm5"
       ]
      },
      {
       "output_type": "stream",
       "stream": "stdout",
       "text": [
        "\n",
        "CD005445 v. 6.4 Ribavirin plus interferon versus interferon for chronic hepatitis C.rm5"
       ]
      },
      {
       "output_type": "stream",
       "stream": "stdout",
       "text": [
        "\n",
        "CD005456 v. 4.0 Prophylactic use of ergot alkaloids in the third stage of labour.rm5"
       ]
      },
      {
       "output_type": "stream",
       "stream": "stdout",
       "text": [
        "\n",
        "CD005458 v. 6.0 Antibiotics for mastitis in breastfeeding women.rm5"
       ]
      },
      {
       "output_type": "stream",
       "stream": "stdout",
       "text": [
        "\n",
        "CD005459 v. 6.0 Laparoscopic surgery for presumed benign ovarian tumor during pregnancy.rm5"
       ]
      },
      {
       "output_type": "stream",
       "stream": "stdout",
       "text": [
        "\n",
        "CD005460 v. 6.0 Traditional birth attendant training for improving health behaviours and pregnancy outcomes.rm5\n",
        "CD005461 v. 8.0 Effect of partogram use on outcomes for women in spontaneous labour at term.rm5"
       ]
      },
      {
       "output_type": "stream",
       "stream": "stdout",
       "text": [
        "\n",
        "CD005462 v. 5.0 Fundal pressure versus controlled cord traction as part of the active management of the third stage .rm5"
       ]
      },
      {
       "output_type": "stream",
       "stream": "stdout",
       "text": [
        "\n",
        "CD005470 v. 6.1 Tailored interventions to address determinants of practice.rm5\n",
        "CD005472 v. 6.2 Acupuncture for insomnia.rm5"
       ]
      },
      {
       "output_type": "stream",
       "stream": "stdout",
       "text": [
        "\n",
        "CD005474 v. 6.0 Zuclopenthixol dihydrochloride for schizophrenia.rm5"
       ]
      },
      {
       "output_type": "stream",
       "stream": "stdout",
       "text": [
        "\n",
        "CD005475 v. 8.2 Acupuncture for schizophrenia.rm5"
       ]
      },
      {
       "output_type": "stream",
       "stream": "stdout",
       "text": [
        "\n",
        "CD005476 v. 7.0 Laetrile treatment for cancer.rm5"
       ]
      },
      {
       "output_type": "stream",
       "stream": "stdout",
       "text": [
        "\n",
        "CD005485 v. 7.0 Pressure-relieving devices for treating heel pressure ulcers.rm5\n",
        "CD005487 v. 6.1 Infraclavicular brachial plexus block for regional anaesthesia of the lower arm.rm5"
       ]
      },
      {
       "output_type": "stream",
       "stream": "stdout",
       "text": [
        "\n",
        "CD005493 v. 7.10 Botulinum toxin injections for adults with overactive bladder syndrome.rm5"
       ]
      },
      {
       "output_type": "stream",
       "stream": "stdout",
       "text": [
        "\n",
        "CD005494 v. 5.0 Sildenafil for pulmonary hypertension in neonates.rm5"
       ]
      },
      {
       "output_type": "stream",
       "stream": "stdout",
       "text": [
        "\n",
        "CD005495 v. 6.0 Early developmental intervention programmes provided post hospital discharge to prevent motor and co.rm5"
       ]
      },
      {
       "output_type": "stream",
       "stream": "stdout",
       "text": [
        "\n",
        "CD005496 v. 7.0 Probiotics for prevention of necrotizing enterocolitis in preterm infants.rm5"
       ]
      },
      {
       "output_type": "stream",
       "stream": "stdout",
       "text": [
        "\n",
        "CD005501 v. 9.0 Antiepileptic drugs for the primary and secondary prevention of seizures after intracranial venous t.rm5"
       ]
      },
      {
       "output_type": "stream",
       "stream": "stdout",
       "text": [
        "\n",
        "CD005502 v. 9.0 Non-pharmacological interventions for people with epilepsy and intellectual disabilities.rm5\n",
        "CD005506 v. 7.8 Antiemetics for reducing vomiting related to acute gastroenteritis in children and adolescents.rm5"
       ]
      },
      {
       "output_type": "stream",
       "stream": "stdout",
       "text": [
        "\n",
        "CD005507 v. 5.0 Cryoplasty for peripheral arterial disease.rm5"
       ]
      },
      {
       "output_type": "stream",
       "stream": "stdout",
       "text": [
        "\n",
        "CD005508 v. 4.0 Beta blockers for peripheral arterial disease.rm5"
       ]
      },
      {
       "output_type": "stream",
       "stream": "stdout",
       "text": [
        "\n",
        "CD005512 v. 4.3 Preformed crowns for decayed primary molar teeth.rm5"
       ]
      },
      {
       "output_type": "stream",
       "stream": "stdout",
       "text": [
        "\n",
        "CD005523 v. 5.0 Aquatic exercise for the treatment of knee and hip osteoarthritis.rm5"
       ]
      },
      {
       "output_type": "stream",
       "stream": "stdout",
       "text": [
        "\n",
        "CD005525 v. 4.0 Zinc supplementation for the prevention of type 2 diabetes mellitus in adults with insulin resistanc.rm5"
       ]
      },
      {
       "output_type": "stream",
       "stream": "stdout",
       "text": [
        "\n",
        "CD005527 v. 5.4 Ribavirin monotherapy for chronic hepatitis C.rm5"
       ]
      },
      {
       "output_type": "stream",
       "stream": "stdout",
       "text": [
        "\n",
        "CD005530 v. 9.0 Combined DTP-HBV-HIB vaccine versus separately administered DTP-HBV and HIB vaccines for primary pre.rm5"
       ]
      },
      {
       "output_type": "stream",
       "stream": "stdout",
       "text": [
        "\n",
        "CD005531 v. 12.0 Chinese medicinal herbs for measles.rm5"
       ]
      },
      {
       "output_type": "stream",
       "stream": "stdout",
       "text": [
        "\n",
        "CD005532 v. 8.4 Vitamin C for preventing and treating pneumonia.rm5"
       ]
      },
      {
       "output_type": "stream",
       "stream": "stdout",
       "text": [
        "\n",
        "CD005533 v. 3.0 Addition of long-acting beta2-agonists to inhaled steroids versus higher dose inhaled steroids in ad.rm5"
       ]
      },
      {
       "output_type": "stream",
       "stream": "stdout",
       "text": [
        "\n",
        "CD005534 v. 3.3 Oxygen therapy in the pre-hospital setting for acute exacerbations of chronic obstructive pulmonary .rm5"
       ]
      },
      {
       "output_type": "stream",
       "stream": "stdout",
       "text": [
        "\n",
        "CD005535 v. 3.0 Addition of long-acting beta2-agonists to inhaled corticosteroids versus same dose inhaled corticost.rm5\n",
        "CD005540 v. 14.0 Interventions for sexual dysfunction following treatments for cancer in women.rm5"
       ]
      },
      {
       "output_type": "stream",
       "stream": "stdout",
       "text": [
        "\n",
        "CD005541 v. 4.0 Antenatal phenobarbital for reducing neonatal jaundice after red cell isoimmunization.rm5"
       ]
      },
      {
       "output_type": "stream",
       "stream": "stdout",
       "text": [
        "\n",
        "CD005542 v. 8.0 Continuous subcutaneous insulin infusion versus multiple daily injections of insulin for pregnant wo.rm5\n",
        "CD005543 v. 4.0 Intrapartum interventions for preventing shoulder dystocia.rm5"
       ]
      },
      {
       "output_type": "stream",
       "stream": "stdout",
       "text": [
        "\n",
        "CD005545 v. 3.0 Trial of instrumental delivery in theatre versus immediate caesarean section for anticipated difficu.rm5\n",
        "CD005546 v. 8.0 Caesarean section versus vaginal delivery for preventing mother to infant hepatitis C virus transmis.rm5"
       ]
      },
      {
       "output_type": "stream",
       "stream": "stdout",
       "text": [
        "\n",
        "CD005549 v. 8.0 Interventions for waterpipe smoking cessation.rm5\n",
        "CD005563 v. 5.0 Interventions for preventing delirium in hospitalised non-ICU patients.rm5"
       ]
      },
      {
       "output_type": "stream",
       "stream": "stdout",
       "text": [
        "\n",
        "CD005570 v. 11.2 Wound drains after incisional hernia repair.rm5"
       ]
      },
      {
       "output_type": "stream",
       "stream": "stdout",
       "text": [
        "\n",
        "CD005571 v. 8.0 Systemic antimicrobial prophylaxis for percutaneous endoscopic gastrostomy.rm5\n",
        "CD005576 v. 8.0 Hypertonic salt solution for peri-operative fluid management.rm5"
       ]
      },
      {
       "output_type": "stream",
       "stream": "stdout",
       "text": [
        "\n",
        "CD005582 v. 7.0 Corticosteroids for preventing postherpetic neuralgia.rm5"
       ]
      },
      {
       "output_type": "stream",
       "stream": "stdout",
       "text": [
        "\n",
        "CD005584 v. 6.0 Epinephrine injection versus epinephrine injection and a second endoscopic method in high-risk bleed.rm5"
       ]
      },
      {
       "output_type": "stream",
       "stream": "stdout",
       "text": [
        "\n",
        "CD005588 v. 4.0 Magnesium sulfate for persistent pulmonary hypertension of the newborn.rm5"
       ]
      },
      {
       "output_type": "stream",
       "stream": "stdout",
       "text": [
        "\n",
        "CD005595 v. 3.0 Rehabilitation for ankle fractures in adults.rm5"
       ]
      },
      {
       "output_type": "stream",
       "stream": "stdout",
       "text": [
        "\n",
        "CD005598 v. 11.0 Antibiotics for treating community-acquired pneumonia in people with sickle cell disease.rm5"
       ]
      },
      {
       "output_type": "stream",
       "stream": "stdout",
       "text": [
        "\n",
        "CD005602 v. 11.0 Leukotriene receptor antagonist for prolonged non-specific cough in children.rm5"
       ]
      },
      {
       "output_type": "stream",
       "stream": "stdout",
       "text": [
        "\n",
        "CD005603 v. 7.0 Tailored interventions based on sputum eosinophils versus clinical symptoms for asthma in children a.rm5"
       ]
      },
      {
       "output_type": "stream",
       "stream": "stdout",
       "text": [
        "\n",
        "CD005604 v. 8.0 Anti-histamines for prolonged non-specific cough in children.rm5"
       ]
      },
      {
       "output_type": "stream",
       "stream": "stdout",
       "text": [
        "\n",
        "CD005607 v. 5.0 Antibiotics to reduce post-tonsillectomy morbidity.rm5\n",
        "CD005612 v. 9.0 Pregabalin add-on for drug-resistant partial epilepsy.rm5"
       ]
      },
      {
       "output_type": "stream",
       "stream": "stdout",
       "text": [
        "\n",
        "CD005624 v. 4.0 Endovenous ablation (radiofrequency and laser) and foam sclerotherapy versus open surgery for great .rm5"
       ]
      },
      {
       "output_type": "stream",
       "stream": "stdout",
       "text": [
        "\n",
        "CD005625 v. 4.0 Rutosides for treatment of post-thrombotic syndrome.rm5"
       ]
      },
      {
       "output_type": "stream",
       "stream": "stdout",
       "text": [
        "\n",
        "CD005626 v. 4.2 Rutosides for prevention of post-thrombotic syndrome.rm5"
       ]
      },
      {
       "output_type": "stream",
       "stream": "stdout",
       "text": [
        "\n",
        "CD005627 v. 7.3 Diet or exercise or both for weight reduction in women after childbirth.rm5\n",
        "CD005632 v. 4.0 Steroid avoidance or withdrawal for kidney transplant recipients.rm5"
       ]
      },
      {
       "output_type": "stream",
       "stream": "stdout",
       "text": [
        "\n",
        "CD005640 v. 6.5 T-tube drainage versus primary closure after open common bile duct exploration.rm5"
       ]
      },
      {
       "output_type": "stream",
       "stream": "stdout",
       "text": [
        "\n",
        "CD005641 v. 6.5 T-tube drainage versus primary closure after laparoscopic common bile duct exploration.rm5"
       ]
      },
      {
       "output_type": "stream",
       "stream": "stdout",
       "text": [
        "\n",
        "CD005643 v. 5.0 Interventions for squamous cell carcinoma of the conjunctiva in HIV-infected individuals.rm5"
       ]
      },
      {
       "output_type": "stream",
       "stream": "stdout",
       "text": [
        "\n",
        "CD005653 v. 4.0 Pharmacological interventions for borderline personality disorder.rm5\n",
        "CD005654 v. 5.0 Pelvic floor muscle training versus no treatment or inactive control treatments for urinary incont.rm5"
       ]
      },
      {
       "output_type": "stream",
       "stream": "stdout",
       "text": [
        "\n",
        "CD005657 v. 8.0 Topical analgesia for acute otitis media.rm5"
       ]
      },
      {
       "output_type": "stream",
       "stream": "stdout",
       "text": [
        "\n",
        "CD005937 v. 4.0 Treatments for suppression of lactation.rm5"
       ]
      },
      {
       "output_type": "stream",
       "stream": "stdout",
       "text": [
        "\n",
        "CD005939 v. 3.0 Rest during pregnancy for preventing pre-eclampsia and its complications in women with normal blood .rm5"
       ]
      },
      {
       "output_type": "stream",
       "stream": "stdout",
       "text": [
        "\n",
        "CD005943 v. 8.0 Progestogen for treating threatened miscarriage.rm5\n",
        "CD005947 v. 6.0 Glutamine supplementation for young infants with severe gastrointestinal disease.rm5"
       ]
      },
      {
       "output_type": "stream",
       "stream": "stdout",
       "text": [
        "\n",
        "CD005951 v. 4.0 Haemostatic drug therapies for acute spontaneous intracerebral haemorrhage.rm5"
       ]
      },
      {
       "output_type": "stream",
       "stream": "stdout",
       "text": [
        "\n",
        "CD005958 v. 6.6 Manual material handling advice and assistive devices for preventing and treating back pain in worke.rm5"
       ]
      },
      {
       "output_type": "stream",
       "stream": "stdout",
       "text": [
        "\n",
        "CD005966 v. 4.2 Vaccines for preventing malaria (SPf66).rm5"
       ]
      },
      {
       "output_type": "stream",
       "stream": "stdout",
       "text": [
        "\n",
        "CD005967 v. 9.3 Artesunate versus quinine for treating severe malaria.rm5"
       ]
      },
      {
       "output_type": "stream",
       "stream": "stdout",
       "text": [
        "\n",
        "CD005972 v. 6.0 Orthodontic treatment for deep bite and retroclined upper front teeth in children.rm5"
       ]
      },
      {
       "output_type": "stream",
       "stream": "stdout",
       "text": [
        "\n",
        "CD005975 v. 5.4 Oxygen therapy for lower respiratory tract infections in children between 3 months and 15 years of a.rm5\n",
        "CD005976 v. 9.2 Short-course versus long-course antibiotic therapy for non-severe community-acquired pneumonia in ch.rm5"
       ]
      },
      {
       "output_type": "stream",
       "stream": "stdout",
       "text": [
        "\n",
        "CD005979 v. 6.0 Pharmaceutical policies effects of reference pricing other pricing and purchasing policies.rm5"
       ]
      },
      {
       "output_type": "stream",
       "stream": "stdout",
       "text": [
        "\n",
        "CD005983 v. 5.0 Heparin-bonded catheters for prolonging the patency of central venous catheters in children.rm5"
       ]
      },
      {
       "output_type": "stream",
       "stream": "stdout",
       "text": [
        "\n",
        "CD005987 v. 6.0 Scalpel versus electrosurgery for major abdominal incisions.rm5"
       ]
      },
      {
       "output_type": "stream",
       "stream": "stdout",
       "text": [
        "\n",
        "CD005992 v. 5.21 Legislative smoking bans for reducing harms from secondhand smoke exposure smoking prevalence and t.rm5"
       ]
      },
      {
       "output_type": "stream",
       "stream": "stdout",
       "text": [
        "\n",
        "CD005993 v. 5.0 Procaine treatments for cognition and dementia.rm5"
       ]
      },
      {
       "output_type": "stream",
       "stream": "stdout",
       "text": [
        "\n",
        "CD005994 v. 7.0 -Non-pharmacological interventions for wandering of people with dementia in the domestic setting.rm5"
       ]
      },
      {
       "output_type": "stream",
       "stream": "stdout",
       "text": [
        "\n",
        "CD005996 v. 5.0 Peri-implantation glucocorticoid administration for assisted reproductive technology cycles.rm5"
       ]
      },
      {
       "output_type": "stream",
       "stream": "stdout",
       "text": [
        "\n",
        "CD006004 v. 7.2 Routine abdominal drainage versus no abdominal drainage for uncomplicated laparoscopic cholecystecto.rm5"
       ]
      },
      {
       "output_type": "stream",
       "stream": "stdout",
       "text": [
        "\n",
        "CD006007 v. 11.2 Antifibrinolytic amino acids for upper gastrointestinal bleeding in people with acute or chronic liv.rm5"
       ]
      },
      {
       "output_type": "stream",
       "stream": "stdout",
       "text": [
        "\n",
        "CD006014 v. 9.5 Interval debulking surgery for advanced epithelial ovarian cancer.rm5"
       ]
      },
      {
       "output_type": "stream",
       "stream": "stdout",
       "text": [
        "\n",
        "CD006017 v. 4.4 Targeted therapy for advanced renal cell carcinoma.rm5"
       ]
      },
      {
       "output_type": "stream",
       "stream": "stdout",
       "text": [
        "\n",
        "CD006029 v. 11.0 Extracorporeal shock wave lithotripsy (ESWL) versus ureteroscopic management for ureteric calculi.rm5"
       ]
      },
      {
       "output_type": "stream",
       "stream": "stdout",
       "text": [
        "\n",
        "CD006030 v. 5.8 Acupuncture for glaucoma.rm5"
       ]
      },
      {
       "output_type": "stream",
       "stream": "stdout",
       "text": [
        "\n",
        "CD006032 v. 5.0 Steroids for traumatic optic neuropathy.rm5"
       ]
      },
      {
       "output_type": "stream",
       "stream": "stdout",
       "text": [
        "\n",
        "CD006033 v. 6.2 Steroidal contraceptives effect on bone fractures in women.rm5"
       ]
      },
      {
       "output_type": "stream",
       "stream": "stdout",
       "text": [
        "\n",
        "CD006034 v. 5.0 Non-steroidal anti-inflammatory drugs for heavy bleeding or pain associated with intrauterine-device.rm5"
       ]
      },
      {
       "output_type": "stream",
       "stream": "stdout",
       "text": [
        "\n",
        "CD006036 v. 5.0 Multidisciplinary rehabilitation for adults with multiple sclerosis.rm5"
       ]
      },
      {
       "output_type": "stream",
       "stream": "stdout",
       "text": [
        "\n",
        "CD006039 v. 6.0 Resection versus no intervention or other surgical interventions for colorectal cancer liver metasta.rm5"
       ]
      },
      {
       "output_type": "stream",
       "stream": "stdout",
       "text": [
        "\n",
        "CD006041 v. 4.0 Preoperative chemoradiation versus radiation alone for stage II and III resectable rectal cancer.rm5\n",
        "CD006047 v. 8.0 Household interventions for preventing domestic lead exposure in children.rm5"
       ]
      },
      {
       "output_type": "stream",
       "stream": "stdout",
       "text": [
        "\n",
        "CD006048 v. 7.0 Cognitive behavioural therapy for men who physically abuse their female partner.rm5"
       ]
      },
      {
       "output_type": "stream",
       "stream": "stdout",
       "text": [
        "\n",
        "CD006053 v. 11.0 Pylorus-preserving pancreaticoduodenectomy (pp Whipple) versus pancreaticoduodenectomy (classic Whip.rm5\n",
        "CD006058 v. 10.0 Incentive spirometry for prevention of postoperative pulmonary complications in upper abdominal surg.rm5"
       ]
      },
      {
       "output_type": "stream",
       "stream": "stdout",
       "text": [
        "\n",
        "CD006065 v. 5.0 Garlic for preventing pre-eclampsia and its complications.rm5"
       ]
      },
      {
       "output_type": "stream",
       "stream": "stdout",
       "text": [
        "\n",
        "CD006067 v. 4.0 Fundal pressure during the second stage of labour.rm5\n",
        "CD006068 v. 5.0 Patient isolation measures for infants with candida colonization or infection for preventing or redu.rm5"
       ]
      },
      {
       "output_type": "stream",
       "stream": "stdout",
       "text": [
        "\n",
        "CD006071 v. 5.2 Continuous infusion versus intermittent bolus doses of indomethacin for patent ductus arteriosus clo.rm5"
       ]
      },
      {
       "output_type": "stream",
       "stream": "stdout",
       "text": [
        "\n",
        "CD006073 v. 5.0 Repetitive task training for improving functional ability after stroke.rm5"
       ]
      },
      {
       "output_type": "stream",
       "stream": "stdout",
       "text": [
        "\n",
        "CD006086 v. 5.2 Nutritional supplements for people being treated for active tuberculosis.rm5"
       ]
      },
      {
       "output_type": "stream",
       "stream": "stdout",
       "text": [
        "\n",
        "CD006087 v. 4.0 Interventions for the management of mandibular fractures.rm5"
       ]
      },
      {
       "output_type": "stream",
       "stream": "stdout",
       "text": [
        "\n",
        "CD006088 v. 8.0 Over-the-counter (OTC) medications to reduce cough as an adjunct to antibiotics for acute pneumonia .rm5"
       ]
      },
      {
       "output_type": "stream",
       "stream": "stdout",
       "text": [
        "\n",
        "CD006090 v. 8.0 Vitamin A for preventing acute lower respiratory tract infections in children up to seven years of a.rm5"
       ]
      },
      {
       "output_type": "stream",
       "stream": "stdout",
       "text": [
        "\n",
        "CD006095 v. 4.0 Probiotics for the prevention of Clostridium difficile-associated diarrhea in adults and children.rm5"
       ]
      },
      {
       "output_type": "stream",
       "stream": "stdout",
       "text": [
        "\n",
        "CD006101 v. 3.0 Ipratropium bromide versus long-acting beta-2 agonists for stable chronic obstructive pulmonary dise.rm5"
       ]
      },
      {
       "output_type": "stream",
       "stream": "stdout",
       "text": [
        "\n",
        "CD006103 v. 13.12 Nicotine receptor partial agonists for smoking cessation.rm5"
       ]
      },
      {
       "output_type": "stream",
       "stream": "stdout",
       "text": [
        "\n",
        "CD006104 v. 7.0 Donepezil for mild cognitive impairment.rm5"
       ]
      },
      {
       "output_type": "stream",
       "stream": "stdout",
       "text": [
        "\n",
        "CD006106 v. 5.0 Pain relief in hysterosalpingography.rm5\n",
        "CD006107 v. 5.0 Ultrasound versus 'clinical touch' for catheter guidance during embryo transfer in women.rm5"
       ]
      },
      {
       "output_type": "stream",
       "stream": "stdout",
       "text": [
        "\n",
        "CD006108 v. 10.0 Exercise for vasomotor menopausal symptoms.rm5"
       ]
      },
      {
       "output_type": "stream",
       "stream": "stdout",
       "text": [
        "\n",
        "CD006110 v. 10.0 Antibiotics for treating acute chest syndrome in people with sickle cell disease.rm5"
       ]
      },
      {
       "output_type": "stream",
       "stream": "stdout",
       "text": [
        "\n",
        "CD006111 v. 7.0 Piracetam for reducing the incidence of painful sickle cell disease crises.rm5"
       ]
      },
      {
       "output_type": "stream",
       "stream": "stdout",
       "text": [
        "\n",
        "CD006112 v. 5.0 Inspiratory muscle training for cystic fibrosis.rm5\n",
        "CD006121 v. 10.0 Whole brain radiation therapy (WBRT) alone versus WBRT and radiosurgery for the treatment of brain m.rm5"
       ]
      },
      {
       "output_type": "stream",
       "stream": "stdout",
       "text": [
        "\n",
        "CD006123 v. 8.0 Fitness training for cardiorespiratory conditioning after traumatic brain injury.rm5"
       ]
      },
      {
       "output_type": "stream",
       "stream": "stdout",
       "text": [
        "\n",
        "CD006126 v. 5.0 Tamponade in surgery for retinal detachment associated with proliferative vitreoretinopathy.rm5"
       ]
      },
      {
       "output_type": "stream",
       "stream": "stdout",
       "text": [
        "\n",
        "CD006129 v. 4.0 Screening for prevention of optic nerve damage due to chronic open angle glaucoma.rm5"
       ]
      },
      {
       "output_type": "stream",
       "stream": "stdout",
       "text": [
        "\n",
        "CD006131 v. 4.0 Interventions for Mooren's ulcer.rm5\n",
        "CD006132 v. 5.2 Interventions for improving adherence to ocular hypotensive therapy.rm5"
       ]
      },
      {
       "output_type": "stream",
       "stream": "stdout",
       "text": [
        "\n",
        "CD006133 v. 6.0 Steroidal contraceptives effect on carbohydrate metabolism in women without diabetes mellitus.rm5"
       ]
      },
      {
       "output_type": "stream",
       "stream": "stdout",
       "text": [
        "\n",
        "CD006150 v. 3.9 Adjunctive corticosteroids for Pneumocystis jiroveci pneumonia in patients with HIV infection.rm5"
       ]
      },
      {
       "output_type": "stream",
       "stream": "stdout",
       "text": [
        "\n",
        "CD006151 v. 6.0 Fundoplication versus postoperative medication for gastro-oesophageal reflux in children with neurol.rm5"
       ]
      },
      {
       "output_type": "stream",
       "stream": "stdout",
       "text": [
        "\n",
        "CD006153 v. 4.0 Treatment for familial amyotrophic lateral sclerosismotor neuron disease.rm5\n",
        "CD006154 v. 5.0 Interventions for the prevention and treatment of pes cavus.rm5"
       ]
      },
      {
       "output_type": "stream",
       "stream": "stdout",
       "text": [
        "\n",
        "CD006161 v. 5.5 Supplemental oxygen for caesarean section during regional anaesthesia.rm5"
       ]
      },
      {
       "output_type": "stream",
       "stream": "stdout",
       "text": [
        "\n",
        "CD006165 v. 5.0 Interventions for latent autoimmune diabetes (LADA) in adults.rm5"
       ]
      },
      {
       "output_type": "stream",
       "stream": "stdout",
       "text": [
        "\n",
        "CD006167 v. 8.0 Amniotomy for shortening spontaneous labour.rm5"
       ]
      },
      {
       "output_type": "stream",
       "stream": "stdout",
       "text": [
        "\n",
        "CD006170 v. 6.2 Methods of milk expression for lactating women.rm5"
       ]
      },
      {
       "output_type": "stream",
       "stream": "stdout",
       "text": [
        "\n",
        "CD006171 v. 4.0 Prenatal education for congenital toxoplasmosis.rm5"
       ]
      },
      {
       "output_type": "stream",
       "stream": "stdout",
       "text": [
        "\n",
        "CD006172 v. 5.0 Home uterine monitoring for detecting preterm labour.rm5"
       ]
      },
      {
       "output_type": "stream",
       "stream": "stdout",
       "text": [
        "\n",
        "CD006175 v. 4.0 Progesterone for preventing pre-eclampsia and its complications.rm5"
       ]
      },
      {
       "output_type": "stream",
       "stream": "stdout",
       "text": [
        "\n",
        "CD006177 v. 4.1 Interventions in the workplace to support breastfeeding for women in employment.rm5"
       ]
      },
      {
       "output_type": "stream",
       "stream": "stdout",
       "text": [
        "\n",
        "CD006178 v. 7.0 Antenatal lower genital tract infection screening and treatment programs for preventing preterm deli.rm5\n",
        "CD006181 v. 5.0 Prophylactic surgical ligation of patent ductus arteriosus for prevention of mortality and morbidity.rm5"
       ]
      },
      {
       "output_type": "stream",
       "stream": "stdout",
       "text": [
        "\n",
        "CD006185 v. 7.0 Electromechanical-assisted training for walking after stroke.rm5\n",
        "CD006190 v. 5.0 Colchicine for acute gout.rm5"
       ]
      },
      {
       "output_type": "stream",
       "stream": "stdout",
       "text": [
        "\n",
        "CD006201 v. 5.0 Chemotherapy for second-stage Human African trypanosomiasis.rm5"
       ]
      },
      {
       "output_type": "stream",
       "stream": "stdout",
       "text": [
        "\n",
        "CD006205 v. 5.0 Interventions for the treatment of oral and oropharyngeal cancers surgical treatment.rm5"
       ]
      },
      {
       "output_type": "stream",
       "stream": "stdout",
       "text": [
        "\n",
        "CD006207 v. 9.1 Physical interventions to interrupt or reduce the spread of respiratory viruses.rm5"
       ]
      },
      {
       "output_type": "stream",
       "stream": "stdout",
       "text": [
        "\n",
        "CD006211 v. 4.19 Comprehensive geriatric assessment for older adults admitted to hospital.rm5"
       ]
      },
      {
       "output_type": "stream",
       "stream": "stdout",
       "text": [
        "\n",
        "CD006212 v. 6.0 Vena caval filters for the prevention of pulmonary embolism.rm5"
       ]
      },
      {
       "output_type": "stream",
       "stream": "stdout",
       "text": [
        "\n",
        "CD006214 v. 7.0 Debridement for surgical wounds.rm5\n",
        "CD006215 v. 7.0 Negative pressure wound therapy for partial-thickness burns.rm5"
       ]
      },
      {
       "output_type": "stream",
       "stream": "stdout",
       "text": [
        "\n",
        "CD006216 v. 5.0 Mupirocin ointment for preventing Staphylococcus aureus infections in nasal carriers.rm5\n",
        "CD006218 v. 5.0 Influenza vaccine for children and adults with bronchiectasis.rm5"
       ]
      },
      {
       "output_type": "stream",
       "stream": "stdout",
       "text": [
        "\n",
        "CD006219 v. 5.25 Interventions for preventing weight gain after smoking cessation.rm5\n",
        "CD006221 v. 4.0 Dehydroepiandrosterone (DHEA) supplementation for cognitive function in healthy elderly people.rm5"
       ]
      },
      {
       "output_type": "stream",
       "stream": "stdout",
       "text": [
        "\n",
        "CD006222 v. 8.0 Driving assessment for maintaining mobility and safety in drivers with dementia.rm5"
       ]
      },
      {
       "output_type": "stream",
       "stream": "stdout",
       "text": [
        "\n",
        "CD006224 v. 6.13 Chinese herbal medicine in the treatment of ectopic pregnancy.rm5"
       ]
      },
      {
       "output_type": "stream",
       "stream": "stdout",
       "text": [
        "\n",
        "CD006230 v. 3.5 Cholecystectomy for patients with silent gallstones.rm5"
       ]
      },
      {
       "output_type": "stream",
       "stream": "stdout",
       "text": [
        "\n",
        "CD006244 v. 7.0 Care delivery and self management strategies for adults with epilepsy.rm5"
       ]
      },
      {
       "output_type": "stream",
       "stream": "stdout",
       "text": [
        "\n",
        "CD006245 v. 8.0 Care delivery and self management strategies for children with epilepsy.rm5"
       ]
      },
      {
       "output_type": "stream",
       "stream": "stdout",
       "text": [
        "\n",
        "CD006247 v. 5.0 Low bacterial diet versus control diet to prevent infection in cancer patients treated with chemothe.rm5"
       ]
      },
      {
       "output_type": "stream",
       "stream": "stdout",
       "text": [
        "\n",
        "CD006250 v. 5.0 Bisphosphonates for advanced prostate cancer.rm5"
       ]
      },
      {
       "output_type": "stream",
       "stream": "stdout",
       "text": [
        "\n",
        "CD006252 v. 4.21 Vision screening of older drivers for preventing road traffic injuries and fatalities.rm5"
       ]
      },
      {
       "output_type": "stream",
       "stream": "stdout",
       "text": [
        "\n",
        "CD006254 v. 8.2 Calcimimetics for secondary hyperparathyroidism in chronic kidney disease patients.rm5\n",
        "CD006258 v. 7.0 Haemodiafiltration haemofiltration and haemodialysis for end-stage kidney disease.rm5"
       ]
      },
      {
       "output_type": "stream",
       "stream": "stdout",
       "text": [
        "\n",
        "CD006260 v. 5.0 Immediate start of hormonal contraceptives for contraception.rm5"
       ]
      },
      {
       "output_type": "stream",
       "stream": "stdout",
       "text": [
        "\n",
        "CD006261 v. 5.0 Steroid hormones for contraception in women with sickle cell disease.rm5"
       ]
      },
      {
       "output_type": "stream",
       "stream": "stdout",
       "text": [
        "\n",
        "CD006268 v. 3.0 Propofol for sedation during colonoscopy.rm5\n",
        "CD006285 v. 3.2 Autoinflation for hearing loss associated with otitis media with effusion.rm5"
       ]
      },
      {
       "output_type": "stream",
       "stream": "stdout",
       "text": [
        "\n",
        "CD006286 v. 4.2 Intranasal corticosteroids for nasal airway obstruction in children with moderate to severe adenoida.rm5"
       ]
      },
      {
       "output_type": "stream",
       "stream": "stdout",
       "text": [
        "\n",
        "CD006291 v. 5.3 Sub-Tenon's anaesthesia versus topical anaesthesia for cataract surgery.rm5\n",
        "CD006300 v. 8.0 Cyclophosphamide versus ifosfamide for paediatric and young adult bone and soft tissue sarcoma patie.rm5"
       ]
      },
      {
       "output_type": "stream",
       "stream": "stdout",
       "text": [
        "\n",
        "CD006301 v. 6.0 High-dose chemotherapy and autologous haematopoietic stem cell rescue for children with high-risk ne.rm5"
       ]
      },
      {
       "output_type": "stream",
       "stream": "stdout",
       "text": [
        "\n",
        "CD006315 v. 3.4 Ischaemic preconditioning for liver transplantation.rm5"
       ]
      },
      {
       "output_type": "stream",
       "stream": "stdout",
       "text": [
        "\n",
        "CD006318 v. 7.0 Maintenance agonist treatments for opiate-dependent pregnant women.rm5"
       ]
      },
      {
       "output_type": "stream",
       "stream": "stdout",
       "text": [
        "\n",
        "CD006322 v. 5.0 Pulmonary rehabilitation for interstitial lung disease.rm5"
       ]
      },
      {
       "output_type": "stream",
       "stream": "stdout",
       "text": [
        "\n",
        "CD006323 v. 7.2 Pelargonium sidoides extract for treating acute respiratory tract infections.rm5"
       ]
      },
      {
       "output_type": "stream",
       "stream": "stdout",
       "text": [
        "\n",
        "CD006324 v. 6.0 Clozapine combined with different antipsychotic drugs for treatment-resistant schizophrenia.rm5"
       ]
      },
      {
       "output_type": "stream",
       "stream": "stdout",
       "text": [
        "\n",
        "CD006327 v. 4.0 Provision of a surgeon's performance data for people considering elective surgery.rm5"
       ]
      },
      {
       "output_type": "stream",
       "stream": "stdout",
       "text": [
        "\n",
        "CD006334 v. 4.0 Sedation versus general anaesthesia for provision of dental treatment to patients younger than 18 ye.rm5"
       ]
      },
      {
       "output_type": "stream",
       "stream": "stdout",
       "text": [
        "\n",
        "CD006335 v. 6.0 Chinese herbal medicine Huangqi type formulations for nephrotic syndrome.rm5"
       ]
      },
      {
       "output_type": "stream",
       "stream": "stdout",
       "text": [
        "\n",
        "CD006338 v. 9.2 Chest physiotherapy for pneumonia in adults.rm5"
       ]
      },
      {
       "output_type": "stream",
       "stream": "stdout",
       "text": [
        "\n",
        "CD006344 v. 7.0 Indigenous healthcare worker involvement for Indigenous adults and children with asthma.rm5"
       ]
      },
      {
       "output_type": "stream",
       "stream": "stdout",
       "text": [
        "\n",
        "CD006345 v. 4.0 Non-pharmacological interventions for preventing venous insufficiency in a standing worker populatio.rm5\n",
        "CD006352 v. 8.0 Fluphenazine (oral) versus placebo for schizophrenia.rm5"
       ]
      },
      {
       "output_type": "stream",
       "stream": "stdout",
       "text": [
        "\n",
        "CD006353 v. 11.0 Use of plastic adhesive drapes during surgery for preventing surgical site infection.rm5"
       ]
      },
      {
       "output_type": "stream",
       "stream": "stdout",
       "text": [
        "\n",
        "CD006354 v. 6.0 Infection control strategies for preventing the transmission of meticillin-resistant Staphylococcus .rm5"
       ]
      },
      {
       "output_type": "stream",
       "stream": "stdout",
       "text": [
        "\n",
        "CD006362 v. 9.0 Non-steroidal anti-inflammatory drugs for the common cold.rm5\n",
        "CD006364 v. 5.4 Perioperative antibiotics for prevention of acute endophthalmitis after cataract surgery.rm5"
       ]
      },
      {
       "output_type": "stream",
       "stream": "stdout",
       "text": [
        "\n",
        "CD006366 v. 4.0 Surgery for post-vitrectomy cataract.rm5"
       ]
      },
      {
       "output_type": "stream",
       "stream": "stdout",
       "text": [
        "\n",
        "CD006370 v. 6.0 Psychological and behavioural treatments for adults with non-epileptic attack disorder.rm5\n",
        "CD006371 v. 4.6 Sound therapy (masking) in the management of tinnitus in adults.rm5"
       ]
      },
      {
       "output_type": "stream",
       "stream": "stdout",
       "text": [
        "\n",
        "CD006372 v. 4.0 Interventions for preventing voice disorders in adults.rm5"
       ]
      },
      {
       "output_type": "stream",
       "stream": "stdout",
       "text": [
        "\n",
        "CD006380 v. 7.0 Pharmacologic interventions for treating phantom limb pain.rm5"
       ]
      },
      {
       "output_type": "stream",
       "stream": "stdout",
       "text": [
        "\n",
        "CD006384 v. 3.0 Hand and ultrasonic instrumentation for orthograde root canal treatment of permanent teeth.rm5"
       ]
      },
      {
       "output_type": "stream",
       "stream": "stdout",
       "text": [
        "\n",
        "CD006386 v. 4.0 Interventions for the treatment of oral cavity and oropharyngeal cancer chemotherapy.rm5\n",
        "CD006391 v. 5.4 Benzodiazepines for schizophrenia.rm5"
       ]
      },
      {
       "output_type": "stream",
       "stream": "stdout",
       "text": [
        "\n",
        "CD006395 v. 5.0 Prophylactic oral betamimetics for preventing preterm labour in singleton pregnancies.rm5"
       ]
      },
      {
       "output_type": "stream",
       "stream": "stdout",
       "text": [
        "\n",
        "CD006396 v. 5.0 Interventions to prevent occupational noise-induced hearing loss.rm5\n",
        "CD006401 v. 9.0 Statins for children with familial hypercholesterolemia.rm5"
       ]
      },
      {
       "output_type": "stream",
       "stream": "stdout",
       "text": [
        "\n",
        "CD006405 v. 5.0 High flow nasal cannula for respiratory support in preterm infants.rm5"
       ]
      },
      {
       "output_type": "stream",
       "stream": "stdout",
       "text": [
        "\n",
        "CD006415 v. 4.0 Surgery for tubal infertility.rm5"
       ]
      },
      {
       "output_type": "stream",
       "stream": "stdout",
       "text": [
        "\n",
        "CD006418 v. 4.0 Isoniazid for preventing tuberculosis in HIV-infected children.rm5"
       ]
      },
      {
       "output_type": "stream",
       "stream": "stdout",
       "text": [
        "\n",
        "CD006419 v. 5.0 Antihelminthics in helminth-endemic areas effects on HIV disease progression.rm5"
       ]
      },
      {
       "output_type": "stream",
       "stream": "stdout",
       "text": [
        "\n",
        "CD006421 v. 5.2 Intravitreal low molecular weight heparin and 5-Fluorouracil for the prevention of proliferative vit.rm5"
       ]
      },
      {
       "output_type": "stream",
       "stream": "stdout",
       "text": [
        "\n",
        "CD006424 v. 3.0 Culturally appropriate health education for people in ethnic minority groups with type 2 diabetes me.rm5"
       ]
      },
      {
       "output_type": "stream",
       "stream": "stdout",
       "text": [
        "\n",
        "CD006425 v. 6.0 Antenatal breastfeeding education for increasing breastfeeding duration.rm5"
       ]
      },
      {
       "output_type": "stream",
       "stream": "stdout",
       "text": [
        "\n",
        "CD006438 v. 4.0 Open surgical procedures for incisional hernias.rm5"
       ]
      },
      {
       "output_type": "stream",
       "stream": "stdout",
       "text": [
        "\n",
        "CD006447 v. 5.0 Non-pharmacological interventions for assisting the induction of anaesthesia in children.rm5"
       ]
      },
      {
       "output_type": "stream",
       "stream": "stdout",
       "text": [
        "\n",
        "CD006452 v. 8.0 Rapid viral diagnosis for acute febrile respiratory illness in children in the Emergency Department.rm5"
       ]
      },
      {
       "output_type": "stream",
       "stream": "stdout",
       "text": [
        "\n",
        "CD006458 v. 10.0 Nebulised hypertonic saline solution for acute bronchiolitis in infants.rm5"
       ]
      },
      {
       "output_type": "stream",
       "stream": "stdout",
       "text": [
        "\n",
        "CD006459 v. 6.0 Ultrasound guidance for upper and lower limb blocks.rm5"
       ]
      },
      {
       "output_type": "stream",
       "stream": "stdout",
       "text": [
        "\n",
        "CD006461 v. 6.0 Interventions for strabismic amblyopia.rm5"
       ]
      },
      {
       "output_type": "stream",
       "stream": "stdout",
       "text": [
        "\n",
        "CD006462 v. 5.0 Early additional food and fluids for healthy breastfed full-term infants.rm5\n",
        "CD006466 v. 11.0 Oral anticoagulation in people with cancer who have no therapeutic or prophylactic indication for an.rm5"
       ]
      },
      {
       "output_type": "stream",
       "stream": "stdout",
       "text": [
        "\n",
        "CD006468 v. 10.0 Anticoagulation for people with cancer and central venous catheters.rm5"
       ]
      },
      {
       "output_type": "stream",
       "stream": "stdout",
       "text": [
        "\n",
        "CD006471 v. 6.0 Risk assessment tools for the prevention of pressure ulcers.rm5"
       ]
      },
      {
       "output_type": "stream",
       "stream": "stdout",
       "text": [
        "\n",
        "CD006474 v. 4.0 Prebiotics in infants for prevention of allergy.rm5"
       ]
      },
      {
       "output_type": "stream",
       "stream": "stdout",
       "text": [
        "\n",
        "CD006480 v. 4.0 Mono and multifaceted inhalant andor food allergen reduction interventions for preventing asthma in.rm5"
       ]
      },
      {
       "output_type": "stream",
       "stream": "stdout",
       "text": [
        "\n",
        "CD006482 v. 9.0 Quantitative versus qualitative cultures of respiratory secretions for clinical outcomes in patients.rm5"
       ]
      },
      {
       "output_type": "stream",
       "stream": "stdout",
       "text": [
        "\n",
        "CD006484 v. 5.0 Influenza vaccination in children being treated with chemotherapy for cancer.rm5\n",
        "CD006489 v. 6.0 Exercise programs for people with dementia.rm5"
       ]
      },
      {
       "output_type": "stream",
       "stream": "stdout",
       "text": [
        "\n",
        "CD006491 v. 7.0 Mefloquine for preventing malaria during travel to endemic areas.rm5"
       ]
      },
      {
       "output_type": "stream",
       "stream": "stdout",
       "text": [
        "\n",
        "CD006493 v. 5.0 Home-based HIV voluntary counselling and testing (VCT) for improving uptake of HIV testing.rm5"
       ]
      },
      {
       "output_type": "stream",
       "stream": "stdout",
       "text": [
        "\n",
        "CD006499 v. 5.0 Botulinum toxin for the treatment of strabismus.rm5"
       ]
      },
      {
       "output_type": "stream",
       "stream": "stdout",
       "text": [
        "\n",
        "CD006503 v. 5.0 Antiplatelet drugs for polycythaemia vera and essential thrombocythaemia.rm5"
       ]
      },
      {
       "output_type": "stream",
       "stream": "stdout",
       "text": [
        "\n",
        "CD006519 v. 4.0 Polymer-based oral rehydration solution for treating acute watery diarrhoea.rm5\n",
        "CD006521 v. 5.0 Immunotherapy for diabetic amyotrophy.rm5"
       ]
      },
      {
       "output_type": "stream",
       "stream": "stdout",
       "text": [
        "\n",
        "CD006536 v. 6.0 Stem cell treatment for acute myocardial infarction.rm5\n",
        "CD006537 v. 4.4 Laser treatment of drusen to prevent progression to advanced age-related macular degeneration.rm5"
       ]
      },
      {
       "output_type": "stream",
       "stream": "stdout",
       "text": [
        "\n",
        "CD006539 v. 5.0 Neuroprotection for treatment of glaucoma in adults.rm5"
       ]
      },
      {
       "output_type": "stream",
       "stream": "stdout",
       "text": [
        "\n",
        "CD006546 v. 5.0 Kinship care for the safety permanency and well-being of children removed from the home for maltre.rm5"
       ]
      },
      {
       "output_type": "stream",
       "stream": "stdout",
       "text": [
        "\n",
        "CD006553 v. 7.0 Planned caesarean section for women with a twin pregnancy.rm5"
       ]
      },
      {
       "output_type": "stream",
       "stream": "stdout",
       "text": [
        "\n",
        "CD006567 v. 5.0 Post-embryo transfer interventions for assisted reproduction technology cycles.rm5"
       ]
      },
      {
       "output_type": "stream",
       "stream": "stdout",
       "text": [
        "\n",
        "CD006573 v. 5.0 Antiviral prophylaxis for the prevention of chronic hepatitis C virus in patients undergoing liver t.rm5"
       ]
      },
      {
       "output_type": "stream",
       "stream": "stdout",
       "text": [
        "\n",
        "CD006574 v. 5.0 Abdominal lift for laparoscopic cholecystectomy.rm5"
       ]
      },
      {
       "output_type": "stream",
       "stream": "stdout",
       "text": [
        "\n",
        "CD006575 v. 3.3 Virtual reality training for surgical trainees in laparoscopic surgery.rm5"
       ]
      },
      {
       "output_type": "stream",
       "stream": "stdout",
       "text": [
        "\n",
        "CD006577 v. 4.0 Music for stress and anxiety reduction in coronary heart disease patients.rm5"
       ]
      },
      {
       "output_type": "stream",
       "stream": "stdout",
       "text": [
        "\n",
        "CD006578 v. 3.0 Robot assistant versus human or another robot assistant in patients undergoing laparoscopic cholecys.rm5"
       ]
      },
      {
       "output_type": "stream",
       "stream": "stdout",
       "text": [
        "\n",
        "CD006580 v. 5.0 Culture-specific programs for children and adults from minority groups who have asthma.rm5\n",
        "CD006583 v. 7.0 Laparoscopic entry techniques.rm5"
       ]
      },
      {
       "output_type": "stream",
       "stream": "stdout",
       "text": [
        "\n",
        "CD006586 v. 6.0 Oral contraceptives containing drospirenone for premenstrual syndrome.rm5"
       ]
      },
      {
       "output_type": "stream",
       "stream": "stdout",
       "text": [
        "\n",
        "CD006589 v. 6.0 Oral iron supplements for children in malaria-endemic areas.rm5"
       ]
      },
      {
       "output_type": "stream",
       "stream": "stdout",
       "text": [
        "\n",
        "CD006593 v. 3.2 Amniotic fluid index versus single deepest vertical pocket as a screening test for preventing advers.rm5"
       ]
      },
      {
       "output_type": "stream",
       "stream": "stdout",
       "text": [
        "\n",
        "CD006594 v. 3.3 Reminder systems to improve patient adherence to tuberculosis clinic appointments for diagnosis and .rm5"
       ]
      },
      {
       "output_type": "stream",
       "stream": "stdout",
       "text": [
        "\n",
        "CD006595 v. 5.2 Clinical pathways for chronic cough in children.rm5"
       ]
      },
      {
       "output_type": "stream",
       "stream": "stdout",
       "text": [
        "\n",
        "CD006606 v. 5.0 In vitro maturation in subfertile women with polycystic ovarian syndrome undergoing assisted reprodu.rm5"
       ]
      },
      {
       "output_type": "stream",
       "stream": "stdout",
       "text": [
        "\n",
        "CD006611 v. 5.0 Mobile phone-based interventions for smoking cessation.rm5"
       ]
      },
      {
       "output_type": "stream",
       "stream": "stdout",
       "text": [
        "\n",
        "CD006612 v. 6.0 Homocysteine-lowering interventions for preventing cardiovascular events.rm5"
       ]
      },
      {
       "output_type": "stream",
       "stream": "stdout",
       "text": [
        "\n",
        "CD006613 v. 5.0 Red cell transfusion for the management of upper gastrointestinal haemorrhage.rm5"
       ]
      },
      {
       "output_type": "stream",
       "stream": "stdout",
       "text": [
        "\n",
        "CD006619 v. 5.0 Nebulized epinephrine for croup in children.rm5"
       ]
      },
      {
       "output_type": "stream",
       "stream": "stdout",
       "text": [
        "\n",
        "CD006623 v. 4.0 Deliberate hypotension with propofol under anaesthesia for functional endoscopic sinus surgery (FESS.rm5"
       ]
      },
      {
       "output_type": "stream",
       "stream": "stdout",
       "text": [
        "\n",
        "CD006625 v. 4.2 Quetiapine versus other atypical antipsychotics for schizophrenia.rm5"
       ]
      },
      {
       "output_type": "stream",
       "stream": "stdout",
       "text": [
        "\n",
        "CD006632 v. 5.0 Clinical pathways effects on professional practice patient outcomes length of stay and hospital c.rm5"
       ]
      },
      {
       "output_type": "stream",
       "stream": "stdout",
       "text": [
        "\n",
        "CD006636 v. 3.0 Rapid versus stepwise negative pressure application for vacuum extraction assisted vaginal delivery.rm5"
       ]
      },
      {
       "output_type": "stream",
       "stream": "stdout",
       "text": [
        "\n",
        "CD006638 v. 6.0 Cooling for cerebral protection during brain surgery.rm5"
       ]
      },
      {
       "output_type": "stream",
       "stream": "stdout",
       "text": [
        "\n",
        "CD006639 v. 7.0 Zinc supplements for preventing otitis media.rm5"
       ]
      },
      {
       "output_type": "stream",
       "stream": "stdout",
       "text": [
        "\n",
        "CD006640 v. 5.0 Tranexamic acid for upper gastrointestinal bleeding.rm5"
       ]
      },
      {
       "output_type": "stream",
       "stream": "stdout",
       "text": [
        "\n",
        "CD006641 v. 4.0 Rooming-in for new mother and infant versus separate care for increasing the duration of breastfeedi.rm5"
       ]
      },
      {
       "output_type": "stream",
       "stream": "stdout",
       "text": [
        "\n",
        "CD006643 v. 3.0 Interferon Beta for Primary Progressive Multiple Sclerosis.rm5\n",
        "CD006647 v. 5.0 Treatment including anthracyclines versus treatment not including anthracyclines for childhood cance.rm5"
       ]
      },
      {
       "output_type": "stream",
       "stream": "stdout",
       "text": [
        "\n",
        "CD006660 v. 3.0 Methods of preventing bacterial sepsis and wound complications after liver transplantation.rm5"
       ]
      },
      {
       "output_type": "stream",
       "stream": "stdout",
       "text": [
        "\n",
        "CD006665 v. 7.0 Vitamin C for preventing and treating tetanus.rm5"
       ]
      },
      {
       "output_type": "stream",
       "stream": "stdout",
       "text": [
        "\n",
        "CD006667 v. 6.0 Recruitment manoeuvres for adults with acute respiratory distress syndrome receiving mechanical vent.rm5"
       ]
      },
      {
       "output_type": "stream",
       "stream": "stdout",
       "text": [
        "\n",
        "CD006672 v. 5.2 Perineal techniques during the second stage of labour for reducing perineal trauma.rm5"
       ]
      },
      {
       "output_type": "stream",
       "stream": "stdout",
       "text": [
        "\n",
        "CD006674 v. 5.0 Dietary advice interventions in pregnancy for preventing gestational diabetes mellitus.rm5"
       ]
      },
      {
       "output_type": "stream",
       "stream": "stdout",
       "text": [
        "\n",
        "CD006676 v. 4.8 Locomotor training for walking after spinal cord injury.rm5"
       ]
      },
      {
       "output_type": "stream",
       "stream": "stdout",
       "text": [
        "\n",
        "CD006682 v. 6.2 Duration of intravenous antibiotic therapy in people with cystic fibrosis.rm5"
       ]
      },
      {
       "output_type": "stream",
       "stream": "stdout",
       "text": [
        "\n",
        "CD006685 v. 7.2 Pharmacological treatment for Kleine-Levin syndrome.rm5"
       ]
      },
      {
       "output_type": "stream",
       "stream": "stdout",
       "text": [
        "\n",
        "CD006686 v. 7.0 Bradykinin beta-2 receptor antagonists for acute traumatic brain injury.rm5\n",
        "CD006687 v. 4.0 Oral vasodilators for primary Raynaud's phenomenon.rm5"
       ]
      },
      {
       "output_type": "stream",
       "stream": "stdout",
       "text": [
        "\n",
        "CD006697 v. 3.0 Interventions for replacing missing teeth management of soft tissues for dental implants.rm5"
       ]
      },
      {
       "output_type": "stream",
       "stream": "stdout",
       "text": [
        "\n",
        "CD006727 v. 5.0 Continuation and maintenance treatments for depression in older people.rm5"
       ]
      },
      {
       "output_type": "stream",
       "stream": "stdout",
       "text": [
        "\n",
        "CD006731 v. 7.0 Pharmaceutical policies effects of financial incentives for prescribers.rm5"
       ]
      },
      {
       "output_type": "stream",
       "stream": "stdout",
       "text": [
        "\n",
        "CD006732 v. 4.0 Interventions for improving the adoption of shared decision making by healthcare professionals.rm5"
       ]
      },
      {
       "output_type": "stream",
       "stream": "stdout",
       "text": [
        "\n",
        "CD006745 v. 5.0 Percutaneous ethanol injection or percutaneous acetic acid injection for early hepatocellular carcin.rm5"
       ]
      },
      {
       "output_type": "stream",
       "stream": "stdout",
       "text": [
        "\n",
        "CD006746 v. 3.0 Laser peripheral iridoplasty for angle-closure.rm5"
       ]
      },
      {
       "output_type": "stream",
       "stream": "stdout",
       "text": [
        "\n",
        "CD006748 v. 6.0 Social norms information for alcohol misuse in university and college students.rm5\n",
        "CD006749 v. 5.0 Detoxification treatments for opiate dependent adolescents.rm5"
       ]
      },
      {
       "output_type": "stream",
       "stream": "stdout",
       "text": [
        "\n",
        "CD006751 v. 7.0 Vitamin A supplementation for cystic fibrosis.rm5"
       ]
      },
      {
       "output_type": "stream",
       "stream": "stdout",
       "text": [
        "\n",
        "CD006757 v. 6.4 Surgery for cataracts in people with age-related macular degeneration.rm5\n",
        "CD006759 v. 4.1 Maternity waiting facilities for improving maternal and neonatal outcome in low-resource countries.rm5"
       ]
      },
      {
       "output_type": "stream",
       "stream": "stdout",
       "text": [
        "\n",
        "CD006761 v. 5.0 Conventional versus LigaSure hemorrhoidectomy for patients with symptomatic Hemorrhoids.rm5\n",
        "CD006764 v. 5.0 Different corticosteroids and regimens for accelerating fetal lung maturation for women at risk of p.rm5"
       ]
      },
      {
       "output_type": "stream",
       "stream": "stdout",
       "text": [
        "\n",
        "CD006767 v. 4.0 Angioplasty versus bare metal stenting for superficial femoral artery lesions.rm5"
       ]
      },
      {
       "output_type": "stream",
       "stream": "stdout",
       "text": [
        "\n",
        "CD006770 v. 4.0 Progestational agents for treating threatened or established preterm labour.rm5"
       ]
      },
      {
       "output_type": "stream",
       "stream": "stdout",
       "text": [
        "\n",
        "CD006771 v. 4.0 Subcutaneous unfractionated heparin for the initial treatment of venous thromboembolism.rm5"
       ]
      },
      {
       "output_type": "stream",
       "stream": "stdout",
       "text": [
        "\n",
        "CD006774 v. 7.0 Unfractionated or low-molecular weight heparin for induction of remission in ulcerative colitis.rm5"
       ]
      },
      {
       "output_type": "stream",
       "stream": "stdout",
       "text": [
        "\n",
        "CD006775 v. 6.0 Punctal occlusion for dry eye syndrome.rm5"
       ]
      },
      {
       "output_type": "stream",
       "stream": "stdout",
       "text": [
        "\n",
        "CD006780 v. 5.0 Antithrombotic therapy for improving maternal or infant health outcomes in women considered at risk .rm5"
       ]
      },
      {
       "output_type": "stream",
       "stream": "stdout",
       "text": [
        "\n",
        "CD006781 v. 4.0 Aminophylline for bradyasystolic cardiac arrest in adults.rm5"
       ]
      },
      {
       "output_type": "stream",
       "stream": "stdout",
       "text": [
        "\n",
        "CD006787 v. 4.0 Music interventions for acquired brain injury.rm5"
       ]
      },
      {
       "output_type": "stream",
       "stream": "stdout",
       "text": [
        "\n",
        "CD006790 v. 4.0 Type I interferons for induction of remission in ulcerative colitis.rm5"
       ]
      },
      {
       "output_type": "stream",
       "stream": "stdout",
       "text": [
        "\n",
        "CD006794 v. 6.0 Early amniotomy and early oxytocin for prevention of or therapy for delay in first stage spontaneo.rm5"
       ]
      },
      {
       "output_type": "stream",
       "stream": "stdout",
       "text": [
        "\n",
        "CD006795 v. 5.0 Interventions (other than pharmacological psychosocial or psychological) for treating antenatal dep.rm5"
       ]
      },
      {
       "output_type": "stream",
       "stream": "stdout",
       "text": [
        "\n",
        "CD006796 v. 4.0 Thoracic stent graft versus surgery for thoracic aneurysm.rm5"
       ]
      },
      {
       "output_type": "stream",
       "stream": "stdout",
       "text": [
        "\n",
        "CD006798 v. 4.0 Day-surgery versus overnight stay surgery for laparoscopic cholecystectomy.rm5\n",
        "CD006804 v. 6.2 Miniports versus standard ports for laparoscopic cholecystectomy.rm5"
       ]
      },
      {
       "output_type": "stream",
       "stream": "stdout",
       "text": [
        "\n",
        "CD006810 v. 5.0 Granulocyte-colony stimulating factors as adjunctive therapy for diabetic foot infections.rm5"
       ]
      },
      {
       "output_type": "stream",
       "stream": "stdout",
       "text": [
        "\n",
        "CD006817 v. 4.0 Allopurinol for preventing mortality and morbidity in newborn infants with hypoxic-ischaemic encepha.rm5"
       ]
      },
      {
       "output_type": "stream",
       "stream": "stdout",
       "text": [
        "\n",
        "CD006821 v. 10.0 Saline nasal irrigation for acute upper respiratory tract infections.rm5\n",
        "CD006822 v. 6.0 Heliox for croup in children.rm5"
       ]
      },
      {
       "output_type": "stream",
       "stream": "stdout",
       "text": [
        "\n",
        "CD006828 v. 3.0 Treatment for POEMS (polyneuropathy organomegaly endocrinopathy M-protein and skin changes) synd.rm5"
       ]
      },
      {
       "output_type": "stream",
       "stream": "stdout",
       "text": [
        "\n",
        "CD006832 v. 3.0 Interventions for preventing critical illness polyneuropathy and critical illness myopathy.rm5\n",
        "CD006837 v. 4.0 High initial concentration versus low initial concentration sevoflurane for inhalational induction o.rm5"
       ]
      },
      {
       "output_type": "stream",
       "stream": "stdout",
       "text": [
        "\n",
        "CD006838 v. 10.0 Anti-inflammatory drugs and analgesics for managing symptoms in people with cystic fibrosis-related .rm5"
       ]
      },
      {
       "output_type": "stream",
       "stream": "stdout",
       "text": [
        "\n",
        "CD006839 v. 5.2 Treatment for ulnar neuropathy at the elbow.rm5\n",
        "CD006849 v. 4.0 Platinum versus non-platinum chemotherapy regimens for small cell lung cancer.rm5"
       ]
      },
      {
       "output_type": "stream",
       "stream": "stdout",
       "text": [
        "\n",
        "CD006850 v. 5.0 Braces for idiopathic scoliosis in adolescents.rm5"
       ]
      },
      {
       "output_type": "stream",
       "stream": "stdout",
       "text": [
        "\n",
        "CD006866 v. 4.0 Antiviral treatment for preventing postherpetic neuralgia.rm5"
       ]
      },
      {
       "output_type": "stream",
       "stream": "stdout",
       "text": [
        "\n",
        "CD006868 v. 10.0 Dance therapy for schizophrenia.rm5"
       ]
      },
      {
       "output_type": "stream",
       "stream": "stdout",
       "text": [
        "\n",
        "CD006876 v. 5.1 Electromechanical and robot-assisted arm training for improving activities of daily living arm func.rm5"
       ]
      },
      {
       "output_type": "stream",
       "stream": "stdout",
       "text": [
        "\n",
        "CD006883 v. 6.0 Antifibrinolytic agents for reducing blood loss in scoliosis surgery in children.rm5"
       ]
      },
      {
       "output_type": "stream",
       "stream": "stdout",
       "text": [
        "\n",
        "CD006884 v. 4.0 Methotrexate for maintenance of remission in Crohn's disease.rm5"
       ]
      },
      {
       "output_type": "stream",
       "stream": "stdout",
       "text": [
        "\n",
        "CD006886 v. 3.0 Psychosocial interventions for smoking cessation in patients with coronary heart disease.rm5"
       ]
      },
      {
       "output_type": "stream",
       "stream": "stdout",
       "text": [
        "\n",
        "CD006888 v. 4.0 Ginkgo biloba for intermittent claudication.rm5"
       ]
      },
      {
       "output_type": "stream",
       "stream": "stdout",
       "text": [
        "\n",
        "CD006895 v. 5.0 Probiotics for preventing acute upper respiratory tract infections.rm5"
       ]
      },
      {
       "output_type": "stream",
       "stream": "stdout",
       "text": [
        "\n",
        "CD006897 v. 5.0 Different durations of corticosteroid therapy for exacerbations of chronic obstructive pulmonary dis.rm5"
       ]
      },
      {
       "output_type": "stream",
       "stream": "stdout",
       "text": [
        "\n",
        "CD006898 v. 9.0 Repositioning for treating pressure ulcers.rm5"
       ]
      },
      {
       "output_type": "stream",
       "stream": "stdout",
       "text": [
        "\n",
        "CD006899 v. 7.0 Autologous platelet-rich plasma for treating chronic wounds.rm5\n",
        "CD006901 v. 4.0 Nitric oxide donors for cervical ripening and induction of labour.rm5"
       ]
      },
      {
       "output_type": "stream",
       "stream": "stdout",
       "text": [
        "\n",
        "CD006902 v. 5.0 Music interventions for mechanically ventilated patients.rm5"
       ]
      },
      {
       "output_type": "stream",
       "stream": "stdout",
       "text": [
        "\n",
        "CD006904 v. 8.0 Protocolized versus non-protocolized weaning for reducing the duration of mechanical ventilation in .rm5"
       ]
      },
      {
       "output_type": "stream",
       "stream": "stdout",
       "text": [
        "\n",
        "CD006909 v. 5.0 Interventions for prevention of giant retinal tear in the fellow eye.rm5"
       ]
      },
      {
       "output_type": "stream",
       "stream": "stdout",
       "text": [
        "\n",
        "CD006911 v. 8.2 Music interventions for improving psychological and physical outcomes in cancer patients.rm5\n",
        "CD006915 v. 7.0 Heliox inhalation therapy for bronchiolitis in infants.rm5"
       ]
      },
      {
       "output_type": "stream",
       "stream": "stdout",
       "text": [
        "\n",
        "CD006918 v. 4.3 Risperidone versus placebo for schizophrenia.rm5"
       ]
      },
      {
       "output_type": "stream",
       "stream": "stdout",
       "text": [
        "\n",
        "CD006919 v. 6.0 Gonadotrophin-releasing hormone agonist protocols for pituitary suppression in assisted reproduction.rm5"
       ]
      },
      {
       "output_type": "stream",
       "stream": "stdout",
       "text": [
        "\n",
        "CD006920 v. 5.6 Acupuncture and assisted reproductive technology.rm5"
       ]
      },
      {
       "output_type": "stream",
       "stream": "stdout",
       "text": [
        "\n",
        "CD006921 v. 4.0 Oral versus intravenous steroids for treatment of relapses in multiple sclerosis.rm5"
       ]
      },
      {
       "output_type": "stream",
       "stream": "stdout",
       "text": [
        "\n",
        "CD006922 v. 4.0 Regular treatment with salmeterol and inhaled steroids for chronic asthma serious adverse events.rm5"
       ]
      },
      {
       "output_type": "stream",
       "stream": "stdout",
       "text": [
        "\n",
        "CD006924 v. 4.0 Regular treatment with formoterol and inhaled steroids for chronic asthma serious adverse events.rm5"
       ]
      },
      {
       "output_type": "stream",
       "stream": "stdout",
       "text": [
        "\n",
        "CD006927 v. 6.0 Statins for age-related macular degeneration.rm5"
       ]
      },
      {
       "output_type": "stream",
       "stream": "stdout",
       "text": [
        "\n",
        "CD006930 v. 4.0 Low pressure versus standard pressure pneumoperitoneum in laparoscopic cholecystectomy.rm5\n",
        "CD006934 v. 4.1 Simple urethral dilatation endoscopic urethrotomy and urethroplasty for urethral stricture disease.rm5"
       ]
      },
      {
       "output_type": "stream",
       "stream": "stdout",
       "text": [
        "\n",
        "CD006936 v. 6.0 Motivational interviewing for smoking cessation.rm5"
       ]
      },
      {
       "output_type": "stream",
       "stream": "stdout",
       "text": [
        "\n",
        "CD006937 v. 5.0 Speech therapy for children with dysarthria acquired before three years of age.rm5"
       ]
      },
      {
       "output_type": "stream",
       "stream": "stdout",
       "text": [
        "\n",
        "CD006942 v. 4.0 Synchronised approach for intrauterine insemination in subfertile couples.rm5"
       ]
      },
      {
       "output_type": "stream",
       "stream": "stdout",
       "text": [
        "\n",
        "CD006945 v. 6.0 Urate oxidase for the prevention and treatment of tumour lysis syndrome in children with cancer.rm5"
       ]
      },
      {
       "output_type": "stream",
       "stream": "stdout",
       "text": [
        "\n",
        "CD006947 v. 5.0 Internal versus external tocodynamometry during induced or augmented labour.rm5"
       ]
      },
      {
       "output_type": "stream",
       "stream": "stdout",
       "text": [
        "\n",
        "CD006955 v. 4.0 Workplace interventions to prevent work disability in workers on sick leave.rm5"
       ]
      },
      {
       "output_type": "stream",
       "stream": "stdout",
       "text": [
        "\n",
        "CD006961 v. 8.0 Combination antimicrobial susceptibility testing for acute exacerbations in chronic infection of Pse.rm5"
       ]
      },
      {
       "output_type": "stream",
       "stream": "stdout",
       "text": [
        "\n",
        "CD006964 v. 5.0 Strategies for communicating contraceptive effectiveness.rm5"
       ]
      },
      {
       "output_type": "stream",
       "stream": "stdout",
       "text": [
        "\n",
        "CD006965 v. 7.0 Effects of restricted caffeine intake by mother on fetal neonatal and pregnancy outcomes.rm5"
       ]
      },
      {
       "output_type": "stream",
       "stream": "stdout",
       "text": [
        "\n",
        "CD006966 v. 3.0 Open versus closed surgical exposure of canine teeth that are displaced in the roof of the mouth.rm5\n",
        "CD006967 v. 6.0 Melatonin as add-on treatment for epilepsy.rm5"
       ]
      },
      {
       "output_type": "stream",
       "stream": "stdout",
       "text": [
        "\n",
        "CD006974 v. 8.0 Hematopoietic stem cell transplantation for Gaucher disease.rm5\n",
        "CD006975 v. 6.0 Vaccines for preventing invasive salmonella infections in people with sickle cell disease.rm5"
       ]
      },
      {
       "output_type": "stream",
       "stream": "stdout",
       "text": [
        "\n",
        "CD006976 v. 5.0 Treatment for idiopathic and hereditary neuralgic amyotrophy (brachial neuritis).rm5\n",
        "CD006980 v. 6.0 Neonatal vitamin A supplementation for the prevention of mortality and morbidity in term neonates in.rm5"
       ]
      },
      {
       "output_type": "stream",
       "stream": "stdout",
       "text": [
        "\n",
        "CD006983 v. 4.0 Decompressive surgery for treating nerve damage in leprosy.rm5"
       ]
      },
      {
       "output_type": "stream",
       "stream": "stdout",
       "text": [
        "\n",
        "CD006986 v. 5.0 Acetylcholinesterase inhibitor treatment for myasthenia gravis.rm5"
       ]
      },
      {
       "output_type": "stream",
       "stream": "stdout",
       "text": [
        "\n",
        "CD007001 v. 7.0 Hematopoietic stem cell transplantation for people with sickle cell disease.rm5\n",
        "CD007004 v. 5.0 Aldosterone antagonists for preventing the progression of chronic kidney disease.rm5"
       ]
      },
      {
       "output_type": "stream",
       "stream": "stdout",
       "text": [
        "\n",
        "CD007017 v. 5.2 Pharmaceutical policies effects of cap and co-payment on rational use of medicines.rm5"
       ]
      },
      {
       "output_type": "stream",
       "stream": "stdout",
       "text": [
        "\n",
        "CD007020 v. 8.0 Antioxidant supplementation for lung disease in cystic fibrosis.rm5"
       ]
      },
      {
       "output_type": "stream",
       "stream": "stdout",
       "text": [
        "\n",
        "CD007025 v. 5.0 Motivational interviewing for the prevention of alcohol misuse in young adults.rm5"
       ]
      },
      {
       "output_type": "stream",
       "stream": "stdout",
       "text": [
        "\n",
        "CD007028 v. 4.0 Mailuoning for acute ischaemic stroke.rm5"
       ]
      },
      {
       "output_type": "stream",
       "stream": "stdout",
       "text": [
        "\n",
        "CD007030 v. 4.0 Interventions for post-stroke fatigue.rm5"
       ]
      },
      {
       "output_type": "stream",
       "stream": "stdout",
       "text": [
        "\n",
        "CD007037 v. 5.0 Beta-blockers for congestive heart failure in children.rm5"
       ]
      },
      {
       "output_type": "stream",
       "stream": "stdout",
       "text": [
        "\n",
        "CD007041 v. 5.0 Mohs micrographic surgery versus surgical excision for periocular basal cell carcinoma.rm5"
       ]
      },
      {
       "output_type": "stream",
       "stream": "stdout",
       "text": [
        "\n",
        "CD007044 v. 4.0 Extracorporeal shock wave lithotripsy (ESWL) versus percutaneous nephrolithotomy (PCNL) or retrograd.rm5\n",
        "CD007057 v. 5.0 Intravenous immunoglobulin as adjuvant therapy for Wegener's granulomatosis.rm5"
       ]
      },
      {
       "output_type": "stream",
       "stream": "stdout",
       "text": [
        "\n",
        "CD007058 v. 4.0 Ultrasound for fetal assessment in early pregnancy.rm5"
       ]
      },
      {
       "output_type": "stream",
       "stream": "stdout",
       "text": [
        "\n",
        "CD007062 v. 4.0 Tocolytics for preterm premature rupture of membranes.rm5"
       ]
      },
      {
       "output_type": "stream",
       "stream": "stdout",
       "text": [
        "\n",
        "CD007071 v. 5.0 In-service training for health professionals to improve care of seriously ill newborns and children .rm5"
       ]
      },
      {
       "output_type": "stream",
       "stream": "stdout",
       "text": [
        "\n",
        "CD007077 v. 4.2 Partial breast irradiation for early breast cancer.rm5"
       ]
      },
      {
       "output_type": "stream",
       "stream": "stdout",
       "text": [
        "\n",
        "CD007079 v. 3.0 Calcium supplementation (other than for preventing or treating hypertension) for improving pregnancy.rm5"
       ]
      },
      {
       "output_type": "stream",
       "stream": "stdout",
       "text": [
        "\n",
        "CD007094 v. 4.0 Honey for acute cough in children.rm5"
       ]
      },
      {
       "output_type": "stream",
       "stream": "stdout",
       "text": [
        "\n",
        "CD007095 v. 6.0 Xylitol for preventing acute otitis media in children up to 12 years of age.rm5"
       ]
      },
      {
       "output_type": "stream",
       "stream": "stdout",
       "text": [
        "\n",
        "CD007096 v. 3.0 Techniques of intrauterine fetal transfusion for women with red-cell isoimmunisation for improving h.rm5"
       ]
      },
      {
       "output_type": "stream",
       "stream": "stdout",
       "text": [
        "\n",
        "CD007097 v. 4.0 Endonasal versus external dacryocystorhinostomy for nasolacrimal duct obstruction.rm5"
       ]
      },
      {
       "output_type": "stream",
       "stream": "stdout",
       "text": [
        "\n",
        "CD007103 v. 8.4 Dancemovement therapy for improving psychological and physical outcomes in cancer patients.rm5\n",
        "CD007107 v. 3.0 Prophylactic antibiotics or G(M)-CSF for the prevention of infections and improvement of survival in.rm5"
       ]
      },
      {
       "output_type": "stream",
       "stream": "stdout",
       "text": [
        "\n",
        "CD007110 v. 5.0 Chemotherapy alone versus chemotherapy plus radiotherapy for adults with early stage Hodgkin lymphom.rm5"
       ]
      },
      {
       "output_type": "stream",
       "stream": "stdout",
       "text": [
        "\n",
        "CD007112 v. 4.2 Photorefractive keratectomy (PRK) versus laser assisted in situ keratomileusis (LASIK) for hyperopia.rm5"
       ]
      },
      {
       "output_type": "stream",
       "stream": "stdout",
       "text": [
        "\n",
        "CD007113 v. 3.0 Regimens of fetal surveillance for impaired fetal growth.rm5\n",
        "CD007121 v. 6.0 Conservative interventions for treating middle third clavicle fractures in adolescents and adults.rm5"
       ]
      },
      {
       "output_type": "stream",
       "stream": "stdout",
       "text": [
        "\n",
        "CD007122 v. 6.0 Different strategies for diagnosing gestational diabetes to improve maternal and infant health.rm5"
       ]
      },
      {
       "output_type": "stream",
       "stream": "stdout",
       "text": [
        "\n",
        "CD007123 v. 3.0 Oxytocin versus no treatment or delayed treatment for slow progress in the first stage of spontaneou.rm5"
       ]
      },
      {
       "output_type": "stream",
       "stream": "stdout",
       "text": [
        "\n",
        "CD007131 v. 4.0 Promoting patient uptake and adherence in cardiac rehabilitation.rm5"
       ]
      },
      {
       "output_type": "stream",
       "stream": "stdout",
       "text": [
        "\n",
        "CD007137 v. 8.0 Enteral lactoferrin supplementation for prevention of sepsis and necrotizing enterocolitis in preter.rm5"
       ]
      },
      {
       "output_type": "stream",
       "stream": "stdout",
       "text": [
        "\n",
        "CD007138 v. 4.0 Oral lactoferrin for the treatment of sepsis and necrotizing enterocolitis in neonates.rm5"
       ]
      },
      {
       "output_type": "stream",
       "stream": "stdout",
       "text": [
        "\n",
        "CD007160 v. 5.0 Oxygen therapy for acute myocardial infarction.rm5\n",
        "CD007175 v. 10.0 Antibiotics for treating osteomyelitis in people with sickle cell disease.rm5"
       ]
      },
      {
       "output_type": "stream",
       "stream": "stdout",
       "text": [
        "\n",
        "CD007176 v. 7.4 Antioxidant supplements for prevention of mortality in healthy participants and patients with variou.rm5\n",
        "CD007183 v. 5.0 Interventions for HIV-associated nephropathy.rm5"
       ]
      },
      {
       "output_type": "stream",
       "stream": "stdout",
       "text": [
        "\n",
        "CD007196 v. 3.0 Early versus delayed laparoscopic cholecystectomy for uncomplicated biliary colic.rm5\n",
        "CD007201 v. 3.0 High-dose versus low-dose oxytocin for augmentation of delayed labour.rm5"
       ]
      },
      {
       "output_type": "stream",
       "stream": "stdout",
       "text": [
        "\n",
        "CD007202 v. 5.0 Effect of restricted pacifier use in breastfeeding term infants for increasing duration of breastfee.rm5\n",
        "CD007208 v. 6.0 High feedback versus low feedback of prenatal ultrasound for reducing maternal anxiety and improving.rm5"
       ]
      },
      {
       "output_type": "stream",
       "stream": "stdout",
       "text": [
        "\n",
        "CD007210 v. 3.0 Maintenance treatments for opiate-dependent adolescents.rm5\n",
        "CD007214 v. 7.0 Transcutaneous electrical nerve stimulation (TENS) for pain management in labour.rm5"
       ]
      },
      {
       "output_type": "stream",
       "stream": "stdout",
       "text": [
        "\n",
        "CD007218 v. 3.0 Treatment for thoracic outlet syndrome.rm5"
       ]
      },
      {
       "output_type": "stream",
       "stream": "stdout",
       "text": [
        "\n",
        "CD007220 v. 3.0 Carbohydrates for improving the cognitive performance of independent-living older adults with normal.rm5"
       ]
      },
      {
       "output_type": "stream",
       "stream": "stdout",
       "text": [
        "\n",
        "CD007222 v. 10.0 Screening for gestational diabetes mellitus based on different risk profiles and settings for improv.rm5"
       ]
      },
      {
       "output_type": "stream",
       "stream": "stdout",
       "text": [
        "\n",
        "CD007223 v. 5.1 Medical treatments for incomplete miscarriage.rm5"
       ]
      },
      {
       "output_type": "stream",
       "stream": "stdout",
       "text": [
        "\n",
        "CD007228 v. 5.2 Structured telephone support or non-invasive telemonitoring for patients with heart failure.rm5"
       ]
      },
      {
       "output_type": "stream",
       "stream": "stdout",
       "text": [
        "\n",
        "CD007239 v. 4.0 Interventions for preventing mastitis after childbirth.rm5"
       ]
      },
      {
       "output_type": "stream",
       "stream": "stdout",
       "text": [
        "\n",
        "CD007245 v. 5.0 Levonorgestrel intrauterine system for endometrial protection in women with breast cancer on adjuvan.rm5"
       ]
      },
      {
       "output_type": "stream",
       "stream": "stdout",
       "text": [
        "\n",
        "CD007249 v. 5.0 Theory-based interventions for contraception.rm5"
       ]
      },
      {
       "output_type": "stream",
       "stream": "stdout",
       "text": [
        "\n",
        "CD007253 v. 5.13 Interventions for smoking cessation and reduction in individuals with schizophrenia.rm5"
       ]
      },
      {
       "output_type": "stream",
       "stream": "stdout",
       "text": [
        "\n",
        "CD007256 v. 4.0 Effectiveness of vocational rehabilitation intervention on the return to work and employment of pers.rm5"
       ]
      },
      {
       "output_type": "stream",
       "stream": "stdout",
       "text": [
        "\n",
        "CD007258 v. 4.0 Wound drainage after plastic and reconstructive surgery of the breast.rm5\n",
        "CD007260 v. 3.0 Mechanical versus manual chest compressions for cardiac arrest.rm5"
       ]
      },
      {
       "output_type": "stream",
       "stream": "stdout",
       "text": [
        "\n",
        "CD007271 v. 7.0 Early versus late tracheostomy for critically ill patients.rm5"
       ]
      },
      {
       "output_type": "stream",
       "stream": "stdout",
       "text": [
        "\n",
        "CD007280 v. 3.2 Carnitine for fatigue in multiple sclerosis.rm5"
       ]
      },
      {
       "output_type": "stream",
       "stream": "stdout",
       "text": [
        "\n",
        "CD007287 v. 4.4 Antigen-specific active immunotherapy for ovarian cancer.rm5\n",
        "CD007289 v. 9.0 Prophylactic chemotherapy for hydatidiform mole to prevent gestational trophoblastic neoplasia.rm5"
       ]
      },
      {
       "output_type": "stream",
       "stream": "stdout",
       "text": [
        "\n",
        "CD007291 v. 5.0 Vaginal dilator therapy for women receiving pelvic radiotherapy.rm5"
       ]
      },
      {
       "output_type": "stream",
       "stream": "stdout",
       "text": [
        "\n",
        "CD007293 v. 3.4 Routine preoperative medical testing for cataract surgery.rm5"
       ]
      },
      {
       "output_type": "stream",
       "stream": "stdout",
       "text": [
        "\n",
        "CD007298 v. 7.0 Vitamin D supplementation for cystic fibrosis.rm5"
       ]
      },
      {
       "output_type": "stream",
       "stream": "stdout",
       "text": [
        "\n",
        "CD007302 v. 4.0 Vigabatrin for refractory partial epilepsy.rm5"
       ]
      },
      {
       "output_type": "stream",
       "stream": "stdout",
       "text": [
        "\n",
        "CD007323 v. 3.2 Doxycycline for osteoarthritis of the knee or hip.rm5"
       ]
      },
      {
       "output_type": "stream",
       "stream": "stdout",
       "text": [
        "\n",
        "CD007324 v. 5.1 Intravitreal steroids versus observation for macular edema secondary to central retinal vein occlusi.rm5"
       ]
      },
      {
       "output_type": "stream",
       "stream": "stdout",
       "text": [
        "\n",
        "CD007325 v. 3.6 Anti-vascular endothelial growth factor for macular oedema secondary to central retinal vein occlusi.rm5"
       ]
      },
      {
       "output_type": "stream",
       "stream": "stdout",
       "text": [
        "\n",
        "CD007334 v. 6.0 Surgery versus radical endotherapies for early cancer and high-grade dysplasia in Barrett's oesophag.rm5"
       ]
      },
      {
       "output_type": "stream",
       "stream": "stdout",
       "text": [
        "\n",
        "CD007338 v. 3.0 Cardiopulmonary interventions to decrease blood loss and blood transfusion requirements for liver re.rm5"
       ]
      },
      {
       "output_type": "stream",
       "stream": "stdout",
       "text": [
        "\n",
        "CD007346 v. 6.0 Safety of topical corticosteroids in pregnancy.rm5"
       ]
      },
      {
       "output_type": "stream",
       "stream": "stdout",
       "text": [
        "\n",
        "CD007365 v. 3.0 Huperzine A for vascular dementia.rm5"
       ]
      },
      {
       "output_type": "stream",
       "stream": "stdout",
       "text": [
        "\n",
        "CD007370 v. 4.4 Prophylactic antibiotics for penetrating abdominal trauma.rm5"
       ]
      },
      {
       "output_type": "stream",
       "stream": "stdout",
       "text": [
        "\n",
        "CD007372 v. 4.0 Outpatient versus inpatient induction of labour for improving birth outcomes.rm5\n",
        "CD007373 v. 4.0 Interventions for pain with intrauterine device insertion.rm5"
       ]
      },
      {
       "output_type": "stream",
       "stream": "stdout",
       "text": [
        "\n",
        "CD007380 v. 5.0 Psychostimulant drugs for cocaine dependence.rm5"
       ]
      },
      {
       "output_type": "stream",
       "stream": "stdout",
       "text": [
        "\n",
        "CD007383 v. 3.2 Surgical versus non-surgical management of abdominal injury.rm5"
       ]
      },
      {
       "output_type": "stream",
       "stream": "stdout",
       "text": [
        "\n",
        "CD007387 v. 7.0 Retroperitoneal drainage versus no drainage after pelvic lymphadenectomy for the prevention of lymph.rm5\n",
        "CD007396 v. 4.0 Parenteral opioids for maternal pain management in labour.rm5"
       ]
      },
      {
       "output_type": "stream",
       "stream": "stdout",
       "text": [
        "\n",
        "CD007398 v. 3.0 Intra-aortic balloon pump counterpulsation (IABP) for myocardial infarction complicated by cardiogen.rm5"
       ]
      },
      {
       "output_type": "stream",
       "stream": "stdout",
       "text": [
        "\n",
        "CD007400 v. 5.0 Topical NSAIDs for chronic musculoskeletal pain in adults.rm5"
       ]
      },
      {
       "output_type": "stream",
       "stream": "stdout",
       "text": [
        "\n",
        "CD007401 v. 3.2 Probiotics for treating persistent diarrhoea in children.rm5"
       ]
      },
      {
       "output_type": "stream",
       "stream": "stdout",
       "text": [
        "\n",
        "CD007412 v. 5.0 Active versus expectant management for women in the third stage of labour.rm5\n",
        "CD007417 v. 4.2 Corticosteroids as adjuvant therapy for ocular toxoplasmosis.rm5"
       ]
      },
      {
       "output_type": "stream",
       "stream": "stdout",
       "text": [
        "\n",
        "CD007419 v. 8.0 Anti-vascular endothelial growth factor for diabetic macular oedema a network meta-analysis.rm5\n",
        "CD007425 v. 3.0 Multidisciplinary care for adults with amyotrophic lateral sclerosis or motor neuron disease.rm5"
       ]
      },
      {
       "output_type": "stream",
       "stream": "stdout",
       "text": [
        "\n",
        "CD007428 v. 4.0 Surgical interventions for treating acute fractures or non-union of the middle third of the clavicle.rm5"
       ]
      },
      {
       "output_type": "stream",
       "stream": "stdout",
       "text": [
        "\n",
        "CD007435 v. 3.11 Blood pressure lowering efficacy of coenzyme Q10 for primary hypertension.rm5"
       ]
      },
      {
       "output_type": "stream",
       "stream": "stdout",
       "text": [
        "\n",
        "CD007438 v. 4.5 Damage control surgery for abdominal trauma.rm5"
       ]
      },
      {
       "output_type": "stream",
       "stream": "stdout",
       "text": [
        "\n",
        "CD007444 v. 4.0 Nitric oxide donors for cervical ripening in first-trimester surgical abortion.rm5"
       ]
      },
      {
       "output_type": "stream",
       "stream": "stdout",
       "text": [
        "\n",
        "CD007453 v. 5.0 Interventions for treatment of neonatal hyperglycemia in very low birth weight infants.rm5"
       ]
      },
      {
       "output_type": "stream",
       "stream": "stdout",
       "text": [
        "\n",
        "CD007458 v. 3.0 Mobile phone messaging reminders for attendance at healthcare appointments.rm5"
       ]
      },
      {
       "output_type": "stream",
       "stream": "stdout",
       "text": [
        "\n",
        "CD007461 v. 3.0 Deferasirox for managing iron overload in people with myelodysplastic syndrome.rm5"
       ]
      },
      {
       "output_type": "stream",
       "stream": "stdout",
       "text": [
        "\n",
        "CD007462 v. 3.0 Skin preparation for preventing infection following caesarean section.rm5"
       ]
      },
      {
       "output_type": "stream",
       "stream": "stdout",
       "text": [
        "\n",
        "CD007470 v. 5.0 Vitamin D supplementation for prevention of mortality in adults.rm5"
       ]
      },
      {
       "output_type": "stream",
       "stream": "stdout",
       "text": [
        "\n",
        "CD007471 v. 4.0 Pelvic floor muscle training for prevention and treatment of urinary and faecal incontinence in ante.rm5"
       ]
      },
      {
       "output_type": "stream",
       "stream": "stdout",
       "text": [
        "\n",
        "CD007476 v. 7.4 Deferasirox for managing iron overload in people with thalassaemia.rm5"
       ]
      },
      {
       "output_type": "stream",
       "stream": "stdout",
       "text": [
        "\n",
        "CD007482 v. 4.0 Antibiotic prophylaxis versus no prophylaxis for preventing infection after cesarean section.rm5"
       ]
      },
      {
       "output_type": "stream",
       "stream": "stdout",
       "text": [
        "\n",
        "CD007491 v. 6.0 Admission avoidance hospital at home.rm5"
       ]
      },
      {
       "output_type": "stream",
       "stream": "stdout",
       "text": [
        "\n",
        "CD007492 v. 3.0 Organising healthcare services for persons with an intellectual disability.rm5"
       ]
      },
      {
       "output_type": "stream",
       "stream": "stdout",
       "text": [
        "\n",
        "CD007510 v. 3.0 Botulinum toxin for masseter hypertrophy.rm5"
       ]
      },
      {
       "output_type": "stream",
       "stream": "stdout",
       "text": [
        "\n",
        "CD007514 v. 3.0 Statins for the treatment of dementia.rm5\n",
        "CD007523 v. 5.0 Honey and lozenges for children with non-specific cough.rm5"
       ]
      },
      {
       "output_type": "stream",
       "stream": "stdout",
       "text": [
        "\n",
        "CD007524 v. 4.0 Increased versus stable doses of inhaled corticosteroids for exacerbations of chronic asthma in adul.rm5\n",
        "CD007525 v. 3.0 Inhaled non-steroid anti-inflammatories for children and adults with bronchiectasis.rm5"
       ]
      },
      {
       "output_type": "stream",
       "stream": "stdout",
       "text": [
        "\n",
        "CD007529 v. 4.0 Fetal and umbilical Doppler ultrasound in high-risk pregnancies.rm5"
       ]
      },
      {
       "output_type": "stream",
       "stream": "stdout",
       "text": [
        "\n",
        "CD007535 v. 4.0 Chinese herbal medicine for subfertile women with polycystic ovarian syndrome.rm5"
       ]
      },
      {
       "output_type": "stream",
       "stream": "stdout",
       "text": [
        "\n",
        "CD007557 v. 3.0 Unfractionated heparin versus low molecular weight heparins for avoiding heparin-induced thrombocyto.rm5"
       ]
      },
      {
       "output_type": "stream",
       "stream": "stdout",
       "text": [
        "\n",
        "CD007560 v. 6.0 Methotrexate for maintenance of remission in ulcerative colitis.rm5"
       ]
      },
      {
       "output_type": "stream",
       "stream": "stdout",
       "text": [
        "\n",
        "CD007571 v. 3.0 Vedolizumab for induction and maintenance of remission in ulcerative colitis.rm5"
       ]
      },
      {
       "output_type": "stream",
       "stream": "stdout",
       "text": [
        "\n",
        "CD007572 v. 5.0 Anti-IL-1223p40 antibodies for induction of remission in Crohn's disease.rm5"
       ]
      },
      {
       "output_type": "stream",
       "stream": "stdout",
       "text": [
        "\n",
        "CD007575 v. 4.0 Interventions for nausea and vomiting in early pregnancy.rm5"
       ]
      },
      {
       "output_type": "stream",
       "stream": "stdout",
       "text": [
        "\n",
        "CD007577 v. 4.0 Short-course versus prolonged-course antibiotic therapy for hospital-acquired pneumonia in criticall.rm5"
       ]
      },
      {
       "output_type": "stream",
       "stream": "stdout",
       "text": [
        "\n",
        "CD007585 v. 5.4 Lymphadenectomy for the management of endometrial cancer.rm5"
       ]
      },
      {
       "output_type": "stream",
       "stream": "stdout",
       "text": [
        "\n",
        "CD007594 v. 4.0 Hydroxyethyl starch (HES) versus other fluid therapies effects on kidney function.rm5"
       ]
      },
      {
       "output_type": "stream",
       "stream": "stdout",
       "text": [
        "\n",
        "CD007595 v. 5.0 Repeated use of pre- and postcoital hormonal contraception for prevention of pregnancy.rm5"
       ]
      },
      {
       "output_type": "stream",
       "stream": "stdout",
       "text": [
        "\n",
        "CD007610 v. 6.0 Complex interventions for preventing diabetic foot ulceration.rm5"
       ]
      },
      {
       "output_type": "stream",
       "stream": "stdout",
       "text": [
        "\n",
        "CD007615 v. 5.0 Interventions for prevention of neonatal hyperglycemia in very low birth weight infants.rm5"
       ]
      },
      {
       "output_type": "stream",
       "stream": "stdout",
       "text": [
        "\n",
        "CD007623 v. 3.0 Maternal position during caesarean section for preventing maternal and neonatal complications.rm5"
       ]
      },
      {
       "output_type": "stream",
       "stream": "stdout",
       "text": [
        "\n",
        "CD007649 v. 4.0 Certolizumab pegol (CDP870) for rheumatoid arthritis in adults.rm5"
       ]
      },
      {
       "output_type": "stream",
       "stream": "stdout",
       "text": [
        "\n",
        "CD007651 v. 3.0 School-based physical activity programs for promoting physical activity and fitness in children and .rm5"
       ]
      },
      {
       "output_type": "stream",
       "stream": "stdout",
       "text": [
        "\n",
        "CD007652 v. 9.0 Gene therapy for sickle cell disease.rm5"
       ]
      },
      {
       "output_type": "stream",
       "stream": "stdout",
       "text": [
        "\n",
        "CD007654 v. 4.0 Long-term effects of weight-reducing drugs in people with hypertension.rm5\n",
        "CD007655 v. 3.2 Blood pressure-lowering efficacy of reserpine for primary hypertension.rm5"
       ]
      },
      {
       "output_type": "stream",
       "stream": "stdout",
       "text": [
        "\n",
        "CD007677 v. 4.2 Pentoxifylline for endometriosis.rm5"
       ]
      },
      {
       "output_type": "stream",
       "stream": "stdout",
       "text": [
        "\n",
        "CD007679 v. 4.0 Excimer laser refractive surgery versus phakic intraocular lenses for the correction of moderate to .rm5"
       ]
      },
      {
       "output_type": "stream",
       "stream": "stdout",
       "text": [
        "\n",
        "CD007689 v. 4.0 Acupuncture for polycystic ovarian syndrome.rm5"
       ]
      },
      {
       "output_type": "stream",
       "stream": "stdout",
       "text": [
        "\n",
        "CD007698 v. 4.0 Oral budesonide for induction of remission in ulcerative colitis.rm5"
       ]
      },
      {
       "output_type": "stream",
       "stream": "stdout",
       "text": [
        "\n",
        "CD007699 v. 3.0 Warfarin initiation nomograms for venous thromboembolism.rm5"
       ]
      },
      {
       "output_type": "stream",
       "stream": "stdout",
       "text": [
        "\n",
        "CD007700 v. 4.0 Acupuncture for acute management and rehabilitation of traumatic brain injury.rm5"
       ]
      },
      {
       "output_type": "stream",
       "stream": "stdout",
       "text": [
        "\n",
        "CD007701 v. 3.0 Pharmacological and mechanical interventions for labour induction in outpatient settings.rm5"
       ]
      },
      {
       "output_type": "stream",
       "stream": "stdout",
       "text": [
        "\n",
        "CD007708 v. 4.0 Nitroglycerin for management of retained placenta.rm5"
       ]
      },
      {
       "output_type": "stream",
       "stream": "stdout",
       "text": [
        "\n",
        "CD007710 v. 3.0 Pain relief for outpatient hysteroscopy.rm5"
       ]
      },
      {
       "output_type": "stream",
       "stream": "stdout",
       "text": [
        "\n",
        "CD007716 v. 5.0 Macrolides for diffuse panbronchiolitis.rm5"
       ]
      },
      {
       "output_type": "stream",
       "stream": "stdout",
       "text": [
        "\n",
        "CD007719 v. 7.0 Routine vitamin A supplementation for the prevention of blindness due to measles infection in childr.rm5"
       ]
      },
      {
       "output_type": "stream",
       "stream": "stdout",
       "text": [
        "\n",
        "CD007720 v. 7.0 Corticosteroids for pneumonia.rm5"
       ]
      },
      {
       "output_type": "stream",
       "stream": "stdout",
       "text": [
        "\n",
        "CD007729 v. 5.0 Singing for children and adults with bronchiectasis.rm5"
       ]
      },
      {
       "output_type": "stream",
       "stream": "stdout",
       "text": [
        "\n",
        "CD007733 v. 7.0 Aerosolized prostacyclins for acute respiratory distress syndrome (ARDS).rm5\n",
        "CD007736 v. 3.2 Educational supportive and behavioural interventions to improve usage of continuous positive airway.rm5"
       ]
      },
      {
       "output_type": "stream",
       "stream": "stdout",
       "text": [
        "\n",
        "CD007742 v. 4.0 Non-surgical interventions for acute internal hordeolum.rm5"
       ]
      },
      {
       "output_type": "stream",
       "stream": "stdout",
       "text": [
        "\n",
        "CD007743 v. 7.0 Palivizumab for prophylaxis against respiratory syncytial virus infection in children with cystic fi.rm5\n",
        "CD007752 v. 4.0 Interventions for clinical and subclinical hypothyroidism pre-pregnancy and during pregnancy.rm5"
       ]
      },
      {
       "output_type": "stream",
       "stream": "stdout",
       "text": [
        "\n",
        "CD007754 v. 4.0 Community-based intervention packages for reducing maternal and neonatal morbidity and mortality and.rm5"
       ]
      },
      {
       "output_type": "stream",
       "stream": "stdout",
       "text": [
        "\n",
        "CD007759 v. 4.0 Manipulative interventions for reducing pulled elbow in young children.rm5"
       ]
      },
      {
       "output_type": "stream",
       "stream": "stdout",
       "text": [
        "\n",
        "CD007768 v. 5.0 Interventions to improve safe and effective medicines use by consumers an overview of systematic re.rm5"
       ]
      },
      {
       "output_type": "stream",
       "stream": "stdout",
       "text": [
        "\n",
        "CD007772 v. 4.0 Antibiotics for meconium-stained amniotic fluid in labour for preventing maternal and neonatal infec.rm5"
       ]
      },
      {
       "output_type": "stream",
       "stream": "stdout",
       "text": [
        "\n",
        "CD007776 v. 4.0 Preconception care for diabetic women for improving maternal and infant health.rm5"
       ]
      },
      {
       "output_type": "stream",
       "stream": "stdout",
       "text": [
        "\n",
        "CD007778 v. 4.0 Chlorpromazine dose for people with schizophrenia.rm5"
       ]
      },
      {
       "output_type": "stream",
       "stream": "stdout",
       "text": [
        "\n",
        "CD007786 v. 4.0 Antiemetic medication for prevention and treatment of chemotherapy-induced nausea and vomiting in ch.rm5"
       ]
      },
      {
       "output_type": "stream",
       "stream": "stdout",
       "text": [
        "\n",
        "CD007796 v. 3.0 Chinese herbal medicine for diabetic peripheral neuropathy.rm5"
       ]
      },
      {
       "output_type": "stream",
       "stream": "stdout",
       "text": [
        "\n",
        "CD007798 v. 4.0 Clinically-indicated replacement versus routine replacement of peripheral venous catheters.rm5"
       ]
      },
      {
       "output_type": "stream",
       "stream": "stdout",
       "text": [
        "\n",
        "CD007806 v. 4.0 Oral rinses mouthwashes and sprays for improving recovery following tonsillectomy.rm5"
       ]
      },
      {
       "output_type": "stream",
       "stream": "stdout",
       "text": [
        "\n",
        "CD007811 v. 6.0 Sulpiride versus placebo for schizophrenia.rm5"
       ]
      },
      {
       "output_type": "stream",
       "stream": "stdout",
       "text": [
        "\n",
        "CD007818 v. 5.0 Treatment for postpolio syndrome.rm5"
       ]
      },
      {
       "output_type": "stream",
       "stream": "stdout",
       "text": [
        "\n",
        "CD007823 v. 3.0 Fluoropyrimidine-HAI (hepatic arterial infusion) versus systemic chemotherapy (SCT) for unresectable.rm5"
       ]
      },
      {
       "output_type": "stream",
       "stream": "stdout",
       "text": [
        "\n",
        "CD007825 v. 8.0 Collaboration between local health and local government agencies for health improvement.rm5\n",
        "CD007843 v. 4.0 Blood transfusions for treating acute chest syndrome in people with sickle cell disease.rm5"
       ]
      },
      {
       "output_type": "stream",
       "stream": "stdout",
       "text": [
        "\n",
        "CD007851 v. 5.0 Intravenous alpha-1 antitrypsin augmentation therapy for treating patients with alpha-1 antitrypsin .rm5\n",
        "CD007854 v. 4.0 Acupuncture for dysmenorrhoea.rm5"
       ]
      },
      {
       "output_type": "stream",
       "stream": "stdout",
       "text": [
        "\n",
        "CD007859 v. 3.3 Initial arch wires for tooth alignment during orthodontic treatment with fixed appliances.rm5"
       ]
      },
      {
       "output_type": "stream",
       "stream": "stdout",
       "text": [
        "\n",
        "CD007862 v. 5.0 Active cycle of breathing technique for cystic fibrosis.rm5"
       ]
      },
      {
       "output_type": "stream",
       "stream": "stdout",
       "text": [
        "\n",
        "CD007863 v. 4.0 Antenatal cardiotocography for fetal assessment.rm5"
       ]
      },
      {
       "output_type": "stream",
       "stream": "stdout",
       "text": [
        "\n",
        "CD007872 v. 5.0 Tranexamic acid for preventing postpartum haemorrhage.rm5"
       ]
      },
      {
       "output_type": "stream",
       "stream": "stdout",
       "text": [
        "\n",
        "CD007873 v. 3.0 Cervical pessary for preventing preterm birth.rm5"
       ]
      },
      {
       "output_type": "stream",
       "stream": "stdout",
       "text": [
        "\n",
        "CD007878 v. 5.0 Catheter impregnation coating or bonding for reducing central venous catheter-related infections in.rm5\n",
        "CD007879 v. 4.0 Hepatitis B vaccination during pregnancy for preventing infant infection.rm5"
       ]
      },
      {
       "output_type": "stream",
       "stream": "stdout",
       "text": [
        "\n",
        "CD007880 v. 3.0 Antibiotics for preventing suppurative complications from undifferentiated acute respiratory infecti.rm5\n",
        "CD007884 v. 3.0 Endoscopic or surgical intervention for painful obstructive chronic pancreatitis.rm5"
       ]
      },
      {
       "output_type": "stream",
       "stream": "stdout",
       "text": [
        "\n",
        "CD007888 v. 3.0 Stem cell therapy for chronic ischaemic heart disease and congestive heart failure.rm5"
       ]
      },
      {
       "output_type": "stream",
       "stream": "stdout",
       "text": [
        "\n",
        "CD007890 v. 3.2 Beta-blockers for preventing stroke recurrence.rm5"
       ]
      },
      {
       "output_type": "stream",
       "stream": "stdout",
       "text": [
        "\n",
        "CD007891 v. 4.2 Combination inhaled steroid and long-acting beta2-agonist versus tiotropium for chronic obstructive .rm5\n",
        "CD007892 v. 5.0 Vaginal preparation with antiseptic solution before cesarean section for preventing postoperative in.rm5"
       ]
      },
      {
       "output_type": "stream",
       "stream": "stdout",
       "text": [
        "\n",
        "CD007897 v. 3.0 Remediating buildings damaged by dampness and mould for preventing or reducing respiratory tract sym.rm5"
       ]
      },
      {
       "output_type": "stream",
       "stream": "stdout",
       "text": [
        "\n",
        "CD007901 v. 4.0 Supplementation with long chain polyunsaturated fatty acids (LCPUFA) to breastfeeding mothers for im.rm5"
       ]
      },
      {
       "output_type": "stream",
       "stream": "stdout",
       "text": [
        "\n",
        "CD007904 v. 3.0 Enteral feeding methods for nutritional management in patients with head and neck cancers being trea.rm5"
       ]
      },
      {
       "output_type": "stream",
       "stream": "stdout",
       "text": [
        "\n",
        "CD007906 v. 5.0 Intensive case management for severe mental illness.rm5"
       ]
      },
      {
       "output_type": "stream",
       "stream": "stdout",
       "text": [
        "\n",
        "CD007909 v. 4.0 Decongestants antihistamines and nasal irrigation for acute sinusitis in children.rm5"
       ]
      },
      {
       "output_type": "stream",
       "stream": "stdout",
       "text": [
        "\n",
        "CD007912 v. 2.0 Exercise for osteoarthritis of the hip.rm5"
       ]
      },
      {
       "output_type": "stream",
       "stream": "stdout",
       "text": [
        "\n",
        "CD007922 v. 4.0 Positive end-expiratory pressure (PEEP) during anaesthesia for prevention of mortality and postopera.rm5"
       ]
      },
      {
       "output_type": "stream",
       "stream": "stdout",
       "text": [
        "\n",
        "CD007923 v. 5.0 Timing of dornase alfa inhalation for cystic fibrosis.rm5"
       ]
      },
      {
       "output_type": "stream",
       "stream": "stdout",
       "text": [
        "\n",
        "CD007934 v. 6.2 De-escalation of antimicrobial treatment for adults with sepsis severe sepsis or septic shock.rm5"
       ]
      },
      {
       "output_type": "stream",
       "stream": "stdout",
       "text": [
        "\n",
        "CD007941 v. 4.0 Comparison of first-line chemotherapy including escalated BEACOPP versus chemotherapy including ABVD.rm5"
       ]
      },
      {
       "output_type": "stream",
       "stream": "stdout",
       "text": [
        "\n",
        "CD007948 v. 5.0 Skin preparation with alcohol versus alcohol followed by any antiseptic for preventing bacteraemia o.rm5"
       ]
      },
      {
       "output_type": "stream",
       "stream": "stdout",
       "text": [
        "\n",
        "CD007949 v. 3.0 Addition of long-acting beta2-agonists to inhaled corticosteroids for chronic asthma in children.rm5"
       ]
      },
      {
       "output_type": "stream",
       "stream": "stdout",
       "text": [
        "\n",
        "CD007950 v. 3.2 Effects and safety of periconceptional oral folate supplementation for preventing birth defects.rm5"
       ]
      },
      {
       "output_type": "stream",
       "stream": "stdout",
       "text": [
        "\n",
        "CD007959 v. 3.0 Perianal injectable bulking agents as treatment for faecal incontinence in adults.rm5"
       ]
      },
      {
       "output_type": "stream",
       "stream": "stdout",
       "text": [
        "\n",
        "CD007963 v. 4.0 Oxcarbazepine for neuropathic pain.rm5"
       ]
      },
      {
       "output_type": "stream",
       "stream": "stdout",
       "text": [
        "\n",
        "CD008005 v. 5.0 Sapropterin dihydrochloride for phenylketonuria.rm5"
       ]
      },
      {
       "output_type": "stream",
       "stream": "stdout",
       "text": [
        "\n",
        "CD008011 v. 4.0 Medical interventions for treating anthracycline-induced symptomatic and asymptomatic cardiotoxicity.rm5\n",
        "CD008017 v. 6.0 Embolisation for pulmonary arteriovenous malformation.rm5"
       ]
      },
      {
       "output_type": "stream",
       "stream": "stdout",
       "text": [
        "\n",
        "CD008032 v. 3.0 Short-course versus long-course intravenous therapy with the same antibiotic for severe community-ac.rm5\n",
        "CD008033 v. 3.2 Reduction versus abrupt cessation in smokers who want to quit.rm5"
       ]
      },
      {
       "output_type": "stream",
       "stream": "stdout",
       "text": [
        "\n",
        "CD008046 v. 4.5 Gonadotropin-releasing hormone agonist versus HCG for oocyte triggering in antagonist-assisted repro.rm5"
       ]
      },
      {
       "output_type": "stream",
       "stream": "stdout",
       "text": [
        "\n",
        "CD008053 v. 3.0 Planned home versus hospital care for preterm prelabour rupture of the membranes (PPROM) prior to 37.rm5"
       ]
      },
      {
       "output_type": "stream",
       "stream": "stdout",
       "text": [
        "\n",
        "CD008057 v. 3.0 Staples versus sutures for closing leg wounds after vein graft harvesting for coronary artery bypass.rm5\n",
        "CD008059 v. 4.0 Hyperbaric oxygen therapy for treating acute surgical and traumatic wounds.rm5"
       ]
      },
      {
       "output_type": "stream",
       "stream": "stdout",
       "text": [
        "\n",
        "CD008062 v. 5.0 Cyanoacrylate microbial sealants for skin preparation prior to surgery.rm5"
       ]
      },
      {
       "output_type": "stream",
       "stream": "stdout",
       "text": [
        "\n",
        "CD008066 v. 5.0 Transtheoretical model stages of change for dietary and physical exercise modification in weight los.rm5\n",
        "CD008070 v. 3.0 Position in the second stage of labour for women with epidural anaesthesia.rm5"
       ]
      },
      {
       "output_type": "stream",
       "stream": "stdout",
       "text": [
        "\n",
        "CD008075 v. 6.0 High-volume haemofiltration for sepsis in adults.rm5"
       ]
      },
      {
       "output_type": "stream",
       "stream": "stdout",
       "text": [
        "\n",
        "CD008084 v. 4.0 Glucocorticoid with cyclophosphamide for paraquat-induced lung fibrosis.rm5"
       ]
      },
      {
       "output_type": "stream",
       "stream": "stdout",
       "text": [
        "\n",
        "CD008090 v. 3.0 Larvivorous fish for preventing malaria transmission.rm5\n",
        "CD008106 v. 4.2 Surgical versus non-surgical interventions for treating patellar dislocation.rm5"
       ]
      },
      {
       "output_type": "stream",
       "stream": "stdout",
       "text": [
        "\n",
        "CD008115 v. 3.0 Systemic corticosteroids for acute sinusitis.rm5"
       ]
      },
      {
       "output_type": "stream",
       "stream": "stdout",
       "text": [
        "\n",
        "CD008123 v. 3.0 Medical treatment for botulism.rm5"
       ]
      },
      {
       "output_type": "stream",
       "stream": "stdout",
       "text": [
        "\n",
        "CD008127 v. 4.0 Daclizumab for relapsing remitting multiple sclerosis.rm5\n",
        "CD008136 v. 3.0 Symphysial fundal height (SFH) measurement in pregnancy for detecting abnormal fetal growth.rm5"
       ]
      },
      {
       "output_type": "stream",
       "stream": "stdout",
       "text": [
        "\n",
        "CD008139 v. 6.0 Neuraminidase inhibitors for the treatment of influenza infection in people with cystic fibrosis.rm5\n",
        "CD008145 v. 3.0 Interventions for improving coverage of childhood immunisation in low- and middle-income countries.rm5"
       ]
      },
      {
       "output_type": "stream",
       "stream": "stdout",
       "text": [
        "\n",
        "CD008152 v. 4.0 Primaquine or other 8-aminoquinoline for reducing Plasmodium falciparum transmission.rm5"
       ]
      },
      {
       "output_type": "stream",
       "stream": "stdout",
       "text": [
        "\n",
        "CD008153 v. 4.0 Subpial transection surgery for epilepsy.rm5"
       ]
      },
      {
       "output_type": "stream",
       "stream": "stdout",
       "text": [
        "\n",
        "CD008165 v. 3.0 Interventions to improve the appropriate use of polypharmacy for older people.rm5\n",
        "CD008167 v. 3.0 Blood pressure lowering efficacy of potassium-sparing diuretics (that block the epithelial sodium ch.rm5"
       ]
      },
      {
       "output_type": "stream",
       "stream": "stdout",
       "text": [
        "\n",
        "CD008185 v. 5.0 Enzyme replacement therapy with idursulfase for mucopolysaccharidosis type II (Hunter syndrome).rm5"
       ]
      },
      {
       "output_type": "stream",
       "stream": "stdout",
       "text": [
        "\n",
        "CD008194 v. 4.2 Strategies for expanding health insurance coverage in vulnerable populations.rm5"
       ]
      },
      {
       "output_type": "stream",
       "stream": "stdout",
       "text": [
        "\n",
        "CD008203 v. 3.0 Statins for primary prevention of venous thromboembolism.rm5"
       ]
      },
      {
       "output_type": "stream",
       "stream": "stdout",
       "text": [
        "\n",
        "CD008207 v. 3.0 Continuous passive motion for preventing venous thromboembolism after total knee arthroplasty.rm5"
       ]
      },
      {
       "output_type": "stream",
       "stream": "stdout",
       "text": [
        "\n",
        "CD008208 v. 5.0 Non-invasive brain stimulation techniques for chronic pain.rm5"
       ]
      },
      {
       "output_type": "stream",
       "stream": "stdout",
       "text": [
        "\n",
        "CD008211 v. 3.0 Transparent Cap Colonoscopy versus Standard Colonoscopy to Improve Caecal Intubation.rm5"
       ]
      },
      {
       "output_type": "stream",
       "stream": "stdout",
       "text": [
        "\n",
        "CD008214 v. 3.0 Anti-vascular endothelial growth factor for prevention of postoperative vitreous cavity haemorrhage .rm5"
       ]
      },
      {
       "output_type": "stream",
       "stream": "stdout",
       "text": [
        "\n",
        "CD008227 v. 4.0 Pancreatic enzyme replacement therapy for people with cystic fibrosis.rm5"
       ]
      },
      {
       "output_type": "stream",
       "stream": "stdout",
       "text": [
        "\n",
        "CD008231 v. 3.0 Intranasal ipratropium bromide for the common cold.rm5"
       ]
      },
      {
       "output_type": "stream",
       "stream": "stdout",
       "text": [
        "\n",
        "CD008253 v. 4.0 Topical nasal steroids for treating nasal polyposis in people with cystic fibrosis.rm5"
       ]
      },
      {
       "output_type": "stream",
       "stream": "stdout",
       "text": [
        "\n",
        "CD008256 v. 3.0 Booster dose vaccination for preventing hepatitis B.rm5\n",
        "CD008274 v. 3.0 Long-term effects of weight-reducing diets in people with hypertension.rm5"
       ]
      },
      {
       "output_type": "stream",
       "stream": "stdout",
       "text": [
        "\n",
        "CD008286 v. 4.0 Combined pharmacotherapy and behavioural interventions for smoking cessation.rm5"
       ]
      },
      {
       "output_type": "stream",
       "stream": "stdout",
       "text": [
        "\n",
        "CD008295 v. 4.16 Felbamate as an add-on therapy for refractory partial epilepsy.rm5"
       ]
      },
      {
       "output_type": "stream",
       "stream": "stdout",
       "text": [
        "\n",
        "CD008298 v. 10.0 Physical health care monitoring for people with serious mental illness.rm5"
       ]
      },
      {
       "output_type": "stream",
       "stream": "stdout",
       "text": [
        "\n",
        "CD008306 v. 4.0 Surgery for stress urinary incontinence due to presumed sphincter deficiency after prostate surgery.rm5"
       ]
      },
      {
       "output_type": "stream",
       "stream": "stdout",
       "text": [
        "\n",
        "CD008312 v. 3.0 Strategies for improving adherence to antiepileptic drug treatment in people with epilepsy.rm5"
       ]
      },
      {
       "output_type": "stream",
       "stream": "stdout",
       "text": [
        "\n",
        "CD008327 v. 2.0 Interventions for metabolic bone disease in children with chronic kidney disease.rm5"
       ]
      },
      {
       "output_type": "stream",
       "stream": "stdout",
       "text": [
        "\n",
        "CD008347 v. 3.0 Local intramuscular transplantation of autologous mononuclear cells for critical lower limb ischaemi.rm5"
       ]
      },
      {
       "output_type": "stream",
       "stream": "stdout",
       "text": [
        "\n",
        "CD008349 v. 4.0 Virtual reality for stroke rehabilitation.rm5"
       ]
      },
      {
       "output_type": "stream",
       "stream": "stdout",
       "text": [
        "\n",
        "CD008351 v. 3.0 Airway clearance techniques for bronchiectasis.rm5"
       ]
      },
      {
       "output_type": "stream",
       "stream": "stdout",
       "text": [
        "\n",
        "CD008360 v. 4.0 Regular long-term red blood cell transfusions for managing chronic chest complications in sickle cel.rm5"
       ]
      },
      {
       "output_type": "stream",
       "stream": "stdout",
       "text": [
        "\n",
        "CD008370 v. 5.0 Somatostatin analogues for pancreatic surgery.rm5\n",
        "CD008378 v. 3.0 Interventions for helping people adhere to compression treatments for venous leg ulceration.rm5"
       ]
      },
      {
       "output_type": "stream",
       "stream": "stdout",
       "text": [
        "\n",
        "CD008386 v. 3.0 Statins for multiple sclerosis.rm5"
       ]
      },
      {
       "output_type": "stream",
       "stream": "stdout",
       "text": [
        "\n",
        "CD008392 v. 3.2 Preoperative analgesics for additional pain relief in children and adolescents having dental treatme.rm5"
       ]
      },
      {
       "output_type": "stream",
       "stream": "stdout",
       "text": [
        "\n",
        "CD008394 v. 6.0 Interventions for treating leg ulcers in people with sickle cell disease.rm5"
       ]
      },
      {
       "output_type": "stream",
       "stream": "stdout",
       "text": [
        "\n",
        "CD008400 v. 4.0 Acupuncture for mumps in children.rm5"
       ]
      },
      {
       "output_type": "stream",
       "stream": "stdout",
       "text": [
        "\n",
        "CD008403 v. 5.0 Minimally invasive surgery versus open surgery for the treatment of solid abdominal and thoracic neo.rm5\n",
        "CD008404 v. 3.0 Saline irrigation for the management of skin extravasation injury in neonates.rm5"
       ]
      },
      {
       "output_type": "stream",
       "stream": "stdout",
       "text": [
        "\n",
        "CD008407 v. 2.2 Paracetamolacetaminophen (single administration) for perineal pain in the early postpartum period.rm5"
       ]
      },
      {
       "output_type": "stream",
       "stream": "stdout",
       "text": [
        "\n",
        "CD008420 v. 3.1 Endothelial keratoplasty versus penetrating keratoplasty for Fuchs endothelial dystrophy.rm5"
       ]
      },
      {
       "output_type": "stream",
       "stream": "stdout",
       "text": [
        "\n",
        "CD008435 v. 3.0 Skin-to-skin care for procedural pain in neonates.rm5"
       ]
      },
      {
       "output_type": "stream",
       "stream": "stdout",
       "text": [
        "\n",
        "CD008436 v. 3.0 Early removal versus expectant management of central venous catheters in neonates with bloodstream i.rm5"
       ]
      },
      {
       "output_type": "stream",
       "stream": "stdout",
       "text": [
        "\n",
        "CD008445 v. 3.0 Intraoperative mild hypothermia for postoperative neurological deficits in people with intracranial .rm5"
       ]
      },
      {
       "output_type": "stream",
       "stream": "stdout",
       "text": [
        "\n",
        "CD008446 v. 3.0 Omentoplasty for oesophagogastrostomy after oesophagectomy.rm5"
       ]
      },
      {
       "output_type": "stream",
       "stream": "stdout",
       "text": [
        "\n",
        "CD008447 v. 4.0 Stent graft types for endovascular repair of abdominal aortic aneurysms.rm5"
       ]
      },
      {
       "output_type": "stream",
       "stream": "stdout",
       "text": [
        "\n",
        "CD008448 v. 3.0 Stent graft types for endovascular repair of thoracic aortic aneurysms.rm5\n",
        "CD008452 v. 4.0 Hormonal contraceptives for contraception in overweight or obese women.rm5\n",
        "CD008461 v. 3.0 Angioplasty versus stenting for subclavian artery stenosis.rm5"
       ]
      },
      {
       "output_type": "stream",
       "stream": "stdout",
       "text": [
        "\n",
        "CD008482 v. 8.0 Vitamin K supplementation for cystic fibrosis.rm5"
       ]
      },
      {
       "output_type": "stream",
       "stream": "stdout",
       "text": [
        "\n",
        "CD008492 v. 4.0 Artemisinin-based combination therapy for treating uncomplicated Plasmodium vivax malaria.rm5"
       ]
      },
      {
       "output_type": "stream",
       "stream": "stdout",
       "text": [
        "\n",
        "CD008497 v. 3.0 Deep brain and cortical stimulation for epilepsy.rm5"
       ]
      },
      {
       "output_type": "stream",
       "stream": "stdout",
       "text": [
        "\n",
        "CD008500 v. 4.0 Primary prophylaxis for venous thromboembolism in ambulatory cancer patients receiving chemotherapy.rm5"
       ]
      },
      {
       "output_type": "stream",
       "stream": "stdout",
       "text": [
        "\n",
        "CD008502 v. 5.0 Baclofen for alcohol withdrawal.rm5"
       ]
      },
      {
       "output_type": "stream",
       "stream": "stdout",
       "text": [
        "\n",
        "CD008521 v. 4.2 Vaccines for preventing rotavirus diarrhoea vaccines in use.rm5"
       ]
      },
      {
       "output_type": "stream",
       "stream": "stdout",
       "text": [
        "\n",
        "CD008528 v. 4.0 Oral medications including clomiphene citrate or aromatase inhibitors with gonadotropins for control.rm5"
       ]
      },
      {
       "output_type": "stream",
       "stream": "stdout",
       "text": [
        "\n",
        "CD008533 v. 4.0 Prophylactic gastrojejunostomy for unresectable periampullary carcinoma.rm5"
       ]
      },
      {
       "output_type": "stream",
       "stream": "stdout",
       "text": [
        "\n",
        "CD008540 v. 4.0 Different intensities of glycaemic control for pregnant women with pre-existing diabetes.rm5"
       ]
      },
      {
       "output_type": "stream",
       "stream": "stdout",
       "text": [
        "\n",
        "CD008549 v. 3.0 Customised versus population-based growth charts as a screening tool for detecting small for gestati.rm5"
       ]
      },
      {
       "output_type": "stream",
       "stream": "stdout",
       "text": [
        "\n",
        "CD008554 v. 3.0 Repetitive transcranial magnetic stimulation for the treatment of amyotrophic lateral sclerosis or m.rm5"
       ]
      },
      {
       "output_type": "stream",
       "stream": "stdout",
       "text": [
        "\n",
        "CD008557 v. 3.0 Intravenous immunoglobulins for epilepsy.rm5"
       ]
      },
      {
       "output_type": "stream",
       "stream": "stdout",
       "text": [
        "\n",
        "CD008559 v. 3.4 Atypical antipsychotics for disruptive behaviour disorders in children and youths.rm5\n",
        "CD008562 v. 3.0 Treatment for disseminated intravascular coagulation in patients with acute and chronic leukemia.rm5"
       ]
      },
      {
       "output_type": "stream",
       "stream": "stdout",
       "text": [
        "\n",
        "CD008567 v. 6.0 General physical health advice for people with serious mental illness.rm5"
       ]
      },
      {
       "output_type": "stream",
       "stream": "stdout",
       "text": [
        "\n",
        "CD008574 v. 3.0 Primary closure versus delayed closure for non bite traumatic wounds within 24 hours post injury.rm5"
       ]
      },
      {
       "output_type": "stream",
       "stream": "stdout",
       "text": [
        "\n",
        "CD008576 v. 4.5 Septum resection for women of reproductive age with a septate uterus.rm5\n",
        "CD008578 v. 5.0 Chinese medicinal herbs for mumps.rm5"
       ]
      },
      {
       "output_type": "stream",
       "stream": "stdout",
       "text": [
        "\n",
        "CD008600 v. 3.0 Educational and behavioural interventions for anticoagulant therapy in patients with atrial fibrilla.rm5"
       ]
      },
      {
       "output_type": "stream",
       "stream": "stdout",
       "text": [
        "\n",
        "CD008602 v. 4.0 Interventions for congenital talipes equinovarus (clubfoot).rm5"
       ]
      },
      {
       "output_type": "stream",
       "stream": "stdout",
       "text": [
        "\n",
        "CD008605 v. 3.0 Dopamine agonists for preventing ovarian hyperstimulation syndrome.rm5"
       ]
      },
      {
       "output_type": "stream",
       "stream": "stdout",
       "text": [
        "\n",
        "CD008630 v. 4.0 Pharmacological treatment other than corticosteroids intravenous immunoglobulin and plasma exchange.rm5"
       ]
      },
      {
       "output_type": "stream",
       "stream": "stdout",
       "text": [
        "\n",
        "CD008633 v. 3.0 Interventions for hyperthyroidism pre-pregnancy and during pregnancy.rm5"
       ]
      },
      {
       "output_type": "stream",
       "stream": "stdout",
       "text": [
        "\n",
        "CD008645 v. 3.0 Incentives for preventing smoking in children and adolescents.rm5\n",
        "CD008652 v. 3.0 Pharmacotherapy for hyperuricemia in hypertensive patients.rm5"
       ]
      },
      {
       "output_type": "stream",
       "stream": "stdout",
       "text": [
        "\n",
        "CD008669 v. 2.3 Tonsillectomy for periodic fever aphthous stomatitis pharyngitis and cervical adenitis syndrome (P.rm5"
       ]
      },
      {
       "output_type": "stream",
       "stream": "stdout",
       "text": [
        "\n",
        "CD008708 v. 5.0 Hematopoietic stem cell transplantation for people with -thalassaemia major.rm5"
       ]
      },
      {
       "output_type": "stream",
       "stream": "stdout",
       "text": [
        "\n",
        "CD008711 v. 4.0 Antifibrinolytic therapy to reduce haemoptysis from any cause.rm5\n",
        "CD008716 v. 3.0 Probiotics for people with hepatic encephalopathy.rm5"
       ]
      },
      {
       "output_type": "stream",
       "stream": "stdout",
       "text": [
        "\n",
        "CD008726 v. 2.0 Different classes of antibiotics given to women routinely for preventing infection at caesarean sect.rm5"
       ]
      },
      {
       "output_type": "stream",
       "stream": "stdout",
       "text": [
        "\n",
        "CD008727 v. 8.0 Hypothalamic-pituitary-adrenal (HPA) axis suppression after treatment with glucocorticoid therapy fo.rm5"
       ]
      },
      {
       "output_type": "stream",
       "stream": "stdout",
       "text": [
        "\n",
        "CD008743 v. 3.0 Use of electronic health records to support smoking cessation.rm5"
       ]
      },
      {
       "output_type": "stream",
       "stream": "stdout",
       "text": [
        "\n",
        "CD008754 v. 3.0 Memory rehabilitation for people with multiple sclerosis.rm5\n",
        "CD008781 v. 3.0 Vigabatrin versus carbamazepine monotherapy for epilepsy.rm5"
       ]
      },
      {
       "output_type": "stream",
       "stream": "stdout",
       "text": [
        "\n",
        "CD008788 v. 3.0 Abdominal drainage versus no drainage post-gastrectomy for gastric cancer.rm5"
       ]
      },
      {
       "output_type": "stream",
       "stream": "stdout",
       "text": [
        "\n",
        "CD008802 v. 3.0 Oral health education (advice and training) for people with serious mental illness.rm5"
       ]
      },
      {
       "output_type": "stream",
       "stream": "stdout",
       "text": [
        "\n",
        "CD008805 v. 3.0 Interventions for treating phosphorus burns.rm5"
       ]
      },
      {
       "output_type": "stream",
       "stream": "stdout",
       "text": [
        "\n",
        "CD008811 v. 3.0 Manual small incision cataract surgery (MSICS) with posterior chamber intraocular lens versus extrac.rm5"
       ]
      },
      {
       "output_type": "stream",
       "stream": "stdout",
       "text": [
        "\n",
        "CD008815 v. 4.0 Progestin-only contraceptives effects on weight.rm5\n",
        "CD008816 v. 4.0 Timing of hypertonic saline inhalation for cystic fibrosis.rm5"
       ]
      },
      {
       "output_type": "stream",
       "stream": "stdout",
       "text": [
        "\n",
        "CD008819 v. 3.0 Compression stockings for the initial treatment of varicose veins in patients without venous ulcerat.rm5"
       ]
      },
      {
       "output_type": "stream",
       "stream": "stdout",
       "text": [
        "\n",
        "CD008840 v. 5.0 Newborn screening for homocystinuria.rm5"
       ]
      },
      {
       "output_type": "stream",
       "stream": "stdout",
       "text": [
        "\n",
        "CD008858 v. 3.0 Vaccines for preventing herpes zoster in older adults.rm5\n",
        "CD008860 v. 3.0 Interventions for treating anxiety after stroke.rm5"
       ]
      },
      {
       "output_type": "stream",
       "stream": "stdout",
       "text": [
        "\n",
        "CD008865 v. 4.0 Pneumococcal vaccines for cystic fibrosis.rm5"
       ]
      },
      {
       "output_type": "stream",
       "stream": "stdout",
       "text": [
        "\n",
        "CD008867 v. 3.0 Nutritional advice for improving outcomes in multiple pregnancies.rm5\n",
        "CD008870 v. 3.0 Aminosalicylates for induction of remission or response in Crohn's disease.rm5"
       ]
      },
      {
       "output_type": "stream",
       "stream": "stdout",
       "text": [
        "\n",
        "CD008873 v. 4.0 Vitamin D supplementation for women during pregnancy.rm5"
       ]
      },
      {
       "output_type": "stream",
       "stream": "stdout",
       "text": [
        "\n",
        "CD008876 v. 3.0 Pharmacological treatment for memory disorder in multiple sclerosis.rm5"
       ]
      },
      {
       "output_type": "stream",
       "stream": "stdout",
       "text": [
        "\n",
        "CD008881 v. 3.0 Pre-employment examinations for preventing injury disease and sick leave in workers.rm5"
       ]
      },
      {
       "output_type": "stream",
       "stream": "stdout",
       "text": [
        "\n",
        "CD008890 v. 5.0 Intracystic bleomycin for cystic craniopharyngiomas in children.rm5"
       ]
      },
      {
       "output_type": "stream",
       "stream": "stdout",
       "text": [
        "\n",
        "CD008891 v. 6.2 Chemotherapy for resistant or recurrent gestational trophoblastic neoplasia.rm5\n",
        "CD008901 v. 4.0 Recombinant growth hormone therapy for cystic fibrosis in children and young adults.rm5"
       ]
      },
      {
       "output_type": "stream",
       "stream": "stdout",
       "text": [
        "\n",
        "CD008907 v. 3.0 Eslicarbazepine acetate add-on for drug-resistant partial epilepsy.rm5"
       ]
      },
      {
       "output_type": "stream",
       "stream": "stdout",
       "text": [
        "\n",
        "CD008908 v. 4.0 Allogeneic stem cell transplantation versus conventional therapy for advanced primary cutaneous T-ce.rm5"
       ]
      },
      {
       "output_type": "stream",
       "stream": "stdout",
       "text": [
        "\n",
        "CD008968 v. 3.0 Immediate versus deferred delivery of the preterm baby with suspected fetal compromise for improving.rm5"
       ]
      },
      {
       "output_type": "stream",
       "stream": "stdout",
       "text": [
        "\n",
        "CD008969 v. 3.0 Brief school-based interventions and behavioural outcomes for substance-using adolescents.rm5"
       ]
      },
      {
       "output_type": "stream",
       "stream": "stdout",
       "text": [
        "\n",
        "CD008970 v. 3.0 Interventions for promoting participation in shared decision-making for children with cancer.rm5"
       ]
      },
      {
       "output_type": "stream",
       "stream": "stdout",
       "text": [
        "\n",
        "CD008986 v. 4.0 Medication review in hospitalised patients to reduce morbidity and mortality.rm5\n",
        "CD008989 v. 5.0 Long-acting beta2-agonist in addition to tiotropium versus either tiotropium or long-acting beta2-ag.rm5"
       ]
      },
      {
       "output_type": "stream",
       "stream": "stdout",
       "text": [
        "\n",
        "CD008990 v. 3.0 Recombinant human growth hormone for treating burns and donor sites.rm5"
       ]
      },
      {
       "output_type": "stream",
       "stream": "stdout",
       "text": [
        "\n",
        "CD008991 v. 3.0 Cervical stitch (cerclage) for preventing preterm birth in singleton pregnancy.rm5"
       ]
      },
      {
       "output_type": "stream",
       "stream": "stdout",
       "text": [
        "\n",
        "CD008992 v. 4.0 External inspection of compliance with standards for improved healthcare outcomes.rm5"
       ]
      },
      {
       "output_type": "stream",
       "stream": "stdout",
       "text": [
        "\n",
        "CD009043 v. 3.0 Aripiprazole for autism spectrum disorders (ASD).rm5"
       ]
      },
      {
       "output_type": "stream",
       "stream": "stdout",
       "text": [
        "\n",
        "CD009067 v. 3.0 Baby-led compared with scheduled (or mixed) breastfeeding for successful breastfeeding.rm5"
       ]
      },
      {
       "output_type": "stream",
       "stream": "stdout",
       "text": [
        "\n",
        "CD009077 v. 3.0 Pharmacological interventions for treating heart failure in patients with Chagas cardiomyopathy.rm5"
       ]
      },
      {
       "output_type": "stream",
       "stream": "stdout",
       "text": [
        "\n",
        "CD009088 v. 3.3 Corticosteroids for parasitic eosinophilic meningitis.rm5"
       ]
      },
      {
       "output_type": "stream",
       "stream": "stdout",
       "text": [
        "\n",
        "CD009095 v. 4.88 Interventions to optimise prescribing for older people in care homes.rm5\n",
        "CD009099 v. 3.0 Hydrocolloid dressings for healing diabetic foot ulcers.rm5"
       ]
      },
      {
       "output_type": "stream",
       "stream": "stdout",
       "text": [
        "\n",
        "CD009101 v. 3.0 Hydrogel dressings for healing diabetic foot ulcers.rm5"
       ]
      },
      {
       "output_type": "stream",
       "stream": "stdout",
       "text": [
        "\n",
        "CD009109 v. 3.0 Single crowns versus conventional fillings for the restoration of root-filled teeth.rm5"
       ]
      },
      {
       "output_type": "stream",
       "stream": "stdout",
       "text": [
        "\n",
        "CD009111 v. 3.0 Foam dressings for healing diabetic foot ulcers.rm5"
       ]
      },
      {
       "output_type": "stream",
       "stream": "stdout",
       "text": [
        "\n",
        "CD009118 v. 3.0 Osmotic and stimulant laxatives for the management of childhood constipation.rm5"
       ]
      },
      {
       "output_type": "stream",
       "stream": "stdout",
       "text": [
        "\n",
        "CD009124 v. 4.0 Pushingbearing down methods for the second stage of labour.rm5"
       ]
      },
      {
       "output_type": "stream",
       "stream": "stdout",
       "text": [
        "\n",
        "CD009130 v. 3.0 Rituximab for relapsing-remitting multiple sclerosis.rm5"
       ]
      },
      {
       "output_type": "stream",
       "stream": "stdout",
       "text": [
        "\n",
        "CD009131 v. 3.0 Neuropsychological rehabilitation for multiple sclerosis.rm5\n",
        "CD009153 v. 5.0 Antiretroviral therapy for prevention of HIV transmission in HIV-discordant couples.rm5"
       ]
      },
      {
       "output_type": "stream",
       "stream": "stdout",
       "text": [
        "\n",
        "CD009163 v. 3.0 Antibiotics for otitis media with effusion in children.rm5"
       ]
      },
      {
       "output_type": "stream",
       "stream": "stdout",
       "text": [
        "\n",
        "CD009178 v. 3.0 Pharmacotherapies for sleep disturbances in dementia.rm5"
       ]
      },
      {
       "output_type": "stream",
       "stream": "stdout",
       "text": [
        "\n",
        "CD009194 v. 3.0 Surfactant therapy for bronchiolitis in critically ill infants.rm5"
       ]
      },
      {
       "output_type": "stream",
       "stream": "stdout",
       "text": [
        "\n",
        "CD009196 v. 5.0 EEG for children with complex febrile seizures.rm5"
       ]
      },
      {
       "output_type": "stream",
       "stream": "stdout",
       "text": [
        "\n",
        "CD009197 v. 3.9 Periodontal therapy for the management of cardiovascular disease in patients with chronic periodonti.rm5"
       ]
      },
      {
       "output_type": "stream",
       "stream": "stdout",
       "text": [
        "\n",
        "CD009202 v. 4.0 Propofol versus thiopental sodium for the treatment of refractory status epilepticus.rm5"
       ]
      },
      {
       "output_type": "stream",
       "stream": "stdout",
       "text": [
        "\n",
        "CD009219 v. 5.0 Medical interventions for the prevention of platinum-induced hearing loss in children with cancer.rm5\n",
        "CD009228 v. 3.2 Helicopter emergency medical services for adults with major trauma.rm5"
       ]
      },
      {
       "output_type": "stream",
       "stream": "stdout",
       "text": [
        "\n",
        "CD009231 v. 3.0 Hospital at home home-based end-of-life care.rm5"
       ]
      },
      {
       "output_type": "stream",
       "stream": "stdout",
       "text": [
        "\n",
        "CD009235 v. 6.0 Automated versus non-automated weaning for reducing the duration of mechanical ventilation for criti.rm5"
       ]
      },
      {
       "output_type": "stream",
       "stream": "stdout",
       "text": [
        "\n",
        "CD009241 v. 3.0 Oxytocin augmentation of labour in women with epidural analgesia for reducing operative deliveries.rm5"
       ]
      },
      {
       "output_type": "stream",
       "stream": "stdout",
       "text": [
        "\n",
        "CD009242 v. 3.0 Treadmill interventions in children under six years of age at risk of neuromotor delay.rm5"
       ]
      },
      {
       "output_type": "stream",
       "stream": "stdout",
       "text": [
        "\n",
        "CD009243 v. 3.0 Antispasmodics for labour.rm5"
       ]
      },
      {
       "output_type": "stream",
       "stream": "stdout",
       "text": [
        "\n",
        "CD009249 v. 5.0 Antibiotic treatment for Stenotrophomonas maltophilia in people with cystic fibrosis.rm5"
       ]
      },
      {
       "output_type": "stream",
       "stream": "stdout",
       "text": [
        "\n",
        "CD009269 v. 3.2 Psychosocial interventions to reduce alcohol consumption in concurrent problem alcohol and illicit d.rm5\n",
        "CD009270 v. 3.0 Cannabinoids for epilepsy.rm5"
       ]
      },
      {
       "output_type": "stream",
       "stream": "stdout",
       "text": [
        "\n",
        "CD009279 v. 3.2 Interventions for preventing recurrent urinary tract infection during pregnancy.rm5\n",
        "CD009319 v. 4.0 Biopsy versus resection for the management of low-grade gliomas.rm5"
       ]
      },
      {
       "output_type": "stream",
       "stream": "stdout",
       "text": [
        "\n",
        "CD009323 v. 4.0 Diagnostic accuracy of laparoscopy following computed tomography (CT) scanning for assessing the res.rm5\n",
        "CD009324 v. 3.0 Losigamone add-on therapy for partial epilepsy.rm5"
       ]
      },
      {
       "output_type": "stream",
       "stream": "stdout",
       "text": [
        "\n",
        "CD009327 v. 4.2 Autologous serum eye drops for dry eye.rm5"
       ]
      },
      {
       "output_type": "stream",
       "stream": "stdout",
       "text": [
        "\n",
        "CD009333 v. 4.0 Interferons-beta versus glatiramer acetate for relapsing-remitting multiple sclerosis.rm5"
       ]
      },
      {
       "output_type": "stream",
       "stream": "stdout",
       "text": [
        "\n",
        "CD009354 v. 5.0 Enzyme replacement therapy with laronidase (Aldurazyme) for treating mucopolysaccharidosis type I.rm5"
       ]
      },
      {
       "output_type": "stream",
       "stream": "stdout",
       "text": [
        "\n",
        "CD009356 v. 3.0 Hypnosis for pain management during labour and childbirth.rm5"
       ]
      },
      {
       "output_type": "stream",
       "stream": "stdout",
       "text": [
        "\n",
        "CD009377 v. 3.0 Haloperidol for psychosis-induced aggression or agitation (rapid tranquillisation).rm5"
       ]
      },
      {
       "output_type": "stream",
       "stream": "stdout",
       "text": [
        "\n",
        "CD009398 v. 3.0 Polyunsaturated fatty acids (PUFAs) for children with specific learning disorders.rm5"
       ]
      },
      {
       "output_type": "stream",
       "stream": "stdout",
       "text": [
        "\n",
        "CD009404 v. 3.0 Interventions for reducing wrong-site surgery and invasive clinical procedures.rm5"
       ]
      },
      {
       "output_type": "stream",
       "stream": "stdout",
       "text": [
        "\n",
        "CD009414 v. 3.0 Interventions for preventing or reducing domestic violence against pregnant women.rm5"
       ]
      },
      {
       "output_type": "stream",
       "stream": "stdout",
       "text": [
        "\n",
        "CD009418 v. 3.0 Subintimal angioplasty for lower limb arterial chronic total occlusions.rm5"
       ]
      },
      {
       "output_type": "stream",
       "stream": "stdout",
       "text": [
        "\n",
        "CD009421 v. 4.0 Immunosuppressive drug therapy for preventing rejection following lung transplantation in cystic fib.rm5"
       ]
      },
      {
       "output_type": "stream",
       "stream": "stdout",
       "text": [
        "\n",
        "CD009422 v. 4.0 Vitamin E supplementation in people with cystic fibrosis.rm5"
       ]
      },
      {
       "output_type": "stream",
       "stream": "stdout",
       "text": [
        "\n",
        "CD009461 v. 4.0 Hysteroscopy for treating subfertility associated with suspected major uterine cavity abnormalities.rm5"
       ]
      },
      {
       "output_type": "stream",
       "stream": "stdout",
       "text": [
        "\n",
        "CD009472 v. 3.2 Sulthiame add-on therapy for epilepsy.rm5"
       ]
      },
      {
       "output_type": "stream",
       "stream": "stdout",
       "text": [
        "\n",
        "CD009498 v. 3.0 Transarterial (chemo)embolisation versus no intervention or placebo intervention for liver metastase.rm5"
       ]
      },
      {
       "output_type": "stream",
       "stream": "stdout",
       "text": [
        "\n",
        "CD009502 v. 3.0 Effectiveness of the Valsalva Manoeuvre for reversion of supraventricular tachycardia.rm5"
       ]
      },
      {
       "output_type": "stream",
       "stream": "stdout",
       "text": [
        "\n",
        "CD009503 v. 3.0 Adenosine and verapamil for no-reflow during primary percutaneous coronary intervention in people wi.rm5"
       ]
      },
      {
       "output_type": "stream",
       "stream": "stdout",
       "text": [
        "\n",
        "CD009506 v. 4.0 Yoga for secondary prevention of coronary heart disease.rm5"
       ]
      },
      {
       "output_type": "stream",
       "stream": "stdout",
       "text": [
        "\n",
        "CD009517 v. 3.0 Endometrial injury in women undergoing assisted reproductive techniques.rm5"
       ]
      },
      {
       "output_type": "stream",
       "stream": "stdout",
       "text": [
        "\n",
        "CD009528 v. 4.0 Standard versus biofilm antimicrobial susceptibility testing to guide antibiotic therapy in cystic f.rm5"
       ]
      },
      {
       "output_type": "stream",
       "stream": "stdout",
       "text": [
        "\n",
        "CD009529 v. 4.0 Antibiotic treatment for Burkholderia cepacia complex in people with cystic fibrosis experiencing a .rm5"
       ]
      },
      {
       "output_type": "stream",
       "stream": "stdout",
       "text": [
        "\n",
        "CD009530 v. 4.0 Bronchoscopy-guided antimicrobial therapy for cystic fibrosis.rm5\n",
        "CD009543 v. 3.0 Different types of intermittent pneumatic compression devices for preventing venous thromboembolism .rm5"
       ]
      },
      {
       "output_type": "stream",
       "stream": "stdout",
       "text": [
        "\n",
        "CD009552 v. 3.0 Tiotropium versus ipratropium bromide for chronic obstructive pulmonary disease.rm5\n",
        "CD009586 v. 3.0 Systematic screening for the detection of atrial fibrillation.rm5"
       ]
      },
      {
       "output_type": "stream",
       "stream": "stdout",
       "text": [
        "\n",
        "CD009601 v. 2.0 Therapeutic ultrasound for carpal tunnel syndrome.rm5"
       ]
      },
      {
       "output_type": "stream",
       "stream": "stdout",
       "text": [
        "\n",
        "CD009611 v. 3.0 Intermittent versus daily inhaled corticosteroids for persistent asthma in children and adults.rm5"
       ]
      },
      {
       "output_type": "stream",
       "stream": "stdout",
       "text": [
        "\n",
        "CD009613 v. 3.0 Techniques of monitoring blood glucose during pregnancy for women with pre-existing diabetes.rm5"
       ]
      },
      {
       "output_type": "stream",
       "stream": "stdout",
       "text": [
        "\n",
        "CD009622 v. 4.0 Gamma aminobutyric acid (GABA) receptor agonists for acute stroke.rm5"
       ]
      },
      {
       "output_type": "stream",
       "stream": "stdout",
       "text": [
        "\n",
        "CD009639 v. 3.0 HIV prevention advice for people with serious mental illness.rm5"
       ]
      },
      {
       "output_type": "stream",
       "stream": "stdout",
       "text": [
        "\n",
        "CD009641 v. 4.0 Interventions to encourage uptake of cancer screening for people with severe mental illness.rm5\n",
        "CD009645 v. 3.0 Transcranial direct current stimulation (tDCS) for improving activities of daily living and physica.rm5"
       ]
      },
      {
       "output_type": "stream",
       "stream": "stdout",
       "text": [
        "\n",
        "CD009648 v. 3.0 CHIVA method for the treatment of chronic venous insufficiency.rm5"
       ]
      },
      {
       "output_type": "stream",
       "stream": "stdout",
       "text": [
        "\n",
        "CD009650 v. 3.0 Interventions for the eradication of meticillin-resistant Staphylococcus aureus (MRSA) in people wit.rm5"
       ]
      },
      {
       "output_type": "stream",
       "stream": "stdout",
       "text": [
        "\n",
        "CD009660 v. 3.0 Psychological interventions for parents of children and adolescents with chronic illness.rm5"
       ]
      },
      {
       "output_type": "stream",
       "stream": "stdout",
       "text": [
        "\n",
        "CD009670 v. 4.0 Additional behavioural support as an adjunct to pharmacotherapy for smoking cessation.rm5"
       ]
      },
      {
       "output_type": "stream",
       "stream": "stdout",
       "text": [
        "\n",
        "CD009733 v. 3.0 Antifibrinolytics (lysine analogues) for the prevention of bleeding in people with haematological di.rm5"
       ]
      },
      {
       "output_type": "stream",
       "stream": "stdout",
       "text": [
        "\n",
        "CD009740 v. 3.0 Devices for preventing percutaneous exposure injuries caused by needles in healthcare personnel.rm5"
       ]
      },
      {
       "output_type": "stream",
       "stream": "stdout",
       "text": [
        "\n",
        "CD009759 v. 3.0 Extracorporeal photopheresis versus standard treatment for acute graft-versus-host disease after hae.rm5"
       ]
      },
      {
       "output_type": "stream",
       "stream": "stdout",
       "text": [
        "\n",
        "CD009760 v. 3.0 Transcranial direct current stimulation (tDCS) for improving aphasia in patients with aphasia after .rm5"
       ]
      },
      {
       "output_type": "stream",
       "stream": "stdout",
       "text": [
        "\n",
        "CD009780 v. 3.3 Implementation of treatment guidelines for specialist mental health care.rm5"
       ]
      },
      {
       "output_type": "stream",
       "stream": "stdout",
       "text": [
        "\n",
        "CD009792 v. 3.0 Methods of term labour induction for women with a previous caesarean section.rm5"
       ]
      },
      {
       "output_type": "stream",
       "stream": "stdout",
       "text": [
        "\n",
        "CD009805 v. 3.0 Hormonal and intrauterine methods for contraception for women aged 25 years and younger.rm5"
       ]
      },
      {
       "output_type": "stream",
       "stream": "stdout",
       "text": [
        "\n",
        "CD009824 v. 4.0 Desmopressin acetate (DDAVP) for preventing and treating acute bleeds during pregnancy in women with.rm5"
       ]
      },
      {
       "output_type": "stream",
       "stream": "stdout",
       "text": [
        "\n",
        "CD009834 v. 4.0 Antibiotics for persistent cough or wheeze following acute bronchiolitis in children.rm5\n",
        "CD009849 v. 3.0 Steroidal contraceptives and bone fractures in women evidence from observational studies.rm5"
       ]
      },
      {
       "output_type": "stream",
       "stream": "stdout",
       "text": [
        "\n",
        "CD009868 v. 3.0 Fixed-dose combination therapy for the prevention of atherosclerotic cardiovascular diseases.rm5"
       ]
      },
      {
       "output_type": "stream",
       "stream": "stdout",
       "text": [
        "\n",
        "CD009876 v. 3.0 Eradication therapy for Burkholderia cepacia complex in people with cystic fibrosis.rm5"
       ]
      },
      {
       "output_type": "stream",
       "stream": "stdout",
       "text": [
        "\n",
        "CD009882 v. 3.0 Teriflunomide for multiple sclerosis.rm5"
       ]
      },
      {
       "output_type": "stream",
       "stream": "stdout",
       "text": [
        "\n",
        "CD009887 v. 3.0 Stiripentol for focal refractory epilepsy.rm5"
       ]
      },
      {
       "output_type": "stream",
       "stream": "stdout",
       "text": [
        "\n",
        "CD009898 v. 3.0 Extracorporeal photopheresis versus alternative treatment for chronic graft-versus-host disease afte.rm5\n",
        "CD009950 v. 3.0 Pharmacological treatment for pain in Guillain-Barr syndrome.rm5"
       ]
      },
      {
       "output_type": "stream",
       "stream": "stdout",
       "text": [
        "\n",
        "CD009997 v. 2.0 Intermittent oral iron supplementation during pregnancy.rm5"
       ]
      },
      {
       "output_type": "stream",
       "stream": "stdout",
       "text": [
        "\n",
        "CD010002 v. 3.0 Vocational rehabilitation for enhancing return-to-work in workers with traumatic upper limb injuries.rm5"
       ]
      },
      {
       "output_type": "stream",
       "stream": "stdout",
       "text": [
        "\n",
        "CD010004 v. 4.0 Antibiotic treatment for nontuberculous mycobacteria lung infection in people with cystic fibrosis.rm5"
       ]
      },
      {
       "output_type": "stream",
       "stream": "stdout",
       "text": [
        "\n",
        "CD010008 v. 3.0 Topiramate monotherapy for juvenile myoclonic epilepsy.rm5\n",
        "CD010010 v. 3.10 Haemophilus influenzae oral vaccination for preventing acute exacerbations of chronic bronchitis and.rm5"
       ]
      },
      {
       "output_type": "stream",
       "stream": "stdout",
       "text": [
        "\n",
        "CD010075 v. 3.0 Early versus delayed post-operative bathing or showering to prevent wound complications.rm5"
       ]
      },
      {
       "output_type": "stream",
       "stream": "stdout",
       "text": [
        "\n",
        "CD010078 v. 2.2 Pharmacological interventions for promoting smoking cessation during pregnancy.rm5\n",
        "CD010089 v. 3.0 Influenza vaccines for preventing acute otitis media in infants and children.rm5"
       ]
      },
      {
       "output_type": "stream",
       "stream": "stdout",
       "text": [
        "\n",
        "CD010155 v. 4.0 Low-molecular-weight heparins for managing vaso-occlusive crises in people with sickle cell disease.rm5"
       ]
      },
      {
       "output_type": "stream",
       "stream": "stdout",
       "text": [
        "\n",
        "CD010182 v. 4.0 Alginate dressings for venous leg ulcers.rm5"
       ]
      },
      {
       "output_type": "stream",
       "stream": "stdout",
       "text": [
        "\n",
        "CD010185 v. 3.0 Totally percutaneous versus surgical cut-down femoral artery access for elective bifurcated abdomina.rm5"
       ]
      },
      {
       "output_type": "stream",
       "stream": "stdout",
       "text": [
        "\n",
        "CD010211 v. 3.2 Interconception care for women with a history of gestational diabetes for improving maternal and inf.rm5"
       ]
      },
      {
       "output_type": "stream",
       "stream": "stdout",
       "text": [
        "\n",
        "CD010222 v. 3.0 Anticoagulant treatment for subsegmental pulmonary embolism.rm5\n",
        "CD010235 v. 4.0 The role of high-frequency oscillations in epilepsy surgery planning.rm5"
       ]
      },
      {
       "output_type": "stream",
       "stream": "stdout",
       "text": [
        "\n",
        "CD010243 v. 4.0 Behavioral interventions for improving contraceptive use among women living with HIV.rm5"
       ]
      },
      {
       "output_type": "stream",
       "stream": "stdout",
       "text": [
        "\n",
        "CD010247 v. 3.0 Antiepileptic drugs for the primary and secondary prevention of seizures in viral encephalitis.rm5"
       ]
      },
      {
       "output_type": "stream",
       "stream": "stdout",
       "text": [
        "\n",
        "CD010259 v. 3.0 Early versus delayed dressing removal after primary closure of clean and clean-contaminated surgical.rm5\n",
        "CD010288 v. 4.0 Anti-IgE therapy for allergic bronchopulmonary aspergillosis in people with cystic fibrosis.rm5"
       ]
      },
      {
       "output_type": "stream",
       "stream": "stdout",
       "text": [
        "\n",
        "CD010323 v. 4.0 Interventions for the reduction of prescribed opioid use in chronic non-cancer pain.rm5"
       ]
      },
      {
       "output_type": "stream",
       "stream": "stdout",
       "text": [
        "\n",
        "CD010338 v. 4.0 Non-surgical interventions for treating heavy menstrual bleeding (menorrhagia) in women with bleedin.rm5"
       ]
      },
      {
       "output_type": "stream",
       "stream": "stdout",
       "text": [
        "\n",
        "CD010378 v. 3.0 Prophylactic versus selective blood transfusion for sickle cell disease in pregnancy.rm5\n",
        "CD010443 v. 4.0 Combined diet and exercise interventions for preventing gestational diabetes mellitus.rm5"
       ]
      },
      {
       "output_type": "stream",
       "stream": "stdout",
       "text": [
        "\n",
        "CD010447 v. 3.0 Pharmacological treatment of vascular risk factors for reducing mortality and cardiovascular events .rm5"
       ]
      },
      {
       "output_type": "stream",
       "stream": "stdout",
       "text": [
        "\n",
        "CD010470 v. 4.0 Interventions for managing taste disturbances.rm5"
       ]
      },
      {
       "output_type": "stream",
       "stream": "stdout",
       "text": [
        "\n",
        "CD010483 v. 4.0 Antiepileptic drugs for the treatment of infants with severe myoclonic epilepsy.rm5"
       ]
      },
      {
       "output_type": "stream",
       "stream": "stdout",
       "text": [
        "\n",
        "CD010551 v. 3.0 Pelvic floor muscle training added to another active treatment versus the same active treatment alon.rm5\n",
        "CD010583 v. 3.4 Prophylactic abdominal drainage for pancreatic surgery.rm5"
       ]
      },
      {
       "output_type": "stream",
       "stream": "stdout",
       "text": [
        "\n",
        "CD010646 v. 3.0 Cognitive behavioural therapy (brief versus standard duration) for schizophrenia.rm5"
       ]
      },
      {
       "output_type": "stream",
       "stream": "stdout",
       "text": [
        "\n",
        "CD010683 v. 3.5 Methods to decrease blood loss during liver resection a network meta-analysis.rm5\n",
        "CD010685 v. 4.0 Retinoic acid postconsolidation therapy for high-risk neuroblastoma patients treated with autologous.rm5"
       ]
      },
      {
       "output_type": "stream",
       "stream": "stdout",
       "text": [
        "\n",
        "CD010693 v. 4.0 Peroxisome proliferator-activated receptor gamma agonists for preventing recurrent stroke and other .rm5"
       ]
      },
      {
       "output_type": "stream",
       "stream": "stdout",
       "text": [
        "\n",
        "CD010705 v. 3.6 GenoType MTBDRsl assay for resistance to second-line anti-tuberculosis drugs.rm5"
       ]
      },
      {
       "output_type": "stream",
       "stream": "stdout",
       "text": [
        "\n",
        "CD010810 v. 3.0 Rituximab for treating inhibitors in people with inherited severe hemophilia.rm5"
       ]
      },
      {
       "output_type": "stream",
       "stream": "stdout",
       "text": [
        "\n",
        "CD010822 v. 3.0 Gene therapy for haemophilia.rm5\n",
        "CD010834 v. 3.0 Anti-IL5 therapies for asthma.rm5"
       ]
      },
      {
       "output_type": "stream",
       "stream": "stdout",
       "text": [
        "\n",
        "CD010847 v. 3.0 Interventions for treating simple bone cysts in the long bones of children.rm5"
       ]
      },
      {
       "output_type": "stream",
       "stream": "stdout",
       "text": [
        "\n",
        "CD010862 v. 3.2 Pharmacological interventions for drug-using offenders.rm5"
       ]
      },
      {
       "output_type": "stream",
       "stream": "stdout",
       "text": [
        "\n",
        "CD010885 v. 3.0 Different infusion durations for preventing platinum-induced hearing loss in children with cancer.rm5"
       ]
      },
      {
       "output_type": "stream",
       "stream": "stdout",
       "text": [
        "\n",
        "CD010901 v. 2.2 Interventions for drug-using offenders with co-occurring mental illness.rm5"
       ]
      },
      {
       "output_type": "stream",
       "stream": "stdout",
       "text": [
        "\n",
        "CD010910 v. 3.3 Interventions for female drug-using offenders.rm5"
       ]
      },
      {
       "output_type": "stream",
       "stream": "stdout",
       "text": [
        "\n",
        "CD010912 v. 3.4 Workplace interventions for reducing sitting at work.rm5"
       ]
      },
      {
       "output_type": "stream",
       "stream": "stdout",
       "text": [
        "\n",
        "CD010985 v. 3.0 Interventions for treating intrahepatic cholestasis in people with sickle cell disease.rm5"
       ]
      },
      {
       "output_type": "stream",
       "stream": "stdout",
       "text": [
        "\n",
        "CD011059 v. 3.0 Maternal and foetal outcomes following natural vaginal versus caesarean section (c-section) delivery.rm5"
       ]
      },
      {
       "output_type": "stream",
       "stream": "stdout",
       "text": [
        "\n",
        "CD011110 v. 3.0 Anti-adhesion therapy following operative hysteroscopy for treatment of female subfertility.rm5\n",
        "CD011177 v. 3.0 Zinc supplementation for the treatment of measles in children.rm5"
       ]
      },
      {
       "output_type": "stream",
       "stream": "stdout",
       "text": [
        "\n",
        "CD011194 v. 3.0 Proton pump inhibitors for functional dyspepsia.rm5\n",
        "CD011565 v. 2.0 Therapist-supported Internet cognitive behavioural therapy for anxiety disorders in adults.rm5"
       ]
      },
      {
       "output_type": "stream",
       "stream": "stdout",
       "text": [
        "\n",
        "MR000002 v. 7.0 Technical editing of research reports in biomedical journals.rm5"
       ]
      },
      {
       "output_type": "stream",
       "stream": "stdout",
       "text": [
        "\n",
        "MR000008 v. 7.0 Methods to increase response to postal and electronic questionnaires.rm5"
       ]
      },
      {
       "output_type": "stream",
       "stream": "stdout",
       "text": [
        "\n",
        "MR000013 v. 10.0 Strategies to improve recruitment to randomised controlled trials.rm5"
       ]
      },
      {
       "output_type": "stream",
       "stream": "stdout",
       "text": [
        "\n",
        "MR000033 v. 5.0 Industry sponsorship and research outcome.rm5"
       ]
      },
      {
       "output_type": "stream",
       "stream": "stdout",
       "text": [
        "\n"
       ]
      }
     ],
     "prompt_number": 12
    },
    {
     "cell_type": "code",
     "collapsed": false,
     "input": [],
     "language": "python",
     "metadata": {},
     "outputs": []
    }
   ],
   "metadata": {}
  }
 ]
}