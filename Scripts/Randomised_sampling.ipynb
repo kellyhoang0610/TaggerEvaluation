{
 "cells": [
  {
   "cell_type": "markdown",
   "metadata": {},
   "source": [
    "# Random Sampling from the Larger Database\n",
    "This script can be used for the random sampling from the larger database. The script takes Cochrane databse as an input and returns the randomized sampling in dataframe. In this script, we have considered 15% o the larger database. One can just change the percentage and sample accordingly."
   ]
  },
  {
   "cell_type": "code",
   "execution_count": null,
   "metadata": {},
   "outputs": [],
   "source": [
    "import pandas as pd\n",
    "import math\n",
    "import random"
   ]
  },
  {
   "cell_type": "code",
   "execution_count": null,
   "metadata": {},
   "outputs": [],
   "source": [
    "# Read the Cochrane Review Database and drop the rows with Null values. There are 7152 rows in the database\n",
    "cochrane_df = pd.read_csv(\"D:/GRA/cochrane.csv\")\n",
    "cochrane_df = cochrane_df.dropna()"
   ]
  },
  {
   "cell_type": "code",
   "execution_count": null,
   "metadata": {},
   "outputs": [],
   "source": [
    "# Group by the database using Review Year first and then Parent Group. Count the number of the underlying rows\n",
    "df1 = cochrane_df.groupby(['Review Year', 'Parent Group']).size().reset_index()\n",
    "df1.columns = ['Review Year', 'Parent Group', 'Count']\n",
    "# For sampling, we will collect 15% of the overall data per group. There will be 1112 reviews for sampling.\n",
    "df1['Number of reviews to consider'] = [math.ceil(i) for i in (df1['Count'] * 0.15)]"
   ]
  },
  {
   "cell_type": "code",
   "execution_count": null,
   "metadata": {},
   "outputs": [],
   "source": [
    "# sort the dataset using the Review Year and Parent Group.\n",
    "df2 = cochrane_df.sort_values(['Review Year', 'Parent Group'], ascending=True).reset_index()\n",
    "df2 = df2.drop('index', axis = 1)"
   ]
  },
  {
   "cell_type": "code",
   "execution_count": null,
   "metadata": {
    "scrolled": true
   },
   "outputs": [],
   "source": [
    "# Assign the numbers to each row for each group(Starting from 1)\n",
    "df2['Assign'] = df2.groupby(['Review Year','Parent Group']).cumcount()+1\n",
    "# Assign the Group index for each group(Starting from 0)\n",
    "df2['Group index'] = pd.Categorical(df2['Review Year'].astype(str) + df2['Parent Group'].astype(str)).codes"
   ]
  },
  {
   "cell_type": "code",
   "execution_count": null,
   "metadata": {},
   "outputs": [],
   "source": [
    "# Generate the random numbers for respective groups to sample\n",
    "rand_list = df1['Number of reviews to consider'].tolist()\n",
    "collection_list = df1['Count'].tolist()\n",
    "select_list = [] \n",
    "for i,j in zip(rand_list, collection_list):\n",
    "    temp = []\n",
    "    if i != j:\n",
    "        # Using random.sample function to select random numbers for every group\n",
    "        temp = random.sample(range(1, j), i)\n",
    "    else:\n",
    "        temp = [j]\n",
    "    select_list.append(temp)"
   ]
  },
  {
   "cell_type": "code",
   "execution_count": null,
   "metadata": {},
   "outputs": [],
   "source": [
    "# Select the rows from the database with respective random sampling per group\n",
    "df3 = pd.DataFrame()\n",
    "\n",
    "for i in range(len(select_list)):\n",
    "    # Temporary dataframe to select subset of the dataframe from every group\n",
    "    temp = df2[(df2['Assign'].isin(select_list[i])) & (df2['Group index'] == i)]\n",
    "    # Append the dataframe to main dataframe\n",
    "    df3 = df3.append(temp, ignore_index = True)"
   ]
  },
  {
   "cell_type": "code",
   "execution_count": null,
   "metadata": {},
   "outputs": [],
   "source": [
    "df3.to_csv(\"Cochrane_database_sampling.csv\")"
   ]
  },
  {
   "cell_type": "code",
   "execution_count": null,
   "metadata": {},
   "outputs": [],
   "source": [
    "df3['Review Type'].value_counts()"
   ]
  },
  {
   "cell_type": "code",
   "execution_count": null,
   "metadata": {},
   "outputs": [],
   "source": []
  }
 ],
 "metadata": {
  "kernelspec": {
   "display_name": "Python 3",
   "language": "python",
   "name": "python3"
  },
  "language_info": {
   "codemirror_mode": {
    "name": "ipython",
    "version": 3
   },
   "file_extension": ".py",
   "mimetype": "text/x-python",
   "name": "python",
   "nbconvert_exporter": "python",
   "pygments_lexer": "ipython3",
   "version": "3.6.3"
  }
 },
 "nbformat": 4,
 "nbformat_minor": 2
}
